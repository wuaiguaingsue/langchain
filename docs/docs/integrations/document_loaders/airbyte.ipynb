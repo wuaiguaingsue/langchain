{
 "cells": [
  {
   "cell_type": "markdown",
   "id": "1f3a5ebf",
   "metadata": {},
   "source": [
    "# AirbyteLoader"
   ]
  },
  {
   "cell_type": "markdown",
   "id": "35ac77b1-449b-44f7-b8f3-3494d55c286e",
   "metadata": {},
   "source": [
    ">[Airbyte](https://github.com/airbytehq/airbyte)是一个用于从API、数据库和文件到数据仓库和数据湖的ELT管道的数据集成平台。它拥有最大的ELT连接器目录，可连接到数据仓库和数据库。\n",
    "\n",
    "本文介绍如何将Airbyte中的任何数据源加载到LangChain文档中\n",
    "\n",
    "## 安装\n",
    "\n",
    "要使用`AirbyteLoader`，您需要安装`langchain-airbyte`集成包。"
   ]
  },
  {
   "cell_type": "code",
   "execution_count": 1,
   "id": "180c8b74",
   "metadata": {},
   "outputs": [],
   "source": [
    "%pip install -qU langchain-airbyte"
   ]
  },
  {
   "cell_type": "markdown",
   "id": "3dd92c62",
   "metadata": {},
   "source": [
    "注意：目前，`airbyte`库不支持Pydantic v2。\n",
    "请降级到Pydantic v1以使用此包。\n",
    "\n",
    "注意：此包目前还要求Python 3.10+。\n",
    "\n",
    "## 加载文档\n",
    "\n",
    "默认情况下，`AirbyteLoader`将从流中加载任何结构化数据并输出yaml格式的文档。"
   ]
  },
  {
   "cell_type": "code",
   "execution_count": 6,
   "id": "721d9316",
   "metadata": {},
   "outputs": [
    {
     "name": "stdout",
     "output_type": "stream",
     "text": [
      "```yaml\n",
      "academic_degree: PhD\n",
      "address:\n",
      "  city: Lauderdale Lakes\n",
      "  country_code: FI\n",
      "  postal_code: '75466'\n",
      "  province: New Jersey\n",
      "  state: Hawaii\n",
      "  street_name: Stoneyford\n",
      "  street_number: '1112'\n",
      "age: 44\n",
      "blood_type: \"O\\u2212\"\n",
      "created_at: '2004-04-02T13:05:27+00:00'\n",
      "email: bread2099+1@outlook.com\n",
      "gender: Fluid\n",
      "height: '1.62'\n",
      "id: 1\n",
      "language: Belarusian\n",
      "name: Moses\n",
      "nationality: Dutch\n",
      "occupation: Track Worker\n",
      "telephone: 1-467-194-2318\n",
      "title: M.Sc.Tech.\n",
      "updated_at: '2024-02-27T16:41:01+00:00'\n",
      "weight: 6\n"
     ]
    }
   ],
   "source": [
    "from langchain_airbyte import AirbyteLoader\n",
    "\n",
    "loader = AirbyteLoader(\n",
    "    source=\"source-faker\",\n",
    "    stream=\"users\",\n",
    "    config={\"count\": 10},\n",
    ")\n",
    "docs = loader.load()\n",
    "print(docs[0].page_content[:500])"
   ]
  },
  {
   "cell_type": "markdown",
   "id": "fca024cb",
   "metadata": {
    "scrolled": true
   },
   "source": [
    "您还可以指定用于格式化文档的自定义提示模板："
   ]
  },
  {
   "cell_type": "code",
   "execution_count": 7,
   "id": "9fa002a5",
   "metadata": {},
   "outputs": [
    {
     "name": "stdout",
     "output_type": "stream",
     "text": [
      "My name is Verdie and I am 1.73 meters tall.\n"
     ]
    }
   ],
   "source": [
    "from langchain_core.prompts import PromptTemplate\n",
    "\n",
    "loader_templated = AirbyteLoader(\n",
    "    source=\"source-faker\",\n",
    "    stream=\"users\",\n",
    "    config={\"count\": 10},\n",
    "    template=PromptTemplate.from_template(\n",
    "        \"My name is {name} and I am {height} meters tall.\"\n",
    "    ),\n",
    ")\n",
    "docs_templated = loader_templated.load()\n",
    "print(docs_templated[0].page_content)"
   ]
  },
  {
   "cell_type": "markdown",
   "id": "d3e6d887",
   "metadata": {},
   "source": [
    "## 懒加载文档\n",
    "\n",
    "`AirbyteLoader`的强大功能之一是能够从上游源加载大型文档。处理大型数据集时，默认的`.load()`行为可能会很慢且内存密集。为避免这种情况，您可以使用`.lazy_load()`方法以更节省内存的方式加载文档。"
   ]
  },
  {
   "cell_type": "code",
   "execution_count": 11,
   "id": "684b9187",
   "metadata": {},
   "outputs": [
    {
     "name": "stdout",
     "output_type": "stream",
     "text": [
      "Just calling lazy load is quick! This took 0.0001 seconds\n"
     ]
    }
   ],
   "source": [
    "import time\n",
    "\n",
    "loader = AirbyteLoader(\n",
    "    source=\"source-faker\",\n",
    "    stream=\"users\",\n",
    "    config={\"count\": 3},\n",
    "    template=PromptTemplate.from_template(\n",
    "        \"My name is {name} and I am {height} meters tall.\"\n",
    "    ),\n",
    ")\n",
    "\n",
    "start_time = time.time()\n",
    "my_iterator = loader.lazy_load()\n",
    "print(\n",
    "    f\"Just calling lazy load is quick! This took {time.time() - start_time:.4f} seconds\"\n",
    ")"
   ]
  },
  {
   "cell_type": "markdown",
   "id": "6b24a64b",
   "metadata": {},
   "source": [
    "您可以在文档生成时对其进行迭代："
   ]
  },
  {
   "cell_type": "code",
   "execution_count": 12,
   "id": "3e8355d0",
   "metadata": {},
   "outputs": [
    {
     "name": "stdout",
     "output_type": "stream",
     "text": [
      "My name is Andera and I am 1.91 meters tall.\n",
      "My name is Jody and I am 1.85 meters tall.\n",
      "My name is Zonia and I am 1.53 meters tall.\n"
     ]
    }
   ],
   "source": [
    "for doc in my_iterator:\n",
    "    print(doc.page_content)"
   ]
  },
  {
   "cell_type": "markdown",
   "id": "d1040d81",
   "metadata": {},
   "source": [
    "您还可以通过`.alazy_load()`以异步方式懒加载文档："
   ]
  },
  {
   "cell_type": "code",
   "execution_count": 13,
   "id": "dc5d0911",
   "metadata": {},
   "outputs": [
    {
     "name": "stdout",
     "output_type": "stream",
     "text": [
      "My name is Carmelina and I am 1.74 meters tall.\n",
      "My name is Ali and I am 1.90 meters tall.\n",
      "My name is Rochell and I am 1.83 meters tall.\n"
     ]
    }
   ],
   "source": [
    "loader = AirbyteLoader(\n",
    "    source=\"source-faker\",\n",
    "    stream=\"users\",\n",
    "    config={\"count\": 3},\n",
    "    template=PromptTemplate.from_template(\n",
    "        \"My name is {name} and I am {height} meters tall.\"\n",
    "    ),\n",
    ")\n",
    "\n",
    "my_async_iterator = loader.alazy_load()\n",
    "\n",
    "async for doc in my_async_iterator:\n",
    "    print(doc.page_content)"
   ]
  },
  {
   "cell_type": "markdown",
   "id": "ba4ede33",
   "metadata": {},
   "source": [
    "## 配置\n",
    "\n",
    "`AirbyteLoader`可以通过以下选项进行配置：\n",
    "\n",
    "- `source`（str，必填）：要从中加载的Airbyte数据源名称。\n",
    "- `stream`（str，必填）：要从中加载的流名称（Airbyte数据源可以返回多个流）\n",
    "- `config`（dict，必填）：Airbyte数据源的配置\n",
    "- `template`（PromptTemplate，可选）：用于格式化文档的自定义提示模板\n",
    "- `include_metadata`（bool，可选，默认为True）：是否在输出文档中包含所有字段作为元数据\n",
    "\n",
    "配置的大部分内容将在`config`中，您可以在[Airbyte文档](https://docs.airbyte.com/integrations/)中每个源的\"Config field reference\"中找到特定的配置选项。"
   ]
  },
  {
   "cell_type": "markdown",
   "id": "2e2ed269",
   "metadata": {},
   "source": []
  }
 ],
 "metadata": {
  "kernelspec": {
   "display_name": "Python 3 (ipykernel)",
   "language": "python",
   "name": "python3"
  },
  "language_info": {
   "codemirror_mode": {
    "name": "ipython",
    "version": 3
   },
   "file_extension": ".py",
   "mimetype": "text/x-python",
   "name": "python",
   "nbconvert_exporter": "python",
   "pygments_lexer": "ipython3",
   "version": "3.11.4"
  }
 },
 "nbformat": 4,
 "nbformat_minor": 5
}
