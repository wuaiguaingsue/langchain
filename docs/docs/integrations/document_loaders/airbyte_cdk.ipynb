{
 "cells": [
  {
   "cell_type": "raw",
   "id": "bd931196",
   "metadata": {
    "vscode": {
     "languageId": "raw"
    }
   },
   "source": [
    "---\n",
    "sidebar_class_name: hidden\n",
    "---"
   ]
  },
  {
   "cell_type": "markdown",
   "id": "1f3a5ebf",
   "metadata": {},
   "source": [
    "# Airbyte CDK (已弃用)"
   ]
  },
  {
   "cell_type": "markdown",
   "id": "35ac77b1-449b-44f7-b8f3-3494d55c286e",
   "metadata": {},
   "source": [
    "注意：`AirbyteCDKLoader`已被弃用。请改用[`AirbyteLoader`](/docs/integrations/document_loaders/airbyte)。\n",
    "\n",
    ">[Airbyte](https://github.com/airbytehq/airbyte)是一个用于从API、数据库和文件到数据仓库和数据湖的ELT管道的数据集成平台。它拥有最大的ELT连接器目录，可连接到数据仓库和数据库。\n",
    "\n",
    "许多源连接器是使用[Airbyte CDK](https://docs.airbyte.com/connector-development/cdk-python/)实现的。这个加载器允许运行任何这些连接器并将数据作为文档返回。"
   ]
  },
  {
   "cell_type": "markdown",
   "id": "3b06fbde",
   "metadata": {},
   "source": [
    "## 安装"
   ]
  },
  {
   "cell_type": "markdown",
   "id": "e3e9dc79",
   "metadata": {},
   "source": [
    "首先，您需要安装`airbyte-cdk` Python包。"
   ]
  },
  {
   "cell_type": "code",
   "execution_count": null,
   "id": "4d35e4e0",
   "metadata": {},
   "outputs": [],
   "source": [
    "%pip install --upgrade --quiet  airbyte-cdk"
   ]
  },
  {
   "cell_type": "markdown",
   "id": "085aa658",
   "metadata": {},
   "source": [
    "然后，要么从[Airbyte Github仓库](https://github.com/airbytehq/airbyte/tree/master/airbyte-integrations/connectors)安装现有的连接器，要么使用[Airbyte CDK](https://docs.airbyte.io/connector-development/connector-development)创建您自己的连接器。\n",
    "\n",
    "例如，要安装Github连接器，请运行"
   ]
  },
  {
   "cell_type": "code",
   "execution_count": null,
   "id": "f6d04ef4",
   "metadata": {},
   "outputs": [],
   "source": [
    "%pip install --upgrade --quiet  \"source_github@git+https://github.com/airbytehq/airbyte.git@master#subdirectory=airbyte-integrations/connectors/source-github\""
   ]
  },
  {
   "cell_type": "markdown",
   "id": "36069b74",
   "metadata": {},
   "source": [
    "一些源也作为常规包发布在PyPI上"
   ]
  },
  {
   "cell_type": "markdown",
   "id": "ae855210",
   "metadata": {},
   "source": [
    "## 示例"
   ]
  },
  {
   "cell_type": "markdown",
   "id": "02208f52",
   "metadata": {},
   "source": [
    "现在您可以基于导入的源创建一个`AirbyteCDKLoader`。它接受一个传递给连接器的`config`对象。您还需要按名称选择要从中检索记录的流(`stream_name`)。查看连接器的文档页面和规范定义以获取有关配置对象和可用流的更多信息。对于Github连接器，这些是：\n",
    "\n",
    "* [https://github.com/airbytehq/airbyte/blob/master/airbyte-integrations/connectors/source-github/source_github/spec.json](https://github.com/airbytehq/airbyte/blob/master/airbyte-integrations/connectors/source-github/source_github/spec.json).\n",
    "* [https://docs.airbyte.com/integrations/sources/github/](https://docs.airbyte.com/integrations/sources/github/)"
   ]
  },
  {
   "cell_type": "code",
   "execution_count": null,
   "id": "89a99e58",
   "metadata": {},
   "outputs": [],
   "source": [
    "from langchain_community.document_loaders.airbyte import AirbyteCDKLoader\n",
    "from source_github.source import SourceGithub  # 在这里插入您自己的源\n",
    "\n",
    "config = {\n",
    "    # 您的github配置\n",
    "    \"credentials\": {\"api_url\": \"api.github.com\", \"personal_access_token\": \"<token>\"},\n",
    "    \"repository\": \"<repo>\",\n",
    "    \"start_date\": \"<开始检索记录的日期，ISO格式，例如 2020-10-20T00:00:00Z>\",\n",
    "}\n",
    "\n",
    "issues_loader = AirbyteCDKLoader(\n",
    "    source_class=SourceGithub, config=config, stream_name=\"issues\"\n",
    ")"
   ]
  },
  {
   "cell_type": "markdown",
   "id": "2cea23fc",
   "metadata": {},
   "source": [
    "现在您可以按照常规方式加载文档"
   ]
  },
  {
   "cell_type": "code",
   "execution_count": null,
   "id": "dae75cdb",
   "metadata": {},
   "outputs": [],
   "source": [
    "docs = issues_loader.load()"
   ]
  },
  {
   "cell_type": "markdown",
   "id": "4a93dc2a",
   "metadata": {},
   "source": [
    "由于`load`返回一个列表，它会阻塞直到所有文档加载完成。要更好地控制这个过程，您也可以使用`lazy_load`方法，它返回一个迭代器："
   ]
  },
  {
   "cell_type": "code",
   "execution_count": null,
   "id": "1782db09",
   "metadata": {},
   "outputs": [],
   "source": [
    "docs_iterator = issues_loader.lazy_load()"
   ]
  },
  {
   "cell_type": "markdown",
   "id": "3a124086",
   "metadata": {},
   "source": [
    "请记住，默认情况下页面内容为空，元数据对象包含记录中的所有信息。要以不同方式创建文档，在创建加载器时传入一个record_handler函数："
   ]
  },
  {
   "cell_type": "code",
   "execution_count": null,
   "id": "5671395d",
   "metadata": {},
   "outputs": [],
   "source": [
    "from langchain_core.documents import Document\n",
    "\n",
    "\n",
    "def handle_record(record, id):\n",
    "    return Document(\n",
    "        page_content=record.data[\"title\"] + \"\\n\" + (record.data[\"body\"] or \"\"),\n",
    "        metadata=record.data,\n",
    "    )\n",
    "\n",
    "\n",
    "issues_loader = AirbyteCDKLoader(\n",
    "    source_class=SourceGithub,\n",
    "    config=config,\n",
    "    stream_name=\"issues\",\n",
    "    record_handler=handle_record,\n",
    ")\n",
    "\n",
    "docs = issues_loader.load()"
   ]
  },
  {
   "cell_type": "markdown",
   "id": "223eb8bc",
   "metadata": {},
   "source": [
    "## 增量加载\n",
    "\n",
    "一些流允许增量加载，这意味着源会跟踪已同步的记录，并且不会再次加载它们。这对于数据量大且频繁更新的源很有用。\n",
    "\n",
    "要利用这一点，存储加载器的`last_state`属性，并在再次创建加载器时传入它。这将确保只加载新记录。"
   ]
  },
  {
   "cell_type": "code",
   "execution_count": null,
   "id": "7061e735",
   "metadata": {},
   "outputs": [],
   "source": [
    "last_state = issues_loader.last_state  # 安全存储\n",
    "\n",
    "incremental_issue_loader = AirbyteCDKLoader(\n",
    "    source_class=SourceGithub, config=config, stream_name=\"issues\", state=last_state\n",
    ")\n",
    "\n",
    "new_docs = incremental_issue_loader.load()"
   ]
  }
 ],
 "metadata": {
  "kernelspec": {
   "display_name": "Python 3 (ipykernel)",
   "language": "python",
   "name": "python3"
  },
  "language_info": {
   "codemirror_mode": {
    "name": "ipython",
    "version": 3
   },
   "file_extension": ".py",
   "mimetype": "text/x-python",
   "name": "python",
   "nbconvert_exporter": "python",
   "pygments_lexer": "ipython3",
   "version": "3.10.6"
  }
 },
 "nbformat": 4,
 "nbformat_minor": 5
}
