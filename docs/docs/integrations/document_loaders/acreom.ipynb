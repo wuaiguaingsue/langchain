{
 "cells": [
  {
   "cell_type": "markdown",
   "id": "e310c8dc-acd0-48d2-801c-f37ce99acd2d",
   "metadata": {},
   "source": [
    "# acreom"
   ]
  },
  {
   "cell_type": "markdown",
   "id": "04a2c95d-4114-431e-904a-32d79005c28b",
   "metadata": {},
   "source": [
    "[acreom](https://acreom.com)是一个面向开发者的知识库，基于本地markdown文件运行任务。\n",
    "\n",
    "下面是一个将本地acreom保管库加载到Langchain的示例。由于acreom中的本地保管库是一个包含纯文本.md文件的文件夹，因此加载器需要指定目录路径。\n",
    "\n",
    "保管库文件可能包含一些以YAML头部形式存储的元数据。如果将`collect_metadata`设置为true，这些值将被添加到文档的元数据中。"
   ]
  },
  {
   "cell_type": "code",
   "execution_count": null,
   "id": "0169bee5-aa7a-4ec7-b7e7-b3bb2e58f3bb",
   "metadata": {},
   "outputs": [],
   "source": [
    "from langchain_community.document_loaders import AcreomLoader"
   ]
  },
  {
   "cell_type": "code",
   "execution_count": null,
   "id": "c1b49ab3-616b-4149-bef5-7559d65d3d2b",
   "metadata": {},
   "outputs": [],
   "source": [
    "loader = AcreomLoader(\"<path-to-acreom-vault>\", collect_metadata=False)"
   ]
  },
  {
   "cell_type": "code",
   "execution_count": null,
   "id": "3127a018-9c1c-4886-8321-f5666d970a95",
   "metadata": {},
   "outputs": [],
   "source": [
    "docs = loader.load()"
   ]
  }
 ],
 "metadata": {
  "kernelspec": {
   "display_name": "Python 3 (ipykernel)",
   "language": "python",
   "name": "python3"
  },
  "language_info": {
   "codemirror_mode": {
    "name": "ipython",
    "version": 3
   },
   "file_extension": ".py",
   "mimetype": "text/x-python",
   "name": "python",
   "nbconvert_exporter": "python",
   "pygments_lexer": "ipython3",
   "version": "3.10.12"
  }
 },
 "nbformat": 4,
 "nbformat_minor": 5
}
