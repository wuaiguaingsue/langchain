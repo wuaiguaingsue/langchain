{
 "cells": [
  {
   "cell_type": "markdown",
   "id": "97db3a31",
   "metadata": {},
   "source": [
    "# Amazon Textract - 收据\n",
    "\n",
    "在这个示例中，我们使用Amazon Textract的`AnalyzeExpense` API来使用Textract的预构建分析来解析收据。此API提供了一种结构化的方式来提取关键信息，如金额、日期、付款方式等。\n",
    "\n",
    "Amazon Textract还有许多其他用于特定用例的API，例如从表格中提取数据的`AnalyzeDocument` API，以及基础的`DetectDocumentText` API（用于OCR）。\n",
    "\n",
    "`AnalyzeExpense` API文档在[这里](https://docs.aws.amazon.com/textract/latest/dg/how-it-works-analyzing.html)。"
   ]
  },
  {
   "cell_type": "code",
   "execution_count": null,
   "id": "4e6f43e9",
   "metadata": {},
   "outputs": [],
   "source": [
    "%pip install --upgrade --quiet  amazon-textract-caller langchain-openai tiktoken"
   ]
  },
  {
   "cell_type": "markdown",
   "id": "b591633c",
   "metadata": {},
   "source": [
    "要使用此样本，您需要安装boto3 AWS SDK并配置凭证。请参阅[这里](https://boto3.amazonaws.com/v1/documentation/api/latest/guide/quickstart.html#configuration)获取更多详情。"
   ]
  },
  {
   "cell_type": "code",
   "execution_count": null,
   "id": "47131720",
   "metadata": {},
   "outputs": [],
   "source": [
    "from langchain_community.document_loaders import AmazonTextractReceiptLoader"
   ]
  },
  {
   "cell_type": "markdown",
   "id": "43b341d2",
   "metadata": {},
   "source": [
    "## 使用本地文件的示例"
   ]
  },
  {
   "cell_type": "code",
   "execution_count": null,
   "id": "75061998",
   "metadata": {},
   "outputs": [],
   "source": [
    "loader = AmazonTextractReceiptLoader(\"example_data/amazon_receipt.jpg\")"
   ]
  },
  {
   "cell_type": "markdown",
   "id": "c88f3588",
   "metadata": {},
   "source": [
    "您可以直接传递文件路径，如上所示，或指定区域、客户端和Textract配置，如下所示。"
   ]
  },
  {
   "cell_type": "code",
   "execution_count": null,
   "id": "58101084",
   "metadata": {},
   "outputs": [],
   "source": [
    "import boto3\n",
    "from textractor import Textractor\n",
    "\n",
    "textract_client = boto3.client(\"textract\", region_name=\"us-east-2\")\n",
    "textractor = Textractor(client=textract_client)\n",
    "\n",
    "loader = AmazonTextractReceiptLoader(\n",
    "    \"example_data/amazon_receipt.jpg\", textractor=textractor\n",
    ")"
   ]
  },
  {
   "cell_type": "markdown",
   "id": "3a581f4a",
   "metadata": {},
   "source": [
    "## 使用S3上的文件的示例"
   ]
  },
  {
   "cell_type": "code",
   "execution_count": null,
   "id": "e2673564",
   "metadata": {},
   "outputs": [],
   "source": [
    "s3_file = \"s3://amazon-textract-public-content/langchain/simple_receipt.png\"\n",
    "\n",
    "# 我们知道此示例位于us-east-2区域的S3存储桶中\n",
    "# 所以我们需要使用同一区域的textract客户端\n",
    "textract_client = boto3.client(\"textract\", region_name=\"us-east-2\")\n",
    "textractor = Textractor(client=textract_client)\n",
    "\n",
    "loader = AmazonTextractReceiptLoader(s3_file, textractor=textractor)"
   ]
  },
  {
   "cell_type": "markdown",
   "id": "f9e6ec3d",
   "metadata": {},
   "source": [
    "### 加载从Amazon Textract解析的收据数据并将其转换为LangChain文档"
   ]
  },
  {
   "cell_type": "code",
   "execution_count": null,
   "id": "85d95d75",
   "metadata": {},
   "outputs": [],
   "source": [
    "documents = loader.load()"
   ]
  },
  {
   "cell_type": "code",
   "execution_count": null,
   "id": "c7faabe3",
   "metadata": {},
   "outputs": [],
   "source": [
    "print(documents[0].page_content)"
   ]
  },
  {
   "cell_type": "markdown",
   "id": "abeb6707",
   "metadata": {},
   "source": [
    "## 查询LangChain文档\n",
    "\n",
    "有了收据的LangChain文档，我们可以现在使用LangChain问它一些问题！"
   ]
  },
  {
   "cell_type": "code",
   "execution_count": null,
   "id": "611432d1",
   "metadata": {},
   "outputs": [],
   "source": [
    "# 或在环境中直接设置OpenAI密钥\n",
    "import os\n",
    "\n",
    "os.environ[\"OPENAI_API_KEY\"] = \"your-openai-api-key\""
   ]
  },
  {
   "cell_type": "code",
   "execution_count": null,
   "id": "f1e088d9",
   "metadata": {},
   "outputs": [],
   "source": [
    "from langchain.chains.question_answering import load_qa_chain\n",
    "from langchain_openai import OpenAI\n",
    "\n",
    "chain = load_qa_chain(llm=OpenAI(), chain_type=\"stuff\")\n",
    "query = [\"发票总额是多少？\"]\n",
    "chain.run(input_documents=documents, question=query)"
   ]
  }
 ],
 "metadata": {
  "language_info": {
   "name": "python"
  }
 },
 "nbformat": 4,
 "nbformat_minor": 5
}
