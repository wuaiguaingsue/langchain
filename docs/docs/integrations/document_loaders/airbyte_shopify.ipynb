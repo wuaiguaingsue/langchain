{
 "cells": [
  {
   "cell_type": "raw",
   "id": "3169f380",
   "metadata": {},
   "source": [
    "---\n",
    "sidebar_class_name: hidden\n",
    "---"
   ]
  },
  {
   "cell_type": "markdown",
   "id": "1f3a5ebf",
   "metadata": {},
   "source": [
    "# Airbyte Shopify (已弃用)"
   ]
  },
  {
   "cell_type": "markdown",
   "id": "35ac77b1-449b-44f7-b8f3-3494d55c286e",
   "metadata": {},
   "source": [
    "注意：此连接器特定的加载器已被弃用。请改用[`AirbyteLoader`](/docs/integrations/document_loaders/airbyte)。\n",
    "\n",
    ">[Airbyte](https://github.com/airbytehq/airbyte)是一个用于从API、数据库和文件到数据仓库和数据湖的ELT管道的数据集成平台。它拥有最大的ELT连接器目录，可连接到数据仓库和数据库。\n",
    "\n",
    "此加载器将Shopify连接器公开为文档加载器，允许您将各种Shopify对象作为文档加载。"
   ]
  },
  {
   "cell_type": "markdown",
   "id": "6847a40c",
   "metadata": {},
   "source": []
  },
  {
   "cell_type": "markdown",
   "id": "3b06fbde",
   "metadata": {},
   "source": [
    "## 安装"
   ]
  },
  {
   "cell_type": "markdown",
   "id": "e3e9dc79",
   "metadata": {},
   "source": [
    "首先，您需要安装`airbyte-source-shopify` Python包。"
   ]
  },
  {
   "cell_type": "code",
   "execution_count": null,
   "id": "4d35e4e0",
   "metadata": {},
   "outputs": [],
   "source": [
    "%pip install --upgrade --quiet  airbyte-source-shopify"
   ]
  },
  {
   "cell_type": "markdown",
   "id": "ae855210",
   "metadata": {},
   "source": [
    "## 示例"
   ]
  },
  {
   "cell_type": "markdown",
   "id": "02208f52",
   "metadata": {},
   "source": [
    "查看[Airbyte文档页面](https://docs.airbyte.com/integrations/sources/shopify/)了解有关如何配置读取器的详细信息。\n",
    "配置对象应遵循的JSON模式可以在Github上找到：[https://github.com/airbytehq/airbyte/blob/master/airbyte-integrations/connectors/source-shopify/source_shopify/spec.json](https://github.com/airbytehq/airbyte/blob/master/airbyte-integrations/connectors/source-shopify/source_shopify/spec.json)。\n",
    "\n",
    "一般形状如下所示：\n",
    "```python\n",
    "{\n",
    "    \"start_date\": \"<开始检索记录的日期，ISO格式，例如 2020-10-20T00:00:00Z>\",\n",
    "    \"shop\": \"<您想要从中检索文档的商店名称>\",\n",
    "    \"credentials\": {\n",
    "        \"auth_method\": \"api_password\",\n",
    "        \"api_password\": \"<您的API密码>\"\n",
    "    }\n",
    "}\n",
    "```\n",
    "\n",
    "默认情况下，所有字段都作为元数据存储在文档中，而文本设置为空字符串。通过转换读取器返回的文档来构建文档的文本。"
   ]
  },
  {
   "cell_type": "code",
   "execution_count": null,
   "id": "89a99e58",
   "metadata": {},
   "outputs": [],
   "source": [
    "from langchain_community.document_loaders.airbyte import AirbyteShopifyLoader\n",
    "\n",
    "config = {\n",
    "    # 您的Shopify配置\n",
    "}\n",
    "\n",
    "loader = AirbyteShopifyLoader(\n",
    "    config=config, stream_name=\"orders\"\n",
    ")  # 查看上面链接的文档以获取所有流的列表"
   ]
  },
  {
   "cell_type": "markdown",
   "id": "2cea23fc",
   "metadata": {},
   "source": [
    "现在您可以按照常规方式加载文档"
   ]
  },
  {
   "cell_type": "code",
   "execution_count": null,
   "id": "dae75cdb",
   "metadata": {},
   "outputs": [],
   "source": [
    "docs = loader.load()"
   ]
  },
  {
   "cell_type": "markdown",
   "id": "4a93dc2a",
   "metadata": {},
   "source": [
    "由于`load`返回一个列表，它会阻塞直到所有文档加载完成。要更好地控制这个过程，您也可以使用`lazy_load`方法，它返回一个迭代器："
   ]
  },
  {
   "cell_type": "code",
   "execution_count": null,
   "id": "1782db09",
   "metadata": {},
   "outputs": [],
   "source": [
    "docs_iterator = loader.lazy_load()"
   ]
  },
  {
   "cell_type": "markdown",
   "id": "3a124086",
   "metadata": {},
   "source": [
    "请记住，默认情况下页面内容为空，元数据对象包含记录中的所有信息。要以不同方式创建文档，在创建加载器时传入一个record_handler函数："
   ]
  },
  {
   "cell_type": "code",
   "execution_count": null,
   "id": "5671395d",
   "metadata": {},
   "outputs": [],
   "source": [
    "from langchain_core.documents import Document\n",
    "\n",
    "\n",
    "def handle_record(record, id):\n",
    "    return Document(page_content=record.data[\"title\"], metadata=record.data)\n",
    "\n",
    "\n",
    "loader = AirbyteShopifyLoader(\n",
    "    config=config, record_handler=handle_record, stream_name=\"orders\"\n",
    ")\n",
    "docs = loader.load()"
   ]
  },
  {
   "cell_type": "markdown",
   "id": "223eb8bc",
   "metadata": {},
   "source": [
    "## 增量加载\n",
    "\n",
    "一些流允许增量加载，这意味着源会跟踪已同步的记录，并且不会再次加载它们。这对于数据量大且频繁更新的源很有用。\n",
    "\n",
    "要利用这一点，存储加载器的`last_state`属性，并在再次创建加载器时传入它。这将确保只加载新记录。"
   ]
  },
  {
   "cell_type": "code",
   "execution_count": null,
   "id": "7061e735",
   "metadata": {},
   "outputs": [],
   "source": [
    "last_state = loader.last_state  # 安全存储\n",
    "\n",
    "incremental_loader = AirbyteShopifyLoader(\n",
    "    config=config, stream_name=\"orders\", state=last_state\n",
    ")\n",
    "\n",
    "new_docs = incremental_loader.load()"
   ]
  }
 ],
 "metadata": {
  "kernelspec": {
   "display_name": "Python 3 (ipykernel)",
   "language": "python",
   "name": "python3"
  },
  "language_info": {
   "codemirror_mode": {
    "name": "ipython",
    "version": 3
   },
   "file_extension": ".py",
   "mimetype": "text/x-python",
   "name": "python",
   "nbconvert_exporter": "python",
   "pygments_lexer": "ipython3",
   "version": "3.10.6"
  }
 },
 "nbformat": 4,
 "nbformat_minor": 5
}
