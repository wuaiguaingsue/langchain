{
 "cells": [
  {
   "cell_type": "raw",
   "id": "61c2629c",
   "metadata": {},
   "source": [
    "---\n",
    "sidebar_class_name: hidden\n",
    "---"
   ]
  },
  {
   "cell_type": "markdown",
   "id": "1f3a5ebf",
   "metadata": {},
   "source": [
    "# Airbyte JSON (已弃用)"
   ]
  },
  {
   "cell_type": "markdown",
   "id": "35ac77b1-449b-44f7-b8f3-3494d55c286e",
   "metadata": {},
   "source": [
    "注意：`AirbyteJSONLoader`已被弃用。请改用[`AirbyteLoader`](/docs/integrations/document_loaders/airbyte)。\n",
    "\n",
    ">[Airbyte](https://github.com/airbytehq/airbyte)是一个用于从API、数据库和文件到数据仓库和数据湖的ELT管道的数据集成平台。它拥有最大的ELT连接器目录，可连接到数据仓库和数据库。"
   ]
  },
  {
   "cell_type": "markdown",
   "id": "1fe72234-3110-4c07-a766-3dc505dd25cc",
   "metadata": {},
   "source": [
    "本文介绍如何将Airbyte中的任何源加载到本地JSON文件中，然后作为文档读取\n",
    "\n",
    "前提条件：\n",
    "已安装Docker Desktop\n",
    "\n",
    "步骤：\n",
    "\n",
    "1) 从GitHub克隆Airbyte - `git clone https://github.com/airbytehq/airbyte.git`\n",
    "\n",
    "2) 切换到Airbyte目录 - `cd airbyte`\n",
    "\n",
    "3) 启动Airbyte - `docker compose up`\n",
    "\n",
    "4) 在浏览器中，访问http://localhost:8000。系统会要求您输入用户名和密码。默认用户名为`airbyte`，密码为`password`。\n",
    "\n",
    "5) 设置您想要的任何源。\n",
    "\n",
    "6) 将目标设置为Local JSON，并指定目标路径 - 例如`/json_data`。设置手动同步。\n",
    "\n",
    "7) 运行连接。\n",
    "\n",
    "7) 要查看创建了哪些文件，可以导航到：`file:///tmp/airbyte_local`\n",
    "\n",
    "8) 找到您的数据并复制路径。该路径应该保存在下面的file变量中。它应该以`/tmp/airbyte_local`开头\n"
   ]
  },
  {
   "cell_type": "code",
   "execution_count": 1,
   "id": "180c8b74",
   "metadata": {},
   "outputs": [],
   "source": [
    "from langchain_community.document_loaders import AirbyteJSONLoader"
   ]
  },
  {
   "cell_type": "code",
   "execution_count": 2,
   "id": "4af10665",
   "metadata": {},
   "outputs": [
    {
     "name": "stdout",
     "output_type": "stream",
     "text": [
      "_airbyte_raw_pokemon.jsonl\n"
     ]
    }
   ],
   "source": [
    "!ls /tmp/airbyte_local/json_data/"
   ]
  },
  {
   "cell_type": "code",
   "execution_count": 3,
   "id": "721d9316",
   "metadata": {},
   "outputs": [],
   "source": [
    "loader = AirbyteJSONLoader(\"/tmp/airbyte_local/json_data/_airbyte_raw_pokemon.jsonl\")"
   ]
  },
  {
   "cell_type": "code",
   "execution_count": 4,
   "id": "9858b946",
   "metadata": {},
   "outputs": [],
   "source": [
    "data = loader.load()"
   ]
  },
  {
   "cell_type": "code",
   "execution_count": 8,
   "id": "fca024cb",
   "metadata": {
    "scrolled": true
   },
   "outputs": [
    {
     "name": "stdout",
     "output_type": "stream",
     "text": [
      "abilities: \n",
      "ability: \n",
      "name: blaze\n",
      "url: https://pokeapi.co/api/v2/ability/66/\n",
      "\n",
      "is_hidden: False\n",
      "slot: 1\n",
      "\n",
      "\n",
      "ability: \n",
      "name: solar-power\n",
      "url: https://pokeapi.co/api/v2/ability/94/\n",
      "\n",
      "is_hidden: True\n",
      "slot: 3\n",
      "\n",
      "base_experience: 267\n",
      "forms: \n",
      "name: charizard\n",
      "url: https://pokeapi.co/api/v2/pokemon-form/6/\n",
      "\n",
      "game_indices: \n",
      "game_index: 180\n",
      "version: \n",
      "name: red\n",
      "url: https://pokeapi.co/api/v2/version/1/\n",
      "\n",
      "\n",
      "\n",
      "game_index: 180\n",
      "version: \n",
      "name: blue\n",
      "url: https://pokeapi.co/api/v2/version/2/\n",
      "\n",
      "\n",
      "\n",
      "game_index: 180\n",
      "version: \n",
      "n\n"
     ]
    }
   ],
   "source": [
    "print(data[0].page_content[:500])"
   ]
  },
  {
   "cell_type": "code",
   "execution_count": null,
   "id": "9fa002a5",
   "metadata": {},
   "outputs": [],
   "source": []
  }
 ],
 "metadata": {
  "kernelspec": {
   "display_name": "Python 3 (ipykernel)",
   "language": "python",
   "name": "python3"
  },
  "language_info": {
   "codemirror_mode": {
    "name": "ipython",
    "version": 3
   },
   "file_extension": ".py",
   "mimetype": "text/x-python",
   "name": "python",
   "nbconvert_exporter": "python",
   "pygments_lexer": "ipython3",
   "version": "3.10.6"
  }
 },
 "nbformat": 4,
 "nbformat_minor": 5
}
