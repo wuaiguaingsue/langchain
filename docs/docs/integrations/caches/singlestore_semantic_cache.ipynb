{
 "cells": [
  {
   "cell_type": "markdown",
   "id": "e49f1e0d",
   "metadata": {},
   "source": [
    "# SingleStore语义缓存\n",
    "\n",
    "本示例演示如何开始使用SingleStore语义缓存。\n",
    "\n",
    "### 集成概述\n",
    "\n",
    "`SingleStoreSemanticCache`利用`SingleStoreVectorStore`将LLM响应直接缓存在SingleStore数据库中，实现结果的高效语义检索和重用。\n",
    "\n",
    "### 集成详情\n",
    "\n",
    "\n",
    "\n",
    "| 类 | 包 | JS支持 |\n",
    "| :--- | :--- |  :---: |\n",
    "| SingleStoreSemanticCache | langchain_singlestore | ❌ | "
   ]
  },
  {
   "cell_type": "markdown",
   "id": "0730d6a1-c893-4840-9817-5e5251676d5d",
   "metadata": {},
   "source": [
    "## 安装\n",
    "\n",
    "此缓存位于`langchain-singlestore`包中："
   ]
  },
  {
   "cell_type": "code",
   "execution_count": null,
   "id": "652d6238-1f87-422a-b135-f5abbb8652fc",
   "metadata": {},
   "outputs": [],
   "source": [
    "%pip install -qU langchain-singlestore"
   ]
  },
  {
   "cell_type": "markdown",
   "id": "5c5f2839-4020-424e-9fc9-07777eede442",
   "metadata": {},
   "source": [
    "## 使用方法"
   ]
  },
  {
   "cell_type": "code",
   "execution_count": null,
   "id": "51a60dbe-9f2e-4e04-bb62-23968f17164a",
   "metadata": {},
   "outputs": [],
   "source": [
    "from langchain_core.globals import set_llm_cache\n",
    "from langchain_singlestore import SingleStoreSemanticCache\n",
    "\n",
    "set_llm_cache(\n",
    "    SingleStoreSemanticCache(\n",
    "        embedding=YourEmbeddings(),\n",
    "        host=\"root:pass@localhost:3306/db\",\n",
    "    )\n",
    ")"
   ]
  },
  {
   "cell_type": "code",
   "execution_count": null,
   "id": "cddda8ef",
   "metadata": {},
   "outputs": [],
   "source": [
    "%%time\n",
    "# 第一次调用，结果尚未被缓存，因此应该花费更长时间\n",
    "llm.invoke(\"讲个笑话\")"
   ]
  },
  {
   "cell_type": "code",
   "execution_count": null,
   "id": "c474168f",
   "metadata": {},
   "outputs": [],
   "source": [
    "%%time\n",
    "# 第二次调用，虽然不是直接命中，但问题在语义上与原始问题相似，\n",
    "# 所以它使用了缓存的结果！\n",
    "llm.invoke(\"讲一个笑话\")"
   ]
  }
 ],
 "metadata": {
  "kernelspec": {
   "display_name": "langchain-singlestore-BD1RbQ07-py3.11",
   "language": "python",
   "name": "python3"
  },
  "language_info": {
   "codemirror_mode": {
    "name": "ipython",
    "version": 3
   },
   "file_extension": ".py",
   "mimetype": "text/x-python",
   "name": "python",
   "nbconvert_exporter": "python",
   "pygments_lexer": "ipython3",
   "version": "3.11.11"
  }
 },
 "nbformat": 4,
 "nbformat_minor": 5
}
