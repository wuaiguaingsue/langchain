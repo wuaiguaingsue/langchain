{
 "cells": [
  {
   "cell_type": "markdown",
   "id": "5371a9bb",
   "metadata": {},
   "source": [
    "# Comet 追踪\n",
    "\n",
    "有两种方式可以使用 Comet 追踪您的 LangChains 执行过程：\n",
    "\n",
    "1. 将 `LANGCHAIN_COMET_TRACING` 环境变量设置为 \"true\"。这是推荐的方式。\n",
    "2. 手动导入 `CometTracer` 并显式传递它。"
   ]
  },
  {
   "cell_type": "code",
   "execution_count": null,
   "id": "17c04cc6-c93d-4b6c-a033-e897577f4ed1",
   "metadata": {
    "ExecuteTime": {
     "end_time": "2023-05-18T12:47:46.580776Z",
     "start_time": "2023-05-18T12:47:46.577833Z"
    },
    "tags": []
   },
   "outputs": [],
   "source": [
    "import os\n",
    "\n",
    "import comet_llm\n",
    "from langchain_openai import OpenAI\n",
    "\n",
    "os.environ[\"LANGCHAIN_COMET_TRACING\"] = \"true\"\n",
    "\n",
    "# 如果未设置 API 密钥，连接到 Comet\n",
    "comet_llm.init()\n",
    "\n",
    "# comet 文档，使用环境变量配置 comet\n",
    "# https://www.comet.com/docs/v2/api-and-sdk/llm-sdk/configuration/\n",
    "# 这里我们配置 comet 项目\n",
    "os.environ[\"COMET_PROJECT_NAME\"] = \"comet-example-langchain-tracing\"\n",
    "\n",
    "from langchain.agents import AgentType, initialize_agent, load_tools"
   ]
  },
  {
   "cell_type": "code",
   "execution_count": null,
   "id": "1b62cd48",
   "metadata": {
    "ExecuteTime": {
     "end_time": "2023-05-18T12:47:47.445229Z",
     "start_time": "2023-05-18T12:47:47.436424Z"
    },
    "tags": []
   },
   "outputs": [],
   "source": [
    "# 带追踪的 Agent 运行。确保已适当设置 OPENAI_API_KEY 以运行此示例。\n",
    "\n",
    "llm = OpenAI(temperature=0)\n",
    "tools = load_tools([\"llm-math\"], llm=llm)"
   ]
  },
  {
   "cell_type": "code",
   "execution_count": null,
   "id": "bfa16b79-aa4b-4d41-a067-70d1f593f667",
   "metadata": {
    "ExecuteTime": {
     "end_time": "2023-05-18T12:48:01.816137Z",
     "start_time": "2023-05-18T12:47:49.109574Z"
    },
    "tags": []
   },
   "outputs": [],
   "source": [
    "agent = initialize_agent(\n",
    "    tools, llm, agent=AgentType.ZERO_SHOT_REACT_DESCRIPTION, verbose=True\n",
    ")\n",
    "\n",
    "agent.run(\"2 的 .123243 次方是多少?\")  # 这应该会被追踪\n",
    "# 控制台中应该会打印出类似以下的链接 URL：\n",
    "# https://www.comet.com/<workspace>/<project_name>\n",
    "# 该 URL 可用于在 Comet 中查看 LLM 链。"
   ]
  },
  {
   "cell_type": "code",
   "execution_count": null,
   "id": "5e212e7d",
   "metadata": {},
   "outputs": [],
   "source": [
    "# 现在，我们取消设置环境变量并使用上下文管理器。\n",
    "if \"LANGCHAIN_COMET_TRACING\" in os.environ:\n",
    "    del os.environ[\"LANGCHAIN_COMET_TRACING\"]\n",
    "\n",
    "from langchain_community.callbacks.tracers.comet import CometTracer\n",
    "\n",
    "tracer = CometTracer()\n",
    "\n",
    "# 重新创建 LLM、工具和代理，并将回调传递给它们\n",
    "llm = OpenAI(temperature=0)\n",
    "tools = load_tools([\"llm-math\"], llm=llm)\n",
    "agent = initialize_agent(\n",
    "    tools, llm, agent=AgentType.ZERO_SHOT_REACT_DESCRIPTION, verbose=True\n",
    ")\n",
    "\n",
    "agent.run(\n",
    "    \"2 的 .123243 次方是多少?\", callbacks=[tracer]\n",
    ")  # 这应该会被追踪"
   ]
  }
 ],
 "metadata": {
  "kernelspec": {
   "display_name": "Python 3 (ipykernel)",
   "language": "python",
   "name": "python3"
  },
  "language_info": {
   "codemirror_mode": {
    "name": "ipython",
    "version": 3
   },
   "file_extension": ".py",
   "mimetype": "text/x-python",
   "name": "python",
   "nbconvert_exporter": "python",
   "pygments_lexer": "ipython3",
   "version": "3.10.12"
  }
 },
 "nbformat": 4,
 "nbformat_minor": 5
}
