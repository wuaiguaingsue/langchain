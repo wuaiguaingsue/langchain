{
 "cells": [
  {
   "cell_type": "markdown",
   "metadata": {
    "collapsed": true,
    "jupyter": {
     "outputs_hidden": true
    },
    "pycharm": {
     "name": "#%% md\n"
    }
   },
   "source": [
    "# Label Studio\n",
    "\n",
    "\n",
    ">[Label Studio](https://labelstud.io/guide/get_started) 是一个开源数据标注平台，为LangChain提供了灵活性，可用于为大型语言模型（LLM）的微调标注数据。它还支持准备自定义训练数据以及通过人类反馈收集和评估响应。\n",
    "\n",
    "在本指南中，您将学习如何将LangChain管道连接到`Label Studio`，以实现：\n",
    "\n",
    "- 在单个`Label Studio`项目中汇总所有输入提示、对话和响应。这将所有数据整合在一个地方，便于标注和分析。\n",
    "- 优化提示和响应，创建用于监督微调（SFT）和基于人类反馈的强化学习（RLHF）场景的数据集。标注的数据可用于进一步训练LLM，提高其性能。\n",
    "- 通过人类反馈评估模型响应。`Label Studio`提供了一个界面，供人类审查和提供对模型响应的反馈，允许评估和迭代。"
   ]
  },
  {
   "cell_type": "markdown",
   "metadata": {
    "pycharm": {
     "name": "#%% md\n"
    }
   },
   "source": [
    "## 安装和设置"
   ]
  },
  {
   "cell_type": "markdown",
   "metadata": {
    "pycharm": {
     "name": "#%% md\n"
    }
   },
   "source": [
    "首先安装最新版本的Label Studio和Label Studio API客户端："
   ]
  },
  {
   "cell_type": "code",
   "execution_count": null,
   "metadata": {
    "pycharm": {
     "name": "#%%\n"
    }
   },
   "outputs": [],
   "source": [
    "%pip install --upgrade --quiet langchain label-studio label-studio-sdk langchain-openai langchain-community"
   ]
  },
  {
   "cell_type": "markdown",
   "metadata": {
    "pycharm": {
     "name": "#%% md\n"
    }
   },
   "source": [
    "接下来，在命令行中运行`label-studio`以在`http://localhost:8080`启动本地LabelStudio实例。有关更多选项，请参见[Label Studio安装指南](https://labelstud.io/guide/install)。"
   ]
  },
  {
   "cell_type": "markdown",
   "metadata": {
    "pycharm": {
     "name": "#%% md\n"
    }
   },
   "source": [
    "您需要一个令牌来进行API调用。\n",
    "\n",
    "在浏览器中打开LabelStudio实例，转到`账户和设置 > 访问令牌`并复制密钥。\n",
    "\n",
    "使用您的LabelStudio URL、API密钥和OpenAI API密钥设置环境变量："
   ]
  },
  {
   "cell_type": "code",
   "execution_count": null,
   "metadata": {
    "pycharm": {
     "name": "#%%\n"
    }
   },
   "outputs": [],
   "source": [
    "import os\n",
    "\n",
    "os.environ[\"LABEL_STUDIO_URL\"] = \"<您的LABEL-STUDIO-URL>\"  # 例如 http://localhost:8080\n",
    "os.environ[\"LABEL_STUDIO_API_KEY\"] = \"<您的LABEL-STUDIO-API-KEY>\"\n",
    "os.environ[\"OPENAI_API_KEY\"] = \"<您的OPENAI-API-KEY>\""
   ]
  },
  {
   "cell_type": "markdown",
   "metadata": {
    "pycharm": {
     "name": "#%% md\n"
    }
   },
   "source": [
    "## 收集LLM提示和响应"
   ]
  },
  {
   "cell_type": "markdown",
   "metadata": {},
   "source": [
    "用于标注的数据存储在Label Studio的项目中。每个项目由一个XML配置标识，该配置详细说明了输入和输出数据的规范。\n",
    "\n",
    "创建一个项目，该项目以文本格式接收人工输入，并在文本区域中输出可编辑的LLM响应：\n",
    "\n",
    "```xml\n",
    "<View>\n",
    "<Style>\n",
    "    .prompt-box {\n",
    "        background-color: white;\n",
    "        border-radius: 10px;\n",
    "        box-shadow: 0px 4px 6px rgba(0, 0, 0, 0.1);\n",
    "        padding: 20px;\n",
    "    }\n",
    "</Style>\n",
    "<View className=\"root\">\n",
    "    <View className=\"prompt-box\">\n",
    "        <Text name=\"prompt\" value=\"$prompt\"/>\n",
    "    </View>\n",
    "    <TextArea name=\"response\" toName=\"prompt\"\n",
    "              maxSubmissions=\"1\" editable=\"true\"\n",
    "              required=\"true\"/>\n",
    "</View>\n",
    "<Header value=\"评价响应：\"/>\n",
    "<Rating name=\"rating\" toName=\"prompt\"/>\n",
    "</View>\n",
    "```\n",
    "\n",
    "1. 要在Label Studio中创建项目，请点击\"创建\"按钮。\n",
    "2. 在\"项目名称\"字段中输入项目名称，例如`My Project`。\n",
    "3. 导航至`标注设置 > 自定义模板`并粘贴上面提供的XML配置。"
   ]
  },
  {
   "cell_type": "markdown",
   "metadata": {
    "pycharm": {
     "name": "#%% md\n"
    }
   },
   "source": [
    "您可以通过`LabelStudioCallbackHandler`连接，在LabelStudio项目中收集输入LLM提示和输出响应："
   ]
  },
  {
   "cell_type": "code",
   "execution_count": 1,
   "metadata": {
    "execution": {
     "iopub.execute_input": "2024-03-06T19:07:34.462103Z",
     "iopub.status.busy": "2024-03-06T19:07:34.461651Z",
     "iopub.status.idle": "2024-03-06T19:07:34.661936Z",
     "shell.execute_reply": "2024-03-06T19:07:34.661284Z",
     "shell.execute_reply.started": "2024-03-06T19:07:34.462067Z"
    }
   },
   "outputs": [],
   "source": [
    "from langchain_community.callbacks.labelstudio_callback import (\n",
    "    LabelStudioCallbackHandler,\n",
    ")"
   ]
  },
  {
   "cell_type": "code",
   "execution_count": null,
   "metadata": {
    "pycharm": {
     "name": "#%%\n"
    }
   },
   "outputs": [],
   "source": [
    "from langchain_openai import OpenAI\n",
    "\n",
    "llm = OpenAI(\n",
    "    temperature=0, callbacks=[LabelStudioCallbackHandler(project_name=\"My Project\")]\n",
    ")\n",
    "print(llm.invoke(\"讲个笑话\"))"
   ]
  },
  {
   "cell_type": "markdown",
   "metadata": {
    "pycharm": {
     "name": "#%% md\n"
    }
   },
   "source": [
    "在Label Studio中，打开`My Project`。您将看到提示、响应和模型名称等元数据。"
   ]
  },
  {
   "cell_type": "markdown",
   "metadata": {
    "pycharm": {
     "name": "#%% md\n"
    }
   },
   "source": [
    "## 收集聊天模型对话"
   ]
  },
  {
   "cell_type": "markdown",
   "metadata": {},
   "source": [
    "您还可以在LabelStudio中跟踪和显示完整的聊天对话，并能够评价和修改最后的响应：\n",
    "\n",
    "1. 打开Label Studio并点击\"创建\"按钮。\n",
    "2. 在\"项目名称\"字段中输入项目名称，例如`New Project with Chat`。\n",
    "3. 导航至标注设置 > 自定义模板并粘贴以下XML配置：\n",
    "\n",
    "```xml\n",
    "<View>\n",
    "<View className=\"root\">\n",
    "     <Paragraphs name=\"dialogue\"\n",
    "               value=\"$prompt\"\n",
    "               layout=\"dialogue\"\n",
    "               textKey=\"content\"\n",
    "               nameKey=\"role\"\n",
    "               granularity=\"sentence\"/>\n",
    "  <Header value=\"最终响应：\"/>\n",
    "    <TextArea name=\"response\" toName=\"dialogue\"\n",
    "              maxSubmissions=\"1\" editable=\"true\"\n",
    "              required=\"true\"/>\n",
    "</View>\n",
    "<Header value=\"评价响应：\"/>\n",
    "<Rating name=\"rating\" toName=\"dialogue\"/>\n",
    "</View>\n",
    "```"
   ]
  },
  {
   "cell_type": "code",
   "execution_count": null,
   "metadata": {
    "pycharm": {
     "name": "#%%\n"
    }
   },
   "outputs": [],
   "source": [
    "from langchain_core.messages import HumanMessage, SystemMessage\n",
    "from langchain_openai import ChatOpenAI\n",
    "\n",
    "chat_llm = ChatOpenAI(\n",
    "    callbacks=[\n",
    "        LabelStudioCallbackHandler(\n",
    "            mode=\"chat\",\n",
    "            project_name=\"New Project with Chat\",\n",
    "        )\n",
    "    ]\n",
    ")\n",
    "llm_results = chat_llm.invoke(\n",
    "    [\n",
    "        SystemMessage(content=\"始终使用大量表情符号\"),\n",
    "        HumanMessage(content=\"讲个笑话\"),\n",
    "    ]\n",
    ")"
   ]
  },
  {
   "cell_type": "markdown",
   "metadata": {},
   "source": [
    "在Label Studio中，打开\"New Project with Chat\"。点击创建的任务以查看对话历史记录并编辑/注释响应。"
   ]
  },
  {
   "cell_type": "markdown",
   "metadata": {
    "pycharm": {
     "name": "#%% md\n"
    }
   },
   "source": [
    "## 自定义标注配置"
   ]
  },
  {
   "cell_type": "markdown",
   "metadata": {
    "pycharm": {
     "name": "#%% md\n"
    }
   },
   "source": [
    "您可以修改LabelStudio中的默认标注配置，添加更多目标标签，如响应情感、相关性和许多[其他类型的标注者反馈](https://labelstud.io/tags/)。\n",
    "\n",
    "可以从UI添加新的标注配置：转到`设置 > 标注界面`，并使用额外的标签设置自定义配置，如用于情感的`Choices`或用于相关性的`Rating`。请记住，任何配置中都应该包含[`TextArea`标签](https://labelstud.io/tags/textarea)，以显示LLM响应。\n",
    "\n",
    "或者，您可以在项目创建前的初始调用中指定标注配置："
   ]
  },
  {
   "cell_type": "code",
   "execution_count": null,
   "metadata": {
    "pycharm": {
     "name": "#%%\n"
    }
   },
   "outputs": [],
   "source": [
    "ls = LabelStudioCallbackHandler(\n",
    "    project_config=\"\"\"\n",
    "<View>\n",
    "<Text name=\"prompt\" value=\"$prompt\"/>\n",
    "<TextArea name=\"response\" toName=\"prompt\"/>\n",
    "<TextArea name=\"user_feedback\" toName=\"prompt\"/>\n",
    "<Rating name=\"rating\" toName=\"prompt\"/>\n",
    "<Choices name=\"sentiment\" toName=\"prompt\">\n",
    "    <Choice value=\"积极\"/>\n",
    "    <Choice value=\"消极\"/>\n",
    "</Choices>\n",
    "</View>\n",
    "\"\"\"\n",
    ")"
   ]
  },
  {
   "cell_type": "markdown",
   "metadata": {},
   "source": [
    "请注意，如果项目不存在，将使用指定的标注配置创建项目。"
   ]
  },
  {
   "cell_type": "markdown",
   "metadata": {
    "pycharm": {
     "name": "#%% md\n"
    }
   },
   "source": [
    "## 其他参数"
   ]
  },
  {
   "cell_type": "markdown",
   "metadata": {
    "pycharm": {
     "name": "#%% md\n"
    }
   },
   "source": [
    "`LabelStudioCallbackHandler`接受几个可选参数：\n",
    "\n",
    "- **api_key** - Label Studio API密钥。覆盖环境变量`LABEL_STUDIO_API_KEY`。\n",
    "- **url** - Label Studio URL。覆盖`LABEL_STUDIO_URL`，默认为`http://localhost:8080`。\n",
    "- **project_id** - 现有Label Studio项目ID。覆盖`LABEL_STUDIO_PROJECT_ID`。在此项目中存储数据。\n",
    "- **project_name** - 如果未指定项目ID，则为项目名称。创建一个新项目。默认为带有当前日期格式的`\"LangChain-%Y-%m-%d\"`。\n",
    "- **project_config** - [自定义标注配置](#自定义标注配置)\n",
    "- **mode**: 使用此快捷方式从头开始创建目标配置：\n",
    "   - `\"prompt\"` - 单个提示，单个响应。默认。\n",
    "   - `\"chat\"` - 多轮聊天模式。\n",
    "\n"
   ]
  }
 ],
 "metadata": {
  "kernelspec": {
   "display_name": "Python 3 (ipykernel)",
   "language": "python",
   "name": "python3"
  },
  "language_info": {
   "codemirror_mode": {
    "name": "ipython",
    "version": 3
   },
   "file_extension": ".py",
   "mimetype": "text/x-python",
   "name": "python",
   "nbconvert_exporter": "python",
   "pygments_lexer": "ipython3",
   "version": "3.10.12"
  }
 },
 "nbformat": 4,
 "nbformat_minor": 4
}
