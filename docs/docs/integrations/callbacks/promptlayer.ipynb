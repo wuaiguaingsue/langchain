{
 "cells": [
  {
   "attachments": {},
   "cell_type": "markdown",
   "metadata": {},
   "source": [
    "# PromptLayer\n",
    "\n",
    ">[PromptLayer](https://docs.promptlayer.com/introduction) 是一个提示工程平台。它还有助于LLM可观测性，可视化请求，版本化提示，并追踪使用情况。\n",
    ">\n",
    ">虽然`PromptLayer`确实有直接与LangChain集成的LLM（例如[`PromptLayerOpenAI`](/docs/integrations/llms/promptlayer_openai)），但使用回调是将`PromptLayer`与LangChain集成的推荐方式。\n",
    "\n",
    "在本指南中，我们将介绍如何设置`PromptLayerCallbackHandler`。\n",
    "\n",
    "有关更多信息，请参阅[PromptLayer文档](https://docs.promptlayer.com/languages/langchain)。"
   ]
  },
  {
   "attachments": {},
   "cell_type": "markdown",
   "metadata": {
    "tags": []
   },
   "source": [
    "## 安装和设置"
   ]
  },
  {
   "cell_type": "code",
   "execution_count": null,
   "metadata": {},
   "outputs": [],
   "source": [
    "%pip install --upgrade --quiet  langchain-community promptlayer --upgrade"
   ]
  },
  {
   "attachments": {},
   "cell_type": "markdown",
   "metadata": {},
   "source": [
    "### 获取API凭证\n",
    "\n",
    "如果您没有PromptLayer账户，请在[promptlayer.com](https://www.promptlayer.com)创建一个。然后通过点击导航栏中的设置图标获取API密钥，\n",
    "并将其设置为名为`PROMPTLAYER_API_KEY`的环境变量\n"
   ]
  },
  {
   "attachments": {},
   "cell_type": "markdown",
   "metadata": {},
   "source": [
    "## 使用方法\n",
    "\n",
    "开始使用`PromptLayerCallbackHandler`相当简单，它接受两个可选参数：\n",
    "1. `pl_tags` - 可选的字符串列表，将在PromptLayer上作为标签追踪。\n",
    "2. `pl_id_callback` - 可选函数，将`promptlayer_request_id`作为参数。此ID可与PromptLayer的所有跟踪功能一起使用，以跟踪元数据、分数和提示使用情况。"
   ]
  },
  {
   "attachments": {},
   "cell_type": "markdown",
   "metadata": {},
   "source": [
    "## 简单OpenAI示例\n",
    "\n",
    "在这个简单示例中，我们将`PromptLayerCallbackHandler`与`ChatOpenAI`一起使用。我们添加了一个名为`chatopenai`的PromptLayer标签"
   ]
  },
  {
   "cell_type": "code",
   "execution_count": null,
   "metadata": {
    "execution": {
     "iopub.execute_input": "2024-03-06T19:10:56.673622Z",
     "iopub.status.busy": "2024-03-06T19:10:56.673421Z",
     "iopub.status.idle": "2024-03-06T19:10:56.887519Z",
     "shell.execute_reply": "2024-03-06T19:10:56.886895Z",
     "shell.execute_reply.started": "2024-03-06T19:10:56.673608Z"
    }
   },
   "outputs": [],
   "source": [
    "import promptlayer  # 别忘了这个 🍰\n",
    "from langchain_community.callbacks.promptlayer_callback import (\n",
    "    PromptLayerCallbackHandler,\n",
    ")"
   ]
  },
  {
   "cell_type": "code",
   "execution_count": null,
   "metadata": {},
   "outputs": [],
   "source": [
    "from langchain_core.messages import HumanMessage\n",
    "from langchain_openai import ChatOpenAI\n",
    "\n",
    "chat_llm = ChatOpenAI(\n",
    "    temperature=0,\n",
    "    callbacks=[PromptLayerCallbackHandler(pl_tags=[\"chatopenai\"])],\n",
    ")\n",
    "llm_results = chat_llm.invoke(\n",
    "    [\n",
    "        HumanMessage(content=\"1,2,3之后是什么？\"),\n",
    "        HumanMessage(content=\"再讲个笑话？\"),\n",
    "    ]\n",
    ")\n",
    "print(llm_results)"
   ]
  },
  {
   "attachments": {},
   "cell_type": "markdown",
   "metadata": {},
   "source": [
    "## GPT4All示例"
   ]
  },
  {
   "cell_type": "code",
   "execution_count": null,
   "metadata": {},
   "outputs": [],
   "source": [
    "from langchain_community.llms import GPT4All\n",
    "\n",
    "model = GPT4All(model=\"./models/gpt4all-model.bin\", n_ctx=512, n_threads=8)\n",
    "callbacks = [PromptLayerCallbackHandler(pl_tags=[\"langchain\", \"gpt4all\"])]\n",
    "\n",
    "response = model.invoke(\n",
    "    \"从前有一次，\",\n",
    "    config={\"callbacks\": callbacks},\n",
    ")"
   ]
  },
  {
   "attachments": {},
   "cell_type": "markdown",
   "metadata": {},
   "source": [
    "## 完整功能示例\n",
    "\n",
    "在这个示例中，我们解锁了`PromptLayer`的更多功能。\n",
    "\n",
    "PromptLayer允许您以可视化方式创建、版本化和跟踪提示模板。使用[提示注册表](https://docs.promptlayer.com/features/prompt-registry)，我们可以以编程方式获取名为`example`的提示模板。\n",
    "\n",
    "我们还定义了一个`pl_id_callback`函数，该函数接收`promptlayer_request_id`并记录分数、元数据，并链接使用的提示模板。在[我们的文档](https://docs.promptlayer.com/features/prompt-history/request-id)中了解有关跟踪的更多信息。"
   ]
  },
  {
   "cell_type": "code",
   "execution_count": null,
   "metadata": {},
   "outputs": [],
   "source": [
    "from langchain_openai import OpenAI\n",
    "\n",
    "\n",
    "def pl_id_callback(promptlayer_request_id):\n",
    "    print(\"prompt layer id \", promptlayer_request_id)\n",
    "    promptlayer.track.score(\n",
    "        request_id=promptlayer_request_id, score=100\n",
    "    )  # 分数是0-100之间的整数\n",
    "    promptlayer.track.metadata(\n",
    "        request_id=promptlayer_request_id, metadata={\"foo\": \"bar\"}\n",
    "    )  # 元数据是在PromptLayer上跟踪的键值对字典\n",
    "    promptlayer.track.prompt(\n",
    "        request_id=promptlayer_request_id,\n",
    "        prompt_name=\"example\",\n",
    "        prompt_input_variables={\"product\": \"烤面包机\"},\n",
    "        version=1,\n",
    "    )  # 将请求链接到提示模板\n",
    "\n",
    "\n",
    "openai_llm = OpenAI(\n",
    "    model_name=\"gpt-3.5-turbo-instruct\",\n",
    "    callbacks=[PromptLayerCallbackHandler(pl_id_callback=pl_id_callback)],\n",
    ")\n",
    "\n",
    "example_prompt = promptlayer.prompts.get(\"example\", version=1, langchain=True)\n",
    "openai_llm.invoke(example_prompt.format(product=\"烤面包机\"))"
   ]
  },
  {
   "attachments": {},
   "cell_type": "markdown",
   "metadata": {},
   "source": [
    "就是这么简单！设置完成后，所有请求将显示在PromptLayer仪表板上。\n",
    "此回调也适用于LangChain上实现的任何LLM。"
   ]
  }
 ],
 "metadata": {
  "kernelspec": {
   "display_name": "Python 3 (ipykernel)",
   "language": "python",
   "name": "python3"
  },
  "language_info": {
   "codemirror_mode": {
    "name": "ipython",
    "version": 3
   },
   "file_extension": ".py",
   "mimetype": "text/x-python",
   "name": "python",
   "nbconvert_exporter": "python",
   "pygments_lexer": "ipython3",
   "version": "3.10.12"
  },
  "vscode": {
   "interpreter": {
    "hash": "c4fe2cd85a8d9e8baaec5340ce66faff1c77581a9f43e6c45e85e09b6fced008"
   }
  }
 },
 "nbformat": 4,
 "nbformat_minor": 4
}
