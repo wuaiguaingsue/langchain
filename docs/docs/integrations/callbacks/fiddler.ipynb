{
 "cells": [
  {
   "cell_type": "markdown",
   "id": "0cebf93b",
   "metadata": {},
   "source": [
    "# Fiddler\n",
    "\n",
    ">[Fiddler](https://www.fiddler.ai/) 是企业级生成式和预测系统运维的先驱，提供一个统一平台，使数据科学、MLOps、风险管理、合规、分析以及其他业务团队能够在企业规模上监控、解释、分析和改进ML部署。"
   ]
  },
  {
   "cell_type": "markdown",
   "id": "38d746c2",
   "metadata": {},
   "source": [
    "## 1. 安装和设置"
   ]
  },
  {
   "cell_type": "code",
   "execution_count": null,
   "id": "e0151955",
   "metadata": {},
   "outputs": [],
   "source": [
    "#!pip install langchain langchain-community langchain-openai fiddler-client"
   ]
  },
  {
   "cell_type": "markdown",
   "id": "5662f2e5-d510-4eef-b44b-fa929e5b4ad4",
   "metadata": {},
   "source": [
    "## 2. Fiddler 连接详情"
   ]
  },
  {
   "cell_type": "markdown",
   "id": "64fac323",
   "metadata": {},
   "source": [
    "*在您向Fiddler添加有关模型的信息之前*\n",
    "\n",
    "1. 您用于连接Fiddler的URL\n",
    "2. 您的组织ID\n",
    "3. 您的授权令牌\n",
    "\n",
    "这些信息可以在您的Fiddler环境的*设置*页面中找到。"
   ]
  },
  {
   "cell_type": "code",
   "execution_count": null,
   "id": "f6f8b73e-d350-40f0-b7a4-fb1e68a65a22",
   "metadata": {},
   "outputs": [],
   "source": [
    "URL = \"\"  # 您的Fiddler实例URL，确保包含完整URL（包括https://）。例如：https://demo.fiddler.ai\n",
    "ORG_NAME = \"\"\n",
    "AUTH_TOKEN = \"\"  # 您的Fiddler实例认证令牌\n",
    "\n",
    "# Fiddler项目和模型名称，用于模型注册\n",
    "PROJECT_NAME = \"\"\n",
    "MODEL_NAME = \"\"  # Fiddler中的模型名称"
   ]
  },
  {
   "cell_type": "markdown",
   "id": "0645805a",
   "metadata": {},
   "source": [
    "## 3. 创建一个fiddler回调处理器实例"
   ]
  },
  {
   "cell_type": "code",
   "execution_count": null,
   "id": "13de4f9a",
   "metadata": {},
   "outputs": [],
   "source": [
    "from langchain_community.callbacks.fiddler_callback import FiddlerCallbackHandler\n",
    "\n",
    "fiddler_handler = FiddlerCallbackHandler(\n",
    "    url=URL,\n",
    "    org=ORG_NAME,\n",
    "    project=PROJECT_NAME,\n",
    "    model=MODEL_NAME,\n",
    "    api_key=AUTH_TOKEN,\n",
    ")"
   ]
  },
  {
   "cell_type": "markdown",
   "id": "2276368e-f1dc-46be-afe3-18796e7a66f2",
   "metadata": {},
   "source": [
    "## 示例1：基本链"
   ]
  },
  {
   "cell_type": "code",
   "execution_count": null,
   "id": "c9de0fd1",
   "metadata": {},
   "outputs": [],
   "source": [
    "from langchain_core.output_parsers import StrOutputParser\n",
    "from langchain_openai import OpenAI\n",
    "\n",
    "# 注意：确保已在环境变量OPENAI_API_KEY中设置了openai API密钥\n",
    "llm = OpenAI(temperature=0, streaming=True, callbacks=[fiddler_handler])\n",
    "output_parser = StrOutputParser()\n",
    "\n",
    "chain = llm | output_parser\n",
    "\n",
    "# 调用链。调用将被记录到Fiddler，并自动生成指标\n",
    "chain.invoke(\"月球距离地球有多远？\")"
   ]
  },
  {
   "cell_type": "code",
   "execution_count": null,
   "id": "309bde0b-e1ce-446c-98ac-3690c26a2676",
   "metadata": {},
   "outputs": [],
   "source": [
    "# 更多调用示例\n",
    "chain.invoke(\"火星上的温度是多少？\")\n",
    "chain.invoke(\"2 + 200000等于多少？\")\n",
    "chain.invoke(\"今年哪部电影获得了奥斯卡奖？\")\n",
    "chain.invoke(\"你能给我写一首关于失眠的诗吗？\")\n",
    "chain.invoke(\"你今天感觉如何？\")\n",
    "chain.invoke(\"生命的意义是什么？\")"
   ]
  },
  {
   "cell_type": "markdown",
   "id": "48fa4782-c867-4510-9430-4ffa3de3b5eb",
   "metadata": {},
   "source": [
    "## 示例2：带有提示模板的链"
   ]
  },
  {
   "cell_type": "code",
   "execution_count": null,
   "id": "2aa2c220-8946-4844-8d3c-8f69d744d13f",
   "metadata": {},
   "outputs": [],
   "source": [
    "from langchain_core.prompts import (\n",
    "    ChatPromptTemplate,\n",
    "    FewShotChatMessagePromptTemplate,\n",
    ")\n",
    "\n",
    "examples = [\n",
    "    {\"input\": \"2+2\", \"output\": \"4\"},\n",
    "    {\"input\": \"2+3\", \"output\": \"5\"},\n",
    "]\n",
    "\n",
    "example_prompt = ChatPromptTemplate.from_messages(\n",
    "    [\n",
    "        (\"human\", \"{input}\"),\n",
    "        (\"ai\", \"{output}\"),\n",
    "    ]\n",
    ")\n",
    "\n",
    "few_shot_prompt = FewShotChatMessagePromptTemplate(\n",
    "    example_prompt=example_prompt,\n",
    "    examples=examples,\n",
    ")\n",
    "\n",
    "final_prompt = ChatPromptTemplate.from_messages(\n",
    "    [\n",
    "        (\"system\", \"你是一位神奇的数学巫师。\"),\n",
    "        few_shot_prompt,\n",
    "        (\"human\", \"{input}\"),\n",
    "    ]\n",
    ")\n",
    "\n",
    "# 注意：确保已在环境变量OPENAI_API_KEY中设置了openai API密钥\n",
    "llm = OpenAI(temperature=0, streaming=True, callbacks=[fiddler_handler])\n",
    "\n",
    "chain = final_prompt | llm\n",
    "\n",
    "# 调用链。调用将被记录到Fiddler，并自动生成指标\n",
    "chain.invoke({\"input\": \"三角形的平方是什么？\"})"
   ]
  }
 ],
 "metadata": {
  "kernelspec": {
   "display_name": "Python 3 (ipykernel)",
   "language": "python",
   "name": "python3"
  },
  "language_info": {
   "codemirror_mode": {
    "name": "ipython",
    "version": 3
   },
   "file_extension": ".py",
   "mimetype": "text/x-python",
   "name": "python",
   "nbconvert_exporter": "python",
   "pygments_lexer": "ipython3",
   "version": "3.10.12"
  }
 },
 "nbformat": 4,
 "nbformat_minor": 5
}
