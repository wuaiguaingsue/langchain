{
 "cells": [
  {
   "attachments": {},
   "cell_type": "markdown",
   "metadata": {},
   "source": [
    "# Context\n",
    "\n",
    ">[Context](https://context.ai/) 为LLM驱动的产品和功能提供用户分析。\n",
    "\n",
    "使用`Context`，您可以在30分钟内开始了解您的用户并改善他们的体验。\n"
   ]
  },
  {
   "attachments": {},
   "cell_type": "markdown",
   "metadata": {},
   "source": [
    "在本指南中，我们将向您展示如何与Context集成。"
   ]
  },
  {
   "attachments": {},
   "cell_type": "markdown",
   "metadata": {
    "tags": []
   },
   "source": [
    "## 安装和设置"
   ]
  },
  {
   "cell_type": "code",
   "execution_count": null,
   "metadata": {},
   "outputs": [],
   "source": [
    "%pip install --upgrade --quiet  langchain langchain-openai langchain-community context-python"
   ]
  },
  {
   "attachments": {},
   "cell_type": "markdown",
   "metadata": {},
   "source": [
    "### 获取API凭证\n",
    "\n",
    "获取Context API令牌的步骤：\n",
    "\n",
    "1. 进入您的Context账户中的设置页面 (https://with.context.ai/settings)。\n",
    "2. 生成一个新的API令牌。\n",
    "3. 将此令牌存储在安全的地方。"
   ]
  },
  {
   "attachments": {},
   "cell_type": "markdown",
   "metadata": {},
   "source": [
    "### 设置Context\n",
    "\n",
    "要使用`ContextCallbackHandler`，从Langchain导入处理程序并使用您的Context API令牌实例化它。\n",
    "\n",
    "在使用处理程序之前，请确保您已安装`context-python`包。"
   ]
  },
  {
   "cell_type": "code",
   "execution_count": 1,
   "metadata": {
    "execution": {
     "iopub.execute_input": "2024-03-06T19:05:26.534124Z",
     "iopub.status.busy": "2024-03-06T19:05:26.533924Z",
     "iopub.status.idle": "2024-03-06T19:05:26.798727Z",
     "shell.execute_reply": "2024-03-06T19:05:26.798135Z",
     "shell.execute_reply.started": "2024-03-06T19:05:26.534109Z"
    }
   },
   "outputs": [],
   "source": [
    "from langchain_community.callbacks.context_callback import ContextCallbackHandler"
   ]
  },
  {
   "cell_type": "code",
   "execution_count": 3,
   "metadata": {},
   "outputs": [],
   "source": [
    "import os\n",
    "\n",
    "token = os.environ[\"CONTEXT_API_TOKEN\"]\n",
    "\n",
    "context_callback = ContextCallbackHandler(token)"
   ]
  },
  {
   "attachments": {},
   "cell_type": "markdown",
   "metadata": {},
   "source": [
    "## 使用方法\n",
    "### 聊天模型中的Context回调\n",
    "\n",
    "Context回调处理程序可用于直接记录用户和AI助手之间的对话记录。"
   ]
  },
  {
   "cell_type": "code",
   "execution_count": null,
   "metadata": {},
   "outputs": [],
   "source": [
    "import os\n",
    "\n",
    "from langchain_core.messages import HumanMessage, SystemMessage\n",
    "from langchain_openai import ChatOpenAI\n",
    "\n",
    "token = os.environ[\"CONTEXT_API_TOKEN\"]\n",
    "\n",
    "chat = ChatOpenAI(\n",
    "    headers={\"user_id\": \"123\"}, temperature=0, callbacks=[ContextCallbackHandler(token)]\n",
    ")\n",
    "\n",
    "messages = [\n",
    "    SystemMessage(\n",
    "        content=\"你是一个将英语翻译成法语的助手。\"\n",
    "    ),\n",
    "    HumanMessage(content=\"I love programming.\"),\n",
    "]\n",
    "\n",
    "print(chat(messages))"
   ]
  },
  {
   "attachments": {},
   "cell_type": "markdown",
   "metadata": {},
   "source": [
    "### 链中的Context回调\n",
    "\n",
    "Context回调处理程序也可用于记录链的输入和输出。请注意，不会记录链的中间步骤——只记录初始输入和最终输出。\n",
    "\n",
    "__注意：__ 确保您将相同的context对象传递给聊天模型和链。\n",
    "\n",
    "错误做法：\n",
    "> ```python\n",
    "> chat = ChatOpenAI(temperature=0.9, callbacks=[ContextCallbackHandler(token)])\n",
    "> chain = LLMChain(llm=chat, prompt=chat_prompt_template, callbacks=[ContextCallbackHandler(token)])\n",
    "> ```\n",
    "\n",
    "正确做法：\n",
    ">```python\n",
    ">handler = ContextCallbackHandler(token)\n",
    ">chat = ChatOpenAI(temperature=0.9, callbacks=[callback])\n",
    ">chain = LLMChain(llm=chat, prompt=chat_prompt_template, callbacks=[callback])\n",
    ">```\n"
   ]
  },
  {
   "cell_type": "code",
   "execution_count": null,
   "metadata": {},
   "outputs": [],
   "source": [
    "import os\n",
    "\n",
    "from langchain.chains import LLMChain\n",
    "from langchain_core.prompts import PromptTemplate\n",
    "from langchain_core.prompts.chat import (\n",
    "    ChatPromptTemplate,\n",
    "    HumanMessagePromptTemplate,\n",
    ")\n",
    "from langchain_openai import ChatOpenAI\n",
    "\n",
    "token = os.environ[\"CONTEXT_API_TOKEN\"]\n",
    "\n",
    "human_message_prompt = HumanMessagePromptTemplate(\n",
    "    prompt=PromptTemplate(\n",
    "        template=\"为一家生产{product}的公司取一个好名字？\",\n",
    "        input_variables=[\"product\"],\n",
    "    )\n",
    ")\n",
    "chat_prompt_template = ChatPromptTemplate.from_messages([human_message_prompt])\n",
    "callback = ContextCallbackHandler(token)\n",
    "chat = ChatOpenAI(temperature=0.9, callbacks=[callback])\n",
    "chain = LLMChain(llm=chat, prompt=chat_prompt_template, callbacks=[callback])\n",
    "print(chain.run(\"五彩袜子\"))"
   ]
  }
 ],
 "metadata": {
  "kernelspec": {
   "display_name": "Python 3 (ipykernel)",
   "language": "python",
   "name": "python3"
  },
  "language_info": {
   "codemirror_mode": {
    "name": "ipython",
    "version": 3
   },
   "file_extension": ".py",
   "mimetype": "text/x-python",
   "name": "python",
   "nbconvert_exporter": "python",
   "pygments_lexer": "ipython3",
   "version": "3.10.12"
  },
  "vscode": {
   "interpreter": {
    "hash": "a53ebf4a859167383b364e7e7521d0add3c2dbbdecce4edf676e8c4634ff3fbb"
   }
  }
 },
 "nbformat": 4,
 "nbformat_minor": 4
}
