{
 "cells": [
  {
   "cell_type": "markdown",
   "id": "ef3909cf-72ca-4841-85c6-ef4e0eae3aaf",
   "metadata": {},
   "source": [
    "# SageMaker 跟踪\n",
    "\n",
    ">[Amazon SageMaker](https://aws.amazon.com/sagemaker/) 是一项全托管服务，用于快速轻松地构建、训练和部署机器学习 (ML) 模型。\n",
    "\n",
    ">[Amazon SageMaker Experiments](https://docs.aws.amazon.com/sagemaker/latest/dg/experiments.html) 是 `Amazon SageMaker` 的一项功能，允许您组织、跟踪、比较和评估 ML 实验和模型版本。\n",
    "\n",
    "本笔记本展示了如何使用 LangChain 回调将提示和其他 LLM 超参数记录并跟踪到 `SageMaker Experiments` 中。在这里，我们使用不同的场景来展示该功能：\n",
    "\n",
    "* **场景 1**：*单一 LLM* - 使用单个 LLM 模型根据给定提示生成输出的情况。\n",
    "* **场景 2**：*顺序链* - 使用两个 LLM 模型的顺序链的情况。\n",
    "* **场景 3**：*带工具的代理（思维链）* - 除了 LLM 之外，还使用多种工具（搜索和数学）的情况。\n",
    "\n",
    "\n",
    "在本笔记本中，我们将创建一个单一实验来记录每个场景中的提示。"
   ]
  },
  {
   "cell_type": "markdown",
   "id": "94c22cb4-3b1c-432b-b3be-0235eec79c5c",
   "metadata": {},
   "source": [
    "## 安装和设置"
   ]
  },
  {
   "cell_type": "code",
   "execution_count": null,
   "id": "2353436d-17fe-4f58-a2f9-c299d56393fd",
   "metadata": {
    "tags": []
   },
   "outputs": [],
   "source": [
    "%pip install --upgrade --quiet  sagemaker\n",
    "%pip install --upgrade --quiet  langchain-openai\n",
    "%pip install --upgrade --quiet  google-search-results"
   ]
  },
  {
   "cell_type": "markdown",
   "id": "65dcf62e-7a38-4119-adb9-d9e884e82499",
   "metadata": {
    "tags": []
   },
   "source": [
    "首先，设置所需的 API 密钥\n",
    "\n",
    "* OpenAI：https://platform.openai.com/account/api-keys（用于 OpenAI LLM 模型）\n",
    "* Google SERP API：https://serpapi.com/manage-api-key（用于 Google 搜索工具）"
   ]
  },
  {
   "cell_type": "code",
   "execution_count": null,
   "id": "5ec2b898-0cfc-4308-8e86-569cd7b7cf41",
   "metadata": {},
   "outputs": [],
   "source": [
    "import os\n",
    "\n",
    "## 在下面添加您的 API 密钥\n",
    "os.environ[\"OPENAI_API_KEY\"] = \"<在此添加密钥>\"\n",
    "os.environ[\"SERPAPI_API_KEY\"] = \"<在此添加密钥>\""
   ]
  },
  {
   "cell_type": "code",
   "execution_count": null,
   "id": "e79dc1c0-b9dc-4652-9059-f3a8aa97b74a",
   "metadata": {},
   "outputs": [],
   "source": [
    "from langchain_community.callbacks.sagemaker_callback import SageMakerCallbackHandler"
   ]
  },
  {
   "cell_type": "code",
   "execution_count": null,
   "id": "80968ebf-519f-46de-8703-97532ac39e3e",
   "metadata": {
    "tags": []
   },
   "outputs": [],
   "source": [
    "from langchain.agents import initialize_agent, load_tools\n",
    "from langchain.chains import LLMChain, SimpleSequentialChain\n",
    "from langchain_core.prompts import PromptTemplate\n",
    "from langchain_openai import OpenAI\n",
    "from sagemaker.analytics import ExperimentAnalytics\n",
    "from sagemaker.experiments.run import Run\n",
    "from sagemaker.session import Session"
   ]
  },
  {
   "cell_type": "markdown",
   "id": "b67d031f-a01f-4009-ad29-c80ab8ad50ea",
   "metadata": {},
   "source": [
    "## LLM 提示跟踪"
   ]
  },
  {
   "cell_type": "code",
   "execution_count": null,
   "id": "da2d70ee-173b-469d-a718-54c33d862844",
   "metadata": {
    "tags": []
   },
   "outputs": [],
   "source": [
    "# LLM 超参数\n",
    "HPARAMS = {\n",
    "    \"temperature\": 0.1,\n",
    "    \"model_name\": \"gpt-3.5-turbo-instruct\",\n",
    "}\n",
    "\n",
    "# 用于保存提示日志的存储桶（使用 `None` 表示保存在默认存储桶中，或者更改它）\n",
    "BUCKET_NAME = None\n",
    "\n",
    "# 实验名称\n",
    "EXPERIMENT_NAME = \"langchain-sagemaker-tracker\"\n",
    "\n",
    "# 使用指定存储桶创建 SageMaker 会话\n",
    "session = Session(default_bucket=BUCKET_NAME)"
   ]
  },
  {
   "cell_type": "markdown",
   "id": "7239a39a-08d8-43cb-8922-81abdd5d9ebf",
   "metadata": {},
   "source": [
    "### 场景 1 - LLM"
   ]
  },
  {
   "cell_type": "code",
   "execution_count": null,
   "id": "abc00335-50c8-4119-adb8-4c4ab8522e23",
   "metadata": {
    "tags": []
   },
   "outputs": [],
   "source": [
    "RUN_NAME = \"run-scenario-1\"\n",
    "PROMPT_TEMPLATE = \"给我讲个关于{topic}的笑话\"\n",
    "INPUT_VARIABLES = {\"topic\": \"鱼\"}"
   ]
  },
  {
   "cell_type": "code",
   "execution_count": null,
   "id": "4a3a3cbe-db85-4255-8d8b-eaafdca8c6e2",
   "metadata": {},
   "outputs": [],
   "source": [
    "with Run(\n",
    "    experiment_name=EXPERIMENT_NAME, run_name=RUN_NAME, sagemaker_session=session\n",
    ") as run:\n",
    "    # 创建 SageMaker 回调\n",
    "    sagemaker_callback = SageMakerCallbackHandler(run)\n",
    "\n",
    "    # 定义带回调的 LLM 模型\n",
    "    llm = OpenAI(callbacks=[sagemaker_callback], **HPARAMS)\n",
    "\n",
    "    # 创建提示模板\n",
    "    prompt = PromptTemplate.from_template(template=PROMPT_TEMPLATE)\n",
    "\n",
    "    # 创建 LLM 链\n",
    "    chain = LLMChain(llm=llm, prompt=prompt, callbacks=[sagemaker_callback])\n",
    "\n",
    "    # 运行链\n",
    "    chain.run(**INPUT_VARIABLES)\n",
    "\n",
    "    # 重置回调\n",
    "    sagemaker_callback.flush_tracker()"
   ]
  },
  {
   "cell_type": "markdown",
   "id": "7dc69934-9f42-40b7-9931-36a3371a38da",
   "metadata": {},
   "source": [
    "### 场景 2 - 顺序链"
   ]
  },
  {
   "cell_type": "code",
   "execution_count": null,
   "id": "50b75ef9-9825-4ccc-8414-4cd7525a1b68",
   "metadata": {
    "tags": []
   },
   "outputs": [],
   "source": [
    "RUN_NAME = \"run-scenario-2\"\n",
    "\n",
    "PROMPT_TEMPLATE_1 = \"\"\"你是一位剧作家。给定剧本标题，你的任务是为该标题写一个剧情概要。\n",
    "标题：{title}\n",
    "剧作家：这是上述剧本的概要：\"\"\"\n",
    "PROMPT_TEMPLATE_2 = \"\"\"你是纽约时报的戏剧评论家。给定剧本概要，你的任务是为该剧本写一篇评论。\n",
    "剧本概要：{synopsis}\n",
    "纽约时报戏剧评论家对上述剧本的评论：\"\"\"\n",
    "\n",
    "INPUT_VARIABLES = {\n",
    "    \"input\": \"关于推动游戏设计边界的优秀电子游戏的纪录片\"\n",
    "}"
   ]
  },
  {
   "cell_type": "code",
   "execution_count": null,
   "id": "fb7fff5f-e89f-40e2-96b4-3641a0b6e9b4",
   "metadata": {},
   "outputs": [],
   "source": [
    "with Run(\n",
    "    experiment_name=EXPERIMENT_NAME, run_name=RUN_NAME, sagemaker_session=session\n",
    ") as run:\n",
    "    # 创建 SageMaker 回调\n",
    "    sagemaker_callback = SageMakerCallbackHandler(run)\n",
    "\n",
    "    # 为链创建提示模板\n",
    "    prompt_template1 = PromptTemplate.from_template(template=PROMPT_TEMPLATE_1)\n",
    "    prompt_template2 = PromptTemplate.from_template(template=PROMPT_TEMPLATE_2)\n",
    "\n",
    "    # 定义带回调的 LLM 模型\n",
    "    llm = OpenAI(callbacks=[sagemaker_callback], **HPARAMS)\n",
    "\n",
    "    # 创建链1\n",
    "    chain1 = LLMChain(llm=llm, prompt=prompt_template1, callbacks=[sagemaker_callback])\n",
    "\n",
    "    # 创建链2\n",
    "    chain2 = LLMChain(llm=llm, prompt=prompt_template2, callbacks=[sagemaker_callback])\n",
    "\n",
    "    # 创建顺序链\n",
    "    overall_chain = SimpleSequentialChain(\n",
    "        chains=[chain1, chain2], callbacks=[sagemaker_callback]\n",
    "    )\n",
    "\n",
    "    # 运行整体顺序链\n",
    "    overall_chain.run(**INPUT_VARIABLES)\n",
    "\n",
    "    # 重置回调\n",
    "    sagemaker_callback.flush_tracker()"
   ]
  },
  {
   "cell_type": "markdown",
   "id": "6b82bd0e-c626-4797-bb06-c1983f176315",
   "metadata": {},
   "source": [
    "### 场景 3 - 带工具的代理"
   ]
  },
  {
   "cell_type": "code",
   "execution_count": null,
   "id": "b5066f03-49dc-4868-be8e-d21ce22063fe",
   "metadata": {
    "tags": []
   },
   "outputs": [],
   "source": [
    "RUN_NAME = \"run-scenario-3\"\n",
    "PROMPT_TEMPLATE = \"世界上最长寿的人是谁？他们当前的年龄的1.51次方是多少？\""
   ]
  },
  {
   "cell_type": "code",
   "execution_count": null,
   "id": "98385c42-9e44-4b03-b76d-007cb4797864",
   "metadata": {
    "tags": []
   },
   "outputs": [],
   "source": [
    "with Run(\n",
    "    experiment_name=EXPERIMENT_NAME, run_name=RUN_NAME, sagemaker_session=session\n",
    ") as run:\n",
    "    # 创建 SageMaker 回调\n",
    "    sagemaker_callback = SageMakerCallbackHandler(run)\n",
    "\n",
    "    # 定义带回调的 LLM 模型\n",
    "    llm = OpenAI(callbacks=[sagemaker_callback], **HPARAMS)\n",
    "\n",
    "    # 定义工具\n",
    "    tools = load_tools([\"serpapi\", \"llm-math\"], llm=llm, callbacks=[sagemaker_callback])\n",
    "\n",
    "    # 使用所有工具初始化代理\n",
    "    agent = initialize_agent(\n",
    "        tools, llm, agent=\"zero-shot-react-description\", callbacks=[sagemaker_callback]\n",
    "    )\n",
    "\n",
    "    # 运行代理\n",
    "    agent.run(input=PROMPT_TEMPLATE)\n",
    "\n",
    "    # 重置回调\n",
    "    sagemaker_callback.flush_tracker()"
   ]
  },
  {
   "cell_type": "markdown",
   "id": "c306a1c9-99f8-476d-96db-347746f5cfe0",
   "metadata": {
    "tags": []
   },
   "source": [
    "## 加载日志数据\n",
    "\n",
    "一旦提示被记录下来，我们可以轻松地加载它们并将其转换为Pandas DataFrame，如下所示。"
   ]
  },
  {
   "cell_type": "code",
   "execution_count": null,
   "id": "ec7b4af2-e01d-4f6c-9de5-70d2b4acb9e6",
   "metadata": {
    "tags": []
   },
   "outputs": [],
   "source": [
    "# 加载\n",
    "logs = ExperimentAnalytics(experiment_name=EXPERIMENT_NAME)\n",
    "\n",
    "# 转换为pandas数据框\n",
    "df = logs.dataframe(force_refresh=True)\n",
    "\n",
    "print(df.shape)\n",
    "df.head()"
   ]
  },
  {
   "cell_type": "markdown",
   "id": "29991c75-f9cf-4c36-abfd-903c09fb170d",
   "metadata": {},
   "source": [
    "如上所示，实验中有三个运行（行），对应于每个场景。每次运行都会以JSON格式记录提示和相关的LLM设置/超参数，并保存在s3存储桶中。请随时从每个JSON路径加载并探索日志数据。"
   ]
  },
  {
   "cell_type": "code",
   "execution_count": null,
   "id": "61a695d6-0aef-4284-9e12-eea8bc143dbd",
   "metadata": {},
   "outputs": [],
   "source": []
  }
 ],
 "metadata": {
  "availableInstances": [
   {
    "_defaultOrder": 0,
    "_isFastLaunch": true,
    "category": "General purpose",
    "gpuNum": 0,
    "hideHardwareSpecs": false,
    "memoryGiB": 4,
    "name": "ml.t3.medium",
    "vcpuNum": 2
   },
   {
    "_defaultOrder": 1,
    "_isFastLaunch": false,
    "category": "General purpose",
    "gpuNum": 0,
    "hideHardwareSpecs": false,
    "memoryGiB": 8,
    "name": "ml.t3.large",
    "vcpuNum": 2
   },
   {
    "_defaultOrder": 2,
    "_isFastLaunch": false,
    "category": "General purpose",
    "gpuNum": 0,
    "hideHardwareSpecs": false,
    "memoryGiB": 16,
    "name": "ml.t3.xlarge",
    "vcpuNum": 4
   },
   {
    "_defaultOrder": 3,
    "_isFastLaunch": false,
    "category": "General purpose",
    "gpuNum": 0,
    "hideHardwareSpecs": false,
    "memoryGiB": 32,
    "name": "ml.t3.2xlarge",
    "vcpuNum": 8
   },
   {
    "_defaultOrder": 4,
    "_isFastLaunch": true,
    "category": "General purpose",
    "gpuNum": 0,
    "hideHardwareSpecs": false,
    "memoryGiB": 8,
    "name": "ml.m5.large",
    "vcpuNum": 2
   },
   {
    "_defaultOrder": 5,
    "_isFastLaunch": false,
    "category": "General purpose",
    "gpuNum": 0,
    "hideHardwareSpecs": false,
    "memoryGiB": 16,
    "name": "ml.m5.xlarge",
    "vcpuNum": 4
   },
   {
    "_defaultOrder": 6,
    "_isFastLaunch": false,
    "category": "General purpose",
    "gpuNum": 0,
    "hideHardwareSpecs": false,
    "memoryGiB": 32,
    "name": "ml.m5.2xlarge",
    "vcpuNum": 8
   },
   {
    "_defaultOrder": 7,
    "_isFastLaunch": false,
    "category": "General purpose",
    "gpuNum": 0,
    "hideHardwareSpecs": false,
    "memoryGiB": 64,
    "name": "ml.m5.4xlarge",
    "vcpuNum": 16
   },
   {
    "_defaultOrder": 8,
    "_isFastLaunch": false,
    "category": "General purpose",
    "gpuNum": 0,
    "hideHardwareSpecs": false,
    "memoryGiB": 128,
    "name": "ml.m5.8xlarge",
    "vcpuNum": 32
   },
   {
    "_defaultOrder": 9,
    "_isFastLaunch": false,
    "category": "General purpose",
    "gpuNum": 0,
    "hideHardwareSpecs": false,
    "memoryGiB": 192,
    "name": "ml.m5.12xlarge",
    "vcpuNum": 48
   },
   {
    "_defaultOrder": 10,
    "_isFastLaunch": false,
    "category": "General purpose",
    "gpuNum": 0,
    "hideHardwareSpecs": false,
    "memoryGiB": 256,
    "name": "ml.m5.16xlarge",
    "vcpuNum": 64
   },
   {
    "_defaultOrder": 11,
    "_isFastLaunch": false,
    "category": "General purpose",
    "gpuNum": 0,
    "hideHardwareSpecs": false,
    "memoryGiB": 384,
    "name": "ml.m5.24xlarge",
    "vcpuNum": 96
   },
   {
    "_defaultOrder": 12,
    "_isFastLaunch": false,
    "category": "General purpose",
    "gpuNum": 0,
    "hideHardwareSpecs": false,
    "memoryGiB": 8,
    "name": "ml.m5d.large",
    "vcpuNum": 2
   },
   {
    "_defaultOrder": 13,
    "_isFastLaunch": false,
    "category": "General purpose",
    "gpuNum": 0,
    "hideHardwareSpecs": false,
    "memoryGiB": 16,
    "name": "ml.m5d.xlarge",
    "vcpuNum": 4
   },
   {
    "_defaultOrder": 14,
    "_isFastLaunch": false,
    "category": "General purpose",
    "gpuNum": 0,
    "hideHardwareSpecs": false,
    "memoryGiB": 32,
    "name": "ml.m5d.2xlarge",
    "vcpuNum": 8
   },
   {
    "_defaultOrder": 15,
    "_isFastLaunch": false,
    "category": "General purpose",
    "gpuNum": 0,
    "hideHardwareSpecs": false,
    "memoryGiB": 64,
    "name": "ml.m5d.4xlarge",
    "vcpuNum": 16
   },
   {
    "_defaultOrder": 16,
    "_isFastLaunch": false,
    "category": "General purpose",
    "gpuNum": 0,
    "hideHardwareSpecs": false,
    "memoryGiB": 128,
    "name": "ml.m5d.8xlarge",
    "vcpuNum": 32
   },
   {
    "_defaultOrder": 17,
    "_isFastLaunch": false,
    "category": "General purpose",
    "gpuNum": 0,
    "hideHardwareSpecs": false,
    "memoryGiB": 192,
    "name": "ml.m5d.12xlarge",
    "vcpuNum": 48
   },
   {
    "_defaultOrder": 18,
    "_isFastLaunch": false,
    "category": "General purpose",
    "gpuNum": 0,
    "hideHardwareSpecs": false,
    "memoryGiB": 256,
    "name": "ml.m5d.16xlarge",
    "vcpuNum": 64
   },
   {
    "_defaultOrder": 19,
    "_isFastLaunch": false,
    "category": "General purpose",
    "gpuNum": 0,
    "hideHardwareSpecs": false,
    "memoryGiB": 384,
    "name": "ml.m5d.24xlarge",
    "vcpuNum": 96
   },
   {
    "_defaultOrder": 20,
    "_isFastLaunch": false,
    "category": "General purpose",
    "gpuNum": 0,
    "hideHardwareSpecs": true,
    "memoryGiB": 0,
    "name": "ml.geospatial.interactive",
    "supportedImageNames": [
     "sagemaker-geospatial-v1-0"
    ],
    "vcpuNum": 0
   },
   {
    "_defaultOrder": 21,
    "_isFastLaunch": true,
    "category": "Compute optimized",
    "gpuNum": 0,
    "hideHardwareSpecs": false,
    "memoryGiB": 4,
    "name": "ml.c5.large",
    "vcpuNum": 2
   },
   {
    "_defaultOrder": 22,
    "_isFastLaunch": false,
    "category": "Compute optimized",
    "gpuNum": 0,
    "hideHardwareSpecs": false,
    "memoryGiB": 8,
    "name": "ml.c5.xlarge",
    "vcpuNum": 4
   },
   {
    "_defaultOrder": 23,
    "_isFastLaunch": false,
    "category": "Compute optimized",
    "gpuNum": 0,
    "hideHardwareSpecs": false,
    "memoryGiB": 16,
    "name": "ml.c5.2xlarge",
    "vcpuNum": 8
   },
   {
    "_defaultOrder": 24,
    "_isFastLaunch": false,
    "category": "Compute optimized",
    "gpuNum": 0,
    "hideHardwareSpecs": false,
    "memoryGiB": 32,
    "name": "ml.c5.4xlarge",
    "vcpuNum": 16
   },
   {
    "_defaultOrder": 25,
    "_isFastLaunch": false,
    "category": "Compute optimized",
    "gpuNum": 0,
    "hideHardwareSpecs": false,
    "memoryGiB": 72,
    "name": "ml.c5.9xlarge",
    "vcpuNum": 36
   },
   {
    "_defaultOrder": 26,
    "_isFastLaunch": false,
    "category": "Compute optimized",
    "gpuNum": 0,
    "hideHardwareSpecs": false,
    "memoryGiB": 96,
    "name": "ml.c5.12xlarge",
    "vcpuNum": 48
   },
   {
    "_defaultOrder": 27,
    "_isFastLaunch": false,
    "category": "Compute optimized",
    "gpuNum": 0,
    "hideHardwareSpecs": false,
    "memoryGiB": 144,
    "name": "ml.c5.18xlarge",
    "vcpuNum": 72
   },
   {
    "_defaultOrder": 28,
    "_isFastLaunch": false,
    "category": "Compute optimized",
    "gpuNum": 0,
    "hideHardwareSpecs": false,
    "memoryGiB": 192,
    "name": "ml.c5.24xlarge",
    "vcpuNum": 96
   },
   {
    "_defaultOrder": 29,
    "_isFastLaunch": true,
    "category": "Accelerated computing",
    "gpuNum": 1,
    "hideHardwareSpecs": false,
    "memoryGiB": 16,
    "name": "ml.g4dn.xlarge",
    "vcpuNum": 4
   },
   {
    "_defaultOrder": 30,
    "_isFastLaunch": false,
    "category": "Accelerated computing",
    "gpuNum": 1,
    "hideHardwareSpecs": false,
    "memoryGiB": 32,
    "name": "ml.g4dn.2xlarge",
    "vcpuNum": 8
   },
   {
    "_defaultOrder": 31,
    "_isFastLaunch": false,
    "category": "Accelerated computing",
    "gpuNum": 1,
    "hideHardwareSpecs": false,
    "memoryGiB": 64,
    "name": "ml.g4dn.4xlarge",
    "vcpuNum": 16
   },
   {
    "_defaultOrder": 32,
    "_isFastLaunch": false,
    "category": "Accelerated computing",
    "gpuNum": 1,
    "hideHardwareSpecs": false,
    "memoryGiB": 128,
    "name": "ml.g4dn.8xlarge",
    "vcpuNum": 32
   },
   {
    "_defaultOrder": 33,
    "_isFastLaunch": false,
    "category": "Accelerated computing",
    "gpuNum": 4,
    "hideHardwareSpecs": false,
    "memoryGiB": 192,
    "name": "ml.g4dn.12xlarge",
    "vcpuNum": 48
   },
   {
    "_defaultOrder": 34,
    "_isFastLaunch": false,
    "category": "Accelerated computing",
    "gpuNum": 1,
    "hideHardwareSpecs": false,
    "memoryGiB": 256,
    "name": "ml.g4dn.16xlarge",
    "vcpuNum": 64
   },
   {
    "_defaultOrder": 35,
    "_isFastLaunch": false,
    "category": "Accelerated computing",
    "gpuNum": 1,
    "hideHardwareSpecs": false,
    "memoryGiB": 61,
    "name": "ml.p3.2xlarge",
    "vcpuNum": 8
   },
   {
    "_defaultOrder": 36,
    "_isFastLaunch": false,
    "category": "Accelerated computing",
    "gpuNum": 4,
    "hideHardwareSpecs": false,
    "memoryGiB": 244,
    "name": "ml.p3.8xlarge",
    "vcpuNum": 32
   },
   {
    "_defaultOrder": 37,
    "_isFastLaunch": false,
    "category": "Accelerated computing",
    "gpuNum": 8,
    "hideHardwareSpecs": false,
    "memoryGiB": 488,
    "name": "ml.p3.16xlarge",
    "vcpuNum": 64
   },
   {
    "_defaultOrder": 38,
    "_isFastLaunch": false,
    "category": "Accelerated computing",
    "gpuNum": 8,
    "hideHardwareSpecs": false,
    "memoryGiB": 768,
    "name": "ml.p3dn.24xlarge",
    "vcpuNum": 96
   },
   {
    "_defaultOrder": 39,
    "_isFastLaunch": false,
    "category": "Memory Optimized",
    "gpuNum": 0,
    "hideHardwareSpecs": false,
    "memoryGiB": 16,
    "name": "ml.r5.large",
    "vcpuNum": 2
   },
   {
    "_defaultOrder": 40,
    "_isFastLaunch": false,
    "category": "Memory Optimized",
    "gpuNum": 0,
    "hideHardwareSpecs": false,
    "memoryGiB": 32,
    "name": "ml.r5.xlarge",
    "vcpuNum": 4
   },
   {
    "_defaultOrder": 41,
    "_isFastLaunch": false,
    "category": "Memory Optimized",
    "gpuNum": 0,
    "hideHardwareSpecs": false,
    "memoryGiB": 64,
    "name": "ml.r5.2xlarge",
    "vcpuNum": 8
   },
   {
    "_defaultOrder": 42,
    "_isFastLaunch": false,
    "category": "Memory Optimized",
    "gpuNum": 0,
    "hideHardwareSpecs": false,
    "memoryGiB": 128,
    "name": "ml.r5.4xlarge",
    "vcpuNum": 16
   },
   {
    "_defaultOrder": 43,
    "_isFastLaunch": false,
    "category": "Memory Optimized",
    "gpuNum": 0,
    "hideHardwareSpecs": false,
    "memoryGiB": 256,
    "name": "ml.r5.8xlarge",
    "vcpuNum": 32
   },
   {
    "_defaultOrder": 44,
    "_isFastLaunch": false,
    "category": "Memory Optimized",
    "gpuNum": 0,
    "hideHardwareSpecs": false,
    "memoryGiB": 384,
    "name": "ml.r5.12xlarge",
    "vcpuNum": 48
   },
   {
    "_defaultOrder": 45,
    "_isFastLaunch": false,
    "category": "Memory Optimized",
    "gpuNum": 0,
    "hideHardwareSpecs": false,
    "memoryGiB": 512,
    "name": "ml.r5.16xlarge",
    "vcpuNum": 64
   },
   {
    "_defaultOrder": 46,
    "_isFastLaunch": false,
    "category": "Memory Optimized",
    "gpuNum": 0,
    "hideHardwareSpecs": false,
    "memoryGiB": 768,
    "name": "ml.r5.24xlarge",
    "vcpuNum": 96
   },
   {
    "_defaultOrder": 47,
    "_isFastLaunch": false,
    "category": "Accelerated computing",
    "gpuNum": 1,
    "hideHardwareSpecs": false,
    "memoryGiB": 16,
    "name": "ml.g5.xlarge",
    "vcpuNum": 4
   },
   {
    "_defaultOrder": 48,
    "_isFastLaunch": false,
    "category": "Accelerated computing",
    "gpuNum": 1,
    "hideHardwareSpecs": false,
    "memoryGiB": 32,
    "name": "ml.g5.2xlarge",
    "vcpuNum": 8
   },
   {
    "_defaultOrder": 49,
    "_isFastLaunch": false,
    "category": "Accelerated computing",
    "gpuNum": 1,
    "hideHardwareSpecs": false,
    "memoryGiB": 64,
    "name": "ml.g5.4xlarge",
    "vcpuNum": 16
   },
   {
    "_defaultOrder": 50,
    "_isFastLaunch": false,
    "category": "Accelerated computing",
    "gpuNum": 1,
    "hideHardwareSpecs": false,
    "memoryGiB": 128,
    "name": "ml.g5.8xlarge",
    "vcpuNum": 32
   },
   {
    "_defaultOrder": 51,
    "_isFastLaunch": false,
    "category": "Accelerated computing",
    "gpuNum": 1,
    "hideHardwareSpecs": false,
    "memoryGiB": 256,
    "name": "ml.g5.16xlarge",
    "vcpuNum": 64
   },
   {
    "_defaultOrder": 52,
    "_isFastLaunch": false,
    "category": "Accelerated computing",
    "gpuNum": 4,
    "hideHardwareSpecs": false,
    "memoryGiB": 192,
    "name": "ml.g5.12xlarge",
    "vcpuNum": 48
   },
   {
    "_defaultOrder": 53,
    "_isFastLaunch": false,
    "category": "Accelerated computing",
    "gpuNum": 4,
    "hideHardwareSpecs": false,
    "memoryGiB": 384,
    "name": "ml.g5.24xlarge",
    "vcpuNum": 96
   },
   {
    "_defaultOrder": 54,
    "_isFastLaunch": false,
    "category": "Accelerated computing",
    "gpuNum": 8,
    "hideHardwareSpecs": false,
    "memoryGiB": 768,
    "name": "ml.g5.48xlarge",
    "vcpuNum": 192
   }
  ],
  "instance_type": "ml.t3.large",
  "kernelspec": {
   "display_name": "Python 3 (ipykernel)",
   "language": "python",
   "name": "python3"
  },
  "language_info": {
   "codemirror_mode": {
    "name": "ipython",
    "version": 3
   },
   "file_extension": ".py",
   "mimetype": "text/x-python",
   "name": "python",
   "nbconvert_exporter": "python",
   "pygments_lexer": "ipython3",
   "version": "3.10.12"
  }
 },
 "nbformat": 4,
 "nbformat_minor": 5
}
