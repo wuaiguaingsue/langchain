{
 "cells": [
  {
   "cell_type": "markdown",
   "metadata": {},
   "source": [
    "# Upstash 限速回调\n",
    "\n",
    "在本指南中，我们将介绍如何使用 `UpstashRatelimitHandler` 基于请求次数或令牌数量添加速率限制。此处理程序使用 [Upstash 的 ratelimit 库](https://github.com/upstash/ratelimit-py/)，该库利用 [Upstash Redis](https://upstash.com/docs/redis/overall/getstarted)。\n",
    "\n",
    "Upstash Ratelimit 的工作原理是每次调用 `limit` 方法时向 Upstash Redis 发送 HTTP 请求。用户剩余的令牌/请求将被检查和更新。根据剩余的令牌，我们可以停止执行昂贵的操作，如调用 LLM 或查询向量存储：\n",
    "\n",
    "```py\n",
    "response = ratelimit.limit()\n",
    "if response.allowed:\n",
    "    execute_costly_operation()\n",
    "```\n",
    "\n",
    "`UpstashRatelimitHandler` 允许您在几分钟内将速率限制逻辑整合到您的链中。\n",
    "\n",
    "首先，您需要访问 [Upstash 控制台](https://console.upstash.com/login) 并创建一个 Redis 数据库（[参见我们的文档](https://upstash.com/docs/redis/overall/getstarted)）。创建数据库后，您需要设置以下环境变量：\n",
    "\n",
    "```\n",
    "UPSTASH_REDIS_REST_URL=\"****\"\n",
    "UPSTASH_REDIS_REST_TOKEN=\"****\"\n",
    "```\n",
    "\n",
    "接下来，您需要使用以下命令安装 Upstash Ratelimit 和 Redis 库：\n",
    "\n",
    "```\n",
    "pip install upstash-ratelimit upstash-redis\n",
    "```\n",
    "\n",
    "现在，您已准备好为您的链添加速率限制！\n",
    "\n",
    "## 按请求限速\n",
    "\n",
    "假设我们希望允许用户每分钟调用我们的链 10 次。实现这一点非常简单："
   ]
  },
  {
   "cell_type": "code",
   "execution_count": null,
   "metadata": {},
   "outputs": [
    {
     "name": "stderr",
     "output_type": "stream",
     "text": [
      "Error in UpstashRatelimitHandler.on_chain_start callback: UpstashRatelimitError('Request limit reached!')\n"
     ]
    },
    {
     "name": "stdout",
     "output_type": "stream",
     "text": [
      "Handling ratelimit. <class 'langchain_community.callbacks.upstash_ratelimit_callback.UpstashRatelimitError'>\n"
     ]
    }
   ],
   "source": [
    "# 设置环境变量\n",
    "import os\n",
    "\n",
    "os.environ[\"UPSTASH_REDIS_REST_URL\"] = \"****\"\n",
    "os.environ[\"UPSTASH_REDIS_REST_TOKEN\"] = \"****\"\n",
    "\n",
    "from langchain_community.callbacks import UpstashRatelimitError, UpstashRatelimitHandler\n",
    "from langchain_core.runnables import RunnableLambda\n",
    "from upstash_ratelimit import FixedWindow, Ratelimit\n",
    "from upstash_redis import Redis\n",
    "\n",
    "# 创建速率限制\n",
    "ratelimit = Ratelimit(\n",
    "    redis=Redis.from_env(),\n",
    "    # 每个窗口 10 个请求，窗口大小为 60 秒：\n",
    "    limiter=FixedWindow(max_requests=10, window=60),\n",
    ")\n",
    "\n",
    "# 创建处理程序\n",
    "user_id = \"user_id\"  # 应该是一个获取用户 ID 的方法\n",
    "handler = UpstashRatelimitHandler(identifier=user_id, request_ratelimit=ratelimit)\n",
    "\n",
    "# 创建模拟链\n",
    "chain = RunnableLambda(str)\n",
    "\n",
    "# 调用链并使用处理程序：\n",
    "try:\n",
    "    result = chain.invoke(\"你好，世界！\", config={\"callbacks\": [handler]})\n",
    "except UpstashRatelimitError:\n",
    "    print(\"处理速率限制。\", UpstashRatelimitError)"
   ]
  },
  {
   "cell_type": "markdown",
   "metadata": {},
   "source": [
    "请注意，我们将处理程序传递给 `invoke` 方法，而不是在定义链时传递处理程序。\n",
    "\n",
    "关于除 `FixedWindow` 之外的速率限制算法，请参阅 [upstash-ratelimit 文档](https://github.com/upstash/ratelimit-py?tab=readme-ov-file#ratelimiting-algorithms)。\n",
    "\n",
    "在执行管道中的任何步骤之前，速率限制将检查用户是否已超过请求限制。如果是，将引发 `UpstashRatelimitError`。\n",
    "\n",
    "## 按令牌限速\n",
    "\n",
    "另一个选择是基于以下因素限制链调用：\n",
    "1. 提示中的令牌数量\n",
    "2. 提示和 LLM 完成中的令牌数量\n",
    "\n",
    "这仅在您的链中有 LLM 时有效。另一个要求是您使用的 LLM 应在其 `LLMOutput` 中返回令牌使用情况。\n",
    "\n",
    "### 工作原理\n",
    "\n",
    "处理程序将在调用 LLM 之前获取剩余令牌。如果剩余令牌大于 0，将调用 LLM。否则将引发 `UpstashRatelimitError`。\n",
    "\n",
    "调用 LLM 后，令牌使用信息将用于从用户的剩余令牌中减去。在链的这个阶段不会引发错误。\n",
    "\n",
    "### 配置\n",
    "\n",
    "对于第一种配置，只需像这样初始化处理程序："
   ]
  },
  {
   "cell_type": "code",
   "execution_count": null,
   "metadata": {},
   "outputs": [],
   "source": [
    "ratelimit = Ratelimit(\n",
    "    redis=Redis.from_env(),\n",
    "    # 每个窗口 1000 个令牌，窗口大小为 60 秒：\n",
    "    limiter=FixedWindow(max_requests=1000, window=60),\n",
    ")\n",
    "\n",
    "handler = UpstashRatelimitHandler(identifier=user_id, token_ratelimit=ratelimit)"
   ]
  },
  {
   "cell_type": "markdown",
   "metadata": {},
   "source": [
    "对于第二种配置，以下是如何初始化处理程序："
   ]
  },
  {
   "cell_type": "code",
   "execution_count": null,
   "metadata": {},
   "outputs": [],
   "source": [
    "ratelimit = Ratelimit(\n",
    "    redis=Redis.from_env(),\n",
    "    # 每个窗口 1000 个令牌，窗口大小为 60 秒：\n",
    "    limiter=FixedWindow(max_requests=1000, window=60),\n",
    ")\n",
    "\n",
    "handler = UpstashRatelimitHandler(\n",
    "    identifier=user_id,\n",
    "    token_ratelimit=ratelimit,\n",
    "    include_output_tokens=True,  # 设置为 True\n",
    ")"
   ]
  },
  {
   "cell_type": "markdown",
   "metadata": {},
   "source": [
    "您还可以同时基于请求和令牌进行速率限制，只需同时传递 `request_ratelimit` 和 `token_ratelimit` 参数。\n",
    "\n",
    "以下是使用 LLM 的链的示例："
   ]
  },
  {
   "cell_type": "code",
   "execution_count": null,
   "metadata": {},
   "outputs": [
    {
     "name": "stderr",
     "output_type": "stream",
     "text": [
      "Error in UpstashRatelimitHandler.on_llm_start callback: UpstashRatelimitError('Token limit reached!')\n"
     ]
    },
    {
     "name": "stdout",
     "output_type": "stream",
     "text": [
      "Handling ratelimit. <class 'langchain_community.callbacks.upstash_ratelimit_callback.UpstashRatelimitError'>\n"
     ]
    }
   ],
   "source": [
    "# 设置环境变量\n",
    "import os\n",
    "\n",
    "os.environ[\"UPSTASH_REDIS_REST_URL\"] = \"****\"\n",
    "os.environ[\"UPSTASH_REDIS_REST_TOKEN\"] = \"****\"\n",
    "os.environ[\"OPENAI_API_KEY\"] = \"****\"\n",
    "\n",
    "from langchain_community.callbacks import UpstashRatelimitError, UpstashRatelimitHandler\n",
    "from langchain_core.runnables import RunnableLambda\n",
    "from langchain_openai import ChatOpenAI\n",
    "from upstash_ratelimit import FixedWindow, Ratelimit\n",
    "from upstash_redis import Redis\n",
    "\n",
    "# 创建速率限制\n",
    "ratelimit = Ratelimit(\n",
    "    redis=Redis.from_env(),\n",
    "    # 每个窗口 500 个令牌，窗口大小为 60 秒：\n",
    "    limiter=FixedWindow(max_requests=500, window=60),\n",
    ")\n",
    "\n",
    "# 创建处理程序\n",
    "user_id = \"user_id\"  # 应该是一个获取用户 ID 的方法\n",
    "handler = UpstashRatelimitHandler(identifier=user_id, token_ratelimit=ratelimit)\n",
    "\n",
    "# 创建模拟链\n",
    "as_str = RunnableLambda(str)\n",
    "model = ChatOpenAI()\n",
    "\n",
    "chain = as_str | model\n",
    "\n",
    "# 调用链并使用处理程序：\n",
    "try:\n",
    "    result = chain.invoke(\"你好，世界！\", config={\"callbacks\": [handler]})\n",
    "except UpstashRatelimitError:\n",
    "    print(\"处理速率限制。\", UpstashRatelimitError)"
   ]
  }
 ],
 "metadata": {
  "kernelspec": {
   "display_name": "lc39",
   "language": "python",
   "name": "python3"
  },
  "language_info": {
   "name": "python",
   "version": "3.9.19"
  }
 },
 "nbformat": 4,
 "nbformat_minor": 2
}
