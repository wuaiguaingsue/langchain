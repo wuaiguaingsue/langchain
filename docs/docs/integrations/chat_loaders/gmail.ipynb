{
 "cells": [
  {
   "cell_type": "markdown",
   "id": "b3d1705d",
   "metadata": {},
   "source": [
    "# GMail\n",
    "\n",
    "本加载器介绍如何从GMail加载数据。从GMail加载数据有很多方法。该加载器目前在如何实现这一点上相当有主见。它的工作方式是首先查找您发送的所有消息。然后，它查找您回复之前电子邮件的消息。接着，它获取那封之前的电子邮件，并创建一个训练示例，包括那封电子邮件，后面跟着您的电子邮件。\n",
    "\n",
    "请注意，这里有明显的限制。例如，创建的所有示例只查看前一封电子邮件作为上下文。\n",
    "\n",
    "使用步骤：\n",
    "\n",
    "- 设置Google开发者账户：前往Google开发者控制台，创建一个项目，并为该项目启用Gmail API。这将为您提供以后需要的credentials.json文件。\n",
    "\n",
    "- 安装Google客户端库：运行以下命令安装Google客户端库："
   ]
  },
  {
   "cell_type": "code",
   "execution_count": null,
   "id": "84578039",
   "metadata": {},
   "outputs": [],
   "source": [
    "%pip install --upgrade --quiet  google-auth google-auth-oauthlib google-auth-httplib2 google-api-python-client"
   ]
  },
  {
   "cell_type": "code",
   "execution_count": 6,
   "id": "be18f796",
   "metadata": {},
   "outputs": [],
   "source": [
    "import os.path\n",
    "\n",
    "from google.auth.transport.requests import Request\n",
    "from google.oauth2.credentials import Credentials\n",
    "from google_auth_oauthlib.flow import InstalledAppFlow\n",
    "\n",
    "SCOPES = [\"https://www.googleapis.com/auth/gmail.readonly\"]\n",
    "\n",
    "\n",
    "creds = None\n",
    "# The file token.json stores the user's access and refresh tokens, and is\n",
    "# created automatically when the authorization flow completes for the first\n",
    "# time.\n",
    "if os.path.exists(\"email_token.json\"):\n",
    "    creds = Credentials.from_authorized_user_file(\"email_token.json\", SCOPES)\n",
    "# If there are no (valid) credentials available, let the user log in.\n",
    "if not creds or not creds.valid:\n",
    "    if creds and creds.expired and creds.refresh_token:\n",
    "        creds.refresh(Request())\n",
    "    else:\n",
    "        flow = InstalledAppFlow.from_client_secrets_file(\n",
    "            # your creds file here. Please create json file as here https://cloud.google.com/docs/authentication/getting-started\n",
    "            \"creds.json\",\n",
    "            SCOPES,\n",
    "        )\n",
    "        creds = flow.run_local_server(port=0)\n",
    "    # Save the credentials for the next run\n",
    "    with open(\"email_token.json\", \"w\") as token:\n",
    "        token.write(creds.to_json())"
   ]
  },
  {
   "cell_type": "code",
   "execution_count": 7,
   "id": "a2793ba0",
   "metadata": {},
   "outputs": [],
   "source": [
    "from langchain_community.chat_loaders.gmail import GMailLoader"
   ]
  },
  {
   "cell_type": "code",
   "execution_count": 10,
   "id": "2154597f",
   "metadata": {},
   "outputs": [],
   "source": [
    "loader = GMailLoader(creds=creds, n=3)"
   ]
  },
  {
   "cell_type": "code",
   "execution_count": 11,
   "id": "0b7d11bd",
   "metadata": {},
   "outputs": [],
   "source": [
    "data = loader.load()"
   ]
  },
  {
   "cell_type": "code",
   "execution_count": 13,
   "id": "74764bc7",
   "metadata": {},
   "outputs": [
    {
     "data": {
      "text/plain": [
       "2"
      ]
     },
     "execution_count": 13,
     "metadata": {},
     "output_type": "execute_result"
    }
   ],
   "source": [
    "# Sometimes there can be errors which we silently ignore\n",
    "len(data)"
   ]
  },
  {
   "cell_type": "code",
   "execution_count": 14,
   "id": "d9360a85",
   "metadata": {},
   "outputs": [],
   "source": [
    "from langchain_community.chat_loaders.utils import (\n",
    "    map_ai_messages,\n",
    ")"
   ]
  },
  {
   "cell_type": "code",
   "execution_count": 17,
   "id": "a9646f7a",
   "metadata": {},
   "outputs": [],
   "source": [
    "# This makes messages sent by hchase@langchain.com the AI Messages\n",
    "# This means you will train an LLM to predict as if it's responding as hchase\n",
    "training_data = list(\n",
    "    map_ai_messages(data, sender=\"Harrison Chase <hchase@langchain.com>\")\n",
    ")"
   ]
  },
  {
   "cell_type": "code",
   "execution_count": null,
   "id": "d1a182f0",
   "metadata": {},
   "outputs": [],
   "source": []
  }
 ],
 "metadata": {
  "kernelspec": {
   "display_name": "Python 3 (ipykernel)",
   "language": "python",
   "name": "python3"
  },
  "language_info": {
   "codemirror_mode": {
    "name": "ipython",
    "version": 3
   },
   "file_extension": ".py",
   "mimetype": "text/x-python",
   "name": "python",
   "nbconvert_exporter": "python",
   "pygments_lexer": "ipython3",
   "version": "3.10.1"
  }
 },
 "nbformat": 4,
 "nbformat_minor": 5
}
