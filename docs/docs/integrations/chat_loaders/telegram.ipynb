{
 "cells": [
  {
   "cell_type": "markdown",
   "id": "735455a6-f82e-4252-b545-27385ef883f4",
   "metadata": {},
   "source": [
    "# Telegram\n",
    "\n",
    "本笔记本展示如何使用Telegram聊天加载器。该类可以帮助将导出的Telegram对话映射到LangChain聊天消息。\n",
    "\n",
    "该过程包括三个步骤：\n",
    "1. 通过从Telegram应用程序复制聊天内容并将其粘贴到本地计算机上的文件中来导出聊天.txt文件\n",
    "2. 创建`TelegramChatLoader`，并将文件路径指向JSON文件或包含JSON文件的目录\n",
    "3. 调用`loader.load()`（或`loader.lazy_load()`）执行转换。可以选择使用`merge_chat_runs`来合并来自同一发送者的连续消息，和/或使用`map_ai_messages`将指定发送者的消息转换为\"AIMessage\"类。\n",
    "\n",
    "## 1. 创建消息导出\n",
    "\n",
    "目前（2023/08/23）此加载器最适合支持从[Telegram Desktop应用](https://desktop.telegram.org/)导出的聊天历史记录JSON格式文件。\n",
    "\n",
    "**重要提示：**有一些Telegram的\"精简版\"（如\"Telegram for MacOS\"）缺少导出功能。请确保使用正确的应用程序导出文件。\n",
    "\n",
    "导出步骤：\n",
    "1. 下载并打开Telegram桌面版\n",
    "2. 选择一个对话\n",
    "3. 导航到对话设置（当前为右上角的三个点）\n",
    "4. 点击\"导出聊天记录\"\n",
    "5. 取消选择照片和其他媒体。选择\"机器可读JSON\"格式进行导出。\n",
    "\n",
    "以下是示例："
   ]
  },
  {
   "cell_type": "code",
   "execution_count": 1,
   "id": "285f2044-0f58-4b92-addb-9f8569076734",
   "metadata": {},
   "outputs": [
    {
     "name": "stdout",
     "output_type": "stream",
     "text": [
      "Overwriting telegram_conversation.json\n"
     ]
    }
   ],
   "source": [
    "%%writefile telegram_conversation.json\n",
    "{\n",
    " \"name\": \"Jiminy\",\n",
    " \"type\": \"personal_chat\",\n",
    " \"id\": 5965280513,\n",
    " \"messages\": [\n",
    "  {\n",
    "   \"id\": 1,\n",
    "   \"type\": \"message\",\n",
    "   \"date\": \"2023-08-23T13:11:23\",\n",
    "   \"date_unixtime\": \"1692821483\",\n",
    "   \"from\": \"Jiminy Cricket\",\n",
    "   \"from_id\": \"user123450513\",\n",
    "   \"text\": \"You better trust your conscience\",\n",
    "   \"text_entities\": [\n",
    "    {\n",
    "     \"type\": \"plain\",\n",
    "     \"text\": \"You better trust your conscience\"\n",
    "    }\n",
    "   ]\n",
    "  },\n",
    "  {\n",
    "   \"id\": 2,\n",
    "   \"type\": \"message\",\n",
    "   \"date\": \"2023-08-23T13:13:20\",\n",
    "   \"date_unixtime\": \"1692821600\",\n",
    "   \"from\": \"Batman & Robin\",\n",
    "   \"from_id\": \"user6565661032\",\n",
    "   \"text\": \"What did you just say?\",\n",
    "   \"text_entities\": [\n",
    "    {\n",
    "     \"type\": \"plain\",\n",
    "     \"text\": \"What did you just say?\"\n",
    "    }\n",
    "   ]\n",
    "  }\n",
    " ]\n",
    "}"
   ]
  },
  {
   "cell_type": "markdown",
   "id": "7cc109f4-4c92-4cd3-8143-c322776c3f03",
   "metadata": {},
   "source": [
    "## 2. 创建聊天加载器\n",
    "\n",
    "只需要提供文件路径。您还可以选择指定映射到AI消息的用户名，以及配置是否合并消息序列。"
   ]
  },
  {
   "cell_type": "code",
   "execution_count": 2,
   "id": "111f7767-573c-42d4-86f0-bd766bbaa071",
   "metadata": {},
   "outputs": [],
   "source": [
    "from langchain_community.chat_loaders.telegram import TelegramChatLoader"
   ]
  },
  {
   "cell_type": "code",
   "execution_count": 3,
   "id": "a4226efa-2640-4990-a20c-6861d1887329",
   "metadata": {},
   "outputs": [],
   "source": [
    "loader = TelegramChatLoader(\n",
    "    path=\"./telegram_conversation.json\",\n",
    ")"
   ]
  },
  {
   "cell_type": "markdown",
   "id": "71699fb7-7815-4c89-8d96-30e8fada6923",
   "metadata": {},
   "source": [
    "## 3. 加载消息\n",
    "\n",
    "`load()`（或`lazy_load`）方法返回\"ChatSessions\"列表，目前每个加载的对话仅包含一个消息列表。"
   ]
  },
  {
   "cell_type": "code",
   "execution_count": 4,
   "id": "81121efb-c875-4a77-ad1e-fe26b3d7e812",
   "metadata": {},
   "outputs": [],
   "source": [
    "from typing import List\n",
    "\n",
    "from langchain_community.chat_loaders.utils import (\n",
    "    map_ai_messages,\n",
    "    merge_chat_runs,\n",
    ")\n",
    "from langchain_core.chat_sessions import ChatSession\n",
    "\n",
    "raw_messages = loader.lazy_load()\n",
    "# Merge consecutive messages from the same sender into a single message\n",
    "merged_messages = merge_chat_runs(raw_messages)\n",
    "# Convert messages from \"Jiminy Cricket\" to AI messages\n",
    "messages: List[ChatSession] = list(\n",
    "    map_ai_messages(merged_messages, sender=\"Jiminy Cricket\")\n",
    ")"
   ]
  },
  {
   "cell_type": "markdown",
   "id": "b9089c05-7375-41ca-a2f9-672a845314e4",
   "metadata": {},
   "source": [
    "### 后续步骤\n",
    "\n",
    "然后，您可以根据需要使用这些消息，例如微调模型、少量示例选择或直接为下一条消息进行预测"
   ]
  },
  {
   "cell_type": "code",
   "execution_count": 5,
   "id": "637a6f5d-6944-4722-9361-a76ef5e9dd2a",
   "metadata": {},
   "outputs": [
    {
     "name": "stdout",
     "output_type": "stream",
     "text": [
      "I said, \"You better trust your conscience.\""
     ]
    }
   ],
   "source": [
    "from langchain_openai import ChatOpenAI\n",
    "\n",
    "llm = ChatOpenAI()\n",
    "\n",
    "for chunk in llm.stream(messages[0][\"messages\"]):\n",
    "    print(chunk.content, end=\"\", flush=True)"
   ]
  }
 ],
 "metadata": {
  "kernelspec": {
   "display_name": "Python 3 (ipykernel)",
   "language": "python",
   "name": "python3"
  },
  "language_info": {
   "codemirror_mode": {
    "name": "ipython",
    "version": 3
   },
   "file_extension": ".py",
   "mimetype": "text/x-python",
   "name": "python",
   "nbconvert_exporter": "python",
   "pygments_lexer": "ipython3",
   "version": "3.11.2"
  }
 },
 "nbformat": 4,
 "nbformat_minor": 5
}
