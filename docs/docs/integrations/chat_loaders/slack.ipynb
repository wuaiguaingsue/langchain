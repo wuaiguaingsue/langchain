{
 "cells": [
  {
   "cell_type": "markdown",
   "id": "01fcfa2f-33a9-48f3-835a-b1956c394d6b",
   "metadata": {},
   "source": [
    "# Slack\n",
    "\n",
    "本笔记本展示如何使用Slack聊天加载器。这个类可以帮助将导出的Slack对话映射到LangChain聊天消息。\n",
    "\n",
    "该过程包含三个步骤：\n",
    "1. 按照[这里的说明](https://slack.com/help/articles/1500001548241-Request-to-export-all-conversations)导出所需的对话线程。\n",
    "2. 创建`SlackChatLoader`，并将文件路径指向JSON文件或包含JSON文件的目录。\n",
    "3. 调用`loader.load()`（或`loader.lazy_load()`）执行转换。可以选择使用`merge_chat_runs`来合并来自同一发送者的连续消息，和/或使用`map_ai_messages`将指定发送者的消息转换为\"AIMessage\"类。\n",
    "\n",
    "## 1. 创建消息导出\n",
    "\n",
    "目前（2023/08/23）此加载器最适合支持从Slack导出的直接消息对话格式的zip目录文件。请遵循Slack提供的最新说明进行操作。\n",
    "\n",
    "我们在LangChain仓库中有一个示例。"
   ]
  },
  {
   "cell_type": "code",
   "execution_count": 1,
   "id": "a79d35bf-5f21-4063-84bf-a60845c1c51f",
   "metadata": {},
   "outputs": [],
   "source": [
    "import requests\n",
    "\n",
    "permalink = \"https://raw.githubusercontent.com/langchain-ai/langchain/342087bdfa3ac31d622385d0f2d09cf5e06c8db3/libs/langchain/tests/integration_tests/examples/slack_export.zip\"\n",
    "response = requests.get(permalink)\n",
    "with open(\"slack_dump.zip\", \"wb\") as f:\n",
    "    f.write(response.content)"
   ]
  },
  {
   "cell_type": "markdown",
   "id": "cf60f703-76f1-4602-a723-02c59535c1af",
   "metadata": {},
   "source": [
    "## 2. 创建聊天加载器\n",
    "\n",
    "为加载器提供zip目录的文件路径。您可以选择指定映射到AI消息的用户ID，以及配置是否合并消息序列。"
   ]
  },
  {
   "cell_type": "code",
   "execution_count": 2,
   "id": "4b8b432a-d2bc-49e1-b35f-761730a8fd6d",
   "metadata": {},
   "outputs": [],
   "source": [
    "from langchain_community.chat_loaders.slack import SlackChatLoader"
   ]
  },
  {
   "cell_type": "code",
   "execution_count": 3,
   "id": "8ec6661b-0aca-48ae-9e2b-6412856c287b",
   "metadata": {},
   "outputs": [],
   "source": [
    "loader = SlackChatLoader(\n",
    "    path=\"slack_dump.zip\",\n",
    ")"
   ]
  },
  {
   "cell_type": "markdown",
   "id": "8805a7c5-84b4-49f5-8989-0022f2054ace",
   "metadata": {},
   "source": [
    "## 3. 加载消息\n",
    "\n",
    "`load()`（或`lazy_load`）方法返回\"ChatSessions\"列表，目前每个加载的对话仅包含一个消息列表。"
   ]
  },
  {
   "cell_type": "code",
   "execution_count": 4,
   "id": "fcd69b3e-020d-4a15-8a0d-61c2d34e1ee1",
   "metadata": {},
   "outputs": [],
   "source": [
    "from typing import List\n",
    "\n",
    "from langchain_community.chat_loaders.utils import (\n",
    "    map_ai_messages,\n",
    "    merge_chat_runs,\n",
    ")\n",
    "from langchain_core.chat_sessions import ChatSession\n",
    "\n",
    "raw_messages = loader.lazy_load()\n",
    "# Merge consecutive messages from the same sender into a single message\n",
    "merged_messages = merge_chat_runs(raw_messages)\n",
    "# Convert messages from \"U0500003428\" to AI messages\n",
    "messages: List[ChatSession] = list(\n",
    "    map_ai_messages(merged_messages, sender=\"U0500003428\")\n",
    ")"
   ]
  },
  {
   "cell_type": "markdown",
   "id": "7d033f87-cd0c-4f44-a753-41b871c1e919",
   "metadata": {},
   "source": [
    "### 后续步骤\n",
    "\n",
    "然后，您可以根据需要使用这些消息，例如微调模型、少量示例选择或直接为下一条消息进行预测。"
   ]
  },
  {
   "cell_type": "code",
   "execution_count": 5,
   "id": "7d8a1629-5d9e-49b3-b978-3add57027d59",
   "metadata": {},
   "outputs": [
    {
     "name": "stdout",
     "output_type": "stream",
     "text": [
      "Hi, \n",
      "\n",
      "I hope you're doing well. I wanted to reach out and ask if you'd be available to meet up for coffee sometime next week. I'd love to catch up and hear about what's been going on in your life. Let me know if you're interested and we can find a time that works for both of us. \n",
      "\n",
      "Looking forward to hearing from you!\n",
      "\n",
      "Best, [Your Name]"
     ]
    }
   ],
   "source": [
    "from langchain_openai import ChatOpenAI\n",
    "\n",
    "llm = ChatOpenAI()\n",
    "\n",
    "for chunk in llm.stream(messages[1][\"messages\"]):\n",
    "    print(chunk.content, end=\"\", flush=True)"
   ]
  }
 ],
 "metadata": {
  "kernelspec": {
   "display_name": "Python 3 (ipykernel)",
   "language": "python",
   "name": "python3"
  },
  "language_info": {
   "codemirror_mode": {
    "name": "ipython",
    "version": 3
   },
   "file_extension": ".py",
   "mimetype": "text/x-python",
   "name": "python",
   "nbconvert_exporter": "python",
   "pygments_lexer": "ipython3",
   "version": "3.11.2"
  }
 },
 "nbformat": 4,
 "nbformat_minor": 5
}
