{
 "cells": [
  {
   "cell_type": "markdown",
   "id": "735455a6-f82e-4252-b545-27385ef883f4",
   "metadata": {},
   "source": [
    "# WhatsApp\n",
    "\n",
    "本笔记本展示如何使用WhatsApp聊天加载器。这个类可以帮助将导出的WhatsApp对话映射到LangChain聊天消息。\n",
    "\n",
    "该过程包含三个步骤：\n",
    "1. 将聊天对话导出到计算机\n",
    "2. 创建`WhatsAppChatLoader`，并将文件路径指向JSON文件或包含JSON文件的目录\n",
    "3. 调用`loader.load()`（或`loader.lazy_load()`）执行转换。\n",
    "\n",
    "## 1. 创建消息导出\n",
    "\n",
    "要导出您的WhatsApp对话，请完成以下步骤：\n",
    "\n",
    "1. 打开目标对话\n",
    "2. 点击右上角的三个点，选择\"更多\"。\n",
    "3. 然后选择\"导出聊天记录\"并选择\"不包含媒体文件\"。\n",
    "\n",
    "以下是每个对话的数据格式示例："
   ]
  },
  {
   "cell_type": "code",
   "execution_count": 1,
   "id": "285f2044-0f58-4b92-addb-9f8569076734",
   "metadata": {},
   "outputs": [
    {
     "name": "stdout",
     "output_type": "stream",
     "text": [
      "Writing whatsapp_chat.txt\n"
     ]
    }
   ],
   "source": [
    "%%writefile whatsapp_chat.txt\n",
    "[8/15/23, 9:12:33 AM] Dr. Feather: ‎Messages and calls are end-to-end encrypted. No one outside of this chat, not even WhatsApp, can read or listen to them.\n",
    "[8/15/23, 9:12:43 AM] Dr. Feather: I spotted a rare Hyacinth Macaw yesterday in the Amazon Rainforest. Such a magnificent creature!\n",
    "‎[8/15/23, 9:12:48 AM] Dr. Feather: ‎image omitted\n",
    "[8/15/23, 9:13:15 AM] Jungle Jane: That's stunning! Were you able to observe its behavior?\n",
    "‎[8/15/23, 9:13:23 AM] Dr. Feather: ‎image omitted\n",
    "[8/15/23, 9:14:02 AM] Dr. Feather: Yes, it seemed quite social with other macaws. They're known for their playful nature.\n",
    "[8/15/23, 9:14:15 AM] Jungle Jane: How's the research going on parrot communication?\n",
    "‎[8/15/23, 9:14:30 AM] Dr. Feather: ‎image omitted\n",
    "[8/15/23, 9:14:50 AM] Dr. Feather: It's progressing well. We're learning so much about how they use sound and color to communicate.\n",
    "[8/15/23, 9:15:10 AM] Jungle Jane: That's fascinating! Can't wait to read your paper on it.\n",
    "[8/15/23, 9:15:20 AM] Dr. Feather: Thank you! I'll send you a draft soon.\n",
    "[8/15/23, 9:25:16 PM] Jungle Jane: Looking forward to it! Keep up the great work."
   ]
  },
  {
   "cell_type": "markdown",
   "id": "7cc109f4-4c92-4cd3-8143-c322776c3f03",
   "metadata": {},
   "source": [
    "## 2. 创建聊天加载器\n",
    "\n",
    "WhatsAppChatLoader接受生成的zip文件、解压缩后的目录或其中任何聊天`.txt`文件的路径。\n",
    "\n",
    "提供这些内容以及您希望在微调时扮演\"AI\"角色的用户名。"
   ]
  },
  {
   "cell_type": "code",
   "execution_count": 7,
   "id": "111f7767-573c-42d4-86f0-bd766bbaa071",
   "metadata": {},
   "outputs": [],
   "source": [
    "from langchain_community.chat_loaders.whatsapp import WhatsAppChatLoader"
   ]
  },
  {
   "cell_type": "code",
   "execution_count": 12,
   "id": "a4226efa-2640-4990-a20c-6861d1887329",
   "metadata": {},
   "outputs": [],
   "source": [
    "loader = WhatsAppChatLoader(\n",
    "    path=\"./whatsapp_chat.txt\",\n",
    ")"
   ]
  },
  {
   "cell_type": "markdown",
   "id": "71699fb7-7815-4c89-8d96-30e8fada6923",
   "metadata": {},
   "source": [
    "## 3. 加载消息\n",
    "\n",
    "`load()`（或`lazy_load`）方法返回\"ChatSessions\"列表，目前这些列表存储了每个加载的对话的消息列表。"
   ]
  },
  {
   "cell_type": "code",
   "execution_count": 13,
   "id": "81121efb-c875-4a77-ad1e-fe26b3d7e812",
   "metadata": {},
   "outputs": [
    {
     "data": {
      "text/plain": [
       "[{'messages': [AIMessage(content='I spotted a rare Hyacinth Macaw yesterday in the Amazon Rainforest. Such a magnificent creature!', additional_kwargs={'sender': 'Dr. Feather', 'events': [{'message_time': '8/15/23, 9:12:43 AM'}]}, example=False),\n",
       "   HumanMessage(content=\"That's stunning! Were you able to observe its behavior?\", additional_kwargs={'sender': 'Jungle Jane', 'events': [{'message_time': '8/15/23, 9:13:15 AM'}]}, example=False),\n",
       "   AIMessage(content=\"Yes, it seemed quite social with other macaws. They're known for their playful nature.\", additional_kwargs={'sender': 'Dr. Feather', 'events': [{'message_time': '8/15/23, 9:14:02 AM'}]}, example=False),\n",
       "   HumanMessage(content=\"How's the research going on parrot communication?\", additional_kwargs={'sender': 'Jungle Jane', 'events': [{'message_time': '8/15/23, 9:14:15 AM'}]}, example=False),\n",
       "   AIMessage(content=\"It's progressing well. We're learning so much about how they use sound and color to communicate.\", additional_kwargs={'sender': 'Dr. Feather', 'events': [{'message_time': '8/15/23, 9:14:50 AM'}]}, example=False),\n",
       "   HumanMessage(content=\"That's fascinating! Can't wait to read your paper on it.\", additional_kwargs={'sender': 'Jungle Jane', 'events': [{'message_time': '8/15/23, 9:15:10 AM'}]}, example=False),\n",
       "   AIMessage(content=\"Thank you! I'll send you a draft soon.\", additional_kwargs={'sender': 'Dr. Feather', 'events': [{'message_time': '8/15/23, 9:15:20 AM'}]}, example=False),\n",
       "   HumanMessage(content='Looking forward to it! Keep up the great work.', additional_kwargs={'sender': 'Jungle Jane', 'events': [{'message_time': '8/15/23, 9:25:16 PM'}]}, example=False)]}]"
      ]
     },
     "execution_count": 13,
     "metadata": {},
     "output_type": "execute_result"
    }
   ],
   "source": [
    "from typing import List\n",
    "\n",
    "from langchain_community.chat_loaders.utils import (\n",
    "    map_ai_messages,\n",
    "    merge_chat_runs,\n",
    ")\n",
    "from langchain_core.chat_sessions import ChatSession\n",
    "\n",
    "raw_messages = loader.lazy_load()\n",
    "# Merge consecutive messages from the same sender into a single message\n",
    "merged_messages = merge_chat_runs(raw_messages)\n",
    "# Convert messages from \"Dr. Feather\" to AI messages\n",
    "messages: List[ChatSession] = list(\n",
    "    map_ai_messages(merged_messages, sender=\"Dr. Feather\")\n",
    ")"
   ]
  },
  {
   "cell_type": "markdown",
   "id": "b9089c05-7375-41ca-a2f9-672a845314e4",
   "metadata": {},
   "source": [
    "### 后续步骤\n",
    "\n",
    "然后，您可以根据需要使用这些消息，例如微调模型、少量示例选择或直接为下一条消息进行预测。"
   ]
  },
  {
   "cell_type": "code",
   "execution_count": 14,
   "id": "637a6f5d-6944-4722-9361-a76ef5e9dd2a",
   "metadata": {},
   "outputs": [
    {
     "name": "stdout",
     "output_type": "stream",
     "text": [
      "Thank you for the encouragement! I'll do my best to continue studying and sharing fascinating insights about parrot communication."
     ]
    }
   ],
   "source": [
    "from langchain_openai import ChatOpenAI\n",
    "\n",
    "llm = ChatOpenAI()\n",
    "\n",
    "for chunk in llm.stream(messages[0][\"messages\"]):\n",
    "    print(chunk.content, end=\"\", flush=True)"
   ]
  },
  {
   "cell_type": "code",
   "execution_count": null,
   "id": "16156643-cfbd-444f-b4ae-198eb44f0267",
   "metadata": {},
   "outputs": [],
   "source": []
  }
 ],
 "metadata": {
  "kernelspec": {
   "display_name": "Python 3 (ipykernel)",
   "language": "python",
   "name": "python3"
  },
  "language_info": {
   "codemirror_mode": {
    "name": "ipython",
    "version": 3
   },
   "file_extension": ".py",
   "mimetype": "text/x-python",
   "name": "python",
   "nbconvert_exporter": "python",
   "pygments_lexer": "ipython3",
   "version": "3.11.2"
  }
 },
 "nbformat": 4,
 "nbformat_minor": 5
}
