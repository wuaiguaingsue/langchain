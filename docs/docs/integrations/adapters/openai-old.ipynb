{
 "cells": [
  {
   "cell_type": "markdown",
   "id": "700a516b",
   "metadata": {},
   "source": [
    "# OpenAI 适配器(旧版)\n",
    "\n",
    "**请确保 OpenAI 库版本低于 1.0.0；否则，请参考较新的文档 [OpenAI 适配器](/docs/integrations/adapters/openai/)。**\n",
    "\n",
    "很多人一开始使用 OpenAI，但也想探索其他模型。LangChain 与众多模型提供商的集成使这一过程变得简单。虽然 LangChain 有自己的消息和模型 API，但我们也通过提供适配器来适应 OpenAI API，使探索其他模型变得尽可能简单。\n",
    "\n",
    "目前这仅处理输出，不返回其他信息（如令牌计数、停止原因等）。"
   ]
  },
  {
   "cell_type": "code",
   "execution_count": null,
   "id": "6017f26a",
   "metadata": {},
   "outputs": [],
   "source": [
    "import openai\n",
    "from langchain_community.adapters import openai as lc_openai"
   ]
  },
  {
   "cell_type": "markdown",
   "id": "b522ceda",
   "metadata": {},
   "source": [
    "## ChatCompletion.create"
   ]
  },
  {
   "cell_type": "code",
   "execution_count": 29,
   "id": "1d22eb61",
   "metadata": {},
   "outputs": [],
   "source": [
    "messages = [{\"role\": \"user\", \"content\": \"hi\"}]"
   ]
  },
  {
   "cell_type": "markdown",
   "id": "d550d3ad",
   "metadata": {},
   "source": [
    "原始 OpenAI 调用"
   ]
  },
  {
   "cell_type": "code",
   "execution_count": 15,
   "id": "012d81ae",
   "metadata": {},
   "outputs": [
    {
     "data": {
      "text/plain": [
       "{'role': 'assistant', 'content': 'Hello! How can I assist you today?'}"
      ]
     },
     "execution_count": 15,
     "metadata": {},
     "output_type": "execute_result"
    }
   ],
   "source": [
    "result = openai.ChatCompletion.create(\n",
    "    messages=messages, model=\"gpt-3.5-turbo\", temperature=0\n",
    ")\n",
    "result[\"choices\"][0][\"message\"].to_dict_recursive()"
   ]
  },
  {
   "cell_type": "markdown",
   "id": "db5b5500",
   "metadata": {},
   "source": [
    "LangChain OpenAI 包装器调用"
   ]
  },
  {
   "cell_type": "code",
   "execution_count": 17,
   "id": "c67a5ac8",
   "metadata": {},
   "outputs": [
    {
     "data": {
      "text/plain": [
       "{'role': 'assistant', 'content': 'Hello! How can I assist you today?'}"
      ]
     },
     "execution_count": 17,
     "metadata": {},
     "output_type": "execute_result"
    }
   ],
   "source": [
    "lc_result = lc_openai.ChatCompletion.create(\n",
    "    messages=messages, model=\"gpt-3.5-turbo\", temperature=0\n",
    ")\n",
    "lc_result[\"choices\"][0][\"message\"]"
   ]
  },
  {
   "cell_type": "markdown",
   "id": "034ba845",
   "metadata": {},
   "source": [
    "更换模型提供商"
   ]
  },
  {
   "cell_type": "code",
   "execution_count": 19,
   "id": "f7c94827",
   "metadata": {},
   "outputs": [
    {
     "data": {
      "text/plain": [
       "{'role': 'assistant', 'content': ' Hello!'}"
      ]
     },
     "execution_count": 19,
     "metadata": {},
     "output_type": "execute_result"
    }
   ],
   "source": [
    "lc_result = lc_openai.ChatCompletion.create(\n",
    "    messages=messages, model=\"claude-2\", temperature=0, provider=\"ChatAnthropic\"\n",
    ")\n",
    "lc_result[\"choices\"][0][\"message\"]"
   ]
  },
  {
   "cell_type": "markdown",
   "id": "cb3f181d",
   "metadata": {},
   "source": [
    "## ChatCompletion.stream"
   ]
  },
  {
   "cell_type": "markdown",
   "id": "f7b8cd18",
   "metadata": {},
   "source": [
    "原始 OpenAI 调用"
   ]
  },
  {
   "cell_type": "code",
   "execution_count": 24,
   "id": "fd8cb1ea",
   "metadata": {},
   "outputs": [
    {
     "name": "stdout",
     "output_type": "stream",
     "text": [
      "{'role': 'assistant', 'content': ''}\n",
      "{'content': 'Hello'}\n",
      "{'content': '!'}\n",
      "{'content': ' How'}\n",
      "{'content': ' can'}\n",
      "{'content': ' I'}\n",
      "{'content': ' assist'}\n",
      "{'content': ' you'}\n",
      "{'content': ' today'}\n",
      "{'content': '?'}\n",
      "{}\n"
     ]
    }
   ],
   "source": [
    "for c in openai.ChatCompletion.create(\n",
    "    messages=messages, model=\"gpt-3.5-turbo\", temperature=0, stream=True\n",
    "):\n",
    "    print(c[\"choices\"][0][\"delta\"].to_dict_recursive())"
   ]
  },
  {
   "cell_type": "markdown",
   "id": "0b2a076b",
   "metadata": {},
   "source": [
    "LangChain OpenAI 包装器调用"
   ]
  },
  {
   "cell_type": "code",
   "execution_count": 30,
   "id": "9521218c",
   "metadata": {},
   "outputs": [
    {
     "name": "stdout",
     "output_type": "stream",
     "text": [
      "{'role': 'assistant', 'content': ''}\n",
      "{'content': 'Hello'}\n",
      "{'content': '!'}\n",
      "{'content': ' How'}\n",
      "{'content': ' can'}\n",
      "{'content': ' I'}\n",
      "{'content': ' assist'}\n",
      "{'content': ' you'}\n",
      "{'content': ' today'}\n",
      "{'content': '?'}\n",
      "{}\n"
     ]
    }
   ],
   "source": [
    "for c in lc_openai.ChatCompletion.create(\n",
    "    messages=messages, model=\"gpt-3.5-turbo\", temperature=0, stream=True\n",
    "):\n",
    "    print(c[\"choices\"][0][\"delta\"])"
   ]
  },
  {
   "cell_type": "markdown",
   "id": "0fc39750",
   "metadata": {},
   "source": [
    "更换模型提供商"
   ]
  },
  {
   "cell_type": "code",
   "execution_count": 31,
   "id": "68f0214e",
   "metadata": {},
   "outputs": [
    {
     "name": "stdout",
     "output_type": "stream",
     "text": [
      "{'role': 'assistant', 'content': ' Hello'}\n",
      "{'content': '!'}\n",
      "{}\n"
     ]
    }
   ],
   "source": [
    "for c in lc_openai.ChatCompletion.create(\n",
    "    messages=messages,\n",
    "    model=\"claude-2\",\n",
    "    temperature=0,\n",
    "    stream=True,\n",
    "    provider=\"ChatAnthropic\",\n",
    "):\n",
    "    print(c[\"choices\"][0][\"delta\"])"
   ]
  }
 ],
 "metadata": {
  "kernelspec": {
   "display_name": "Python 3 (ipykernel)",
   "language": "python",
   "name": "python3"
  },
  "language_info": {
   "codemirror_mode": {
    "name": "ipython",
    "version": 3
   },
   "file_extension": ".py",
   "mimetype": "text/x-python",
   "name": "python",
   "nbconvert_exporter": "python",
   "pygments_lexer": "ipython3",
   "version": "3.10.12"
  }
 },
 "nbformat": 4,
 "nbformat_minor": 5
}
