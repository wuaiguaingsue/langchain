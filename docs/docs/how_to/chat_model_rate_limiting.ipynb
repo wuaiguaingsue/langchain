{
 "cells": [
  {
   "cell_type": "markdown",
   "id": "dcf87b32",
   "metadata": {},
   "source": [
    "# 如何处理速率限制\n",
    "\n",
    ":::info 前提条件\n",
    "\n",
    "本指南假设你熟悉以下概念：\n",
    "- [聊天模型](/docs/concepts/chat_models)\n",
    "- [LLMs](/docs/concepts/text_llms)\n",
    ":::\n",
    "\n",
    "\n",
    "你可能会遇到因为发送了太多请求而被模型提供商API限制速率的情况。\n",
    "\n",
    "例如，当你在测试数据集上运行多个并行查询来对聊天模型进行基准测试时，可能会发生这种情况。\n",
    "\n",
    "如果你遇到这种情况，你可以使用速率限制器来帮助将请求速率匹配到API允许的速率。\n",
    "\n",
    ":::info 需要 ``langchain-core >= 0.2.24``\n",
    "\n",
    "这个功能是在 ``langchain-core == 0.2.24`` 中添加的。请确保你的包是最新的。\n",
    ":::"
   ]
  },
  {
   "cell_type": "markdown",
   "id": "cbc3c873-6109-4e03-b775-b73c1003faea",
   "metadata": {},
   "source": [
    "## 初始化速率限制器\n",
    "\n",
    "Langchain内置了一个内存速率限制器。这个速率限制器是线程安全的，可以在同一进程中的多个线程之间共享。\n",
    "\n",
    "提供的速率限制器只能限制每单位时间的请求数量。如果你还需要基于请求大小进行限制，它将无法帮助你。"
   ]
  },
  {
   "cell_type": "code",
   "execution_count": null,
   "id": "aa9c3c8c-0464-4190-a8c5-d69d173505a6",
   "metadata": {},
   "outputs": [],
   "source": [
    "from langchain_core.rate_limiters import InMemoryRateLimiter\n",
    "\n",
    "rate_limiter = InMemoryRateLimiter(\n",
    "    requests_per_second=0.1,  # <-- 超级慢！我们每10秒只能发送一个请求！！\n",
    "    check_every_n_seconds=0.1,  # 每100毫秒唤醒一次，检查是否允许发送请求\n",
    "    max_bucket_size=10,  # 控制最大突发大小\n",
    ")"
   ]
  },
  {
   "cell_type": "markdown",
   "id": "8e058bde-9413-4b08-8cc6-0c9cb638f19f",
   "metadata": {},
   "source": [
    "## 选择一个模型\n",
    "\n",
    "选择任意模型，并通过`rate_limiter`属性传入速率限制器。"
   ]
  },
  {
   "cell_type": "code",
   "execution_count": 2,
   "id": "0f880a3a-c047-4e94-a323-fff2a4c0e96d",
   "metadata": {},
   "outputs": [],
   "source": [
    "import os\n",
    "import time\n",
    "from getpass import getpass\n",
    "\n",
    "if \"ANTHROPIC_API_KEY\" not in os.environ:\n",
    "    os.environ[\"ANTHROPIC_API_KEY\"] = getpass()\n",
    "\n",
    "\n",
    "from langchain_anthropic import ChatAnthropic\n",
    "\n",
    "model = ChatAnthropic(model_name=\"claude-3-opus-20240229\", rate_limiter=rate_limiter)"
   ]
  },
  {
   "cell_type": "markdown",
   "id": "80c9ab3a-299a-460f-985c-90280a046f52",
   "metadata": {},
   "source": [
    "让我们确认速率限制器是否正常工作。我们每10秒应该只能调用模型一次。"
   ]
  },
  {
   "cell_type": "code",
   "execution_count": 3,
   "id": "d074265c-9f32-4c5f-b914-944148993c4d",
   "metadata": {},
   "outputs": [
    {
     "name": "stdout",
     "output_type": "stream",
     "text": [
      "11.599073648452759\n",
      "10.7502121925354\n",
      "10.244257926940918\n",
      "8.83088755607605\n",
      "11.645203590393066\n"
     ]
    }
   ],
   "source": [
    "for _ in range(5):\n",
    "    tic = time.time()\n",
    "    model.invoke(\"hello\")\n",
    "    toc = time.time()\n",
    "    print(toc - tic)"
   ]
  }
 ],
 "metadata": {
  "kernelspec": {
   "display_name": "Python 3 (ipykernel)",
   "language": "python",
   "name": "python3"
  },
  "language_info": {
   "codemirror_mode": {
    "name": "ipython",
    "version": 3
   },
   "file_extension": ".py",
   "mimetype": "text/x-python",
   "name": "python",
   "nbconvert_exporter": "python",
   "pygments_lexer": "ipython3",
   "version": "3.11.4"
  }
 },
 "nbformat": 4,
 "nbformat_minor": 5
}
