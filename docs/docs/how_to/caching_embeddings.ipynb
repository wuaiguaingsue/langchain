{
 "cells": [
  {
   "cell_type": "markdown",
   "id": "bf4061ce",
   "metadata": {},
   "source": [
    "# 缓存\n",
    "\n",
    "[嵌入](/docs/concepts/embedding_models/)可以存储或临时缓存，以避免需要重新计算它们。\n",
    "\n",
    "可以使用`CacheBackedEmbeddings`缓存嵌入。缓存支持的嵌入器是一个嵌入器的包装器，它将嵌入缓存到键值存储中。文本被哈希化，哈希值用作缓存中的键。\n",
    "\n",
    "初始化`CacheBackedEmbeddings`的主要支持方式是`from_bytes_store`。它接受以下参数：\n",
    "\n",
    "- underlying_embedder: 用于嵌入的嵌入器。\n",
    "- document_embedding_cache: 用于缓存文档嵌入的[`ByteStore`](/docs/integrations/stores/)。\n",
    "- batch_size: （可选，默认为`None`）在存储更新之间嵌入的文档数量。\n",
    "- namespace: （可选，默认为`\"\"`）用于文档缓存的命名空间。此命名空间用于避免与其他缓存的冲突。例如，将其设置为所用嵌入模型的名称。\n",
    "- query_embedding_cache: （可选，默认为`None`或不缓存）用于缓存查询嵌入的[`ByteStore`](/docs/integrations/stores/)，或设置为`True`以使用与`document_embedding_cache`相同的存储。\n",
    "\n",
    "**注意**：\n",
    "\n",
    "- 请务必设置`namespace`参数，以避免使用不同嵌入模型嵌入的相同文本发生冲突。\n",
    "- `CacheBackedEmbeddings`默认不缓存查询嵌入。要启用查询缓存，需要指定`query_embedding_cache`。"
   ]
  },
  {
   "cell_type": "code",
   "execution_count": 1,
   "id": "a463c3c2-749b-40d1-a433-84f68a1cd1c7",
   "metadata": {
    "tags": []
   },
   "outputs": [],
   "source": [
    "from langchain.embeddings import CacheBackedEmbeddings"
   ]
  },
  {
   "cell_type": "markdown",
   "id": "9ddf07dd-3e72-41de-99d4-78e9521e272f",
   "metadata": {},
   "source": [
    "## 与向量存储一起使用\n",
    "\n",
    "首先，让我们看一个使用本地文件系统存储嵌入并使用 FAISS 向量存储进行检索的示例。"
   ]
  },
  {
   "cell_type": "code",
   "execution_count": null,
   "id": "50183825",
   "metadata": {},
   "outputs": [],
   "source": [
    "%pip install --upgrade --quiet  langchain-openai faiss-cpu"
   ]
  },
  {
   "cell_type": "code",
   "execution_count": 3,
   "id": "9e4314d8-88ef-4f52-81ae-0be771168bb6",
   "metadata": {},
   "outputs": [],
   "source": [
    "from langchain.storage import LocalFileStore\n",
    "from langchain_community.document_loaders import TextLoader\n",
    "from langchain_community.vectorstores import FAISS\n",
    "from langchain_openai import OpenAIEmbeddings\n",
    "from langchain_text_splitters import CharacterTextSplitter\n",
    "\n",
    "underlying_embeddings = OpenAIEmbeddings()\n",
    "\n",
    "store = LocalFileStore(\"./cache/\")\n",
    "\n",
    "cached_embedder = CacheBackedEmbeddings.from_bytes_store(\n",
    "    underlying_embeddings, store, namespace=underlying_embeddings.model\n",
    ")"
   ]
  },
  {
   "cell_type": "markdown",
   "id": "f8cdf33c-321d-4d2c-b76b-d6f5f8b42a92",
   "metadata": {},
   "source": [
    "在嵌入之前，缓存是空的："
   ]
  },
  {
   "cell_type": "code",
   "execution_count": 4,
   "id": "f9ad627f-ced2-4277-b336-2434f22f2c8a",
   "metadata": {},
   "outputs": [
    {
     "data": {
      "text/plain": [
       "[]"
      ]
     },
     "execution_count": 4,
     "metadata": {},
     "output_type": "execute_result"
    }
   ],
   "source": [
    "list(store.yield_keys())"
   ]
  },
  {
   "cell_type": "markdown",
   "id": "a4effe04-b40f-42f8-a449-72fe6991cf20",
   "metadata": {},
   "source": [
    "加载文档，将其分割成块，嵌入每个块并将其加载到向量存储中。"
   ]
  },
  {
   "cell_type": "code",
   "execution_count": 5,
   "id": "cf958ac2-e60e-4668-b32c-8bb2d78b3c61",
   "metadata": {},
   "outputs": [],
   "source": [
    "raw_documents = TextLoader(\"state_of_the_union.txt\").load()\n",
    "text_splitter = CharacterTextSplitter(chunk_size=1000, chunk_overlap=0)\n",
    "documents = text_splitter.split_documents(raw_documents)"
   ]
  },
  {
   "cell_type": "markdown",
   "id": "f526444b-93f8-423f-b6d1-dab539450921",
   "metadata": {},
   "source": [
    "创建向量存储："
   ]
  },
  {
   "cell_type": "code",
   "execution_count": 6,
   "id": "3a1d7bb8-3b72-4bb5-9013-cf7729caca61",
   "metadata": {},
   "outputs": [
    {
     "name": "stdout",
     "output_type": "stream",
     "text": [
      "CPU times: user 218 ms, sys: 29.7 ms, total: 248 ms\n",
      "Wall time: 1.02 s\n"
     ]
    }
   ],
   "source": [
    "%%time\n",
    "db = FAISS.from_documents(documents, cached_embedder)"
   ]
  },
  {
   "cell_type": "markdown",
   "id": "64fc53f5-d559-467f-bf62-5daef32ffbc0",
   "metadata": {},
   "source": [
    "如果我们再次尝试创建向量存储，它会快得多，因为不需要重新计算任何嵌入。"
   ]
  },
  {
   "cell_type": "code",
   "execution_count": 7,
   "id": "714cb2e2-77ba-41a8-bb83-84e75342af2d",
   "metadata": {},
   "outputs": [
    {
     "name": "stdout",
     "output_type": "stream",
     "text": [
      "CPU times: user 15.7 ms, sys: 2.22 ms, total: 18 ms\n",
      "Wall time: 17.2 ms\n"
     ]
    }
   ],
   "source": [
    "%%time\n",
    "db2 = FAISS.from_documents(documents, cached_embedder)"
   ]
  },
  {
   "cell_type": "markdown",
   "id": "1acc76b9-9c70-4160-b593-5f932c75e2b6",
   "metadata": {},
   "source": [
    "以下是一些已创建的嵌入："
   ]
  },
  {
   "cell_type": "code",
   "execution_count": 8,
   "id": "f2ca32dd-3712-4093-942b-4122f3dc8a8e",
   "metadata": {},
   "outputs": [
    {
     "data": {
      "text/plain": [
       "['text-embedding-ada-00217a6727d-8916-54eb-b196-ec9c9d6ca472',\n",
       " 'text-embedding-ada-0025fc0d904-bd80-52da-95c9-441015bfb438',\n",
       " 'text-embedding-ada-002e4ad20ef-dfaa-5916-9459-f90c6d8e8159',\n",
       " 'text-embedding-ada-002ed199159-c1cd-5597-9757-f80498e8f17b',\n",
       " 'text-embedding-ada-0021297d37a-2bc1-5e19-bf13-6c950f075062']"
      ]
     },
     "execution_count": 8,
     "metadata": {},
     "output_type": "execute_result"
    }
   ],
   "source": [
    "list(store.yield_keys())[:5]"
   ]
  },
  {
   "cell_type": "markdown",
   "id": "c1a7fafd",
   "metadata": {},
   "source": [
    "# 替换 `ByteStore`\n",
    "\n",
    "为了使用不同的`ByteStore`，只需在创建`CacheBackedEmbeddings`时使用它。下面，我们创建了一个等效的缓存嵌入对象，但使用了非持久性的`InMemoryByteStore`："
   ]
  },
  {
   "cell_type": "code",
   "execution_count": 9,
   "id": "336a0538",
   "metadata": {},
   "outputs": [],
   "source": [
    "from langchain.embeddings import CacheBackedEmbeddings\n",
    "from langchain.storage import InMemoryByteStore\n",
    "\n",
    "store = InMemoryByteStore()\n",
    "\n",
    "cached_embedder = CacheBackedEmbeddings.from_bytes_store(\n",
    "    underlying_embeddings, store, namespace=underlying_embeddings.model\n",
    ")"
   ]
  }
 ],
 "metadata": {
  "kernelspec": {
   "display_name": "Python 3 (ipykernel)",
   "language": "python",
   "name": "python3"
  },
  "language_info": {
   "codemirror_mode": {
    "name": "ipython",
    "version": 3
   },
   "file_extension": ".py",
   "mimetype": "text/x-python",
   "name": "python",
   "nbconvert_exporter": "python",
   "pygments_lexer": "ipython3",
   "version": "3.10.4"
  }
 },
 "nbformat": 4,
 "nbformat_minor": 5
}
