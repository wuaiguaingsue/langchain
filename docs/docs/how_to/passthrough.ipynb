{
 "cells": [
  {
   "cell_type": "raw",
   "id": "d35de667-0352-4bfb-a890-cebe7f676fe7",
   "metadata": {},
   "source": [
    "---\n",
    "sidebar_position: 5\n",
    "keywords: [RunnablePassthrough, LCEL]\n",
    "---"
   ]
  },
  {
   "cell_type": "markdown",
   "id": "b022ab74-794d-4c54-ad47-ff9549ddb9d2",
   "metadata": {},
   "source": [
    "# 如何将参数从一个步骤传递到下一个步骤\n",
    "\n",
    ":::info 前置条件\n",
    "\n",
    "本指南假设您已熟悉以下概念：\n",
    "- [LangChain 表达式语言 (LCEL)](/docs/concepts/lcel)\n",
    "- [链接 runnables](/docs/how_to/sequence/)\n",
    "- [并行调用 runnables](/docs/how_to/parallel/)\n",
    "- [自定义函数](/docs/how_to/functions/)\n",
    "\n",
    ":::\n",
    "\n",
    "\n",
    "在构建包含多个步骤的链时，有时您想要将前面步骤的数据原封不动地传递给后面的步骤使用。[`RunnablePassthrough`](https://python.langchain.com/api_reference/core/runnables/langchain_core.runnables.passthrough.RunnablePassthrough.html) 类可以实现这一点，它通常与 [RunnableParallel](/docs/how_to/parallel/) 一起使用，将数据传递给构建的链中的后续步骤。\n",
    "\n",
    "请看以下示例："
   ]
  },
  {
   "cell_type": "code",
   "execution_count": null,
   "id": "e169b952",
   "metadata": {},
   "outputs": [],
   "source": [
    "%pip install -qU langchain langchain-openai\n",
    "\n",
    "import os\n",
    "from getpass import getpass\n",
    "\n",
    "if \"OPENAI_API_KEY\" not in os.environ:\n",
    "    os.environ[\"OPENAI_API_KEY\"] = getpass()"
   ]
  },
  {
   "cell_type": "code",
   "execution_count": 2,
   "id": "03988b8d-d54c-4492-8707-1594372cf093",
   "metadata": {},
   "outputs": [
    {
     "data": {
      "text/plain": [
       "{'passed': {'num': 1}, 'modified': 2}"
      ]
     },
     "execution_count": 2,
     "metadata": {},
     "output_type": "execute_result"
    }
   ],
   "source": [
    "from langchain_core.runnables import RunnableParallel, RunnablePassthrough\n",
    "\n",
    "runnable = RunnableParallel(\n",
    "    passed=RunnablePassthrough(),\n",
    "    modified=lambda x: x[\"num\"] + 1,\n",
    ")\n",
    "\n",
    "runnable.invoke({\"num\": 1})"
   ]
  },
  {
   "cell_type": "markdown",
   "id": "702c7acc-cd31-4037-9489-647df192fd7c",
   "metadata": {},
   "source": [
    "如上所示，`passed` 键使用了 `RunnablePassthrough()`，所以它简单地传递了 `{'num': 1}`。\n",
    "\n",
    "我们还在映射中设置了第二个键 `modified`。它使用一个 lambda 函数将 num 加 1 来设置单个值，结果使 `modified` 键的值为 `2`。"
   ]
  },
  {
   "cell_type": "markdown",
   "id": "15187a3b-d666-4b9b-a258-672fc51fe0e2",
   "metadata": {},
   "source": [
    "## 检索示例\n",
    "\n",
    "在下面的示例中，我们看到一个更实际的用例，其中我们在链中使用 `RunnablePassthrough` 和 `RunnableParallel` 来正确格式化提示的输入："
   ]
  },
  {
   "cell_type": "code",
   "execution_count": null,
   "id": "267d1460-53c1-4fdb-b2c3-b6a1eb7fccff",
   "metadata": {},
   "outputs": [
    {
     "data": {
      "text/plain": [
       "'Harrison worked at Kensho.'"
      ]
     },
     "execution_count": 3,
     "metadata": {},
     "output_type": "execute_result"
    }
   ],
   "source": [
    "from langchain_community.vectorstores import FAISS\n",
    "from langchain_core.output_parsers import StrOutputParser\n",
    "from langchain_core.prompts import ChatPromptTemplate\n",
    "from langchain_core.runnables import RunnablePassthrough\n",
    "from langchain_openai import ChatOpenAI, OpenAIEmbeddings\n",
    "\n",
    "vectorstore = FAISS.from_texts(\n",
    "    [\"harrison 在 kensho 工作\"], embedding=OpenAIEmbeddings()\n",
    ")\n",
    "retriever = vectorstore.as_retriever()\n",
    "template = \"\"\"仅基于以下上下文回答问题：\n",
    "{context}\n",
    "\n",
    "问题：{question}\n",
    "\"\"\"\n",
    "prompt = ChatPromptTemplate.from_template(template)\n",
    "model = ChatOpenAI()\n",
    "\n",
    "retrieval_chain = (\n",
    "    {\"context\": retriever, \"question\": RunnablePassthrough()}\n",
    "    | prompt\n",
    "    | model\n",
    "    | StrOutputParser()\n",
    ")\n",
    "\n",
    "retrieval_chain.invoke(\"harrison 在哪里工作？\")"
   ]
  },
  {
   "cell_type": "markdown",
   "id": "392cd4c4-e7ed-4ab8-934d-f7a4eca55ee1",
   "metadata": {},
   "source": [
    "这里，提示的输入预期是一个包含 \"context\" 和 \"question\" 键的映射。用户输入仅是问题。所以我们需要使用检索器获取上下文，并将用户输入作为 \"question\" 键传递。`RunnablePassthrough` 允许我们将用户的问题传递给提示和模型。\n",
    "\n",
    "## 下一步\n",
    "\n",
    "现在您已经学会了如何在链中传递数据，以帮助格式化流经链的数据。\n",
    "\n",
    "要了解更多信息，请参阅本节中关于 runnables 的其他操作指南。"
   ]
  }
 ],
 "metadata": {
  "kernelspec": {
   "display_name": "Python 3 (ipykernel)",
   "language": "python",
   "name": "python3"
  },
  "language_info": {
   "codemirror_mode": {
    "name": "ipython",
    "version": 3
   },
   "file_extension": ".py",
   "mimetype": "text/x-python",
   "name": "python",
   "nbconvert_exporter": "python",
   "pygments_lexer": "ipython3",
   "version": "3.9.1"
  }
 },
 "nbformat": 4,
 "nbformat_minor": 5
}
