{
 "cells": [
  {
   "cell_type": "markdown",
   "id": "181b5b6d",
   "metadata": {},
   "source": [
    "# 如何解析 XML 输出\n",
    "\n",
    ":::info 前置条件\n",
    "\n",
    "本指南假设您已熟悉以下概念：\n",
    "- [聊天模型](/docs/concepts/chat_models)\n",
    "- [输出解析器](/docs/concepts/output_parsers)\n",
    "- [提示模板](/docs/concepts/prompt_templates)\n",
    "- [结构化输出](/docs/how_to/structured_output)\n",
    "- [链接 runnables](/docs/how_to/sequence/)\n",
    "\n",
    ":::\n",
    "\n",
    "不同提供商的 LLM 根据其训练数据的不同，通常在特定方面具有不同的优势。这也意味着有些模型在生成 JSON 以外的格式时可能会 \"更好\" 且更可靠。\n",
    "\n",
    "本指南向您展示如何使用 [`XMLOutputParser`](https://python.langchain.com/api_reference/core/output_parsers/langchain_core.output_parsers.xml.XMLOutputParser.html) 来提示模型生成 XML 输出，然后 [解析](/docs/concepts/output_parsers/) 该输出为可用格式。\n",
    "\n",
    ":::note\n",
    "请记住，大型语言模型是不完全可靠的抽象！您需要使用具有足够能力生成格式良好的 XML 的 LLM。\n",
    ":::\n",
    "\n",
    "在以下示例中，我们使用 Anthropic 的 Claude-2 模型 (https://docs.anthropic.com/claude/docs)，这是一个针对 XML 标签进行了优化的模型。"
   ]
  },
  {
   "cell_type": "code",
   "execution_count": null,
   "id": "aee0c52e",
   "metadata": {},
   "outputs": [],
   "source": [
    "%pip install -qU langchain langchain-anthropic\n",
    "\n",
    "import os\n",
    "from getpass import getpass\n",
    "\n",
    "if \"ANTHROPIC_API_KEY\" not in os.environ:\n",
    "    os.environ[\"ANTHROPIC_API_KEY\"] = getpass()"
   ]
  },
  {
   "cell_type": "markdown",
   "id": "da312f86-0d2a-4aef-a09d-1e72bd0ea9b1",
   "metadata": {},
   "source": [
    "让我们从一个简单的模型请求开始。"
   ]
  },
  {
   "cell_type": "code",
   "execution_count": null,
   "id": "b03785af-69fc-40a1-a1be-c04ed6fade70",
   "metadata": {},
   "outputs": [
    {
     "name": "stdout",
     "output_type": "stream",
     "text": [
      "Here is the shortened filmography for Tom Hanks, with movies enclosed in XML tags:\n",
      "\n",
      "<movie>Splash</movie>\n",
      "<movie>Big</movie>\n",
      "<movie>A League of Their Own</movie>\n",
      "<movie>Sleepless in Seattle</movie>\n",
      "<movie>Forrest Gump</movie>\n",
      "<movie>Toy Story</movie>\n",
      "<movie>Apollo 13</movie>\n",
      "<movie>Saving Private Ryan</movie>\n",
      "<movie>Cast Away</movie>\n",
      "<movie>The Da Vinci Code</movie>\n"
     ]
    }
   ],
   "source": [
    "from langchain_anthropic import ChatAnthropic\n",
    "from langchain_core.output_parsers import XMLOutputParser\n",
    "from langchain_core.prompts import PromptTemplate\n",
    "\n",
    "model = ChatAnthropic(model=\"claude-2.1\", max_tokens_to_sample=512, temperature=0.1)\n",
    "\n",
    "actor_query = \"生成汤姆·汉克斯的简要电影作品。\"\n",
    "\n",
    "output = model.invoke(\n",
    "    f\"\"\"{actor_query}\n",
    "请将电影用 <movie></movie> 标签包围\"\"\"\n",
    ")\n",
    "\n",
    "print(output.content)"
   ]
  },
  {
   "cell_type": "markdown",
   "id": "4db65781-3d54-4ba6-ae26-5b4ead47a4c8",
   "metadata": {},
   "source": [
    "这实际上效果很好！但将该 XML 解析为更容易使用的格式会更好。我们可以使用 `XMLOutputParser` 来为提示添加默认格式指令，并将输出的 XML 解析为字典："
   ]
  },
  {
   "cell_type": "code",
   "execution_count": null,
   "id": "6917e057",
   "metadata": {},
   "outputs": [
    {
     "data": {
      "text/plain": [
       "'The output should be formatted as a XML file.\\n1. Output should conform to the tags below. \\n2. If tags are not given, make them on your own.\\n3. Remember to always open and close all the tags.\\n\\nAs an example, for the tags [\"foo\", \"bar\", \"baz\"]:\\n1. String \"<foo>\\n   <bar>\\n      <baz></baz>\\n   </bar>\\n</foo>\" is a well-formatted instance of the schema. \\n2. String \"<foo>\\n   <bar>\\n   </foo>\" is a badly-formatted instance.\\n3. String \"<foo>\\n   <tag>\\n   </tag>\\n</foo>\" is a badly-formatted instance.\\n\\nHere are the output tags:\\n```\\nNone\\n```'"
      ]
     },
     "execution_count": 3,
     "metadata": {},
     "output_type": "execute_result"
    }
   ],
   "source": [
    "parser = XMLOutputParser()\n",
    "\n",
    "# 我们将在下面的提示中添加这些指令\n",
    "parser.get_format_instructions()"
   ]
  },
  {
   "cell_type": "code",
   "execution_count": 4,
   "id": "87ba8d11",
   "metadata": {},
   "outputs": [
    {
     "name": "stdout",
     "output_type": "stream",
     "text": [
      "{'filmography': [{'movie': [{'title': 'Big'}, {'year': '1988'}]}, {'movie': [{'title': 'Forrest Gump'}, {'year': '1994'}]}, {'movie': [{'title': 'Toy Story'}, {'year': '1995'}]}, {'movie': [{'title': 'Saving Private Ryan'}, {'year': '1998'}]}, {'movie': [{'title': 'Cast Away'}, {'year': '2000'}]}]}\n"
     ]
    }
   ],
   "source": [
    "prompt = PromptTemplate(\n",
    "    template=\"\"\"{query}\\n{format_instructions}\"\"\",\n",
    "    input_variables=[\"query\"],\n",
    "    partial_variables={\"format_instructions\": parser.get_format_instructions()},\n",
    ")\n",
    "\n",
    "chain = prompt | model | parser\n",
    "\n",
    "output = chain.invoke({\"query\": actor_query})\n",
    "print(output)"
   ]
  },
  {
   "cell_type": "markdown",
   "id": "327f5479-77e0-4549-8393-2cd7a286d491",
   "metadata": {},
   "source": [
    "我们还可以添加一些标签来定制输出以满足我们的需求。您可以也应该尝试在提示的其他部分添加自己的格式提示，以增强或替换默认指令："
   ]
  },
  {
   "cell_type": "code",
   "execution_count": null,
   "id": "4af50494",
   "metadata": {},
   "outputs": [
    {
     "data": {
      "text/plain": [
       "'The output should be formatted as a XML file.\\n1. Output should conform to the tags below. \\n2. If tags are not given, make them on your own.\\n3. Remember to always open and close all the tags.\\n\\nAs an example, for the tags [\"foo\", \"bar\", \"baz\"]:\\n1. String \"<foo>\\n   <bar>\\n      <baz></baz>\\n   </bar>\\n</foo>\" is a well-formatted instance of the schema. \\n2. String \"<foo>\\n   <bar>\\n   </foo>\" is a badly-formatted instance.\\n3. String \"<foo>\\n   <tag>\\n   </tag>\\n</foo>\" is a badly-formatted instance.\\n\\nHere are the output tags:\\n```\\n[\\'movies\\', \\'actor\\', \\'film\\', \\'name\\', \\'genre\\']\\n```'"
      ]
     },
     "execution_count": 6,
     "metadata": {},
     "output_type": "execute_result"
    }
   ],
   "source": [
    "parser = XMLOutputParser(tags=[\"movies\", \"actor\", \"film\", \"name\", \"genre\"])\n",
    "\n",
    "# 我们将在下面的提示中添加这些指令\n",
    "parser.get_format_instructions()"
   ]
  },
  {
   "cell_type": "code",
   "execution_count": 5,
   "id": "b722a235",
   "metadata": {},
   "outputs": [
    {
     "name": "stdout",
     "output_type": "stream",
     "text": [
      "{'movies': [{'actor': [{'name': 'Tom Hanks'}, {'film': [{'name': 'Forrest Gump'}, {'genre': 'Drama'}]}, {'film': [{'name': 'Cast Away'}, {'genre': 'Adventure'}]}, {'film': [{'name': 'Saving Private Ryan'}, {'genre': 'War'}]}]}]}\n"
     ]
    }
   ],
   "source": [
    "prompt = PromptTemplate(\n",
    "    template=\"\"\"{query}\\n{format_instructions}\"\"\",\n",
    "    input_variables=[\"query\"],\n",
    "    partial_variables={\"format_instructions\": parser.get_format_instructions()},\n",
    ")\n",
    "\n",
    "\n",
    "chain = prompt | model | parser\n",
    "\n",
    "output = chain.invoke({\"query\": actor_query})\n",
    "\n",
    "print(output)"
   ]
  },
  {
   "cell_type": "markdown",
   "id": "61ab269a",
   "metadata": {},
   "source": [
    "这个输出解析器还支持部分块的流式传输。这里是一个示例："
   ]
  },
  {
   "cell_type": "code",
   "execution_count": 7,
   "id": "808a5df5-b11e-42a0-bd7a-6b95ca0c3eba",
   "metadata": {},
   "outputs": [
    {
     "name": "stdout",
     "output_type": "stream",
     "text": [
      "{'movies': [{'actor': [{'name': 'Tom Hanks'}]}]}\n",
      "{'movies': [{'actor': [{'film': [{'name': 'Forrest Gump'}]}]}]}\n",
      "{'movies': [{'actor': [{'film': [{'genre': 'Drama'}]}]}]}\n",
      "{'movies': [{'actor': [{'film': [{'name': 'Cast Away'}]}]}]}\n",
      "{'movies': [{'actor': [{'film': [{'genre': 'Adventure'}]}]}]}\n",
      "{'movies': [{'actor': [{'film': [{'name': 'Saving Private Ryan'}]}]}]}\n",
      "{'movies': [{'actor': [{'film': [{'genre': 'War'}]}]}]}\n"
     ]
    }
   ],
   "source": [
    "for s in chain.stream({\"query\": actor_query}):\n",
    "    print(s)"
   ]
  },
  {
   "cell_type": "markdown",
   "id": "6902fe6f",
   "metadata": {},
   "source": [
    "## 下一步\n",
    "\n",
    "您现在已经学会了如何提示模型返回 XML。接下来，查看[获取结构化输出的更广泛指南](/docs/how_to/structured_output)以了解其他相关技术。"
   ]
  }
 ],
 "metadata": {
  "kernelspec": {
   "display_name": "Python 3 (ipykernel)",
   "language": "python",
   "name": "python3"
  },
  "language_info": {
   "codemirror_mode": {
    "name": "ipython",
    "version": 3
   },
   "file_extension": ".py",
   "mimetype": "text/x-python",
   "name": "python",
   "nbconvert_exporter": "python",
   "pygments_lexer": "ipython3",
   "version": "3.9.1"
  }
 },
 "nbformat": 4,
 "nbformat_minor": 5
}
