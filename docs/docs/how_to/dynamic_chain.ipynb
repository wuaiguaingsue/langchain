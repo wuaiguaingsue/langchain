{
 "cells": [
  {
   "cell_type": "markdown",
   "id": "50d57bf2-7104-4570-b3e5-90fd71e1bea1",
   "metadata": {},
   "source": [
    "# 如何创建动态（自构建）链\n",
    "\n",
    ":::info 前置条件\n",
    "\n",
    "本指南假设您已熟悉以下内容：\n",
    "- [LangChain 表达式语言 (LCEL)](/docs/concepts/lcel)\n",
    "- [如何将任何函数转换为可运行的](/docs/how_to/functions)\n",
    "\n",
    ":::\n",
    "\n",
    "有时我们希望在运行时根据链的输入构建链的部分内容（[路由](/docs/how_to/routing/) 是最常见的例子）。我们可以利用 RunnableLambda 的一个非常有用的特性来创建这样的动态链，即如果 RunnableLambda 返回一个 Runnable，那么该 Runnable 本身会被调用。让我们来看一个示例。\n",
    "\n",
    "import ChatModelTabs from \"@theme/ChatModelTabs\";\n",
    "\n",
    "<ChatModelTabs\n",
    "  customVarName=\"llm\"\n",
    "/>\n"
   ]
  },
  {
   "cell_type": "code",
   "execution_count": 4,
   "id": "406bffc2-86d0-4cb9-9262-5c1e3442397a",
   "metadata": {},
   "outputs": [],
   "source": [
    "# | echo: false\n",
    "\n",
    "from langchain_anthropic import ChatAnthropic\n",
    "\n",
    "llm = ChatAnthropic(model=\"claude-3-sonnet-20240229\")"
   ]
  },
  {
   "cell_type": "code",
   "execution_count": null,
   "id": "0ae6692b-983e-40b8-aa2a-6c078d945b9e",
   "metadata": {},
   "outputs": [
    {
     "data": {
      "text/plain": [
       "\"According to the context provided, Egypt's population in 2024 is estimated to be about 111 million.\""
      ]
     },
     "execution_count": 10,
     "metadata": {},
     "output_type": "execute_result"
    }
   ],
   "source": [
    "from operator import itemgetter\n",
    "\n",
    "from langchain_core.output_parsers import StrOutputParser\n",
    "from langchain_core.prompts import ChatPromptTemplate\n",
    "from langchain_core.runnables import Runnable, RunnablePassthrough, chain\n",
    "\n",
    "contextualize_instructions = \"\"\"将最新的用户问题转换为独立的问题，基于聊天历史。不要回答问题，只返回问题本身（不需要描述性文本）。\"\"\"\n",
    "contextualize_prompt = ChatPromptTemplate.from_messages(\n",
    "    [\n",
    "        (\"system\", contextualize_instructions),\n",
    "        (\"placeholder\", \"{chat_history}\"),\n",
    "        (\"human\", \"{question}\"),\n",
    "    ]\n",
    ")\n",
    "contextualize_question = contextualize_prompt | llm | StrOutputParser()\n",
    "\n",
    "qa_instructions = (\n",
    "    \"\"\"根据以下上下文回答用户问题：\\n\\n{context}。\"\"\"\n",
    ")\n",
    "qa_prompt = ChatPromptTemplate.from_messages(\n",
    "    [(\"system\", qa_instructions), (\"human\", \"{question}\")]\n",
    ")\n",
    "\n",
    "\n",
    "@chain\n",
    "def contextualize_if_needed(input_: dict) -> Runnable:\n",
    "    if input_.get(\"chat_history\"):\n",
    "        # 注意：这里返回的是另一个 Runnable，而不是实际的输出。\n",
    "        return contextualize_question\n",
    "    else:\n",
    "        return RunnablePassthrough() | itemgetter(\"question\")\n",
    "\n",
    "\n",
    "@chain\n",
    "def fake_retriever(input_: dict) -> str:\n",
    "    return \"2024 年埃及的人口约为 1.11 亿\"\n",
    "\n",
    "\n",
    "full_chain = (\n",
    "    RunnablePassthrough.assign(question=contextualize_if_needed).assign(\n",
    "        context=fake_retriever\n",
    "    )\n",
    "    | qa_prompt\n",
    "    | llm\n",
    "    | StrOutputParser()\n",
    ")\n",
    "\n",
    "full_chain.invoke(\n",
    "    {\n",
    "        \"question\": \"埃及怎么样\",\n",
    "        \"chat_history\": [\n",
    "            (\"human\", \"印尼的人口是多少\"),\n",
    "            (\"ai\", \"大约 2.76 亿\"),\n",
    "        ],\n",
    "    }\n",
    ")"
   ]
  },
  {
   "cell_type": "markdown",
   "id": "5076ddb4-4a99-47ad-b549-8ac27ca3e2c6",
   "metadata": {},
   "source": [
    "关键在于 `contextualize_if_needed` 返回另一个 Runnable，而不是实际的输出。当完整链被执行时，这个返回的 Runnable 本身会被运行。\n",
    "\n",
    "从跟踪中可以看到，由于我们传入了 chat_history，我们在完整链中执行了 contextualize_question 链：https://smith.langchain.com/public/9e0ae34c-4082-4f3f-beed-34a2a2f4c991/r"
   ]
  },
  {
   "cell_type": "markdown",
   "id": "4fe6ca44-a643-4859-a290-be68403f51f0",
   "metadata": {},
   "source": [
    "注意，返回的 Runnable 的流式处理、批处理等功能都得到了保留："
   ]
  },
  {
   "cell_type": "code",
   "execution_count": null,
   "id": "6def37fa-5105-4090-9b07-77cb488ecd9c",
   "metadata": {},
   "outputs": [
    {
     "name": "stdout",
     "output_type": "stream",
     "text": [
      "What\n",
      " is\n",
      " the\n",
      " population\n",
      " of\n",
      " Egypt\n",
      "?\n"
     ]
    }
   ],
   "source": [
    "for chunk in contextualize_if_needed.stream(\n",
    "    {\n",
    "        \"question\": \"埃及怎么样\",\n",
    "        \"chat_history\": [\n",
    "            (\"human\", \"印尼的人口是多少\"),\n",
    "            (\"ai\", \"大约 2.76 亿\"),\n",
    "        ],\n",
    "    }\n",
    "):\n",
    "    print(chunk)"
   ]
  },
  {
   "cell_type": "code",
   "execution_count": null,
   "id": "517adb8e",
   "metadata": {},
   "outputs": [],
   "source": [
    "# 批处理示例\n",
    "list(\n",
    "    contextualize_if_needed.batch(\n",
    "        [\n",
    "            {\n",
    "                \"question\": \"埃及怎么样\",\n",
    "                \"chat_history\": [\n",
    "                    (\"human\", \"印尼的人口是多少\"),\n",
    "                    (\"ai\", \"大约 2.76 亿\"),\n",
    "                ],\n",
    "            },\n",
    "            {\"question\": \"埃及怎么样\"},  # 没有聊天历史\n",
    "        ]\n",
    "    )\n",
    ")"
   ]
  }
 ],
 "metadata": {
  "kernelspec": {
   "display_name": "poetry-venv-2",
   "language": "python",
   "name": "poetry-venv-2"
  },
  "language_info": {
   "codemirror_mode": {
    "name": "ipython",
    "version": 3
   },
   "file_extension": ".py",
   "mimetype": "text/x-python",
   "name": "python",
   "nbconvert_exporter": "python",
   "pygments_lexer": "ipython3",
   "version": "3.9.1"
  }
 },
 "nbformat": 4,
 "nbformat_minor": 5
}
