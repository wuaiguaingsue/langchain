{
 "cells": [
  {
   "cell_type": "markdown",
   "metadata": {},
   "source": [
    "# 如何在异步环境中使用回调\n",
    "\n",
    ":::info 前提条件\n",
    "\n",
    "本指南假设您已熟悉以下概念：\n",
    "\n",
    "- [回调](/docs/concepts/callbacks)\n",
    "- [自定义回调处理程序](/docs/how_to/custom_callbacks)\n",
    ":::\n",
    "\n",
    "如果您计划使用异步 API，建议使用并扩展[`AsyncCallbackHandler`](https://python.langchain.com/api_reference/core/callbacks/langchain_core.callbacks.base.AsyncCallbackHandler.html)以避免阻塞事件。\n",
    "\n",
    "\n",
    ":::warning\n",
    "如果您在使用异步方法运行 LLM / Chain / Tool / Agent 时使用同步 `CallbackHandler`，它仍然可以工作。然而，在底层，它将通过[`run_in_executor`](https://docs.python.org/3/library/asyncio-eventloop.html#asyncio.loop.run_in_executor)调用，这可能会导致问题，特别是如果您的 `CallbackHandler` 不是线程安全的。\n",
    ":::\n",
    "\n",
    ":::danger\n",
    "\n",
    "如果您使用的是 `python<=3.10`，需要记住在从 `RunnableLambda`、`RunnableGenerator` 或 `@tool` 中调用其他 `runnable` 时传播 `config` 或 `callbacks`。如果不这样做，回调将不会传播到被调用的子 `runnable`。\n",
    ":::\n"
   ]
  },
  {
   "cell_type": "code",
   "execution_count": null,
   "metadata": {},
   "outputs": [],
   "source": [
    "# | output: false\n",
    "# | echo: false\n",
    "\n",
    "%pip install -qU langchain langchain_anthropic\n",
    "\n",
    "import getpass\n",
    "import os\n",
    "\n",
    "os.environ[\"ANTHROPIC_API_KEY\"] = getpass.getpass()"
   ]
  },
  {
   "cell_type": "code",
   "execution_count": null,
   "metadata": {},
   "outputs": [
    {
     "name": "stdout",
     "output_type": "stream",
     "text": [
      "zzzz....\n",
      "Hi! I just woke up. Your llm is starting\n",
      "Sync handler being called in a `thread_pool_executor`: token: Here\n",
      "Sync handler being called in a `thread_pool_executor`: token: 's\n",
      "Sync handler being called in a `thread_pool_executor`: token:  a\n",
      "Sync handler being called in a `thread_pool_executor`: token:  little\n",
      "Sync handler being called in a `thread_pool_executor`: token:  joke\n",
      "Sync handler being called in a `thread_pool_executor`: token:  for\n",
      "Sync handler being called in a `thread_pool_executor`: token:  you\n",
      "Sync handler being called in a `thread_pool_executor`: token: :\n",
      "Sync handler being called in a `thread_pool_executor`: token: \n",
      "\n",
      "Why\n",
      "Sync handler being called in a `thread_pool_executor`: token:  can\n",
      "Sync handler being called in a `thread_pool_executor`: token: 't\n",
      "Sync handler being called in a `thread_pool_executor`: token:  a\n",
      "Sync handler being called in a `thread_pool_executor`: token:  bicycle\n",
      "Sync handler being called in a `thread_pool_executor`: token:  stan\n",
      "Sync handler being called in a `thread_pool_executor`: token: d up\n",
      "Sync handler being called in a `thread_pool_executor`: token:  by\n",
      "Sync handler being called in a `thread_pool_executor`: token:  itself\n",
      "Sync handler being called in a `thread_pool_executor`: token: ?\n",
      "Sync handler being called in a `thread_pool_executor`: token:  Because\n",
      "Sync handler being called in a `thread_pool_executor`: token:  it\n",
      "Sync handler being called in a `thread_pool_executor`: token: 's\n",
      "Sync handler being called in a `thread_pool_executor`: token:  two\n",
      "Sync handler being called in a `thread_pool_executor`: token: -\n",
      "Sync handler being called in a `thread_pool_executor`: token: tire\n",
      "zzzz....\n",
      "Hi! I just woke up. Your llm is ending\n"
     ]
    },
    {
     "data": {
      "text/plain": [
       "LLMResult(generations=[[ChatGeneration(text=\"Here's a little joke for you:\\n\\nWhy can't a bicycle stand up by itself? Because it's two-tire\", message=AIMessage(content=\"Here's a little joke for you:\\n\\nWhy can't a bicycle stand up by itself? Because it's two-tire\", id='run-8afc89e8-02c0-4522-8480-d96977240bd4-0'))]], llm_output={}, run=[RunInfo(run_id=UUID('8afc89e8-02c0-4522-8480-d96977240bd4'))])"
      ]
     },
     "execution_count": 2,
     "metadata": {},
     "output_type": "execute_result"
    }
   ],
   "source": [
    "import asyncio\n",
    "from typing import Any, Dict, List\n",
    "\n",
    "from langchain_anthropic import ChatAnthropic\n",
    "from langchain_core.callbacks import AsyncCallbackHandler, BaseCallbackHandler\n",
    "from langchain_core.messages import HumanMessage\n",
    "from langchain_core.outputs import LLMResult\n",
    "\n",
    "\n",
    "class MyCustomSyncHandler(BaseCallbackHandler):\n",
    "    def on_llm_new_token(self, token: str, **kwargs) -> None:\n",
    "        print(f\"同步处理程序在 `thread_pool_executor` 中被调用：token: {token}\")\n",
    "\n",
    "\n",
    "class MyCustomAsyncHandler(AsyncCallbackHandler):\n",
    "    \"\"\"可以用于处理来自 langchain 的回调的异步回调处理程序。\"\"\"\n",
    "\n",
    "    async def on_llm_start(\n",
    "        self, serialized: Dict[str, Any], prompts: List[str], **kwargs: Any\n",
    "    ) -> None:\n",
    "        \"\"\"当链开始运行时调用。\"\"\"\n",
    "        print(\"zzzz....\")\n",
    "        await asyncio.sleep(0.3)\n",
    "        class_name = serialized[\"name\"]\n",
    "        print(\"你好！我刚刚醒来。你的 LLM 正在启动\")\n",
    "\n",
    "    async def on_llm_end(self, response: LLMResult, **kwargs: Any) -> None:\n",
    "        \"\"\"当链结束运行时调用。\"\"\"\n",
    "        print(\"zzzz....\")\n",
    "        await asyncio.sleep(0.3)\n",
    "        print(\"你好！我刚刚醒来。你的 LLM 正在结束\")\n",
    "\n",
    "\n",
    "# 为了启用流式传输，我们在 ChatModel 构造函数中传入 `streaming=True`\n",
    "# 此外，我们传入一个包含自定义处理程序的列表\n",
    "chat = ChatAnthropic(\n",
    "    model=\"claude-3-sonnet-20240229\",\n",
    "    max_tokens=25,\n",
    "    streaming=True,\n",
    "    callbacks=[MyCustomSyncHandler(), MyCustomAsyncHandler()],\n",
    ")\n",
    "\n",
    "await chat.agenerate([[HumanMessage(content=\"讲个笑话\")]])"
   ]
  },
  {
   "cell_type": "markdown",
   "metadata": {},
   "source": [
    "## 下一步\n",
    "\n",
    "您现在已经了解了如何创建自定义回调处理程序。\n",
    "\n",
    "接下来，请查看本节中的其他操作指南，例如[如何将回调附加到可运行对象](/docs/how_to/callbacks_attach)。"
   ]
  }
 ],
 "metadata": {
  "kernelspec": {
   "display_name": "Python 3 (ipykernel)",
   "language": "python",
   "name": "python3"
  },
  "language_info": {
   "codemirror_mode": {
    "name": "ipython",
    "version": 3
   },
   "file_extension": ".py",
   "mimetype": "text/x-python",
   "name": "python",
   "nbconvert_exporter": "python",
   "pygments_lexer": "ipython3",
   "version": "3.9.6"
  }
 },
 "nbformat": 4,
 "nbformat_minor": 4
}
