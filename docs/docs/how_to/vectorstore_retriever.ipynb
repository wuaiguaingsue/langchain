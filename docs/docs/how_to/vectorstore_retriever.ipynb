{
 "cells": [
  {
   "cell_type": "raw",
   "id": "ee14951b",
   "metadata": {},
   "source": [
    "---\n",
    "sidebar_position: 0\n",
    "---"
   ]
  },
  {
   "cell_type": "markdown",
   "id": "105cddce",
   "metadata": {},
   "source": [
    "# 如何使用向量存储作为检索器\n",
    "\n",
    "向量存储检索器是一种 [检索器](/docs/concepts/retrievers/)，它使用 [向量存储](/docs/concepts/vectorstores/) 来检索文档。这是向量存储类的一个轻量级包装，使其符合检索器 [接口](/docs/concepts/runnables/)。\n",
    "它使用向量存储实现的搜索方法（如相似性搜索和 MMR）来查询向量存储中的文本。\n",
    "\n",
    "在本指南中，我们将介绍：\n",
    "\n",
    "1. 如何从向量存储实例化检索器；\n",
    "2. 如何为检索器指定搜索类型；\n",
    "3. 如何指定其他搜索参数，例如阈值分数和 top-k。\n",
    "\n",
    "## 从向量存储创建检索器\n",
    "\n",
    "您可以使用其 [.as_retriever](https://python.langchain.com/api_reference/core/vectorstores/langchain_core.vectorstores.base.VectorStore.html#langchain_core.vectorstores.base.VectorStore.as_retriever) 方法从向量存储构建检索器。让我们通过一个示例来说明。\n",
    "\n",
    "首先，我们实例化一个向量存储。我们将使用一个内存中的 [FAISS](https://python.langchain.com/api_reference/community/vectorstores/langchain_community.vectorstores.faiss.FAISS.html) 向量存储："
   ]
  },
  {
   "cell_type": "code",
   "execution_count": 1,
   "id": "174e3c69",
   "metadata": {},
   "outputs": [],
   "source": [
    "from langchain_community.document_loaders import TextLoader\n",
    "from langchain_community.vectorstores import FAISS\n",
    "from langchain_openai import OpenAIEmbeddings\n",
    "from langchain_text_splitters import CharacterTextSplitter\n",
    "\n",
    "loader = TextLoader(\"state_of_the_union.txt\")\n",
    "\n",
    "documents = loader.load()\n",
    "text_splitter = CharacterTextSplitter(chunk_size=1000, chunk_overlap=0)\n",
    "texts = text_splitter.split_documents(documents)\n",
    "embeddings = OpenAIEmbeddings()\n",
    "vectorstore = FAISS.from_documents(texts, embeddings)"
   ]
  },
  {
   "cell_type": "markdown",
   "id": "6f6e65a1-5eb4-4165-b06b-9bb40624a8d8",
   "metadata": {},
   "source": [
    "然后我们可以实例化一个检索器："
   ]
  },
  {
   "cell_type": "code",
   "execution_count": 2,
   "id": "52df5f55",
   "metadata": {},
   "outputs": [],
   "source": [
    "retriever = vectorstore.as_retriever()"
   ]
  },
  {
   "cell_type": "markdown",
   "id": "08f8b820-5912-49c1-9d76-40be0571dffb",
   "metadata": {},
   "source": [
    "这将创建一个检索器（特别是一个 [VectorStoreRetriever](https://python.langchain.com/api_reference/core/vectorstores/langchain_core.vectorstores.base.VectorStoreRetriever.html)），我们可以像往常一样使用它："
   ]
  },
  {
   "cell_type": "code",
   "execution_count": null,
   "id": "32334fda",
   "metadata": {},
   "outputs": [],
   "source": [
    "docs = retriever.invoke(\"总统关于 ketanji brown jackson 说了什么？\")"
   ]
  },
  {
   "cell_type": "markdown",
   "id": "fd7b19f0",
   "metadata": {},
   "source": [
    "## 最大边际相关性检索\n",
    "默认情况下，向量存储检索器使用相似性搜索。如果底层向量存储支持最大边际相关性搜索，您可以将其指定为搜索类型。\n",
    "\n",
    "这实际上指定了底层向量存储中使用的方法（例如，`similarity_search`、`max_marginal_relevance_search` 等）。"
   ]
  },
  {
   "cell_type": "code",
   "execution_count": 4,
   "id": "b286ac04",
   "metadata": {},
   "outputs": [],
   "source": [
    "retriever = vectorstore.as_retriever(search_type=\"mmr\")"
   ]
  },
  {
   "cell_type": "code",
   "execution_count": null,
   "id": "07f937f7",
   "metadata": {},
   "outputs": [],
   "source": [
    "docs = retriever.invoke(\"总统关于 ketanji brown jackson 说了什么？\")"
   ]
  },
  {
   "cell_type": "markdown",
   "id": "6ce77789",
   "metadata": {},
   "source": [
    "## 传递搜索参数\n",
    "\n",
    "我们可以使用 `search_kwargs` 将参数传递给底层向量存储的搜索方法。\n",
    "\n",
    "### 相似性分数阈值检索\n",
    "\n",
    "例如，我们可以设置相似性分数阈值，仅返回分数高于该阈值的文档。"
   ]
  },
  {
   "cell_type": "code",
   "execution_count": 6,
   "id": "dbb38a03",
   "metadata": {},
   "outputs": [],
   "source": [
    "retriever = vectorstore.as_retriever(\n",
    "    search_type=\"similarity_score_threshold\", search_kwargs={\"score_threshold\": 0.5}\n",
    ")"
   ]
  },
  {
   "cell_type": "code",
   "execution_count": null,
   "id": "56f6c9ae",
   "metadata": {},
   "outputs": [],
   "source": [
    "docs = retriever.invoke(\"总统关于 ketanji brown jackson 说了什么？\")"
   ]
  },
  {
   "cell_type": "markdown",
   "id": "329f5b26",
   "metadata": {},
   "source": [
    "### 指定 top k\n",
    "\n",
    "我们还可以限制检索器返回的文档数量 `k`。"
   ]
  },
  {
   "cell_type": "code",
   "execution_count": 8,
   "id": "d712c91d",
   "metadata": {},
   "outputs": [],
   "source": [
    "retriever = vectorstore.as_retriever(search_kwargs={\"k\": 1})"
   ]
  },
  {
   "cell_type": "code",
   "execution_count": null,
   "id": "a79b573b",
   "metadata": {},
   "outputs": [
    {
     "data": {
      "text/plain": [
       "1"
      ]
     },
     "execution_count": 9,
     "metadata": {},
     "output_type": "execute_result"
    }
   ],
   "source": [
    "docs = retriever.invoke(\"总统关于 ketanji brown jackson 说了什么？\")\n",
    "len(docs)"
   ]
  }
 ],
 "metadata": {
  "kernelspec": {
   "display_name": "Python 3 (ipykernel)",
   "language": "python",
   "name": "python3"
  },
  "language_info": {
   "codemirror_mode": {
    "name": "ipython",
    "version": 3
   },
   "file_extension": ".py",
   "mimetype": "text/x-python",
   "name": "python",
   "nbconvert_exporter": "python",
   "pygments_lexer": "ipython3",
   "version": "3.10.4"
  }
 },
 "nbformat": 4,
 "nbformat_minor": 5
}
