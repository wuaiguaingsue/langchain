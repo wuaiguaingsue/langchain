{
 "cells": [
  {
   "cell_type": "markdown",
   "id": "34883374",
   "metadata": {},
   "source": [
    "# 如何使用父文档检索器\n",
    "\n",
    "在为 [检索](/docs/concepts/retrieval/) 拆分文档时，通常会有以下冲突的需求：\n",
    "\n",
    "1. 您可能希望文档较小，以便其嵌入能够最准确地反映其含义。如果太长，则嵌入可能会失去意义。\n",
    "2. 您希望文档足够长，以保留每个块的上下文。\n",
    "\n",
    "`ParentDocumentRetriever` 通过拆分和存储小块数据来平衡这些需求。在检索过程中，它首先获取小块数据，然后查找这些块的父 ID，并返回这些较大的文档。\n",
    "\n",
    "请注意，“父文档”是指小块数据来源的文档。这可以是整个原始文档或更大的块。"
   ]
  },
  {
   "cell_type": "code",
   "execution_count": 1,
   "id": "8b6e74b2",
   "metadata": {},
   "outputs": [],
   "source": [
    "from langchain.retrievers import ParentDocumentRetriever"
   ]
  },
  {
   "cell_type": "code",
   "execution_count": 2,
   "id": "1d17af96",
   "metadata": {},
   "outputs": [],
   "source": [
    "from langchain.storage import InMemoryStore\n",
    "from langchain_chroma import Chroma\n",
    "from langchain_community.document_loaders import TextLoader\n",
    "from langchain_openai import OpenAIEmbeddings\n",
    "from langchain_text_splitters import RecursiveCharacterTextSplitter"
   ]
  },
  {
   "cell_type": "code",
   "execution_count": 3,
   "id": "604ff981",
   "metadata": {},
   "outputs": [],
   "source": [
    "loaders = [\n",
    "    TextLoader(\"paul_graham_essay.txt\"),\n",
    "    TextLoader(\"state_of_the_union.txt\"),\n",
    "]\n",
    "docs = []\n",
    "for loader in loaders:\n",
    "    docs.extend(loader.load())"
   ]
  },
  {
   "cell_type": "markdown",
   "id": "d3943f72",
   "metadata": {},
   "source": [
    "## 检索完整文档\n",
    "\n",
    "在此模式下，我们希望检索完整文档。因此，我们只需指定一个子 [拆分器](/docs/concepts/text_splitters/)。"
   ]
  },
  {
   "cell_type": "code",
   "execution_count": null,
   "id": "1a8b2e5f",
   "metadata": {},
   "outputs": [],
   "source": [
    "# 此文本拆分器用于创建子文档\n",
    "child_splitter = RecursiveCharacterTextSplitter(chunk_size=400)\n",
    "# 用于索引子块的向量存储\n",
    "vectorstore = Chroma(\n",
    "    collection_name=\"full_documents\", embedding_function=OpenAIEmbeddings()\n",
    ")\n",
    "# 父文档的存储层\n",
    "store = InMemoryStore()\n",
    "retriever = ParentDocumentRetriever(\n",
    "    vectorstore=vectorstore,\n",
    "    docstore=store,\n",
    "    child_splitter=child_splitter,\n",
    ")"
   ]
  },
  {
   "cell_type": "code",
   "execution_count": 5,
   "id": "2b107935",
   "metadata": {},
   "outputs": [],
   "source": [
    "retriever.add_documents(docs, ids=None)"
   ]
  },
  {
   "cell_type": "markdown",
   "id": "d05b97b7",
   "metadata": {},
   "source": [
    "这应该会生成两个键，因为我们添加了两个文档。"
   ]
  },
  {
   "cell_type": "code",
   "execution_count": 6,
   "id": "30e3812b",
   "metadata": {},
   "outputs": [
    {
     "data": {
      "text/plain": [
       "['9a63376c-58cc-42c9-b0f7-61f0e1a3a688',\n",
       " '40091598-e918-4a18-9be0-f46413a95ae4']"
      ]
     },
     "execution_count": 6,
     "metadata": {},
     "output_type": "execute_result"
    }
   ],
   "source": [
    "list(store.yield_keys())"
   ]
  },
  {
   "cell_type": "markdown",
   "id": "f895d62b",
   "metadata": {},
   "source": [
    "现在让我们调用向量存储的搜索功能——我们应该看到它返回了小块数据（因为我们存储的是小块数据）。"
   ]
  },
  {
   "cell_type": "code",
   "execution_count": 7,
   "id": "b261c02c",
   "metadata": {},
   "outputs": [],
   "source": [
    "sub_docs = vectorstore.similarity_search(\"justice breyer\")"
   ]
  },
  {
   "cell_type": "code",
   "execution_count": 8,
   "id": "5108222f",
   "metadata": {},
   "outputs": [
    {
     "name": "stdout",
     "output_type": "stream",
     "text": [
      "Tonight, I’d like to honor someone who has dedicated his life to serve this country: Justice Stephen Breyer—an Army veteran, Constitutional scholar, and retiring Justice of the United States Supreme Court. Justice Breyer, thank you for your service. \n",
      "\n",
      "One of the most serious constitutional responsibilities a President has is nominating someone to serve on the United States Supreme Court.\n"
     ]
    }
   ],
   "source": [
    "print(sub_docs[0].page_content)"
   ]
  },
  {
   "cell_type": "markdown",
   "id": "bda8ed5a",
   "metadata": {},
   "source": [
    "现在让我们从整体检索器中检索。这应该返回较大的文档——因为它返回了包含较小块的文档。"
   ]
  },
  {
   "cell_type": "code",
   "execution_count": 9,
   "id": "419a91c4",
   "metadata": {},
   "outputs": [],
   "source": [
    "retrieved_docs = retriever.invoke(\"justice breyer\")"
   ]
  },
  {
   "cell_type": "code",
   "execution_count": 10,
   "id": "cf10d250",
   "metadata": {},
   "outputs": [
    {
     "data": {
      "text/plain": [
       "38540"
      ]
     },
     "execution_count": 10,
     "metadata": {},
     "output_type": "execute_result"
    }
   ],
   "source": [
    "len(retrieved_docs[0].page_content)"
   ]
  },
  {
   "cell_type": "markdown",
   "id": "14f813a5",
   "metadata": {},
   "source": [
    "## 检索较大的块\n",
    "\n",
    "有时，完整文档可能太大而无法直接检索。在这种情况下，我们真正想要做的是首先将原始文档拆分为较大的块，然后再将其拆分为较小的块。我们随后索引较小的块，但在检索时，我们检索较大的块（但仍然不是完整文档）。"
   ]
  },
  {
   "cell_type": "code",
   "execution_count": null,
   "id": "b6f9a4f0",
   "metadata": {},
   "outputs": [],
   "source": [
    "# 此文本拆分器用于创建父文档\n",
    "parent_splitter = RecursiveCharacterTextSplitter(chunk_size=2000)\n",
    "# 此文本拆分器用于创建子文档\n",
    "# 它应创建小于父文档的文档\n",
    "child_splitter = RecursiveCharacterTextSplitter(chunk_size=400)\n",
    "# 用于索引子块的向量存储\n",
    "vectorstore = Chroma(\n",
    "    collection_name=\"split_parents\", embedding_function=OpenAIEmbeddings()\n",
    ")\n",
    "# 父文档的存储层\n",
    "store = InMemoryStore()"
   ]
  },
  {
   "cell_type": "code",
   "execution_count": 12,
   "id": "19478ff3",
   "metadata": {},
   "outputs": [],
   "source": [
    "retriever = ParentDocumentRetriever(\n",
    "    vectorstore=vectorstore,\n",
    "    docstore=store,\n",
    "    child_splitter=child_splitter,\n",
    "    parent_splitter=parent_splitter,\n",
    ")"
   ]
  },
  {
   "cell_type": "code",
   "execution_count": 13,
   "id": "fe16e620",
   "metadata": {},
   "outputs": [],
   "source": [
    "retriever.add_documents(docs)"
   ]
  },
  {
   "cell_type": "markdown",
   "id": "64ad3c8c",
   "metadata": {},
   "source": [
    "我们可以看到现在有远多于两个文档——这些是较大的块。"
   ]
  },
  {
   "cell_type": "code",
   "execution_count": 14,
   "id": "24d81886",
   "metadata": {},
   "outputs": [
    {
     "data": {
      "text/plain": [
       "66"
      ]
     },
     "execution_count": 14,
     "metadata": {},
     "output_type": "execute_result"
    }
   ],
   "source": [
    "len(list(store.yield_keys()))"
   ]
  },
  {
   "cell_type": "markdown",
   "id": "baaef673",
   "metadata": {},
   "source": [
    "让我们确保底层向量存储仍然检索小块数据。"
   ]
  },
  {
   "cell_type": "code",
   "execution_count": 15,
   "id": "b1c859de",
   "metadata": {},
   "outputs": [],
   "source": [
    "sub_docs = vectorstore.similarity_search(\"justice breyer\")"
   ]
  },
  {
   "cell_type": "code",
   "execution_count": 16,
   "id": "6fffa2eb",
   "metadata": {},
   "outputs": [
    {
     "name": "stdout",
     "output_type": "stream",
     "text": [
      "Tonight, I’d like to honor someone who has dedicated his life to serve this country: Justice Stephen Breyer—an Army veteran, Constitutional scholar, and retiring Justice of the United States Supreme Court. Justice Breyer, thank you for your service. \n",
      "\n",
      "One of the most serious constitutional responsibilities a President has is nominating someone to serve on the United States Supreme Court.\n"
     ]
    }
   ],
   "source": [
    "print(sub_docs[0].page_content)"
   ]
  },
  {
   "cell_type": "code",
   "execution_count": 18,
   "id": "3a3202df",
   "metadata": {},
   "outputs": [],
   "source": [
    "retrieved_docs = retriever.invoke(\"justice breyer\")"
   ]
  },
  {
   "cell_type": "code",
   "execution_count": 19,
   "id": "684fdb2c",
   "metadata": {},
   "outputs": [
    {
     "data": {
      "text/plain": [
       "1849"
      ]
     },
     "execution_count": 19,
     "metadata": {},
     "output_type": "execute_result"
    }
   ],
   "source": [
    "len(retrieved_docs[0].page_content)"
   ]
  },
  {
   "cell_type": "code",
   "execution_count": 20,
   "id": "9f17f662",
   "metadata": {},
   "outputs": [
    {
     "name": "stdout",
     "output_type": "stream",
     "text": [
      "In state after state, new laws have been passed, not only to suppress the vote, but to subvert entire elections. \n",
      "\n",
      "We cannot let this happen. \n",
      "\n",
      "Tonight. I call on the Senate to: Pass the Freedom to Vote Act. Pass the John Lewis Voting Rights Act. And while you’re at it, pass the Disclose Act so Americans can know who is funding our elections. \n",
      "\n",
      "Tonight, I’d like to honor someone who has dedicated his life to serve this country: Justice Stephen Breyer—an Army veteran, Constitutional scholar, and retiring Justice of the United States Supreme Court. Justice Breyer, thank you for your service. \n",
      "\n",
      "One of the most serious constitutional responsibilities a President has is nominating someone to serve on the United States Supreme Court. \n",
      "\n",
      "And I did that 4 days ago, when I nominated Circuit Court of Appeals Judge Ketanji Brown Jackson. One of our nation’s top legal minds, who will continue Justice Breyer’s legacy of excellence. \n",
      "\n",
      "A former top litigator in private practice. A former federal public defender. And from a family of public school educators and police officers. A consensus builder. Since she’s been nominated, she’s received a broad range of support—from the Fraternal Order of Police to former judges appointed by Democrats and Republicans. \n",
      "\n",
      "And if we are to advance liberty and justice, we need to secure the Border and fix the immigration system. \n",
      "\n",
      "We can do both. At our border, we’ve installed new technology like cutting-edge scanners to better detect drug smuggling.  \n",
      "\n",
      "We’ve set up joint patrols with Mexico and Guatemala to catch more human traffickers.  \n",
      "\n",
      "We’re putting in place dedicated immigration judges so families fleeing persecution and violence can have their cases heard faster. \n",
      "\n",
      "We’re securing commitments and supporting partners in South and Central America to host more refugees and secure their own borders.\n"
     ]
    }
   ],
   "source": [
    "print(retrieved_docs[0].page_content)"
   ]
  }
 ],
 "metadata": {
  "kernelspec": {
   "display_name": "Python 3 (ipykernel)",
   "language": "python",
   "name": "python3"
  },
  "language_info": {
   "codemirror_mode": {
    "name": "ipython",
    "version": 3
   },
   "file_extension": ".py",
   "mimetype": "text/x-python",
   "name": "python",
   "nbconvert_exporter": "python",
   "pygments_lexer": "ipython3",
   "version": "3.10.4"
  }
 },
 "nbformat": 4,
 "nbformat_minor": 5
}
