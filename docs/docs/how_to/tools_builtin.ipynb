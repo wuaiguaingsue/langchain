{
 "cells": [
  {
   "cell_type": "raw",
   "id": "7f219241",
   "metadata": {},
   "source": [
    "---\n",
    "sidebar_position: 4\n",
    "sidebar_class_name: hidden\n",
    "---"
   ]
  },
  {
   "attachments": {},
   "cell_type": "markdown",
   "id": "e8f68de0-7df7-4bfd-9207-3258431426ef",
   "metadata": {},
   "source": [
    "# 如何使用内置工具和工具包\n",
    "\n",
    ":::info 前提条件\n",
    "\n",
    "本指南假定您熟悉以下概念：\n",
    "\n",
    "- [LangChain工具](/docs/concepts/tools)\n",
    "- [LangChain工具包](/docs/concepts/tools)\n",
    "\n",
    ":::\n",
    "\n",
    "## 工具\n",
    "\n",
    "LangChain拥有大量第三方工具集合。请访问[工具集成](/docs/integrations/tools/)查看可用工具列表。\n",
    "\n",
    ":::important\n",
    "\n",
    "使用第三方工具时，请确保您了解该工具的工作原理和权限。\n",
    "阅读其文档并检查从安全角度来看是否需要您做些什么。\n",
    "更多信息请参阅我们的[安全](https://python.langchain.com/docs/security/)\n",
    "指南。\n",
    "\n",
    ":::\n",
    "\n",
    "让我们试用[Wikipedia集成](/docs/integrations/tools/wikipedia/)。"
   ]
  },
  {
   "cell_type": "code",
   "execution_count": 1,
   "id": "84f70856-b865-4658-9930-7577fb4712ce",
   "metadata": {
    "execution": {
     "iopub.execute_input": "2024-09-11T03:01:11.847104Z",
     "iopub.status.busy": "2024-09-11T03:01:11.846727Z",
     "iopub.status.idle": "2024-09-11T03:01:13.200038Z",
     "shell.execute_reply": "2024-09-11T03:01:13.199355Z"
    }
   },
   "outputs": [],
   "source": [
    "!pip install -qU langchain-community wikipedia"
   ]
  },
  {
   "cell_type": "code",
   "execution_count": 2,
   "id": "b4eaed85-c5a6-4ba9-b401-40258b0131c2",
   "metadata": {
    "execution": {
     "iopub.execute_input": "2024-09-11T03:01:13.203356Z",
     "iopub.status.busy": "2024-09-11T03:01:13.202996Z",
     "iopub.status.idle": "2024-09-11T03:01:14.740686Z",
     "shell.execute_reply": "2024-09-11T03:01:14.739748Z"
    }
   },
   "outputs": [
    {
     "name": "stdout",
     "output_type": "stream",
     "text": [
      "Page: LangChain\n",
      "Summary: LangChain is a framework designed to simplify the creation of applications \n"
     ]
    }
   ],
   "source": [
    "from langchain_community.tools import WikipediaQueryRun\n",
    "from langchain_community.utilities import WikipediaAPIWrapper\n",
    "\n",
    "api_wrapper = WikipediaAPIWrapper(top_k_results=1, doc_content_chars_max=100)\n",
    "tool = WikipediaQueryRun(api_wrapper=api_wrapper)\n",
    "\n",
    "print(tool.invoke({\"query\": \"langchain\"}))"
   ]
  },
  {
   "cell_type": "markdown",
   "id": "cb870984-52d5-4453-be35-7072a08c6c14",
   "metadata": {},
   "source": [
    "该工具具有以下默认关联值："
   ]
  },
  {
   "cell_type": "code",
   "execution_count": null,
   "id": "7f094f01-2e98-4947-acc4-0846963a96e0",
   "metadata": {
    "execution": {
     "iopub.execute_input": "2024-09-11T03:01:14.745018Z",
     "iopub.status.busy": "2024-09-11T03:01:14.744347Z",
     "iopub.status.idle": "2024-09-11T03:01:14.752527Z",
     "shell.execute_reply": "2024-09-11T03:01:14.752112Z"
    }
   },
   "outputs": [
    {
     "name": "stdout",
     "output_type": "stream",
     "text": [
      "Name: wikipedia\n",
      "Description: A wrapper around Wikipedia. Useful for when you need to answer general questions about people, places, companies, facts, historical events, or other subjects. Input should be a search query.\n",
      "args schema: {'query': {'description': 'query to look up on wikipedia', 'title': 'Query', 'type': 'string'}}\n",
      "returns directly?: False\n"
     ]
    }
   ],
   "source": [
    "print(f\"名称: {tool.name}\")\n",
    "print(f\"描述: {tool.description}\")\n",
    "print(f\"参数模式: {tool.args}\")\n",
    "print(f\"直接返回结果?: {tool.return_direct}\")"
   ]
  },
  {
   "cell_type": "markdown",
   "id": "19eee1d5",
   "metadata": {},
   "source": [
    "## 自定义默认工具\n",
    "我们还可以修改内置的名称、描述和参数的JSON模式。\n",
    "\n",
    "在定义参数的JSON模式时，重要的是保持输入与函数相同，所以您不应该改变这一点。但您可以轻松地为每个输入定义自定义描述。"
   ]
  },
  {
   "cell_type": "code",
   "execution_count": null,
   "id": "1365784c-e666-41c8-a1bb-e50f822b5936",
   "metadata": {
    "execution": {
     "iopub.execute_input": "2024-09-11T03:01:14.755274Z",
     "iopub.status.busy": "2024-09-11T03:01:14.755068Z",
     "iopub.status.idle": "2024-09-11T03:01:15.375704Z",
     "shell.execute_reply": "2024-09-11T03:01:15.374841Z"
    }
   },
   "outputs": [
    {
     "name": "stdout",
     "output_type": "stream",
     "text": [
      "Page: LangChain\n",
      "Summary: LangChain is a framework designed to simplify the creation of applications \n"
     ]
    }
   ],
   "source": [
    "from langchain_community.tools import WikipediaQueryRun\n",
    "from langchain_community.utilities import WikipediaAPIWrapper\n",
    "from pydantic import BaseModel, Field\n",
    "\n",
    "\n",
    "class WikiInputs(BaseModel):\n",
    "    \"\"\"Wikipedia工具的输入。\"\"\"\n",
    "\n",
    "    query: str = Field(\n",
    "        description=\"在Wikipedia中查询的问题，应该是3个或更少的单词\"\n",
    "    )\n",
    "\n",
    "\n",
    "tool = WikipediaQueryRun(\n",
    "    name=\"wiki-tool\",\n",
    "    description=\"在维基百科中查找信息\",\n",
    "    args_schema=WikiInputs,\n",
    "    api_wrapper=api_wrapper,\n",
    "    return_direct=True,\n",
    ")\n",
    "\n",
    "print(tool.run(\"langchain\"))"
   ]
  },
  {
   "cell_type": "code",
   "execution_count": null,
   "id": "6e8850d6-6840-443e-a2be-adf64b30975c",
   "metadata": {
    "execution": {
     "iopub.execute_input": "2024-09-11T03:01:15.378598Z",
     "iopub.status.busy": "2024-09-11T03:01:15.378414Z",
     "iopub.status.idle": "2024-09-11T03:01:15.382248Z",
     "shell.execute_reply": "2024-09-11T03:01:15.381801Z"
    }
   },
   "outputs": [
    {
     "name": "stdout",
     "output_type": "stream",
     "text": [
      "Name: wiki-tool\n",
      "Description: look up things in wikipedia\n",
      "args schema: {'query': {'description': 'query to look up in Wikipedia, should be 3 or less words', 'title': 'Query', 'type': 'string'}}\n",
      "returns directly?: True\n"
     ]
    }
   ],
   "source": [
    "print(f\"名称: {tool.name}\")\n",
    "print(f\"描述: {tool.description}\")\n",
    "print(f\"参数模式: {tool.args}\")\n",
    "print(f\"直接返回结果?: {tool.return_direct}\")"
   ]
  },
  {
   "attachments": {},
   "cell_type": "markdown",
   "id": "acf0c2f7-ddc6-4633-8cef-59f234321e5c",
   "metadata": {},
   "source": [
    "## 如何使用内置工具包\n",
    "\n",
    "工具包是为特定任务设计的工具集合。它们提供了方便的加载方法。\n",
    "\n",
    "所有工具包都公开了一个`get_tools`方法，该方法返回工具列表。\n",
    "\n",
    "您通常应该这样使用它们：\n",
    "\n",
    "```python\n",
    "# 初始化工具包\n",
    "toolkit = ExampleTookit(...)\n",
    "\n",
    "# 获取工具列表\n",
    "tools = toolkit.get_tools()\n",
    "```"
   ]
  }
 ],
 "metadata": {
  "kernelspec": {
   "display_name": "poetry-venv-311",
   "language": "python",
   "name": "poetry-venv-311"
  },
  "language_info": {
   "codemirror_mode": {
    "name": "ipython",
    "version": 3
   },
   "file_extension": ".py",
   "mimetype": "text/x-python",
   "name": "python",
   "nbconvert_exporter": "python",
   "pygments_lexer": "ipython3",
   "version": "3.11.9"
  }
 },
 "nbformat": 4,
 "nbformat_minor": 5
}
