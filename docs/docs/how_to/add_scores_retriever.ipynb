{
 "cells": [
  {
   "cell_type": "markdown",
   "id": "9d59582a-6473-4b34-929b-3e94cb443c3d",
   "metadata": {},
   "source": [
    "# 如何为检索器结果添加分数\n",
    "\n",
    "[检索器](/docs/concepts/retrievers/)将返回[Document](https://python.langchain.com/api_reference/core/documents/langchain_core.documents.base.Document.html)对象的序列，这些对象默认不包含有关检索过程的信息（例如，与查询的相似性分数）。在这里，我们演示如何将检索分数添加到文档的`.metadata`中：\n",
    "1. 从[向量存储检索器](/docs/how_to/vectorstore_retriever)；\n",
    "2. 从更高阶的LangChain检索器，例如[SelfQueryRetriever](/docs/how_to/self_query)或[MultiVectorRetriever](/docs/how_to/multi_vector)。\n",
    "\n",
    "对于(1)，我们将在相应的[向量存储](/docs/concepts/vectorstores/)周围实现一个简短的包装函数。对于(2)，我们将更新相应类的方法。\n",
    "\n",
    "## 创建向量存储\n",
    "\n",
    "首先，我们用一些数据填充一个向量存储。我们将使用[PineconeVectorStore](https://python.langchain.com/api_reference/pinecone/vectorstores/langchain_pinecone.vectorstores.PineconeVectorStore.html)，但本指南兼容任何实现了`.similarity_search_with_score`方法的LangChain向量存储。"
   ]
  },
  {
   "cell_type": "code",
   "execution_count": null,
   "id": "b8cfcb1b-64ee-4b91-8d82-ce7803834985",
   "metadata": {},
   "outputs": [],
   "source": [
    "from langchain_core.documents import Document\n",
    "from langchain_openai import OpenAIEmbeddings\n",
    "from langchain_pinecone import PineconeVectorStore\n",
    "\n",
    "docs = [\n",
    "    Document(\n",
    "        page_content=\"一群科学家带回了恐龙，混乱随之而来\",\n",
    "        metadata={\"year\": 1993, \"rating\": 7.7, \"genre\": \"science fiction\"},\n",
    "    ),\n",
    "    Document(\n",
    "        page_content=\"莱昂纳多·迪卡普里奥迷失在一个梦中又一个梦中又一个梦中……\",\n",
    "        metadata={\"year\": 2010, \"director\": \"克里斯托弗·诺兰\", \"rating\": 8.2},\n",
    "    ),\n",
    "    Document(\n",
    "        page_content=\"一位心理学家/侦探迷失在一系列梦中，而《盗梦空间》重复使用了这个想法\",\n",
    "        metadata={\"year\": 2006, \"director\": \"今敏\", \"rating\": 8.6},\n",
    "    ),\n",
    "    Document(\n",
    "        page_content=\"一群普通大小的女性极其善良，一些男性对她们念念不忘\",\n",
    "        metadata={\"year\": 2019, \"director\": \"格蕾塔·葛韦格\", \"rating\": 8.3},\n",
    "    ),\n",
    "    Document(\n",
    "        page_content=\"玩具活了过来，并乐在其中\",\n",
    "        metadata={\"year\": 1995, \"genre\": \"animated\"},\n",
    "    ),\n",
    "    Document(\n",
    "        page_content=\"三个人走进了禁区，三个人走出了禁区\",\n",
    "        metadata={\n",
    "            \"year\": 1979,\n",
    "            \"director\": \"安德烈·塔可夫斯基\",\n",
    "            \"genre\": \"thriller\",\n",
    "            \"rating\": 9.9,\n",
    "        },\n",
    "    ),\n",
    "]\n",
    "\n",
    "vectorstore = PineconeVectorStore.from_documents(\n",
    "    docs, index_name=\"sample\", embedding=OpenAIEmbeddings()\n",
    ")"
   ]
  },
  {
   "cell_type": "markdown",
   "id": "22ac5ef6-ce18-427f-a91c-62b38a8b41e9",
   "metadata": {},
   "source": [
    "## 检索器\n",
    "\n",
    "为了从向量存储检索器中获取分数，我们将底层向量存储的`.similarity_search_with_score`方法包装在一个简短的函数中，该函数将分数打包到相关文档的元数据中。\n",
    "\n",
    "我们在函数中添加一个`@chain`装饰器，以创建一个[Runnable](/docs/concepts/lcel)，可以像典型的检索器一样使用。"
   ]
  },
  {
   "cell_type": "code",
   "execution_count": 3,
   "id": "7e5677c3-f6ee-4974-ab5f-a0f50c199d45",
   "metadata": {},
   "outputs": [],
   "source": [
    "from typing import List\n",
    "\n",
    "from langchain_core.documents import Document\n",
    "from langchain_core.runnables import chain\n",
    "\n",
    "\n",
    "@chain\n",
    "def retriever(query: str) -> List[Document]:\n",
    "    docs, scores = zip(*vectorstore.similarity_search_with_score(query))\n",
    "    for doc, score in zip(docs, scores):\n",
    "        doc.metadata[\"score\"] = score\n",
    "\n",
    "    return docs"
   ]
  },
  {
   "cell_type": "code",
   "execution_count": null,
   "id": "c9cad75e-b955-4012-989c-3c1820b49ba9",
   "metadata": {},
   "outputs": [
    {
     "data": {
      "text/plain": [
       "(Document(page_content='A bunch of scientists bring back dinosaurs and mayhem breaks loose', metadata={'genre': 'science fiction', 'rating': 7.7, 'year': 1993.0, 'score': 0.84429127}),\n",
       " Document(page_content='Toys come alive and have a blast doing so', metadata={'genre': 'animated', 'year': 1995.0, 'score': 0.792038262}),\n",
       " Document(page_content='Three men walk into the Zone, three men walk out of the Zone', metadata={'director': 'Andrei Tarkovsky', 'genre': 'thriller', 'rating': 9.9, 'year': 1979.0, 'score': 0.751571238}),\n",
       " Document(page_content='A psychologist / detective gets lost in a series of dreams within dreams within dreams and Inception reused the idea', metadata={'director': 'Satoshi Kon', 'rating': 8.6, 'year': 2006.0, 'score': 0.747471571}))"
      ]
     },
     "execution_count": 4,
     "metadata": {},
     "output_type": "execute_result"
    }
   ],
   "source": [
    "result = retriever.invoke(\"恐龙\")\n",
    "result"
   ]
  },
  {
   "cell_type": "markdown",
   "id": "6671308a-be8d-4c15-ae1f-5bd07b342560",
   "metadata": {},
   "source": [
    "请注意，检索步骤中的相似性分数已包含在上述文档的元数据中。"
   ]
  },
  {
   "cell_type": "markdown",
   "id": "af2e73a0-46a1-47e2-8103-68aaa637642a",
   "metadata": {},
   "source": [
    "## SelfQueryRetriever\n",
    "\n",
    "`SelfQueryRetriever`将使用LLM生成一个可能是结构化的查询——例如，它可以在通常的语义相似性驱动选择的基础上构建检索过滤器。有关更多详细信息，请参阅[本指南](/docs/how_to/self_query)。\n",
    "\n",
    "`SelfQueryRetriever`包含一个简短的（1-2行）方法`_get_docs_with_query`，该方法执行`vectorstore`搜索。我们可以子类化`SelfQueryRetriever`并覆盖此方法以传播相似性分数。\n",
    "\n",
    "首先，按照[操作指南](/docs/how_to/self_query)，我们需要建立一些元数据以进行过滤："
   ]
  },
  {
   "cell_type": "code",
   "execution_count": null,
   "id": "8280b829-2e81-4454-8adc-9a0930047fa2",
   "metadata": {},
   "outputs": [],
   "source": [
    "from langchain.chains.query_constructor.base import AttributeInfo\n",
    "from langchain.retrievers.self_query.base import SelfQueryRetriever\n",
    "from langchain_openai import ChatOpenAI\n",
    "\n",
    "metadata_field_info = [\n",
    "    AttributeInfo(\n",
    "        name=\"genre\",\n",
    "        description=\"电影的类型。可选值为['science fiction', 'comedy', 'drama', 'thriller', 'romance', 'action', 'animated']\",\n",
    "        type=\"string\",\n",
    "    ),\n",
    "    AttributeInfo(\n",
    "        name=\"year\",\n",
    "        description=\"电影的上映年份\",\n",
    "        type=\"integer\",\n",
    "    ),\n",
    "    AttributeInfo(\n",
    "        name=\"director\",\n",
    "        description=\"电影导演的名字\",\n",
    "        type=\"string\",\n",
    "    ),\n",
    "    AttributeInfo(\n",
    "        name=\"rating\", description=\"电影的评分（1-10）\", type=\"float\"\n",
    "    ),\n",
    "]\n",
    "document_content_description = \"电影的简要概述\"\n",
    "llm = ChatOpenAI(temperature=0)"
   ]
  },
  {
   "cell_type": "markdown",
   "id": "0a6c6fa8-1e2f-45ee-83e9-a6cbd82292d2",
   "metadata": {},
   "source": [
    "然后我们覆盖`_get_docs_with_query`以使用底层向量存储的`similarity_search_with_score`方法："
   ]
  },
  {
   "cell_type": "code",
   "execution_count": null,
   "id": "62c8f3fa-8b64-4afb-87c4-ccbbf9a8bc54",
   "metadata": {},
   "outputs": [],
   "source": [
    "from typing import Any, Dict\n",
    "\n",
    "\n",
    "class CustomSelfQueryRetriever(SelfQueryRetriever):\n",
    "    def _get_docs_with_query(\n",
    "        self, query: str, search_kwargs: Dict[str, Any]\n",
    "    ) -> List[Document]:\n",
    "        \"\"\"获取文档，并添加分数信息。\"\"\"\n",
    "        docs, scores = zip(\n",
    "            *self.vectorstore.similarity_search_with_score(query, **search_kwargs)\n",
    "        )\n",
    "        for doc, score in zip(docs, scores):\n",
    "            doc.metadata[\"score\"] = score\n",
    "\n",
    "        return docs"
   ]
  },
  {
   "cell_type": "markdown",
   "id": "56e40109-1db6-44c7-a6e6-6989175e267c",
   "metadata": {},
   "source": [
    "调用此检索器现在将在文档元数据中包含相似性分数。请注意，`SelfQueryRetriever`的底层结构化查询功能得以保留。"
   ]
  },
  {
   "cell_type": "code",
   "execution_count": null,
   "id": "3359a1ee-34ff-41b6-bded-64c05785b333",
   "metadata": {},
   "outputs": [
    {
     "data": {
      "text/plain": [
       "(Document(page_content='A bunch of scientists bring back dinosaurs and mayhem breaks loose', metadata={'genre': 'science fiction', 'rating': 7.7, 'year': 1993.0, 'score': 0.84429127}),)"
      ]
     },
     "execution_count": 7,
     "metadata": {},
     "output_type": "execute_result"
    }
   ],
   "source": [
    "retriever = CustomSelfQueryRetriever.from_llm(\n",
    "    llm,\n",
    "    vectorstore,\n",
    "    document_content_description,\n",
    "    metadata_field_info,\n",
    ")\n",
    "\n",
    "\n",
    "result = retriever.invoke(\"评分低于8的恐龙电影\")\n",
    "result"
   ]
  },
  {
   "cell_type": "markdown",
   "id": "689ab3ba-3494-448b-836e-05fbe1ffd51c",
   "metadata": {},
   "source": [
    "## MultiVectorRetriever\n",
    "\n",
    "`MultiVectorRetriever`允许您将多个向量与单个文档关联。这在许多应用中可能很有用。例如，我们可以索引较大文档的小块并对这些块进行检索，但在调用检索器时返回较大的“父”文档。[ParentDocumentRetriever](/docs/how_to/parent_document_retriever/)，`MultiVectorRetriever`的子类，包含用于填充向量存储以支持此功能的便利方法。更多应用详见[操作指南](/docs/how_to/multi_vector/)。\n",
    "\n",
    "为了通过此检索器传播分数，我们可以再次子类化`MultiVectorRetriever`并覆盖一个方法。这次我们将覆盖`_get_relevant_documents`。\n",
    "\n",
    "首先，我们准备一些虚假的数据。我们生成虚假的“完整文档”并将其存储在文档存储中；这里我们将使用一个简单的[InMemoryStore](https://python.langchain.com/api_reference/core/stores/langchain_core.stores.InMemoryBaseStore.html)。"
   ]
  },
  {
   "cell_type": "code",
   "execution_count": null,
   "id": "a112e545-7b53-4fcd-9c4a-7a42a5cc646d",
   "metadata": {},
   "outputs": [],
   "source": [
    "from langchain.storage import InMemoryStore\n",
    "from langchain_text_splitters import RecursiveCharacterTextSplitter\n",
    "\n",
    "# 父文档的存储层\n",
    "docstore = InMemoryStore()\n",
    "fake_whole_documents = [\n",
    "    (\"fake_id_1\", Document(page_content=\"虚假的完整文档1\")),\n",
    "    (\"fake_id_2\", Document(page_content=\"虚假的完整文档2\")),\n",
    "]\n",
    "docstore.mset(fake_whole_documents)"
   ]
  },
  {
   "cell_type": "markdown",
   "id": "453b7415-4a6d-45d4-a329-9c1d7271d1b2",
   "metadata": {},
   "source": [
    "接下来，我们将一些虚假的“子文档”添加到我们的向量存储中。我们可以通过在其元数据中填充`\"doc_id\"`键将这些子文档链接到父文档。"
   ]
  },
  {
   "cell_type": "code",
   "execution_count": null,
   "id": "314519c0-dde4-41ea-a1ab-d3cf1c17c63f",
   "metadata": {},
   "outputs": [
    {
     "data": {
      "text/plain": [
       "['62a85353-41ff-4346-bff7-be6c8ec2ed89',\n",
       " '5d4a0e83-4cc5-40f1-bc73-ed9cbad0ee15',\n",
       " '8c1d9a56-120f-45e4-ba70-a19cd19a38f4']"
      ]
     },
     "execution_count": 9,
     "metadata": {},
     "output_type": "execute_result"
    }
   ],
   "source": [
    "docs = [\n",
    "    Document(\n",
    "        page_content=\"来自较大文档的讨论猫的片段。\",\n",
    "        metadata={\"doc_id\": \"fake_id_1\"},\n",
    "    ),\n",
    "    Document(\n",
    "        page_content=\"来自较大文档的讨论话语的片段。\",\n",
    "        metadata={\"doc_id\": \"fake_id_1\"},\n",
    "    ),\n",
    "    Document(\n",
    "        page_content=\"来自较大文档的讨论巧克力的片段。\",\n",
    "        metadata={\"doc_id\": \"fake_id_2\"},\n",
    "    ),\n",
    "]\n",
    "\n",
    "vectorstore.add_documents(docs)"
   ]
  },
  {
   "cell_type": "markdown",
   "id": "e391f7f3-5a58-40fd-89fa-a0815c5146f7",
   "metadata": {},
   "source": [
    "为了传播分数，我们子类化`MultiVectorRetriever`并覆盖其`_get_relevant_documents`方法。在这里我们将进行两个更改：\n",
    "\n",
    "1. 我们将使用底层向量存储的`similarity_search_with_score`方法将相似性分数添加到相应“子文档”的元数据中；\n",
    "2. 我们将在检索到的父文档的元数据中包含这些子文档的列表。这将显示检索识别的文本片段及其对应的相似性分数。"
   ]
  },
  {
   "cell_type": "code",
   "execution_count": null,
   "id": "1de61de7-1b58-41d6-9dea-939fef7d741d",
   "metadata": {},
   "outputs": [],
   "source": [
    "from collections import defaultdict\n",
    "\n",
    "from langchain.retrievers import MultiVectorRetriever\n",
    "from langchain_core.callbacks import CallbackManagerForRetrieverRun\n",
    "\n",
    "\n",
    "class CustomMultiVectorRetriever(MultiVectorRetriever):\n",
    "    def _get_relevant_documents(\n",
    "        self, query: str, *, run_manager: CallbackManagerForRetrieverRun\n",
    "    ) -> List[Document]:\n",
    "        \"\"\"获取与查询相关的文档。\n",
    "        参数：\n",
    "            query: 用于查找相关文档的字符串\n",
    "            run_manager: 要使用的回调处理程序\n",
    "        返回：\n",
    "            相关文档列表\n",
    "        \"\"\"\n",
    "        results = self.vectorstore.similarity_search_with_score(\n",
    "            query, **self.search_kwargs\n",
    "        )\n",
    "\n",
    "        # 将doc_ids映射到子文档列表，并将分数添加到元数据\n",
    "        id_to_doc = defaultdict(list)\n",
    "        for doc, score in results:\n",
    "            doc_id = doc.metadata.get(\"doc_id\")\n",
    "            if doc_id:\n",
    "                doc.metadata[\"score\"] = score\n",
    "                id_to_doc[doc_id].append(doc)\n",
    "\n",
    "        # 获取与doc_ids对应的文档，并在元数据中保留子文档\n",
    "        docs = []\n",
    "        for _id, sub_docs in id_to_doc.items():\n",
    "            docstore_docs = self.docstore.mget([_id])\n",
    "            if docstore_docs:\n",
    "                if doc := docstore_docs[0]:\n",
    "                    doc.metadata[\"sub_docs\"] = sub_docs\n",
    "                    docs.append(doc)\n",
    "\n",
    "        return docs"
   ]
  },
  {
   "cell_type": "markdown",
   "id": "7af27b38-631c-463f-9d66-bcc985f06a4f",
   "metadata": {},
   "source": [
    "调用此检索器，我们可以看到它识别了正确的父文档，包括具有相似性分数的子文档中的相关片段。"
   ]
  },
  {
   "cell_type": "code",
   "execution_count": null,
   "id": "dc42a1be-22e1-4ade-b1bd-bafb85f2424f",
   "metadata": {},
   "outputs": [
    {
     "data": {
      "text/plain": [
       "[Document(page_content='fake whole document 1', metadata={'sub_docs': [Document(page_content='A snippet from a larger document discussing cats.', metadata={'doc_id': 'fake_id_1', 'score': 0.831276655})]})]"
      ]
     },
     "execution_count": 11,
     "metadata": {},
     "output_type": "execute_result"
    }
   ],
   "source": [
    "retriever = CustomMultiVectorRetriever(vectorstore=vectorstore, docstore=docstore)\n",
    "\n",
    "retriever.invoke(\"猫\")"
   ]
  }
 ],
 "metadata": {
  "kernelspec": {
   "display_name": "Python 3 (ipykernel)",
   "language": "python",
   "name": "python3"
  },
  "language_info": {
   "codemirror_mode": {
    "name": "ipython",
    "version": 3
   },
   "file_extension": ".py",
   "mimetype": "text/x-python",
   "name": "python",
   "nbconvert_exporter": "python",
   "pygments_lexer": "ipython3",
   "version": "3.10.4"
  }
 },
 "nbformat": 4,
 "nbformat_minor": 5
}
