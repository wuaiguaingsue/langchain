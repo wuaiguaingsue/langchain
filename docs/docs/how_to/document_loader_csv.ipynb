{
 "cells": [
  {
   "cell_type": "markdown",
   "id": "dfc274c4-0c24-4c5f-865a-ee7fcdaafdac",
   "metadata": {},
   "source": [
    "# 如何加载 CSV 文件\n",
    "\n",
    "[逗号分隔值 (CSV)](https://en.wikipedia.org/wiki/Comma-separated_values) 文件是一种使用逗号分隔值的分隔文本文件。文件的每一行都是一条数据记录。每条记录由一个或多个字段组成，字段之间用逗号分隔。\n",
    "\n",
    "LangChain 实现了一个 [CSV 加载器](https://python.langchain.com/api_reference/community/document_loaders/langchain_community.document_loaders.csv_loader.CSVLoader.html)，它可以将 CSV 文件加载为 [Document](https://python.langchain.com/api_reference/core/documents/langchain_core.documents.base.Document.html#langchain_core.documents.base.Document) 对象序列。CSV 文件的每一行都会转换为一个文档。"
   ]
  },
  {
   "cell_type": "code",
   "execution_count": 1,
   "id": "64a25376-c31a-422e-845b-6538dcc68898",
   "metadata": {},
   "outputs": [
    {
     "name": "stdout",
     "output_type": "stream",
     "text": [
      "page_content='Team: Nationals\\n\"Payroll (millions)\": 81.34\\n\"Wins\": 98' metadata={'source': '../../../docs/integrations/document_loaders/example_data/mlb_teams_2012.csv', 'row': 0}\n",
      "page_content='Team: Reds\\n\"Payroll (millions)\": 82.20\\n\"Wins\": 97' metadata={'source': '../../../docs/integrations/document_loaders/example_data/mlb_teams_2012.csv', 'row': 1}\n"
     ]
    }
   ],
   "source": [
    "from langchain_community.document_loaders.csv_loader import CSVLoader\n",
    "\n",
    "file_path = \"../integrations/document_loaders/example_data/mlb_teams_2012.csv\"\n",
    "\n",
    "loader = CSVLoader(file_path=file_path)\n",
    "data = loader.load()\n",
    "\n",
    "for record in data[:2]:\n",
    "    print(record)"
   ]
  },
  {
   "cell_type": "markdown",
   "id": "1c716f76-364d-4515-ada9-0ae7c75e61b2",
   "metadata": {},
   "source": [
    "## 自定义 CSV 解析和加载\n",
    "\n",
    "`CSVLoader` 接受一个 `csv_args` 关键字参数，支持自定义传递给 Python 的 `csv.DictReader` 的参数。有关支持的 csv 参数的更多信息，请参阅 [csv 模块](https://docs.python.org/3/library/csv.html) 文档。"
   ]
  },
  {
   "cell_type": "code",
   "execution_count": 2,
   "id": "bf07fdee-d3a6-49c3-a517-bcba6819e8ea",
   "metadata": {},
   "outputs": [
    {
     "name": "stdout",
     "output_type": "stream",
     "text": [
      "page_content='MLB Team: Team\\nPayroll in millions: \"Payroll (millions)\"\\nWins: \"Wins\"' metadata={'source': '../../../docs/integrations/document_loaders/example_data/mlb_teams_2012.csv', 'row': 0}\n",
      "page_content='MLB Team: Nationals\\nPayroll in millions: 81.34\\nWins: 98' metadata={'source': '../../../docs/integrations/document_loaders/example_data/mlb_teams_2012.csv', 'row': 1}\n"
     ]
    }
   ],
   "source": [
    "loader = CSVLoader(\n",
    "    file_path=file_path,\n",
    "    csv_args={\n",
    "        \"delimiter\": \",\",\n",
    "        \"quotechar\": '\"',\n",
    "        \"fieldnames\": [\"MLB Team\", \"Payroll in millions\", \"Wins\"],\n",
    "    },\n",
    ")\n",
    "\n",
    "data = loader.load()\n",
    "for record in data[:2]:\n",
    "    print(record)"
   ]
  },
  {
   "cell_type": "markdown",
   "id": "433536be-1531-43ae-920a-14fe4deef844",
   "metadata": {},
   "source": [
    "## 指定列来标识文档来源\n",
    "\n",
    "[Document](https://python.langchain.com/api_reference/core/documents/langchain_core.documents.base.Document.html#langchain_core.documents.base.Document) 元数据中的 `\"source\"` 键可以使用 CSV 的某一列来设置。使用 `source_column` 参数为从每一行创建的文档指定来源。否则，`file_path` 将用作从 CSV 文件创建的所有文档的来源。\n",
    "\n",
    "这在使用从 CSV 文件加载的文档进行基于来源回答问题的链时很有用。"
   ]
  },
  {
   "cell_type": "code",
   "execution_count": 3,
   "id": "d927392c-95e6-4a82-86c2-978387ebe91a",
   "metadata": {},
   "outputs": [
    {
     "name": "stdout",
     "output_type": "stream",
     "text": [
      "page_content='Team: Nationals\\n\"Payroll (millions)\": 81.34\\n\"Wins\": 98' metadata={'source': 'Nationals', 'row': 0}\n",
      "page_content='Team: Reds\\n\"Payroll (millions)\": 82.20\\n\"Wins\": 97' metadata={'source': 'Reds', 'row': 1}\n"
     ]
    }
   ],
   "source": [
    "loader = CSVLoader(file_path=file_path, source_column=\"Team\")\n",
    "\n",
    "data = loader.load()\n",
    "for record in data[:2]:\n",
    "    print(record)"
   ]
  },
  {
   "cell_type": "markdown",
   "id": "cab6a4bd-476b-4f4c-92e0-5d1cbcd1f6bf",
   "metadata": {},
   "source": [
    "## 从字符串加载\n",
    "\n",
    "在直接使用 CSV 字符串时，可以使用 Python 的 `tempfile`。"
   ]
  },
  {
   "cell_type": "code",
   "execution_count": 4,
   "id": "f3fb28b7-8ebe-4af9-9b7d-719e9a252a46",
   "metadata": {},
   "outputs": [
    {
     "name": "stdout",
     "output_type": "stream",
     "text": [
      "page_content='Team: Nationals\\n\"Payroll (millions)\": 81.34\\n\"Wins\": 98' metadata={'source': 'Nationals', 'row': 0}\n",
      "page_content='Team: Reds\\n\"Payroll (millions)\": 82.20\\n\"Wins\": 97' metadata={'source': 'Reds', 'row': 1}\n"
     ]
    }
   ],
   "source": [
    "import tempfile\n",
    "from io import StringIO\n",
    "\n",
    "string_data = \"\"\"\n",
    "\"Team\", \"Payroll (millions)\", \"Wins\"\n",
    "\"Nationals\",     81.34, 98\n",
    "\"Reds\",          82.20, 97\n",
    "\"Yankees\",      197.96, 95\n",
    "\"Giants\",       117.62, 94\n",
    "\"\"\".strip()\n",
    "\n",
    "\n",
    "with tempfile.NamedTemporaryFile(delete=False, mode=\"w+\") as temp_file:\n",
    "    temp_file.write(string_data)\n",
    "    temp_file_path = temp_file.name\n",
    "\n",
    "loader = CSVLoader(file_path=temp_file_path)\n",
    "data = loader.load()\n",
    "for record in data[:2]:\n",
    "    print(record)"
   ]
  }
 ],
 "metadata": {
  "kernelspec": {
   "display_name": "Python 3 (ipykernel)",
   "language": "python",
   "name": "python3"
  },
  "language_info": {
   "codemirror_mode": {
    "name": "ipython",
    "version": 3
   },
   "file_extension": ".py",
   "mimetype": "text/x-python",
   "name": "python",
   "nbconvert_exporter": "python",
   "pygments_lexer": "ipython3",
   "version": "3.10.4"
  }
 },
 "nbformat": 4,
 "nbformat_minor": 5
}
