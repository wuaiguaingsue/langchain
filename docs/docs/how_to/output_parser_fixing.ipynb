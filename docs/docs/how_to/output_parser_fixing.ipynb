{
 "cells": [
  {
   "cell_type": "markdown",
   "id": "0fee7096",
   "metadata": {},
   "source": [
    "# 如何使用输出修复解析器\n",
    "\n",
    "这个[输出解析器](/docs/concepts/output_parsers/)包装了另一个输出解析器，如果第一个解析器失败，它会调用另一个 LLM 来修复任何错误。\n",
    "\n",
    "但除了抛出错误之外，我们还可以做其他事情。具体来说，我们可以将格式错误的输出连同格式化指令一起传递给模型，并要求它进行修复。\n",
    "\n",
    "在这个示例中，我们将使用上面的 Pydantic 输出解析器。让我们看看如果我们传入一个不符合模式的结果会发生什么："
   ]
  },
  {
   "cell_type": "code",
   "execution_count": 1,
   "id": "9bad594d",
   "metadata": {},
   "outputs": [],
   "source": [
    "from typing import List\n",
    "\n",
    "from langchain_core.exceptions import OutputParserException\n",
    "from langchain_core.output_parsers import PydanticOutputParser\n",
    "from langchain_openai import ChatOpenAI\n",
    "from pydantic import BaseModel, Field"
   ]
  },
  {
   "cell_type": "code",
   "execution_count": null,
   "id": "15283e0b",
   "metadata": {},
   "outputs": [],
   "source": [
    "class Actor(BaseModel):\n",
    "    name: str = Field(description=\"演员的姓名\")\n",
    "    film_names: List[str] = Field(description=\"他们主演的电影名称列表\")\n",
    "\n",
    "\n",
    "actor_query = \"生成一个随机演员的电影作品。\"\n",
    "\n",
    "parser = PydanticOutputParser(pydantic_object=Actor)"
   ]
  },
  {
   "cell_type": "code",
   "execution_count": 3,
   "id": "072d2d4c",
   "metadata": {},
   "outputs": [],
   "source": [
    "misformatted = \"{'name': 'Tom Hanks', 'film_names': ['Forrest Gump']}\""
   ]
  },
  {
   "cell_type": "code",
   "execution_count": 4,
   "id": "4cbb35b3",
   "metadata": {},
   "outputs": [
    {
     "name": "stdout",
     "output_type": "stream",
     "text": [
      "Invalid json output: {'name': 'Tom Hanks', 'film_names': ['Forrest Gump']}\n",
      "For troubleshooting, visit: https://python.langchain.com/docs/troubleshooting/errors/OUTPUT_PARSING_FAILURE\n"
     ]
    }
   ],
   "source": [
    "try:\n",
    "    parser.parse(misformatted)\n",
    "except OutputParserException as e:\n",
    "    print(e)"
   ]
  },
  {
   "cell_type": "markdown",
   "id": "723c559d",
   "metadata": {},
   "source": [
    "现在我们可以构建并使用一个 `OutputFixingParser`。这个输出解析器接受另一个输出解析器作为参数，同时还需要一个 LLM 来尝试修正任何格式错误。"
   ]
  },
  {
   "cell_type": "code",
   "execution_count": 5,
   "id": "4aaccbf1",
   "metadata": {},
   "outputs": [],
   "source": [
    "from langchain.output_parsers import OutputFixingParser\n",
    "\n",
    "new_parser = OutputFixingParser.from_llm(parser=parser, llm=ChatOpenAI())"
   ]
  },
  {
   "cell_type": "code",
   "execution_count": 6,
   "id": "8031c22d",
   "metadata": {},
   "outputs": [
    {
     "data": {
      "text/plain": [
       "Actor(name='Tom Hanks', film_names=['Forrest Gump'])"
      ]
     },
     "execution_count": 6,
     "metadata": {},
     "output_type": "execute_result"
    }
   ],
   "source": [
    "new_parser.parse(misformatted)"
   ]
  },
  {
   "cell_type": "markdown",
   "id": "84498e02",
   "metadata": {},
   "source": [
    "查看 [OutputFixingParser](https://python.langchain.com/api_reference/langchain/output_parsers/langchain.output_parsers.fix.OutputFixingParser.html#langchain.output_parsers.fix.OutputFixingParser) 的 API 文档。"
   ]
  },
  {
   "cell_type": "code",
   "execution_count": null,
   "id": "bc7af2a0",
   "metadata": {},
   "outputs": [],
   "source": []
  }
 ],
 "metadata": {
  "kernelspec": {
   "display_name": "Python 3 (ipykernel)",
   "language": "python",
   "name": "python3"
  },
  "language_info": {
   "codemirror_mode": {
    "name": "ipython",
    "version": 3
   },
   "file_extension": ".py",
   "mimetype": "text/x-python",
   "name": "python",
   "nbconvert_exporter": "python",
   "pygments_lexer": "ipython3",
   "version": "3.10.4"
  }
 },
 "nbformat": 4,
 "nbformat_minor": 5
}
