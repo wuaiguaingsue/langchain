{
 "cells": [
  {
   "cell_type": "markdown",
   "id": "72b1b316",
   "metadata": {},
   "source": [
    "# 如何解析 YAML 输出\n",
    "\n",
    ":::info 前置条件\n",
    "\n",
    "本指南假设您已熟悉以下概念：\n",
    "- [聊天模型](/docs/concepts/chat_models)\n",
    "- [输出解析器](/docs/concepts/output_parsers)\n",
    "- [提示模板](/docs/concepts/prompt_templates)\n",
    "- [结构化输出](/docs/how_to/structured_output)\n",
    "- [链接 runnables](/docs/how_to/sequence/)\n",
    "\n",
    ":::\n",
    "\n",
    "不同提供商的 LLM 根据其训练数据的不同，通常在特定方面具有不同的优势。这也意味着有些模型在生成 JSON 以外的格式时可能会 \"更好\" 且更可靠。\n",
    "\n",
    "这个输出解析器允许用户指定任意模式，并查询 LLM 以获取符合该模式的输出，使用 YAML 来格式化它们的响应。\n",
    "\n",
    ":::note\n",
    "请记住，大型语言模型是不完全可靠的抽象！您需要使用具有足够能力生成格式良好的 YAML 的 LLM。\n",
    ":::\n"
   ]
  },
  {
   "cell_type": "code",
   "execution_count": null,
   "id": "f142c8ca",
   "metadata": {},
   "outputs": [],
   "source": [
    "%pip install -qU langchain langchain-openai\n",
    "\n",
    "import os\n",
    "from getpass import getpass\n",
    "\n",
    "if \"OPENAI_API_KEY\" not in os.environ:\n",
    "    os.environ[\"OPENAI_API_KEY\"] = getpass()"
   ]
  },
  {
   "cell_type": "markdown",
   "id": "cc479f3a",
   "metadata": {},
   "source": [
    "我们使用 [Pydantic](https://docs.pydantic.dev) 和 [`YamlOutputParser`](https://python.langchain.com/api_reference/langchain/output_parsers/langchain.output_parsers.yaml.YamlOutputParser.html#langchain.output_parsers.yaml.YamlOutputParser) 来声明我们的数据模型，并为模型提供更多关于应该生成什么类型的 YAML 的上下文："
   ]
  },
  {
   "cell_type": "code",
   "execution_count": null,
   "id": "4ccf45a3",
   "metadata": {},
   "outputs": [
    {
     "data": {
      "text/plain": [
       "Joke(setup=\"Why couldn't the bicycle find its way home?\", punchline='Because it lost its bearings!')"
      ]
     },
     "execution_count": 4,
     "metadata": {},
     "output_type": "execute_result"
    }
   ],
   "source": [
    "from langchain.output_parsers import YamlOutputParser\n",
    "from langchain_core.prompts import PromptTemplate\n",
    "from langchain_openai import ChatOpenAI\n",
    "from pydantic import BaseModel, Field\n",
    "\n",
    "\n",
    "# 定义您想要的数据结构\n",
    "class Joke(BaseModel):\n",
    "    setup: str = Field(description=\"用于设置笑话的问题\")\n",
    "    punchline: str = Field(description=\"解开笑话的答案\")\n",
    "\n",
    "\n",
    "model = ChatOpenAI(temperature=0)\n",
    "\n",
    "# 一个旨在提示语言模型填充数据结构的查询\n",
    "joke_query = \"讲个笑话。\"\n",
    "\n",
    "# 设置一个解析器并将指令注入到提示模板中\n",
    "parser = YamlOutputParser(pydantic_object=Joke)\n",
    "\n",
    "prompt = PromptTemplate(\n",
    "    template=\"回答用户查询。\\n{format_instructions}\\n{query}\\n\",\n",
    "    input_variables=[\"query\"],\n",
    "    partial_variables={\"format_instructions\": parser.get_format_instructions()},\n",
    ")\n",
    "\n",
    "chain = prompt | model | parser\n",
    "\n",
    "chain.invoke({\"query\": joke_query})"
   ]
  },
  {
   "cell_type": "markdown",
   "id": "25e2254a",
   "metadata": {},
   "source": [
    "解析器会自动解析输出的 YAML 并使用数据创建一个 Pydantic 模型。我们可以看到解析器的 `format_instructions`，它们会被添加到提示中："
   ]
  },
  {
   "cell_type": "code",
   "execution_count": 5,
   "id": "a4d12261",
   "metadata": {},
   "outputs": [
    {
     "data": {
      "text/plain": [
       "'The output should be formatted as a YAML instance that conforms to the given JSON schema below.\\n\\n# Examples\\n## Schema\\n```\\n{\"title\": \"Players\", \"description\": \"A list of players\", \"type\": \"array\", \"items\": {\"$ref\": \"#/definitions/Player\"}, \"definitions\": {\"Player\": {\"title\": \"Player\", \"type\": \"object\", \"properties\": {\"name\": {\"title\": \"Name\", \"description\": \"Player name\", \"type\": \"string\"}, \"avg\": {\"title\": \"Avg\", \"description\": \"Batting average\", \"type\": \"number\"}}, \"required\": [\"name\", \"avg\"]}}}\\n```\\n## Well formatted instance\\n```\\n- name: John Doe\\n  avg: 0.3\\n- name: Jane Maxfield\\n  avg: 1.4\\n```\\n\\n## Schema\\n```\\n{\"properties\": {\"habit\": { \"description\": \"A common daily habit\", \"type\": \"string\" }, \"sustainable_alternative\": { \"description\": \"An environmentally friendly alternative to the habit\", \"type\": \"string\"}}, \"required\": [\"habit\", \"sustainable_alternative\"]}\\n```\\n## Well formatted instance\\n```\\nhabit: Using disposable water bottles for daily hydration.\\nsustainable_alternative: Switch to a reusable water bottle to reduce plastic waste and decrease your environmental footprint.\\n``` \\n\\nPlease follow the standard YAML formatting conventions with an indent of 2 spaces and make sure that the data types adhere strictly to the following JSON schema: \\n```\\n{\"properties\": {\"setup\": {\"title\": \"Setup\", \"description\": \"question to set up a joke\", \"type\": \"string\"}, \"punchline\": {\"title\": \"Punchline\", \"description\": \"answer to resolve the joke\", \"type\": \"string\"}}, \"required\": [\"setup\", \"punchline\"]}\\n```\\n\\nMake sure to always enclose the YAML output in triple backticks (```). Please do not add anything other than valid YAML output!'"
      ]
     },
     "execution_count": 5,
     "metadata": {},
     "output_type": "execute_result"
    }
   ],
   "source": [
    "parser.get_format_instructions()"
   ]
  },
  {
   "cell_type": "markdown",
   "id": "b31ac9ce",
   "metadata": {},
   "source": [
    "您可以也应该尝试在提示的其他部分添加自己的格式提示，以增强或替换默认指令。\n",
    "\n",
    "## 下一步\n",
    "\n",
    "您现在已经学会了如何提示模型返回 YAML。接下来，查看[获取结构化输出的更广泛指南](/docs/how_to/structured_output)以了解其他相关技术。"
   ]
  },
  {
   "cell_type": "code",
   "execution_count": null,
   "id": "666ba894",
   "metadata": {},
   "outputs": [],
   "source": []
  }
 ],
 "metadata": {
  "kernelspec": {
   "display_name": "Python 3 (ipykernel)",
   "language": "python",
   "name": "python3"
  },
  "language_info": {
   "codemirror_mode": {
    "name": "ipython",
    "version": 3
   },
   "file_extension": ".py",
   "mimetype": "text/x-python",
   "name": "python",
   "nbconvert_exporter": "python",
   "pygments_lexer": "ipython3",
   "version": "3.9.1"
  }
 },
 "nbformat": 4,
 "nbformat_minor": 5
}
