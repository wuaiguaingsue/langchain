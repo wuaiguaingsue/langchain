{
 "cells": [
  {
   "cell_type": "raw",
   "id": "af408f61",
   "metadata": {},
   "source": [
    "---\n",
    "sidebar_position: 1\n",
    "---"
   ]
  },
  {
   "cell_type": "markdown",
   "id": "1a65e4c9",
   "metadata": {},
   "source": [
    "# 如何使用示例选择器\n",
    "\n",
    "如果您有大量示例，可能需要选择哪些示例包含在提示中。[示例选择器](/docs/concepts/example_selectors/) 是负责执行此操作的类。\n",
    "\n",
    "基本接口定义如下：\n",
    "\n",
    "```python\n",
    "class BaseExampleSelector(ABC):\n",
    "    \"\"\"选择要包含在提示中的示例的接口。\"\"\"\n",
    "\n",
    "    @abstractmethod\n",
    "    def select_examples(self, input_variables: Dict[str, str]) -> List[dict]:\n",
    "        \"\"\"根据输入选择要使用的示例。\"\"\"\n",
    "        \n",
    "    @abstractmethod\n",
    "    def add_example(self, example: Dict[str, str]) -> Any:\n",
    "        \"\"\"向存储中添加新示例。\"\"\"\n",
    "```\n",
    "\n",
    "它唯一需要定义的方法是 `select_examples` 方法。此方法接收输入变量并返回示例列表。具体实现可以决定如何选择这些示例。\n",
    "\n",
    "LangChain 提供了几种不同类型的示例选择器。有关所有这些类型的概述，请参阅[下表](#example-selector-types)。\n",
    "\n",
    "在本指南中，我们将逐步创建一个自定义示例选择器。"
   ]
  },
  {
   "cell_type": "markdown",
   "id": "638e9039",
   "metadata": {},
   "source": [
    "## 示例\n",
    "\n",
    "为了使用示例选择器，我们需要创建一个示例列表。这些通常应该是示例输入和输出。为了演示目的，假设我们正在选择如何将英语翻译成意大利语的示例。"
   ]
  },
  {
   "cell_type": "code",
   "execution_count": 36,
   "id": "48658d53",
   "metadata": {},
   "outputs": [],
   "source": [
    "examples = [\n",
    "    {\"input\": \"hi\", \"output\": \"ciao\"},\n",
    "    {\"input\": \"bye\", \"output\": \"arrivederci\"},\n",
    "    {\"input\": \"soccer\", \"output\": \"calcio\"},\n",
    "]"
   ]
  },
  {
   "cell_type": "markdown",
   "id": "c2830b49",
   "metadata": {},
   "source": [
    "## 自定义示例选择器\n",
    "\n",
    "让我们编写一个示例选择器，根据单词的长度选择示例。"
   ]
  },
  {
   "cell_type": "code",
   "execution_count": null,
   "id": "56b740a1",
   "metadata": {},
   "outputs": [],
   "source": [
    "from langchain_core.example_selectors.base import BaseExampleSelector\n",
    "\n",
    "\n",
    "class CustomExampleSelector(BaseExampleSelector):\n",
    "    def __init__(self, examples):\n",
    "        self.examples = examples\n",
    "\n",
    "    def add_example(self, example):\n",
    "        self.examples.append(example)\n",
    "\n",
    "    def select_examples(self, input_variables):\n",
    "        # 假设输入中包含一个 'input' 键\n",
    "        new_word = input_variables[\"input\"]\n",
    "        new_word_length = len(new_word)\n",
    "\n",
    "        # 初始化变量以存储最佳匹配及其长度差\n",
    "        best_match = None\n",
    "        smallest_diff = float(\"inf\")\n",
    "\n",
    "        # 遍历每个示例\n",
    "        for example in self.examples:\n",
    "            # 计算与示例中第一个单词的长度差\n",
    "            current_diff = abs(len(example[\"input\"]) - new_word_length)\n",
    "\n",
    "            # 如果当前示例更接近长度，则更新最佳匹配\n",
    "            if current_diff < smallest_diff:\n",
    "                smallest_diff = current_diff\n",
    "                best_match = example\n",
    "\n",
    "        return [best_match]"
   ]
  },
  {
   "cell_type": "code",
   "execution_count": 38,
   "id": "ce928187",
   "metadata": {},
   "outputs": [],
   "source": [
    "example_selector = CustomExampleSelector(examples)"
   ]
  },
  {
   "cell_type": "code",
   "execution_count": 39,
   "id": "37ef3149",
   "metadata": {},
   "outputs": [
    {
     "data": {
      "text/plain": [
       "[{'input': 'bye', 'output': 'arrivederci'}]"
      ]
     },
     "execution_count": 39,
     "metadata": {},
     "output_type": "execute_result"
    }
   ],
   "source": [
    "example_selector.select_examples({\"input\": \"okay\"})"
   ]
  },
  {
   "cell_type": "code",
   "execution_count": 40,
   "id": "c5ad9f35",
   "metadata": {},
   "outputs": [],
   "source": [
    "example_selector.add_example({\"input\": \"hand\", \"output\": \"mano\"})"
   ]
  },
  {
   "cell_type": "code",
   "execution_count": 41,
   "id": "e4127fe0",
   "metadata": {},
   "outputs": [
    {
     "data": {
      "text/plain": [
       "[{'input': 'hand', 'output': 'mano'}]"
      ]
     },
     "execution_count": 41,
     "metadata": {},
     "output_type": "execute_result"
    }
   ],
   "source": [
    "example_selector.select_examples({\"input\": \"okay\"})"
   ]
  },
  {
   "cell_type": "markdown",
   "id": "786c920c",
   "metadata": {},
   "source": [
    "## 在提示中使用\n",
    "\n",
    "我们现在可以在提示中使用这个示例选择器"
   ]
  },
  {
   "cell_type": "code",
   "execution_count": 42,
   "id": "619090e2",
   "metadata": {},
   "outputs": [],
   "source": [
    "from langchain_core.prompts.few_shot import FewShotPromptTemplate\n",
    "from langchain_core.prompts.prompt import PromptTemplate\n",
    "\n",
    "example_prompt = PromptTemplate.from_template(\"Input: {input} -> Output: {output}\")"
   ]
  },
  {
   "cell_type": "code",
   "execution_count": null,
   "id": "5934c415",
   "metadata": {},
   "outputs": [
    {
     "name": "stdout",
     "output_type": "stream",
     "text": [
      "Translate the following words from English to Italian:\n",
      "\n",
      "Input: hand -> Output: mano\n",
      "\n",
      "Input: word -> Output:\n"
     ]
    }
   ],
   "source": [
    "prompt = FewShotPromptTemplate(\n",
    "    example_selector=example_selector,\n",
    "    example_prompt=example_prompt,\n",
    "    suffix=\"Input: {input} -> Output:\",\n",
    "    prefix=\"将以下单词从英语翻译成意大利语：\",\n",
    "    input_variables=[\"input\"],\n",
    ")\n",
    "\n",
    "print(prompt.format(input=\"word\"))"
   ]
  },
  {
   "cell_type": "markdown",
   "id": "e767f69d",
   "metadata": {},
   "source": [
    "## 示例选择器类型\n",
    "\n",
    "| 名称       | 描述                                                                                 |\n",
    "|------------|---------------------------------------------------------------------------------------------|\n",
    "| 相似性     | 使用输入和示例之间的语义相似性来决定选择哪些示例。                                            |\n",
    "| MMR        | 使用输入和示例之间的最大边际相关性来决定选择哪些示例。                                        |\n",
    "| 长度       | 根据可以容纳的长度选择示例。                                                                |\n",
    "| Ngram      | 使用输入和示例之间的 ngram 重叠来决定选择哪些示例。                                          |"
   ]
  },
  {
   "cell_type": "code",
   "execution_count": null,
   "id": "8a6e0abe",
   "metadata": {},
   "outputs": [],
   "source": []
  }
 ],
 "metadata": {
  "kernelspec": {
   "display_name": "Python 3 (ipykernel)",
   "language": "python",
   "name": "python3"
  },
  "language_info": {
   "codemirror_mode": {
    "name": "ipython",
    "version": 3
   },
   "file_extension": ".py",
   "mimetype": "text/x-python",
   "name": "python",
   "nbconvert_exporter": "python",
   "pygments_lexer": "ipython3",
   "version": "3.10.1"
  }
 },
 "nbformat": 4,
 "nbformat_minor": 5
}
