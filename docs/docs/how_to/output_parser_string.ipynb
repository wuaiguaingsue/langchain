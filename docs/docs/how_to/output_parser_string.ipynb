{
 "cells": [
  {
   "cell_type": "markdown",
   "id": "1d6024e0-3847-4418-b8a8-6b8f83adf4c2",
   "metadata": {},
   "source": [
    "# 如何从消息对象中解析文本\n",
    "\n",
    ":::info 前置条件\n",
    "\n",
    "本指南假设您已熟悉以下概念：\n",
    "- [聊天模型](/docs/concepts/chat_models/)\n",
    "- [消息](/docs/concepts/messages/)\n",
    "- [输出解析器](/docs/concepts/output_parsers/)\n",
    "- [LangChain 表达式语言 (LCEL)](/docs/concepts/lcel/)\n",
    "\n",
    ":::\n",
    "\n",
    "LangChain [消息](/docs/concepts/messages/) 对象支持多种格式的内容，包括文本、[多模态数据](/docs/concepts/multimodality/)和[内容块](/docs/concepts/messages/#aimessage)字典列表。\n",
    "\n",
    "[聊天模型](/docs/concepts/chat_models/) 响应内容的格式可能取决于提供商。例如，[Anthropic](/docs/integrations/chat/anthropic/) 的聊天模型对于典型的字符串输入将返回字符串内容："
   ]
  },
  {
   "cell_type": "code",
   "execution_count": null,
   "id": "8ac74999-0740-4178-8efd-32a855592f71",
   "metadata": {},
   "outputs": [
    {
     "data": {
      "text/plain": [
       "'Hi there! How are you doing today? Is there anything I can help you with?'"
      ]
     },
     "execution_count": 1,
     "metadata": {},
     "output_type": "execute_result"
    }
   ],
   "source": [
    "from langchain_anthropic import ChatAnthropic\n",
    "\n",
    "llm = ChatAnthropic(model=\"claude-3-5-haiku-latest\")\n",
    "\n",
    "response = llm.invoke(\"你好\")\n",
    "response.content"
   ]
  },
  {
   "cell_type": "markdown",
   "id": "69b7c3ae-0022-4737-9db7-f44db3402de2",
   "metadata": {},
   "source": [
    "但是，当生成工具调用时，响应内容被结构化为传达模型推理过程的内容块："
   ]
  },
  {
   "cell_type": "code",
   "execution_count": null,
   "id": "8c87553e-4f85-46c4-8f1e-666f6a261a50",
   "metadata": {},
   "outputs": [
    {
     "data": {
      "text/plain": [
       "[{'text': \"I'll help you get the current weather for San Francisco, California. Let me check that for you right away.\",\n",
       "  'type': 'text'},\n",
       " {'id': 'toolu_015PwwcKxWYctKfY3pruHFyy',\n",
       "  'input': {'location': 'San Francisco, CA'},\n",
       "  'name': 'get_weather',\n",
       "  'type': 'tool_use'}]"
      ]
     },
     "execution_count": 2,
     "metadata": {},
     "output_type": "execute_result"
    }
   ],
   "source": [
    "from langchain_core.tools import tool\n",
    "\n",
    "\n",
    "@tool\n",
    "def get_weather(location: str) -> str:\n",
    "    \"\"\"获取某地的天气。\"\"\"\n",
    "\n",
    "    return \"晴天。\"\n",
    "\n",
    "\n",
    "llm_with_tools = llm.bind_tools([get_weather])\n",
    "\n",
    "response = llm_with_tools.invoke(\"旧金山，加州的天气怎么样？\")\n",
    "response.content"
   ]
  },
  {
   "cell_type": "markdown",
   "id": "039f6d62-098f-42c9-8b07-43cb1f2a831b",
   "metadata": {},
   "source": [
    "为了自动解析消息对象中的文本，而不管底层内容的格式如何，我们可以使用 [StrOutputParser](https://python.langchain.com/api_reference/core/output_parsers/langchain_core.output_parsers.string.StrOutputParser.html)。我们可以将其与聊天模型组合如下："
   ]
  },
  {
   "cell_type": "code",
   "execution_count": 3,
   "id": "0bb9b4dd-64a9-463d-9c71-df147630f3c3",
   "metadata": {},
   "outputs": [],
   "source": [
    "from langchain_core.output_parsers import StrOutputParser\n",
    "\n",
    "chain = llm_with_tools | StrOutputParser()"
   ]
  },
  {
   "cell_type": "markdown",
   "id": "4929c724-471f-4f77-a231-36e9af9418a3",
   "metadata": {},
   "source": [
    "[StrOutputParser](https://python.langchain.com/api_reference/core/output_parsers/langchain_core.output_parsers.string.StrOutputParser.html) 简化了从消息对象中提取文本的过程："
   ]
  },
  {
   "cell_type": "code",
   "execution_count": null,
   "id": "9cbb8848-9101-465e-b230-0f7af6fb4105",
   "metadata": {},
   "outputs": [
    {
     "name": "stdout",
     "output_type": "stream",
     "text": [
      "I'll help you check the weather in San Francisco, CA right away.\n"
     ]
    }
   ],
   "source": [
    "response = chain.invoke(\"旧金山，加州的天气怎么样？\")\n",
    "print(response)"
   ]
  },
  {
   "cell_type": "markdown",
   "id": "13642ad5-325d-4d9b-b97e-cac40345bfbc",
   "metadata": {},
   "source": [
    "这在流式上下文中特别有用："
   ]
  },
  {
   "cell_type": "code",
   "execution_count": null,
   "id": "28eeace3-3896-497f-93ad-544cbfb7f15c",
   "metadata": {},
   "outputs": [
    {
     "name": "stdout",
     "output_type": "stream",
     "text": [
      "|I'll| help| you get| the current| weather for| San Francisco, California|. Let| me retrieve| that| information for you.||||||||||"
     ]
    }
   ],
   "source": [
    "for chunk in chain.stream(\"旧金山，加州的天气怎么样？\"):\n",
    "    print(chunk, end=\"|\")"
   ]
  },
  {
   "cell_type": "markdown",
   "id": "858e2071-a483-404e-9eca-c73a4466fd83",
   "metadata": {},
   "source": [
    "有关更多信息，请参阅 [API 参考](https://python.langchain.com/api_reference/core/output_parsers/langchain_core.output_parsers.string.StrOutputParser.html)。"
   ]
  }
 ],
 "metadata": {
  "kernelspec": {
   "display_name": "Python 3 (ipykernel)",
   "language": "python",
   "name": "python3"
  },
  "language_info": {
   "codemirror_mode": {
    "name": "ipython",
    "version": 3
   },
   "file_extension": ".py",
   "mimetype": "text/x-python",
   "name": "python",
   "nbconvert_exporter": "python",
   "pygments_lexer": "ipython3",
   "version": "3.10.4"
  }
 },
 "nbformat": 4,
 "nbformat_minor": 5
}
