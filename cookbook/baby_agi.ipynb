{
 "cells": [
  {
   "cell_type": "markdown",
   "id": "517a9fd4",
   "metadata": {},
   "source": [
    "# BabyAGI 用户指南\n",
    "\n",
    "本笔记本演示了如何实现由 [Yohei Nakajima](https://twitter.com/yoheinakajima) 开发的 [BabyAGI](https://github.com/yoheinakajima/babyagi/tree/main)。BabyAGI 是一个 AI 代理，可以根据给定的目标生成并模拟执行任务。\n",
    "\n",
    "本指南将帮助你理解创建自己的递归代理所需的组件。\n",
    "\n",
    "虽然 BabyAGI 使用特定的向量存储/模型提供商（Pinecone、OpenAI），但使用 LangChain 实现它的一个好处是你可以轻松地将它们替换为不同的选项。在此实现中，我们使用 FAISS 向量存储（因为它可以本地运行且免费）。"
   ]
  },
  {
   "cell_type": "markdown",
   "id": "556af556",
   "metadata": {},
   "source": [
    "## 安装和导入所需模块"
   ]
  },
  {
   "cell_type": "code",
   "execution_count": 1,
   "id": "c8a354b6",
   "metadata": {},
   "outputs": [],
   "source": [
    "from typing import Optional\n",
    "\n",
    "from langchain_experimental.autonomous_agents import BabyAGI\n",
    "from langchain_openai import OpenAI, OpenAIEmbeddings"
   ]
  },
  {
   "cell_type": "markdown",
   "id": "09f70772",
   "metadata": {},
   "source": [
    "## 连接到向量存储\n",
    "\n",
    "根据你使用的向量存储的不同，这一步可能会有所不同。"
   ]
  },
  {
   "cell_type": "code",
   "execution_count": 2,
   "id": "794045d4",
   "metadata": {},
   "outputs": [],
   "source": [
    "from langchain.docstore import InMemoryDocstore\n",
    "from langchain_community.vectorstores import FAISS"
   ]
  },
  {
   "cell_type": "code",
   "execution_count": null,
   "id": "6e0305eb",
   "metadata": {},
   "outputs": [],
   "source": [
    "# 定义你的嵌入模型\n",
    "embeddings_model = OpenAIEmbeddings()\n",
    "# 初始化空的向量存储\n",
    "import faiss\n",
    "\n",
    "embedding_size = 1536\n",
    "index = faiss.IndexFlatL2(embedding_size)\n",
    "vectorstore = FAISS(embeddings_model.embed_query, index, InMemoryDocstore({}), {})"
   ]
  },
  {
   "cell_type": "markdown",
   "id": "05ba762e",
   "metadata": {},
   "source": [
    "### 运行 BabyAGI\n",
    "\n",
    "现在是时候创建 BabyAGI 控制器并观察它如何努力实现你的目标了。"
   ]
  },
  {
   "cell_type": "code",
   "execution_count": 4,
   "id": "3d220b69",
   "metadata": {},
   "outputs": [],
   "source": [
    "OBJECTIVE = \"Write a weather report for SF today\""
   ]
  },
  {
   "cell_type": "code",
   "execution_count": 5,
   "id": "8a8e5543",
   "metadata": {},
   "outputs": [],
   "source": [
    "llm = OpenAI(temperature=0)"
   ]
  },
  {
   "cell_type": "code",
   "execution_count": null,
   "id": "3d69899b",
   "metadata": {},
   "outputs": [],
   "source": [
    "# LLMChains 的日志记录\n",
    "verbose = False\n",
    "# 如果为 None，将会无限继续\n",
    "max_iterations: Optional[int] = 3\n",
    "baby_agi = BabyAGI.from_llm(\n",
    "    llm=llm, vectorstore=vectorstore, verbose=verbose, max_iterations=max_iterations\n",
    ")"
   ]
  },
  {
   "cell_type": "code",
   "execution_count": 7,
   "id": "f7957b51",
   "metadata": {
    "scrolled": false
   },
   "outputs": [
    {
     "name": "stdout",
     "output_type": "stream",
     "text": [
      "\u001b[95m\u001b[1m\n",
      "*****TASK LIST*****\n",
      "\u001b[0m\u001b[0m\n",
      "1: Make a todo list\n",
      "\u001b[92m\u001b[1m\n",
      "*****NEXT TASK*****\n",
      "\u001b[0m\u001b[0m\n",
      "1: Make a todo list\n",
      "\u001b[93m\u001b[1m\n",
      "*****TASK RESULT*****\n",
      "\u001b[0m\u001b[0m\n",
      "\n",
      "\n",
      "1. Check the weather forecast for San Francisco today\n",
      "2. Make note of the temperature, humidity, wind speed, and other relevant weather conditions\n",
      "3. Write a weather report summarizing the forecast\n",
      "4. Check for any weather alerts or warnings\n",
      "5. Share the report with the relevant stakeholders\n",
      "\u001b[95m\u001b[1m\n",
      "*****TASK LIST*****\n",
      "\u001b[0m\u001b[0m\n",
      "2: Check the current temperature in San Francisco\n",
      "3: Check the current humidity in San Francisco\n",
      "4: Check the current wind speed in San Francisco\n",
      "5: Check for any weather alerts or warnings in San Francisco\n",
      "6: Check the forecast for the next 24 hours in San Francisco\n",
      "7: Check the forecast for the next 48 hours in San Francisco\n",
      "8: Check the forecast for the next 72 hours in San Francisco\n",
      "9: Check the forecast for the next week in San Francisco\n",
      "10: Check the forecast for the next month in San Francisco\n",
      "11: Check the forecast for the next 3 months in San Francisco\n",
      "1: Write a weather report for SF today\n",
      "\u001b[92m\u001b[1m\n",
      "*****NEXT TASK*****\n",
      "\u001b[0m\u001b[0m\n",
      "2: Check the current temperature in San Francisco\n",
      "\u001b[93m\u001b[1m\n",
      "*****TASK RESULT*****\n",
      "\u001b[0m\u001b[0m\n",
      "\n",
      "\n",
      "I will check the current temperature in San Francisco. I will use an online weather service to get the most up-to-date information.\n",
      "\u001b[95m\u001b[1m\n",
      "*****TASK LIST*****\n",
      "\u001b[0m\u001b[0m\n",
      "3: Check the current UV index in San Francisco.\n",
      "4: Check the current air quality in San Francisco.\n",
      "5: Check the current precipitation levels in San Francisco.\n",
      "6: Check the current cloud cover in San Francisco.\n",
      "7: Check the current barometric pressure in San Francisco.\n",
      "8: Check the current dew point in San Francisco.\n",
      "9: Check the current wind direction in San Francisco.\n",
      "10: Check the current humidity levels in San Francisco.\n",
      "1: Check the current temperature in San Francisco to the average temperature for this time of year.\n",
      "2: Check the current visibility in San Francisco.\n",
      "11: Write a weather report for SF today.\n",
      "\u001b[92m\u001b[1m\n",
      "*****NEXT TASK*****\n",
      "\u001b[0m\u001b[0m\n",
      "3: Check the current UV index in San Francisco.\n",
      "\u001b[93m\u001b[1m\n",
      "*****TASK RESULT*****\n",
      "\u001b[0m\u001b[0m\n",
      "\n",
      "\n",
      "The current UV index in San Francisco is moderate. The UV index is expected to remain at moderate levels throughout the day. It is recommended to wear sunscreen and protective clothing when outdoors.\n",
      "\u001b[91m\u001b[1m\n",
      "*****TASK ENDING*****\n",
      "\u001b[0m\u001b[0m\n"
     ]
    },
    {
     "data": {
      "text/plain": [
       "{'objective': 'Write a weather report for SF today'}"
      ]
     },
     "execution_count": 7,
     "metadata": {},
     "output_type": "execute_result"
    }
   ],
   "source": [
    "baby_agi({\"objective\": OBJECTIVE})"
   ]
  },
  {
   "cell_type": "code",
   "execution_count": null,
   "id": "898a210b",
   "metadata": {},
   "outputs": [],
   "source": []
  }
 ],
 "metadata": {
  "kernelspec": {
   "display_name": "Python 3 (ipykernel)",
   "language": "python",
   "name": "python3"
  },
  "language_info": {
   "codemirror_mode": {
    "name": "ipython",
    "version": 3
   },
   "file_extension": ".py",
   "mimetype": "text/x-python",
   "name": "python",
   "nbconvert_exporter": "python",
   "pygments_lexer": "ipython3",
   "version": "3.9.16"
  }
 },
 "nbformat": 4,
 "nbformat_minor": 5
}
