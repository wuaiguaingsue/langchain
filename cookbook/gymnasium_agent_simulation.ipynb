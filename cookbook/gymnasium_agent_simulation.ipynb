{
 "cells": [
  {
   "cell_type": "markdown",
   "id": "4b089493",
   "metadata": {},
   "source": [
    "# 模拟环境：Gymnasium\n",
    "\n",
    "对于 LLM 代理的许多应用来说，环境是真实的（互联网、数据库、REPL 等）。然而，我们也可以定义代理在模拟环境中进行交互，比如基于文本的游戏。这是一个如何使用 [Gymnasium](https://github.com/Farama-Foundation/Gymnasium)（前身是 [OpenAI Gym](https://github.com/openai/gym)）创建简单的代理-环境交互循环的示例。"
   ]
  },
  {
   "cell_type": "code",
   "execution_count": 1,
   "id": "f36427cf",
   "metadata": {},
   "outputs": [],
   "source": [
    "!pip install gymnasium"
   ]
  },
  {
   "cell_type": "code",
   "execution_count": 2,
   "id": "f9bd38b4",
   "metadata": {},
   "outputs": [],
   "source": [
    "import tenacity\n",
    "from langchain.output_parsers import RegexParser\n",
    "from langchain.schema import (\n",
    "    HumanMessage,\n",
    "    SystemMessage,\n",
    ")"
   ]
  },
  {
   "cell_type": "markdown",
   "id": "e222e811",
   "metadata": {},
   "source": [
    "## 定义代理"
   ]
  },
  {
   "cell_type": "code",
   "execution_count": null,
   "id": "870c24bc",
   "metadata": {},
   "outputs": [],
   "source": [
    "class GymnasiumAgent:\n",
    "    @classmethod\n",
    "    def get_docs(cls, env):\n",
    "        return env.unwrapped.__doc__\n",
    "\n",
    "    def __init__(self, model, env):\n",
    "        self.model = model\n",
    "        self.env = env\n",
    "        self.docs = self.get_docs(env)\n",
    "\n",
    "        self.instructions = \"\"\"\n",
    "你的目标是最大化你的回报，即你收到的奖励总和。\n",
    "我会给你一个观察值、奖励、终止标志、截断标志和到目前为止的回报，格式如下：\n",
    "\n",
    "观察值：<observation>\n",
    "奖励：<reward>\n",
    "终止：<termination>\n",
    "截断：<truncation>\n",
    "回报：<sum_of_rewards>\n",
    "\n",
    "你将用以下格式回应一个动作：\n",
    "\n",
    "动作：<action>\n",
    "\n",
    "其中 <action> 替换为你的实际动作。\n",
    "除了返回动作外不要做任何其他事情。\n",
    "\"\"\"\n",
    "        self.action_parser = RegexParser(\n",
    "            regex=r\"Action: (.*)\", output_keys=[\"action\"], default_output_key=\"action\"\n",
    "        )\n",
    "\n",
    "        self.message_history = []\n",
    "        self.ret = 0\n",
    "\n",
    "    def random_action(self):\n",
    "        action = self.env.action_space.sample()\n",
    "        return action\n",
    "\n",
    "    def reset(self):\n",
    "        self.message_history = [\n",
    "            SystemMessage(content=self.docs),\n",
    "            SystemMessage(content=self.instructions),\n",
    "        ]\n",
    "\n",
    "    def observe(self, obs, rew=0, term=False, trunc=False, info=None):\n",
    "        self.ret += rew\n",
    "\n",
    "        obs_message = f\"\"\"\n",
    "观察值：{obs}\n",
    "奖励：{rew}\n",
    "终止：{term}\n",
    "截断：{trunc}\n",
    "回报：{self.ret}\n",
    "        \"\"\"\n",
    "        self.message_history.append(HumanMessage(content=obs_message))\n",
    "        return obs_message\n",
    "\n",
    "    def _act(self):\n",
    "        act_message = self.model.invoke(self.message_history)\n",
    "        self.message_history.append(act_message)\n",
    "        action = int(self.action_parser.parse(act_message.content)[\"action\"])\n",
    "        return action\n",
    "\n",
    "    def act(self):\n",
    "        try:\n",
    "            for attempt in tenacity.Retrying(\n",
    "                stop=tenacity.stop_after_attempt(2),\n",
    "                wait=tenacity.wait_none(),  # 重试之间没有等待时间\n",
    "                retry=tenacity.retry_if_exception_type(ValueError),\n",
    "                before_sleep=lambda retry_state: print(\n",
    "                    f\"发生了 ValueError：{retry_state.outcome.exception()}，正在重试...\"\n",
    "                ),\n",
    "            ):\n",
    "                with attempt:\n",
    "                    action = self._act()\n",
    "        except tenacity.RetryError:\n",
    "            action = self.random_action()\n",
    "        return action"
   ]
  },
  {
   "cell_type": "markdown",
   "id": "2e76d22c",
   "metadata": {},
   "source": [
    "## 初始化模拟环境和代理"
   ]
  },
  {
   "cell_type": "code",
   "execution_count": null,
   "id": "9e902cfd",
   "metadata": {},
   "outputs": [],
   "source": [
    "import gymnasium as gym  # 导入 gymnasium 并重命名为 gym\n",
    "from langchain_openai import ChatOpenAI  # 导入 ChatOpenAI 模型\n",
    "\n",
    "env = gym.make(\"Blackjack-v1\")  # 创建二十一点游戏环境\n",
    "agent = GymnasiumAgent(model=ChatOpenAI(temperature=0.2), env=env)  # 初始化游戏代理"
   ]
  },
  {
   "cell_type": "markdown",
   "id": "e2c12b15",
   "metadata": {},
   "source": [
    "## 主循环"
   ]
  },
  {
   "cell_type": "code",
   "execution_count": null,
   "id": "ad361210",
   "metadata": {},
   "outputs": [
    {
     "name": "stdout",
     "output_type": "stream",
     "text": [
      "\n",
      "Observation: (15, 4, 0)\n",
      "Reward: 0\n",
      "Termination: False\n",
      "Truncation: False\n",
      "Return: 0\n",
      "        \n",
      "Action: 1\n",
      "\n",
      "Observation: (25, 4, 0)\n",
      "Reward: -1.0\n",
      "Termination: True\n",
      "Truncation: False\n",
      "Return: -1.0\n",
      "        \n",
      "break True False\n"
     ]
    }
   ],
   "source": [
    "# 主循环开始\n",
    "observation, info = env.reset()  # 重置环境\n",
    "agent.reset()  # 重置代理\n",
    "\n",
    "obs_message = agent.observe(observation)  # 代理观察初始状态\n",
    "print(obs_message)\n",
    "\n",
    "while True:\n",
    "    action = agent.act()  # 代理选择动作\n",
    "    observation, reward, termination, truncation, info = env.step(action)  # 执行动作\n",
    "    obs_message = agent.observe(observation, reward, termination, truncation, info)  # 代理观察新状态\n",
    "    print(f\"动作：{action}\")\n",
    "    print(obs_message)\n",
    "\n",
    "    if termination or truncation:  # 如果游戏结束或达到最大步数\n",
    "        print(\"结束\", termination, truncation)\n",
    "        break\n",
    "env.close()  # 关闭环境"
   ]
  },
  {
   "cell_type": "code",
   "execution_count": null,
   "id": "58a13e9c",
   "metadata": {},
   "outputs": [],
   "source": []
  }
 ],
 "metadata": {
  "kernelspec": {
   "display_name": "Python 3 (ipykernel)",
   "language": "python",
   "name": "python3"
  },
  "language_info": {
   "codemirror_mode": {
    "name": "ipython",
    "version": 3
   },
   "file_extension": ".py",
   "mimetype": "text/x-python",
   "name": "python",
   "nbconvert_exporter": "python",
   "pygments_lexer": "ipython3",
   "version": "3.9.16"
  }
 },
 "nbformat": 4,
 "nbformat_minor": 5
}
