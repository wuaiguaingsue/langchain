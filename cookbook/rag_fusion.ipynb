{
 "cells": [
  {
   "cell_type": "markdown",
   "id": "993c2768",
   "metadata": {},
   "source": [
    "# RAG Fusion\n",
    "\n",
    "基于[此GitHub仓库](https://github.com/Raudaschl/rag-fusion)重新实现，所有功劳归原作者所有\n",
    "\n",
    "> RAG-Fusion是一种搜索方法，旨在弥合传统搜索范式与人类查询多方面维度之间的差距。受检索增强生成(RAG)能力的启发，该项目更进一步，通过采用多查询生成和倒数排名融合(Reciprocal Rank Fusion)来重新排序搜索结果。"
   ]
  },
  {
   "cell_type": "markdown",
   "id": "ebcc6791",
   "metadata": {},
   "source": [
    "## 设置\n",
    "\n",
    "在这个例子中，我们将使用Pinecone和一些虚构数据。要配置Pinecone，请设置以下环境变量：\n",
    "\n",
    "- `PINECONE_API_KEY`：您的Pinecone API密钥"
   ]
  },
  {
   "cell_type": "code",
   "execution_count": null,
   "id": "661a1c36",
   "metadata": {},
   "outputs": [],
   "source": [
    "from langchain_openai import OpenAIEmbeddings\n",
    "from langchain_pinecone import PineconeVectorStore"
   ]
  },
  {
   "cell_type": "code",
   "execution_count": null,
   "id": "48ef7e93",
   "metadata": {},
   "outputs": [],
   "source": [
    "all_documents = {\n",
    "    \"doc1\": \"气候变化和经济影响。\",\n",
    "    \"doc2\": \"气候变化导致的公共卫生问题。\",\n",
    "    \"doc3\": \"气候变化：社会视角。\",\n",
    "    \"doc4\": \"应对气候变化的技术解决方案。\",\n",
    "    \"doc5\": \"应对气候变化所需的政策变革。\",\n",
    "    \"doc6\": \"气候变化及其对生物多样性的影响。\",\n",
    "    \"doc7\": \"气候变化：科学和模型。\",\n",
    "    \"doc8\": \"全球变暖：气候变化的一个子集。\",\n",
    "    \"doc9\": \"气候变化如何影响日常天气。\",\n",
    "    \"doc10\": \"气候变化活动主义的历史。\",\n",
    "}"
   ]
  },
  {
   "cell_type": "code",
   "execution_count": null,
   "id": "fde89f0b",
   "metadata": {},
   "outputs": [],
   "source": [
    "vectorstore = PineconeVectorStore.from_texts(\n",
    "    list(all_documents.values()), OpenAIEmbeddings(), index_name=\"rag-fusion\"\n",
    ")"
   ]
  },
  {
   "cell_type": "markdown",
   "id": "22ddd041",
   "metadata": {},
   "source": [
    "## 定义查询生成器\n",
    "\n",
    "我们现在将定义一个链来进行查询生成"
   ]
  },
  {
   "cell_type": "code",
   "execution_count": 7,
   "id": "1d547524",
   "metadata": {},
   "outputs": [],
   "source": [
    "from langchain_core.output_parsers import StrOutputParser\n",
    "from langchain_openai import ChatOpenAI"
   ]
  },
  {
   "cell_type": "code",
   "execution_count": 68,
   "id": "af9ab4db",
   "metadata": {},
   "outputs": [],
   "source": [
    "from langchain import hub\n",
    "\n",
    "prompt = hub.pull(\"langchain-ai/rag-fusion-query-generation\")"
   ]
  },
  {
   "cell_type": "code",
   "execution_count": null,
   "id": "3628b552",
   "metadata": {},
   "outputs": [],
   "source": [
    "# prompt = ChatPromptTemplate.from_messages([\n",
    "#     (\"system\", \"你是一个有帮助的助手，根据单一输入查询生成多个搜索查询。\"),\n",
    "#     (\"user\", \"生成与以下内容相关的多个搜索查询: {original_query}\"),\n",
    "#     (\"user\", \"输出 (4个查询):\")\n",
    "# ])"
   ]
  },
  {
   "cell_type": "code",
   "execution_count": 5,
   "id": "8d6cbb73",
   "metadata": {},
   "outputs": [],
   "source": [
    "generate_queries = (\n",
    "    prompt | ChatOpenAI(temperature=0) | StrOutputParser() | (lambda x: x.split(\"\\n\"))\n",
    ")"
   ]
  },
  {
   "cell_type": "markdown",
   "id": "ee2824cd",
   "metadata": {},
   "source": [
    "## 定义完整链\n",
    "\n",
    "我们现在可以将所有内容组合在一起，定义完整的链。这个链：\n",
    "    \n",
    "    1. 生成一系列查询\n",
    "    2. 在检索器中查找每个查询\n",
    "    3. 使用倒数排名融合(reciprocal rank fusion)将所有结果合并在一起\n",
    "    \n",
    "    \n",
    "注意，它不会执行最终的生成步骤"
   ]
  },
  {
   "cell_type": "code",
   "execution_count": null,
   "id": "ca0bfec4",
   "metadata": {},
   "outputs": [],
   "source": [
    "original_query = \"气候变化的影响\""
   ]
  },
  {
   "cell_type": "code",
   "execution_count": 75,
   "id": "02437d65",
   "metadata": {},
   "outputs": [],
   "source": [
    "vectorstore = PineconeVectorStore.from_existing_index(\"rag-fusion\", OpenAIEmbeddings())\n",
    "retriever = vectorstore.as_retriever()"
   ]
  },
  {
   "cell_type": "code",
   "execution_count": null,
   "id": "46a9a0e6",
   "metadata": {},
   "outputs": [],
   "source": [
    "from langchain.load import dumps, loads\n",
    "\n",
    "\n",
    "def reciprocal_rank_fusion(results: list[list], k=60):\n",
    "    fused_scores = {}\n",
    "    for docs in results:\n",
    "        # 假设文档按相关性排序返回\n",
    "        for rank, doc in enumerate(docs):\n",
    "            doc_str = dumps(doc)\n",
    "            if doc_str not in fused_scores:\n",
    "                fused_scores[doc_str] = 0\n",
    "            previous_score = fused_scores[doc_str]\n",
    "            fused_scores[doc_str] += 1 / (rank + k)\n",
    "\n",
    "    reranked_results = [\n",
    "        (loads(doc), score)\n",
    "        for doc, score in sorted(fused_scores.items(), key=lambda x: x[1], reverse=True)\n",
    "    ]\n",
    "    return reranked_results"
   ]
  },
  {
   "cell_type": "code",
   "execution_count": 77,
   "id": "3f9d4502",
   "metadata": {},
   "outputs": [],
   "source": [
    "chain = generate_queries | retriever.map() | reciprocal_rank_fusion"
   ]
  },
  {
   "cell_type": "code",
   "execution_count": 78,
   "id": "d70c4fcd",
   "metadata": {},
   "outputs": [
    {
     "data": {
      "text/plain": [
       "[(Document(page_content='Climate change and economic impact.'),\n",
       "  0.06558258417063283),\n",
       " (Document(page_content='Climate change: A social perspective.'),\n",
       "  0.06400409626216078),\n",
       " (Document(page_content='How climate change affects daily weather.'),\n",
       "  0.04787506400409626),\n",
       " (Document(page_content='Climate change and its impact on biodiversity.'),\n",
       "  0.03306010928961749),\n",
       " (Document(page_content='Public health concerns due to climate change.'),\n",
       "  0.016666666666666666),\n",
       " (Document(page_content='Technological solutions to climate change.'),\n",
       "  0.016666666666666666),\n",
       " (Document(page_content='Policy changes needed to combat climate change.'),\n",
       "  0.01639344262295082)]"
      ]
     },
     "execution_count": 78,
     "metadata": {},
     "output_type": "execute_result"
    }
   ],
   "source": [
    "chain.invoke({\"original_query\": original_query})"
   ]
  },
  {
   "cell_type": "code",
   "execution_count": null,
   "id": "7866e551",
   "metadata": {},
   "outputs": [],
   "source": []
  }
 ],
 "metadata": {
  "kernelspec": {
   "display_name": "Python 3 (ipykernel)",
   "language": "python",
   "name": "python3"
  },
  "language_info": {
   "codemirror_mode": {
    "name": "ipython",
    "version": 3
   },
   "file_extension": ".py",
   "mimetype": "text/x-python",
   "name": "python",
   "nbconvert_exporter": "python",
   "pygments_lexer": "ipython3",
   "version": "3.10.1"
  }
 },
 "nbformat": 4,
 "nbformat_minor": 5
}
