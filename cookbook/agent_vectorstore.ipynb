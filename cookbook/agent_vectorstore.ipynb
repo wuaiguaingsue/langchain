{
 "cells": [
  {
   "cell_type": "markdown",
   "id": "68b24990",
   "metadata": {},
   "source": [
    "# 使用向量存储构建 Agent\n",
    "\n",
    "本 notebook 展示了如何使用向量存储来构建一个 Agent。\n",
    "\n",
    "这是一个有趣的用例，因为它结合了：\n",
    "1. Agent 的推理能力\n",
    "2. 向量存储作为工具\n",
    "\n",
    "这个组合使我们能够构建一个可以自主地与向量数据库进行交互的 Agent。"
   ]
  },
  {
   "cell_type": "code",
   "execution_count": null,
   "metadata": {},
   "outputs": [],
   "source": [
    "from operator import itemgetter\n",
    "from typing import List, Tuple\n",
    "\n",
    "from langchain import OpenAI\n",
    "from langchain.agents import initialize_agent, Tool\n",
    "from langchain.agents import AgentType\n",
    "from langchain.docstore.document import Document\n",
    "from langchain.embeddings import OpenAIEmbeddings\n",
    "from langchain.text_splitter import CharacterTextSplitter\n",
    "from langchain.vectorstores.base import VectorStore\n",
    "from langchain.vectorstores import Chroma\n",
    "from langchain.agents.agent_toolkits import VectorStoreInfo, VectorStoreToolkit"
   ]
  },
  {
   "cell_type": "markdown",
   "id": "9b22020a",
   "metadata": {},
   "source": [
    "## 设置向量存储\n",
    "\n",
    "为了进行演示，我们将使用一些随机生成的州数据。在实际应用中，你可以使用自己的数据。"
   ]
  },
  {
   "cell_type": "code",
   "execution_count": 17,
   "id": "0b7b772b",
   "metadata": {},
   "outputs": [],
   "source": [
    "# 这是我们想要做问答的数据\n",
    "state_text = \"\"\"\n",
    "亚利桑那(Arizona)以其山区景观而闻名，比如大峡谷和\n",
    "塞多纳的红岩地貌。该州大部分地区属于沙漠气候。\n",
    "\n",
    "加利福尼亚(California)有着漫长的太平洋海岸线，还有旧金山金门大桥和\n",
    "洛杉矶好莱坞等知名地标。该州以其科技产业和娱乐业而闻名。\n",
    "\n",
    "德克萨斯(Texas)是美国第二大州。它以牛仔文化和\n",
    "石油工业而闻名。该州最大的城市是休斯顿。\n",
    "\n",
    "纽约(New York)包括美国最大的城市纽约市。\n",
    "这个州以华尔街、百老汇和中央公园等地标闻名于世。\n",
    "\n",
    "佛罗里达(Florida)以其温暖的天气和海滩而闻名。该州\n",
    "也是许多主题公园的所在地，如迪士尼世界和环球影城。\n",
    "\n",
    "夏威夷(Hawaii)是美国唯一完全由岛屿组成的州。它以火山、\n",
    "热带海滩和独特的文化而闻名。\n",
    "\"\"\"\n",
    "\n",
    "# 将文本分割成较小的块\n",
    "text_splitter = CharacterTextSplitter(chunk_size=1000, chunk_overlap=0)\n",
    "docs = text_splitter.create_documents([state_text])\n",
    "\n",
    "# 使用 Chroma 向量存储和 OpenAI 嵌入\n",
    "embeddings = OpenAIEmbeddings()\n",
    "store = Chroma.from_documents(docs, embeddings, collection_name=\"state-info\")"
   ]
  },
  {
   "cell_type": "code",
   "execution_count": 18,
   "id": "f2675861",
   "metadata": {},
   "outputs": [
    {
     "name": "stdout",
     "output_type": "stream",
     "text": [
      "Running Chroma using direct local API.\n",
      "Using DuckDB in-memory for database. Data will be transient.\n"
     ]
    }
   ],
   "source": [
    "from langchain_community.document_loaders import TextLoader\n",
    "\n",
    "# 加载文档\n",
    "loader = TextLoader(doc_path)\n",
    "documents = loader.load()\n",
    "text_splitter = CharacterTextSplitter(chunk_size=1000, chunk_overlap=0)\n",
    "texts = text_splitter.split_documents(documents)\n",
    "\n",
    "# 创建向量存储\n",
    "embeddings = OpenAIEmbeddings()\n",
    "docsearch = Chroma.from_documents(texts, embeddings, collection_name=\"state-of-union\")"
   ]
  },
  {
   "cell_type": "code",
   "execution_count": 4,
   "id": "bc5403d4",
   "metadata": {},
   "outputs": [],
   "source": [
    "# 创建问答检索器\n",
    "state_of_union = RetrievalQA.from_chain_type(\n",
    "    llm=llm, chain_type=\"stuff\", retriever=docsearch.as_retriever()\n",
    ")"
   ]
  },
  {
   "cell_type": "code",
   "execution_count": 5,
   "id": "1431cded",
   "metadata": {},
   "outputs": [],
   "source": [
    "from langchain_community.document_loaders import WebBaseLoader"
   ]
  },
  {
   "cell_type": "code",
   "execution_count": 6,
   "id": "915d3ff3",
   "metadata": {},
   "outputs": [],
   "source": [
    "# 从网页加载文档\n",
    "loader = WebBaseLoader(\"https://beta.ruff.rs/docs/faq/\")"
   ]
  },
  {
   "cell_type": "code",
   "execution_count": 7,
   "id": "96a2edf8",
   "metadata": {},
   "outputs": [
    {
     "name": "stdout",
     "output_type": "stream",
     "text": [
      "Running Chroma using direct local API.\n",
      "Using DuckDB in-memory for database. Data will be transient.\n"
     ]
    }
   ],
   "source": [
    "# 加载并处理文档\n",
    "docs = loader.load()\n",
    "ruff_texts = text_splitter.split_documents(docs)\n",
    "ruff_db = Chroma.from_documents(ruff_texts, embeddings, collection_name=\"ruff\")\n",
    "ruff = RetrievalQA.from_chain_type(\n",
    "    llm=llm, chain_type=\"stuff\", retriever=ruff_db.as_retriever()\n",
    ")"
   ]
  },
  {
   "cell_type": "markdown",
   "id": "c0a6c031",
   "metadata": {},
   "source": [
    "## 创建 Agent"
   ]
  },
  {
   "cell_type": "code",
   "execution_count": null,
   "id": "eb142786",
   "metadata": {},
   "outputs": [],
   "source": [
    "# 导入常用组件\n",
    "from langchain.agents import AgentType, Tool, initialize_agent\n",
    "from langchain_openai import OpenAI"
   ]
  },
  {
   "cell_type": "code",
   "execution_count": null,
   "id": "850bc4e9",
   "metadata": {},
   "outputs": [],
   "source": [
    "# 定义工具列表\n",
    "tools = [\n",
    "    Tool(\n",
    "        name=\"国情咨文问答系统\",\n",
    "        func=state_of_union.run,\n",
    "        description=\"用于回答关于最近国情咨文演讲的问题。输入应该是一个完整的问题。\",\n",
    "    ),\n",
    "    Tool(\n",
    "        name=\"Ruff问答系统\",\n",
    "        func=ruff.run,\n",
    "        description=\"用于回答关于ruff(一个Python代码检查工具)的问题。输入应该是一个完整的问题。\",\n",
    "    ),\n",
    "]"
   ]
  },
  {
   "cell_type": "code",
   "execution_count": null,
   "id": "fc47f230",
   "metadata": {},
   "outputs": [],
   "source": [
    "# 构建 agent。这里我们使用默认的 agent 类型。\n",
    "# 完整的选项列表请参考文档。\n",
    "agent = initialize_agent(\n",
    "    tools, llm, agent=AgentType.ZERO_SHOT_REACT_DESCRIPTION, verbose=True\n",
    ")"
   ]
  },
  {
   "cell_type": "code",
   "execution_count": null,
   "id": "10ca2db8",
   "metadata": {},
   "outputs": [
    {
     "name": "stdout",
     "output_type": "stream",
     "text": [
      "\n",
      "\n",
      "\u001b[1m> Entering new AgentExecutor chain...\u001b[0m\n",
      "\u001b[32;1m\u001b[1;3m I need to find out what Biden said about Ketanji Brown Jackson in the State of the Union address.\n",
      "Action: State of Union QA System\n",
      "Action Input: What did Biden say about Ketanji Brown Jackson in the State of the Union address?\u001b[0m\n",
      "Observation: \u001b[36;1m\u001b[1;3m Biden said that Jackson is one of the nation's top legal minds and that she will continue Justice Breyer's legacy of excellence.\u001b[0m\n",
      "Thought:\u001b[32;1m\u001b[1;3m I now know the final answer\n",
      "Final Answer: Biden said that Jackson is one of the nation's top legal minds and that she will continue Justice Breyer's legacy of excellence.\u001b[0m\n",
      "\n",
      "\u001b[1m> Finished chain.\u001b[0m\n"
     ]
    },
    {
     "data": {
      "text/plain": [
       "\"Biden said that Jackson is one of the nation's top legal minds and that she will continue Justice Breyer's legacy of excellence.\""
      ]
     },
     "execution_count": 46,
     "metadata": {},
     "output_type": "execute_result"
    }
   ],
   "source": [
    "# 测试国情咨文相关问题\n",
    "agent.run(\n",
    "    \"拜登在国情咨文演讲中如何评价Ketanji Brown Jackson？\"\n",
    ")"
   ]
  },
  {
   "cell_type": "code",
   "execution_count": null,
   "id": "4e91b811",
   "metadata": {},
   "outputs": [
    {
     "name": "stdout",
     "output_type": "stream",
     "text": [
      "\n",
      "\n",
      "\u001b[1m> Entering new AgentExecutor chain...\u001b[0m\n",
      "\u001b[32;1m\u001b[1;3m I need to find out the advantages of using ruff over flake8\n",
      "Action: Ruff QA System\n",
      "Action Input: What are the advantages of using ruff over flake8?\u001b[0m\n",
      "Observation: \u001b[33;1m\u001b[1;3m Ruff can be used as a drop-in replacement for Flake8 when used (1) without or with a small number of plugins, (2) alongside Black, and (3) on Python 3 code. It also re-implements some of the most popular Flake8 plugins and related code quality tools natively, including isort, yesqa, eradicate, and most of the rules implemented in pyupgrade. Ruff also supports automatically fixing its own lint violations, which Flake8 does not.\u001b[0m\n",
      "Thought:\u001b[32;1m\u001b[1;3m I now know the final answer\n",
      "Final Answer: Ruff can be used as a drop-in replacement for Flake8 when used (1) without or with a small number of plugins, (2) alongside Black, and (3) on Python 3 code. It also re-implements some of the most popular Flake8 plugins and related code quality tools natively, including isort, yesqa, eradicate, and most of the rules implemented in pyupgrade. Ruff also supports automatically fixing its own lint violations, which Flake8 does not.\u001b[0m\n",
      "\n",
      "\u001b[1m> Finished chain.\u001b[0m\n"
     ]
    },
    {
     "data": {
      "text/plain": [
       "'Ruff can be used as a drop-in replacement for Flake8 when used (1) without or with a small number of plugins, (2) alongside Black, and (3) on Python 3 code. It also re-implements some of the most popular Flake8 plugins and related code quality tools natively, including isort, yesqa, eradicate, and most of the rules implemented in pyupgrade. Ruff also supports automatically fixing its own lint violations, which Flake8 does not.'"
      ]
     },
     "execution_count": 47,
     "metadata": {},
     "output_type": "execute_result"
    }
   ],
   "source": [
    "# 测试 Ruff 相关问题\n",
    "agent.run(\"为什么要使用ruff而不是flake8？\")"
   ]
  },
  {
   "cell_type": "markdown",
   "id": "787a9b5e",
   "metadata": {},
   "source": [
    "## 将 Agent 仅作为路由器使用"
   ]
  },
  {
   "cell_type": "markdown",
   "id": "9161ba91",
   "metadata": {},
   "source": [
    "如果你打算仅将 agent 用作路由器并想直接返回 RetrievalQAChain 的结果，你也可以设置 `return_direct=True`。\n",
    "\n",
    "注意在上面的例子中，agent 在查询 RetrievalQAChain 后还做了一些额外的工作。你可以避免这种情况并直接返回结果。"
   ]
  },
  {
   "cell_type": "code",
   "execution_count": null,
   "id": "f59b377e",
   "metadata": {},
   "outputs": [],
   "source": [
    "# 定义工具列表（带有 return_direct=True）\n",
    "tools = [\n",
    "    Tool(\n",
    "        name=\"国情咨文问答系统\",\n",
    "        func=state_of_union.run,\n",
    "        description=\"用于回答关于最近国情咨文演讲的问题。输入应该是一个完整的问题。\",\n",
    "        return_direct=True,\n",
    "    ),\n",
    "    Tool(\n",
    "        name=\"Ruff问答系统\",\n",
    "        func=ruff.run,\n",
    "        description=\"用于回答关于ruff(一个Python代码检查工具)的问题。输入应该是一个完整的问题。\",\n",
    "        return_direct=True,\n",
    "    ),\n",
    "]\n",
    "\n",
    "agent = initialize_agent(\n",
    "    tools, llm, agent=AgentType.ZERO_SHOT_REACT_DESCRIPTION, verbose=True\n",
    ")"
   ]
  },
  {
   "cell_type": "code",
   "execution_count": null,
   "id": "36e718a9",
   "metadata": {},
   "outputs": [
    {
     "name": "stdout",
     "output_type": "stream",
     "text": [
      "\n",
      "\n",
      "\u001b[1m> Entering new AgentExecutor chain...\u001b[0m\n",
      "\u001b[32;1m\u001b[1;3m I need to find out what Biden said about Ketanji Brown Jackson in the State of the Union address.\n",
      "Action: State of Union QA System\n",
      "Action Input: What did Biden say about Ketanji Brown Jackson in the State of the Union address?\u001b[0m\n",
      "Observation: \u001b[36;1m\u001b[1;3m Biden said that Jackson is one of the nation's top legal minds and that she will continue Justice Breyer's legacy of excellence.\u001b[0m\n",
      "\u001b[32;1m\u001b[1;3m\u001b[0m\n",
      "\n",
      "\u001b[1m> Finished chain.\u001b[0m\n"
     ]
    },
    {
     "data": {
      "text/plain": [
       "\" Biden said that Jackson is one of the nation's top legal minds and that she will continue Justice Breyer's legacy of excellence.\""
      ]
     },
     "execution_count": 50,
     "metadata": {},
     "output_type": "execute_result"
    }
   ],
   "source": [
    "# 测试国情咨文相关问题\n",
    "agent.run(\n",
    "    \"拜登在国情咨文演讲中如何评价Ketanji Brown Jackson？\"\n",
    ")"
   ]
  },
  {
   "cell_type": "code",
   "execution_count": null,
   "id": "edfd0a1a",
   "metadata": {},
   "outputs": [
    {
     "name": "stdout",
     "output_type": "stream",
     "text": [
      "\n",
      "\n",
      "\u001b[1m> Entering new AgentExecutor chain...\u001b[0m\n",
      "\u001b[32;1m\u001b[1;3m I need to find out the advantages of using ruff over flake8\n",
      "Action: Ruff QA System\n",
      "Action Input: What are the advantages of using ruff over flake8?\u001b[0m\n",
      "Observation: \u001b[33;1m\u001b[1;3m Ruff can be used as a drop-in replacement for Flake8 when used (1) without or with a small number of plugins, (2) alongside Black, and (3) on Python 3 code. It also re-implements some of the most popular Flake8 plugins and related code quality tools natively, including isort, yesqa, eradicate, and most of the rules implemented in pyupgrade. Ruff also supports automatically fixing its own lint violations, which Flake8 does not.\u001b[0m\n",
      "\u001b[32;1m\u001b[1;3m\u001b[0m\n",
      "\n",
      "\u001b[1m> Finished chain.\u001b[0m\n"
     ]
    },
    {
     "data": {
      "text/plain": [
       "' Ruff can be used as a drop-in replacement for Flake8 when used (1) without or with a small number of plugins, (2) alongside Black, and (3) on Python 3 code. It also re-implements some of the most popular Flake8 plugins and related code quality tools natively, including isort, yesqa, eradicate, and most of the rules implemented in pyupgrade. Ruff also supports automatically fixing its own lint violations, which Flake8 does not.'"
      ]
     },
     "execution_count": 51,
     "metadata": {},
     "output_type": "execute_result"
    }
   ],
   "source": [
    "# 测试 Ruff 相关问题\n",
    "agent.run(\"为什么要使用ruff而不是flake8？\")"
   ]
  },
  {
   "cell_type": "markdown",
   "id": "49a0cbbe",
   "metadata": {},
   "source": [
    "## 多跳向量存储推理\n",
    "\n",
    "由于向量存储可以轻松地作为工具在 agent 中使用，因此使用现有的 agent 框架来回答依赖于向量存储的多跳问题也很简单。"
   ]
  },
  {
   "cell_type": "code",
   "execution_count": null,
   "id": "d397a233",
   "metadata": {},
   "outputs": [],
   "source": [
    "# 定义工具列表\n",
    "tools = [\n",
    "    Tool(\n",
    "        name=\"国情咨文问答系统\",\n",
    "        func=state_of_union.run,\n",
    "        description=\"用于回答关于最近国情咨文演讲的问题。输入应该是一个完整的问题，避免引用之前对话中的任何模糊代词。\",\n",
    "    ),\n",
    "    Tool(\n",
    "        name=\"Ruff问答系统\",\n",
    "        func=ruff.run,\n",
    "        description=\"用于回答关于ruff(一个Python代码检查工具)的问题。输入应该是一个完整的问题，避免引用之前对话中的任何模糊代词。\",\n",
    "    ),\n",
    "]\n",
    "\n",
    "# 初始化 agent\n",
    "agent = initialize_agent(\n",
    "    tools, llm, agent=AgentType.ZERO_SHOT_REACT_DESCRIPTION, verbose=True\n",
    ")\n",
    "\n",
    "# 测试多跳问题\n",
    "agent.run(\n",
    "    \"Ruff使用什么工具来处理Jupyter Notebook？总统在国情咨文中有提到这个工具吗？\"\n",
    ")"
   ]
  }
 ],
 "metadata": {
  "kernelspec": {
   "display_name": "Python 3 (ipykernel)",
   "language": "python",
   "name": "python3"
  },
  "language_info": {
   "codemirror_mode": {
    "name": "ipython",
    "version": 3
   },
   "file_extension": ".py",
   "mimetype": "text/x-python",
   "name": "python",
   "nbconvert_exporter": "python",
   "pygments_lexer": "ipython3",
   "version": "3.10.1"
  }
 },
 "nbformat": 4,
 "nbformat_minor": 5
}
