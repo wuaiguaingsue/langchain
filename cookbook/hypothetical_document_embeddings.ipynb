{
 "cells": [
  {
   "cell_type": "markdown",
   "id": "ccb74c9b",
   "metadata": {},
   "source": [
    "# 使用 HyDE 改进文档索引\n",
    "本笔记本介绍如何使用假设文档嵌入（HyDE），正如[这篇论文](https://arxiv.org/abs/2212.10496)中所描述的。\n",
    "\n",
    "从高层次来看，HyDE 是一种嵌入技术，它接收查询，生成一个假设答案，然后对生成的文档进行嵌入，并将其用作最终示例。\n",
    "\n",
    "因此，要使用 HyDE，我们需要提供一个基础嵌入模型，以及一个可用于生成这些文档的 LLMChain。默认情况下，HyDE 类附带一些默认提示（有关更多详细信息，请参阅论文），但我们也可以创建自己的提示。"
   ]
  },
  {
   "cell_type": "code",
   "execution_count": 1,
   "id": "546e87ee",
   "metadata": {},
   "outputs": [],
   "source": [
    "from langchain.chains import HypotheticalDocumentEmbedder, LLMChain\n",
    "from langchain.prompts import PromptTemplate\n",
    "from langchain_openai import OpenAI, OpenAIEmbeddings"
   ]
  },
  {
   "cell_type": "code",
   "execution_count": 2,
   "id": "c0ea895f",
   "metadata": {},
   "outputs": [],
   "source": [
    "base_embeddings = OpenAIEmbeddings()\n",
    "llm = OpenAI()"
   ]
  },
  {
   "cell_type": "markdown",
   "id": "33bd6905",
   "metadata": {},
   "source": []
  },
  {
   "cell_type": "code",
   "execution_count": 3,
   "id": "50729989",
   "metadata": {},
   "outputs": [],
   "source": [
    "# Load with `web_search` prompt\n",
    "embeddings = HypotheticalDocumentEmbedder.from_llm(llm, base_embeddings, \"web_search\")"
   ]
  },
  {
   "cell_type": "code",
   "execution_count": 4,
   "id": "3aa573d6",
   "metadata": {},
   "outputs": [],
   "source": [
    "# Now we can use it as any embedding class!\n",
    "result = embeddings.embed_query(\"Where is the Taj Mahal?\")"
   ]
  },
  {
   "cell_type": "markdown",
   "id": "c7a0b556",
   "metadata": {},
   "source": [
    "## 多重生成\n",
    "我们还可以生成多个文档，然后组合这些文档的嵌入。默认情况下，我们通过取平均值来组合它们。我们可以通过更改用于生成文档的 LLM 来返回多个内容来实现这一点。"
   ]
  },
  {
   "cell_type": "code",
   "execution_count": 5,
   "id": "05da7060",
   "metadata": {},
   "outputs": [],
   "source": [
    "multi_llm = OpenAI(n=4, best_of=4)"
   ]
  },
  {
   "cell_type": "code",
   "execution_count": 6,
   "id": "9b1e12bd",
   "metadata": {},
   "outputs": [],
   "source": [
    "embeddings = HypotheticalDocumentEmbedder.from_llm(\n",
    "    multi_llm, base_embeddings, \"web_search\"\n",
    ")"
   ]
  },
  {
   "cell_type": "code",
   "execution_count": 7,
   "id": "a60cd343",
   "metadata": {},
   "outputs": [],
   "source": [
    "result = embeddings.embed_query(\"Where is the Taj Mahal?\")"
   ]
  },
  {
   "cell_type": "markdown",
   "id": "1da90437",
   "metadata": {},
   "source": [
    "## 使用我们自己的提示\n",
    "除了使用预配置的提示外，我们还可以轻松构建自己的提示，并在生成文档的 LLMChain 中使用它们。如果我们知道查询将在哪个领域中进行，这会很有用，因为我们可以调整提示以生成更类似于该领域的文本。\n",
    "\n",
    "在下面的示例中，让我们将其调整为生成关于国情咨文的文本（因为我们将在下一个示例中使用它）。"
   ]
  },
  {
   "cell_type": "code",
   "execution_count": 8,
   "id": "0b4a650f",
   "metadata": {},
   "outputs": [],
   "source": [
    "prompt_template = \"\"\"Please answer the user's question about the most recent state of the union address\n",
    "Question: {question}\n",
    "Answer:\"\"\"\n",
    "prompt = PromptTemplate(input_variables=[\"question\"], template=prompt_template)\n",
    "llm_chain = LLMChain(llm=llm, prompt=prompt)"
   ]
  },
  {
   "cell_type": "code",
   "execution_count": 9,
   "id": "7f7e2b86",
   "metadata": {},
   "outputs": [],
   "source": [
    "embeddings = HypotheticalDocumentEmbedder(\n",
    "    llm_chain=llm_chain, base_embeddings=base_embeddings\n",
    ")"
   ]
  },
  {
   "cell_type": "code",
   "execution_count": 10,
   "id": "6dd83424",
   "metadata": {},
   "outputs": [],
   "source": [
    "result = embeddings.embed_query(\n",
    "    \"What did the president say about Ketanji Brown Jackson\"\n",
    ")"
   ]
  },
  {
   "cell_type": "markdown",
   "id": "31388123",
   "metadata": {},
   "source": [
    "## 使用 HyDE\n",
    "现在我们有了 HyDE，我们可以像使用任何其他嵌入类一样使用它！以下是在国情咨文示例中使用它来查找相似段落。"
   ]
  },
  {
   "cell_type": "code",
   "execution_count": 11,
   "id": "97719b29",
   "metadata": {},
   "outputs": [],
   "source": [
    "from langchain_chroma import Chroma\n",
    "from langchain_text_splitters import CharacterTextSplitter\n",
    "\n",
    "with open(\"../../state_of_the_union.txt\") as f:\n",
    "    state_of_the_union = f.read()\n",
    "text_splitter = CharacterTextSplitter(chunk_size=1000, chunk_overlap=0)\n",
    "texts = text_splitter.split_text(state_of_the_union)"
   ]
  },
  {
   "cell_type": "code",
   "execution_count": 12,
   "id": "bfcfc039",
   "metadata": {},
   "outputs": [
    {
     "name": "stdout",
     "output_type": "stream",
     "text": [
      "Running Chroma using direct local API.\n",
      "Using DuckDB in-memory for database. Data will be transient.\n"
     ]
    }
   ],
   "source": [
    "docsearch = Chroma.from_texts(texts, embeddings)\n",
    "\n",
    "query = \"What did the president say about Ketanji Brown Jackson\"\n",
    "docs = docsearch.similarity_search(query)"
   ]
  },
  {
   "cell_type": "code",
   "execution_count": 13,
   "id": "632af7f2",
   "metadata": {},
   "outputs": [
    {
     "name": "stdout",
     "output_type": "stream",
     "text": [
      "In state after state, new laws have been passed, not only to suppress the vote, but to subvert entire elections. \n",
      "\n",
      "We cannot let this happen. \n",
      "\n",
      "Tonight. I call on the Senate to: Pass the Freedom to Vote Act. Pass the John Lewis Voting Rights Act. And while you’re at it, pass the Disclose Act so Americans can know who is funding our elections. \n",
      "\n",
      "Tonight, I’d like to honor someone who has dedicated his life to serve this country: Justice Stephen Breyer—an Army veteran, Constitutional scholar, and retiring Justice of the United States Supreme Court. Justice Breyer, thank you for your service. \n",
      "\n",
      "One of the most serious constitutional responsibilities a President has is nominating someone to serve on the United States Supreme Court. \n",
      "\n",
      "And I did that 4 days ago, when I nominated Circuit Court of Appeals Judge Ketanji Brown Jackson. One of our nation’s top legal minds, who will continue Justice Breyer’s legacy of excellence.\n"
     ]
    }
   ],
   "source": [
    "print(docs[0].page_content)"
   ]
  },
  {
   "cell_type": "code",
   "execution_count": null,
   "id": "b9e57b93",
   "metadata": {},
   "outputs": [],
   "source": []
  }
 ],
 "metadata": {
  "kernelspec": {
   "display_name": "Python 3 (ipykernel)",
   "language": "python",
   "name": "python3"
  },
  "language_info": {
   "codemirror_mode": {
    "name": "ipython",
    "version": 3
   },
   "file_extension": ".py",
   "mimetype": "text/x-python",
   "name": "python",
   "nbconvert_exporter": "python",
   "pygments_lexer": "ipython3",
   "version": "3.11.3"
  },
  "vscode": {
   "interpreter": {
    "hash": "aee8b7b246df8f9039afb4144a1f6fd8d2ca17a180786b69acc140d282b71a49"
   }
  }
 },
 "nbformat": 4,
 "nbformat_minor": 5
}
