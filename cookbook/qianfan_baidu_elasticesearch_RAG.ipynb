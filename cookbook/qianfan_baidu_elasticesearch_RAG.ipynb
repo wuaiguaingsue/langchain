{
 "cells": [
  {
   "attachments": {},
   "cell_type": "markdown",
   "metadata": {},
   "source": [
    "# 基于千帆和BES的RAG"
   ]
  },
  {
   "attachments": {},
   "cell_type": "markdown",
   "metadata": {},
   "source": [
    "本笔记本是使用百度千帆平台结合百度ElasticSearch实现的检索增强生成（RAG），其中原始数据位于BOS上。\n",
    "## 百度千帆\n",
    "百度智能云千帆大模型平台是一个面向企业开发者的一站式大模型开发与服务运营平台。千帆不仅提供包括文心一言（ERNIE-Bot）以及第三方开源模型在内的多种大模型，还提供各种AI开发工具和完整的开发环境，使客户能够轻松使用和开发大模型应用。\n",
    "\n",
    "## 百度ElasticSearch\n",
    "[百度云向量搜索](https://cloud.baidu.com/doc/BES/index.html?from=productToDoc)是一种完全托管的、企业级分布式搜索和分析服务，与开源100%兼容。百度云向量搜索为结构化/非结构化数据提供低成本、高性能和可靠的检索与分析平台级产品服务。作为向量数据库，它支持多种索引类型和相似度距离方法。"
   ]
  },
  {
   "attachments": {},
   "cell_type": "markdown",
   "metadata": {},
   "source": [
    "## 安装与设置\n"
   ]
  },
  {
   "cell_type": "code",
   "execution_count": null,
   "metadata": {},
   "outputs": [],
   "source": [
    "#!pip install qianfan\n",
    "#!pip install bce-python-sdk\n",
    "#!pip install elasticsearch == 7.11.0\n",
    "#!pip install sentence-transformers"
   ]
  },
  {
   "attachments": {},
   "cell_type": "markdown",
   "metadata": {},
   "source": [
    "## 导入依赖"
   ]
  },
  {
   "cell_type": "code",
   "execution_count": null,
   "metadata": {},
   "outputs": [],
   "source": [
    "import sentence_transformers\n",
    "from baidubce.auth.bce_credentials import BceCredentials\n",
    "from baidubce.bce_client_configuration import BceClientConfiguration\n",
    "from langchain.chains.retrieval_qa import RetrievalQA\n",
    "from langchain_community.document_loaders.baiducloud_bos_directory import (\n",
    "    BaiduBOSDirectoryLoader,\n",
    ")\n",
    "from langchain_community.embeddings.huggingface import HuggingFaceEmbeddings\n",
    "from langchain_community.llms.baidu_qianfan_endpoint import QianfanLLMEndpoint\n",
    "from langchain_community.vectorstores import BESVectorStore\n",
    "from langchain_text_splitters import RecursiveCharacterTextSplitter"
   ]
  },
  {
   "attachments": {},
   "cell_type": "markdown",
   "metadata": {},
   "source": [
    "## 文档加载"
   ]
  },
  {
   "cell_type": "code",
   "execution_count": null,
   "metadata": {},
   "outputs": [],
   "source": [
    "bos_host = \"你的BOS终端节点\"\n",
    "access_key_id = \"你的BOS访问AK\"\n",
    "secret_access_key = \"你的BOS访问SK\"\n",
    "\n",
    "# 创建BceClientConfiguration\n",
    "config = BceClientConfiguration(\n",
    "    credentials=BceCredentials(access_key_id, secret_access_key), endpoint=bos_host\n",
    ")\n",
    "\n",
    "loader = BaiduBOSDirectoryLoader(conf=config, bucket=\"llm-test\", prefix=\"llm/\")\n",
    "documents = loader.load()\n",
    "\n",
    "text_splitter = RecursiveCharacterTextSplitter(chunk_size=200, chunk_overlap=0)\n",
    "split_docs = text_splitter.split_documents(documents)"
   ]
  },
  {
   "attachments": {},
   "cell_type": "markdown",
   "metadata": {},
   "source": [
    "## 嵌入和向量存储"
   ]
  },
  {
   "cell_type": "code",
   "execution_count": null,
   "metadata": {},
   "outputs": [],
   "source": [
    "embeddings = HuggingFaceEmbeddings(model_name=\"shibing624/text2vec-base-chinese\")\n",
    "embeddings.client = sentence_transformers.SentenceTransformer(embeddings.model_name)\n",
    "\n",
    "db = BESVectorStore.from_documents(\n",
    "    documents=split_docs,\n",
    "    embedding=embeddings,\n",
    "    bes_url=\"你的BES URL\",\n",
    "    index_name=\"test-index\",\n",
    "    vector_query_field=\"vector\",\n",
    ")\n",
    "\n",
    "db.client.indices.refresh(index=\"test-index\")\n",
    "retriever = db.as_retriever()"
   ]
  },
  {
   "attachments": {},
   "cell_type": "markdown",
   "metadata": {},
   "source": [
    "## 问答检索器"
   ]
  },
  {
   "cell_type": "code",
   "execution_count": null,
   "metadata": {},
   "outputs": [],
   "source": [
    "llm = QianfanLLMEndpoint(\n",
    "    model=\"ERNIE-Bot\",\n",
    "    qianfan_ak=\"你的千帆AK\",\n",
    "    qianfan_sk=\"你的千帆SK\",\n",
    "    streaming=True,\n",
    ")\n",
    "qa = RetrievalQA.from_chain_type(\n",
    "    llm=llm, chain_type=\"refine\", retriever=retriever, return_source_documents=True\n",
    ")\n",
    "\n",
    "query = \"什么是张量?\"\n",
    "print(qa.run(query))"
   ]
  },
  {
   "attachments": {},
   "cell_type": "markdown",
   "metadata": {},
   "source": [
    "> 张量（Tensor）是一个数学概念，用于表示多维数据。它是一个可以表示多个数值的数组，可以是标量、向量、矩阵等。在深度学习和人工智能领域中，张量常用于表示神经网络的输入、输出和权重等。"
   ]
  }
 ],
 "metadata": {
  "kernelspec": {
   "display_name": "Python 3 (ipykernel)",
   "language": "python",
   "name": "python3"
  },
  "language_info": {
   "codemirror_mode": {
    "name": "ipython",
    "version": 3
   },
   "file_extension": ".py",
   "mimetype": "text/x-python",
   "name": "python",
   "nbconvert_exporter": "python",
   "pygments_lexer": "ipython3",
   "version": "3.10.12"
  },
  "vscode": {
   "interpreter": {
    "hash": "aee8b7b246df8f9039afb4144a1f6fd8d2ca17a180786b69acc140d282b71a49"
   }
  }
 },
 "nbformat": 4,
 "nbformat_minor": 4
}
