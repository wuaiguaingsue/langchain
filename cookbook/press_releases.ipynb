{
 "cells": [
  {
   "cell_type": "markdown",
   "id": "62ee82e4-2ad8-498b-8438-fac388afe1a2",
   "metadata": {},
   "source": [
    "新闻稿数据\n",
    "=\n",
    "\n",
    "新闻稿数据由 [Kay.ai](https://kay.ai) 提供支持。\n",
    "\n",
    ">新闻稿被公司用来宣布重要事项，包括产品发布、财务业绩报告、合作伙伴关系和其他重大新闻。分析师广泛使用它们来跟踪企业战略、运营更新和财务表现。\n",
    "Kay.ai 从多种来源获取所有美国上市公司的新闻稿，这些来源包括公司的官方新闻室以及与各种数据 API 提供商的合作。\n",
    "该数据的免费访问更新截至9月30日，如果您想访问实时数据，请通过 hello@kay.ai 联系我们或[在Twitter上联系我们](https://twitter.com/vishalrohra_)"
   ]
  },
  {
   "cell_type": "markdown",
   "id": "8183d85d-365f-4672-a963-52b533547de0",
   "metadata": {},
   "source": [
    "设置\n",
    "=\n",
    "\n",
    "首先，您需要安装 `kay` 包。您还需要一个 API 密钥：可以在 [https://kay.ai](https://kay.ai/) 免费获取。获得 API 密钥后，必须将其设置为环境变量 `KAY_API_KEY`。\n",
    "\n",
    "在本示例中，我们将使用 `KayAiRetriever`。查看 [kay 笔记本](/docs/integrations/retrievers/kay) 以获取更详细的参数信息。"
   ]
  },
  {
   "cell_type": "markdown",
   "id": "02ec21c7-49fe-4844-b58a-bf064ad40b2a",
   "metadata": {},
   "source": [
    "示例\n",
    "="
   ]
  },
  {
   "cell_type": "code",
   "execution_count": null,
   "id": "bf0395f7-6ebe-4136-8b0d-00b9dea3becd",
   "metadata": {},
   "outputs": [
    {
     "name": "stdout",
     "output_type": "stream",
     "text": [
      " ········\n",
      " ········\n"
     ]
    }
   ],
   "source": [
    "# 设置 Kay 和 OpenAI 的 API 密钥\n",
    "from getpass import getpass\n",
    "\n",
    "KAY_API_KEY = getpass()\n",
    "OPENAI_API_KEY = getpass()"
   ]
  },
  {
   "cell_type": "code",
   "execution_count": 2,
   "id": "f7fcaf70-29a4-444b-8f07-9784f808c300",
   "metadata": {},
   "outputs": [],
   "source": [
    "import os\n",
    "\n",
    "os.environ[\"KAY_API_KEY\"] = KAY_API_KEY\n",
    "os.environ[\"OPENAI_API_KEY\"] = OPENAI_API_KEY"
   ]
  },
  {
   "cell_type": "code",
   "execution_count": 3,
   "id": "ac00bf93-3635-4ffe-b9a6-a8b4f35c0c85",
   "metadata": {},
   "outputs": [],
   "source": [
    "from langchain.chains import ConversationalRetrievalChain\n",
    "from langchain.retrievers import KayAiRetriever\n",
    "from langchain_openai import ChatOpenAI\n",
    "\n",
    "model = ChatOpenAI(model=\"gpt-3.5-turbo\")\n",
    "retriever = KayAiRetriever.create(\n",
    "    dataset_id=\"company\", data_types=[\"PressRelease\"], num_contexts=6\n",
    ")\n",
    "qa = ConversationalRetrievalChain.from_llm(model, retriever=retriever)"
   ]
  },
  {
   "cell_type": "code",
   "execution_count": null,
   "id": "8d9d927c-35b2-4a7b-8ea7-4d0350797941",
   "metadata": {},
   "outputs": [
    {
     "name": "stdout",
     "output_type": "stream",
     "text": [
      "-> **Question**: How is the healthcare industry adopting generative AI tools? \n",
      "\n",
      "**Answer**: The healthcare industry is adopting generative AI tools to improve various aspects of patient care and administrative tasks. Companies like HCA Healthcare Inc, Amazon Com Inc, and Mayo Clinic have collaborated with technology providers like Google Cloud, AWS, and Microsoft to implement generative AI solutions.\n",
      "\n",
      "HCA Healthcare is testing a nurse handoff tool that generates draft reports quickly and accurately, which nurses have shown interest in using. They are also exploring the use of Google's medically-tuned Med-PaLM 2 LLM to support caregivers in asking complex medical questions.\n",
      "\n",
      "Amazon Web Services (AWS) has introduced AWS HealthScribe, a generative AI-powered service that automatically creates clinical documentation. However, integrating multiple AI systems into a cohesive solution requires significant engineering resources, including access to AI experts, healthcare data, and compute capacity.\n",
      "\n",
      "Mayo Clinic is among the first healthcare organizations to deploy Microsoft 365 Copilot, a generative AI service that combines large language models with organizational data from Microsoft 365. This tool has the potential to automate tasks like form-filling, relieving administrative burdens on healthcare providers and allowing them to focus more on patient care.\n",
      "\n",
      "Overall, the healthcare industry is recognizing the potential benefits of generative AI tools in improving efficiency, automating tasks, and enhancing patient care. \n",
      "\n"
     ]
    }
   ],
   "source": [
    "# 更多示例问题可在 https://kay.ai 的 Playground 中找到\n",
    "questions = [\n",
    "    \"医疗保健行业如何采用生成式 AI 工具？\",\n",
    "    # \"可再生能源行业最近面临哪些挑战？\",\n",
    "]\n",
    "chat_history = []\n",
    "\n",
    "for question in questions:\n",
    "    result = qa({\"question\": question, \"chat_history\": chat_history})\n",
    "    chat_history.append((question, result[\"answer\"]))\n",
    "    print(f\"-> **问题**: {question} \\n\")\n",
    "    print(f\"**回答**: {result['answer']} \\n\")"
   ]
  }
 ],
 "metadata": {
  "kernelspec": {
   "display_name": "Python 3 (ipykernel)",
   "language": "python",
   "name": "python3"
  },
  "language_info": {
   "codemirror_mode": {
    "name": "ipython",
    "version": 3
   },
   "file_extension": ".py",
   "mimetype": "text/x-python",
   "name": "python",
   "nbconvert_exporter": "python",
   "pygments_lexer": "ipython3",
   "version": "3.9.18"
  }
 },
 "nbformat": 4,
 "nbformat_minor": 5
}
