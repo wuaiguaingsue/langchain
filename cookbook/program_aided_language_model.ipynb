{
 "cells": [
  {
   "cell_type": "markdown",
   "id": "32e022a2",
   "metadata": {},
   "source": [
    "# 程序辅助语言模型（PAL）链\n",
    "\n",
    "实现程序辅助语言模型，参考论文 https://arxiv.org/pdf/2211.10435.pdf。\n"
   ]
  },
  {
   "cell_type": "code",
   "execution_count": 1,
   "id": "1370e40f",
   "metadata": {},
   "outputs": [],
   "source": [
    "from langchain_experimental.pal_chain import PALChain\n",
    "from langchain_openai import OpenAI"
   ]
  },
  {
   "cell_type": "code",
   "execution_count": null,
   "id": "9a58e15e",
   "metadata": {},
   "outputs": [],
   "source": [
    "llm = OpenAI(temperature=0, max_tokens=512)"
   ]
  },
  {
   "cell_type": "markdown",
   "id": "095adc76",
   "metadata": {},
   "source": [
    "## 数学提示"
   ]
  },
  {
   "cell_type": "code",
   "execution_count": 2,
   "id": "beddcac7",
   "metadata": {},
   "outputs": [],
   "source": [
    "pal_chain = PALChain.from_math_prompt(llm, verbose=True)"
   ]
  },
  {
   "cell_type": "code",
   "execution_count": null,
   "id": "e2eab9d4",
   "metadata": {},
   "outputs": [],
   "source": [
    "question = \"Jan 的宠物数量是 Marcia 的三倍。Marcia 比 Cindy 多两只宠物。如果 Cindy 有四只宠物，三个人总共有多少只宠物？\""
   ]
  },
  {
   "cell_type": "code",
   "execution_count": 4,
   "id": "3ef64b27",
   "metadata": {
    "scrolled": true
   },
   "outputs": [
    {
     "name": "stdout",
     "output_type": "stream",
     "text": [
      "\n",
      "\n",
      "\u001b[1m> Entering new PALChain chain...\u001b[0m\n",
      "\u001b[32;1m\u001b[1;3mdef solution():\n",
      "    \"\"\"Jan has three times the number of pets as Marcia. Marcia has two more pets than Cindy. If Cindy has four pets, how many total pets do the three have?\"\"\"\n",
      "    cindy_pets = 4\n",
      "    marcia_pets = cindy_pets + 2\n",
      "    jan_pets = marcia_pets * 3\n",
      "    total_pets = cindy_pets + marcia_pets + jan_pets\n",
      "    result = total_pets\n",
      "    return result\u001b[0m\n",
      "\n",
      "\u001b[1m> Finished chain.\u001b[0m\n"
     ]
    },
    {
     "data": {
      "text/plain": [
       "'28'"
      ]
     },
     "execution_count": 4,
     "metadata": {},
     "output_type": "execute_result"
    }
   ],
   "source": [
    "pal_chain.run(question)"
   ]
  },
  {
   "cell_type": "markdown",
   "id": "0269d20a",
   "metadata": {},
   "source": [
    "## 彩色物品"
   ]
  },
  {
   "cell_type": "code",
   "execution_count": 5,
   "id": "e524f81f",
   "metadata": {},
   "outputs": [],
   "source": [
    "pal_chain = PALChain.from_colored_object_prompt(llm, verbose=True)"
   ]
  },
  {
   "cell_type": "code",
   "execution_count": null,
   "id": "03a237b8",
   "metadata": {},
   "outputs": [],
   "source": [
    "question = \"在桌子上，你看到两个蓝色小册子、两个紫色小册子和两副黄色太阳镜。如果我从桌子上移走所有太阳镜，还剩下多少个紫色物品？\""
   ]
  },
  {
   "cell_type": "code",
   "execution_count": 7,
   "id": "a84a4352",
   "metadata": {},
   "outputs": [
    {
     "name": "stdout",
     "output_type": "stream",
     "text": [
      "\n",
      "\n",
      "\u001b[1m> Entering new PALChain chain...\u001b[0m\n",
      "\u001b[32;1m\u001b[1;3m# Put objects into a list to record ordering\n",
      "objects = []\n",
      "objects += [('booklet', 'blue')] * 2\n",
      "objects += [('booklet', 'purple')] * 2\n",
      "objects += [('sunglasses', 'yellow')] * 2\n",
      "\n",
      "# Remove all pairs of sunglasses\n",
      "objects = [object for object in objects if object[0] != 'sunglasses']\n",
      "\n",
      "# Count number of purple objects\n",
      "num_purple = len([object for object in objects if object[1] == 'purple'])\n",
      "answer = num_purple\u001b[0m\n",
      "\n",
      "\u001b[1m> Finished PALChain chain.\u001b[0m\n"
     ]
    },
    {
     "data": {
      "text/plain": [
       "'2'"
      ]
     },
     "execution_count": 7,
     "metadata": {},
     "output_type": "execute_result"
    }
   ],
   "source": [
    "pal_chain.run(question)"
   ]
  },
  {
   "cell_type": "markdown",
   "id": "fc3d7f10",
   "metadata": {},
   "source": [
    "## 中间步骤\n",
    "你也可以使用中间步骤标志来返回生成答案的执行代码。"
   ]
  },
  {
   "cell_type": "code",
   "execution_count": 5,
   "id": "9d2d9c61",
   "metadata": {},
   "outputs": [],
   "source": [
    "pal_chain = PALChain.from_colored_object_prompt(\n",
    "    llm, verbose=True, return_intermediate_steps=True\n",
    ")"
   ]
  },
  {
   "cell_type": "code",
   "execution_count": null,
   "id": "b29b971b",
   "metadata": {},
   "outputs": [],
   "source": [
    "question = \"在桌子上，你看到两个蓝色小册子、两个紫色小册子和两副黄色太阳镜。如果我从桌子上移走所有太阳镜，还剩下多少个紫色物品？\""
   ]
  },
  {
   "cell_type": "code",
   "execution_count": 8,
   "id": "a2c40c28",
   "metadata": {},
   "outputs": [
    {
     "name": "stdout",
     "output_type": "stream",
     "text": [
      "\n",
      "\n",
      "\u001b[1m> Entering new PALChain chain...\u001b[0m\n",
      "\u001b[32;1m\u001b[1;3m# Put objects into a list to record ordering\n",
      "objects = []\n",
      "objects += [('booklet', 'blue')] * 2\n",
      "objects += [('booklet', 'purple')] * 2\n",
      "objects += [('sunglasses', 'yellow')] * 2\n",
      "\n",
      "# Remove all pairs of sunglasses\n",
      "objects = [object for object in objects if object[0] != 'sunglasses']\n",
      "\n",
      "# Count number of purple objects\n",
      "num_purple = len([object for object in objects if object[1] == 'purple'])\n",
      "answer = num_purple\u001b[0m\n",
      "\n",
      "\u001b[1m> Finished chain.\u001b[0m\n"
     ]
    }
   ],
   "source": [
    "result = pal_chain({\"question\": question})"
   ]
  },
  {
   "cell_type": "code",
   "execution_count": 11,
   "id": "efddd033",
   "metadata": {},
   "outputs": [
    {
     "data": {
      "text/plain": [
       "\"# Put objects into a list to record ordering\\nobjects = []\\nobjects += [('booklet', 'blue')] * 2\\nobjects += [('booklet', 'purple')] * 2\\nobjects += [('sunglasses', 'yellow')] * 2\\n\\n# Remove all pairs of sunglasses\\nobjects = [object for object in objects if object[0] != 'sunglasses']\\n\\n# Count number of purple objects\\nnum_purple = len([object for object in objects if object[1] == 'purple'])\\nanswer = num_purple\""
      ]
     },
     "execution_count": 11,
     "metadata": {},
     "output_type": "execute_result"
    }
   ],
   "source": [
    "result[\"intermediate_steps\"]"
   ]
  },
  {
   "cell_type": "code",
   "execution_count": null,
   "id": "dfd88594",
   "metadata": {},
   "outputs": [],
   "source": []
  },
  {
   "cell_type": "code",
   "execution_count": null,
   "id": "b1c1f948",
   "metadata": {},
   "outputs": [],
   "source": [
    "from IPython.display import HTML, display\n",
    "\n",
    "\n",
    "def plt_img_base64(img_base64):\n",
    "    # 使用 base64 字符串作为源创建 HTML img 标签\n",
    "    image_html = f'<img src=\"data:image/jpeg;base64,{img_base64}\" />'\n",
    "\n",
    "    # 通过渲染 HTML 显示图像\n",
    "    display(HTML(image_html))\n",
    "\n",
    "\n",
    "docs = retriever.invoke(\"Woman with children\", k=10)\n",
    "for doc in docs:\n",
    "    if is_base64(doc.page_content):\n",
    "        plt_img_base64(doc.page_content)\n",
    "    else:\n",
    "        print(doc.page_content)"
   ]
  },
  {
   "cell_type": "code",
   "execution_count": null,
   "id": "7831b7e4",
   "metadata": {},
   "outputs": [],
   "source": [
    "from operator import itemgetter\n",
    "\n",
    "from langchain_core.messages import HumanMessage, SystemMessage\n",
    "from langchain_core.output_parsers import StrOutputParser\n",
    "from langchain_core.runnables import RunnableLambda, RunnablePassthrough\n",
    "from langchain_openai import ChatOpenAI\n",
    "\n",
    "\n",
    "def prompt_func(data_dict):\n",
    "    # 将上下文文本合并成一个字符串\n",
    "    formatted_texts = \"\\n\".join(data_dict[\"context\"][\"texts\"])\n",
    "    messages = []\n",
    "\n",
    "    # 如果存在图片，则添加到消息中\n",
    "    if data_dict[\"context\"][\"images\"]:\n",
    "        image_message = {\n",
    "            \"type\": \"image_url\",\n",
    "            \"image_url\": {\n",
    "                \"url\": f\"data:image/jpeg;base64,{data_dict['context']['images'][0]}\"\n",
    "            },\n",
    "        }\n",
    "        messages.append(image_message)\n",
    "\n",
    "    # 添加文本消息进行分析\n",
    "    text_message = {\n",
    "        \"type\": \"text\",\n",
    "        \"text\": (\n",
    "            \"作为一位专业的艺术评论家和历史学家，您的任务是分析和解释图像，\"\n",
    "            \"考虑其历史和文化意义。除了图像之外，您还将获得相关文本以提供背景。\"\n",
    "            \"这两者都将根据用户输入的关键词从向量存储中检索。请运用您渊博的知识和分析技能，\"\n",
    "            \"提供一个全面的总结，包括：\\n\"\n",
    "            \"- 图像中视觉元素的详细描述\\n\"\n",
    "            \"- 图像的历史和文化背景\\n\"\n",
    "            \"- 对图像象征和含义的解释\\n\"\n",
    "            \"- 图像与相关文本之间的联系\\n\\n\"\n",
    "            f\"用户提供的关键词：{data_dict['question']}\\n\\n\"\n",
    "            \"文本和/或表格：\\n\"\n",
    "            f\"{formatted_texts}\"\n",
    "        ),\n",
    "    }\n",
    "    messages.append(text_message)\n",
    "\n",
    "    return [HumanMessage(content=messages)]\n",
    "\n",
    "\n",
    "model = ChatOpenAI(temperature=0, model=\"gpt-4-vision-preview\", max_tokens=1024)\n",
    "\n",
    "# RAG 流水线\n",
    "chain = (\n",
    "    {\n",
    "        \"context\": retriever | RunnableLambda(split_image_text_types),\n",
    "        \"question\": RunnablePassthrough(),\n",
    "    }\n",
    "    | RunnableLambda(prompt_func)\n",
    "    | model\n",
    "    | StrOutputParser()\n",
    ")"
   ]
  }
 ],
 "metadata": {
  "kernelspec": {
   "display_name": "Python 3 (ipykernel)",
   "language": "python",
   "name": "python3"
  },
  "language_info": {
   "codemirror_mode": {
    "name": "ipython",
    "version": 3
   },
   "file_extension": ".py",
   "mimetype": "text/x-python",
   "name": "python",
   "nbconvert_exporter": "python",
   "pygments_lexer": "ipython3",
   "version": "3.11.3"
  }
 },
 "nbformat": 4,
 "nbformat_minor": 5
}
