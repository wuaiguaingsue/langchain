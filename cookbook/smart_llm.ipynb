{
 "cells": [
  {
   "attachments": {},
   "cell_type": "markdown",
   "id": "9e9b7651",
   "metadata": {},
   "source": [
    "# 如何使用 SmartLLMChain\n",
    "\n",
    "SmartLLMChain 是一种自我批评链，可以帮助你解决特别复杂的问题。它不是单次 LLM 调用，而是执行以下 3 个步骤：\n",
    "1. 构思：将用户提示传递给 LLM n 次以获得 n 个输出提案（称为\"想法\"），其中 n 是你可以设置的参数\n",
    "2. 批评：LLM 对所有想法进行批评以找出可能的缺陷并选择最佳方案\n",
    "3. 解决：LLM 试图改进最佳想法（在批评步骤中选择的）并输出它。这就是最终输出。\n",
    "\n",
    "SmartLLMChains 基于 https://youtu.be/wVzuvf9D9BU 中提出的 SmartGPT 工作流。\n",
    "\n",
    "请注意 SmartLLMChains\n",
    "- 使用更多的 LLM 调用（即 n+2 而不是仅 1 次）\n",
    "- 只有在底层 LLM 具有反思能力时才能工作，这是较小模型通常不具备的\n",
    "- 只能与返回恰好 1 个输出而不是多个输出的底层模型一起工作\n",
    "\n",
    "本笔记本演示了如何使用 SmartLLMChain。"
   ]
  },
  {
   "attachments": {},
   "cell_type": "markdown",
   "id": "714dede0",
   "metadata": {},
   "source": [
    "##### 所有步骤使用相同的 LLM"
   ]
  },
  {
   "cell_type": "code",
   "execution_count": 1,
   "id": "d3f7fb22",
   "metadata": {},
   "outputs": [],
   "source": [
    "import os\n",
    "\n",
    "os.environ[\"OPENAI_API_KEY\"] = \"...\""
   ]
  },
  {
   "cell_type": "code",
   "execution_count": 2,
   "id": "10e5ece6",
   "metadata": {},
   "outputs": [],
   "source": [
    "from langchain.prompts import PromptTemplate\n",
    "from langchain_experimental.smart_llm import SmartLLMChain\n",
    "from langchain_openai import ChatOpenAI"
   ]
  },
  {
   "attachments": {},
   "cell_type": "markdown",
   "id": "1780da51",
   "metadata": {},
   "source": [
    "作为示例问题，我们将使用\"我有一个 12 升的壶和一个 6 升的壶。我想要测量 6 升水。我该怎么做？\"这是来自原始 SmartGPT 视频的例子（https://youtu.be/wVzuvf9D9BU?t=384）。虽然这看起来是一个很简单的问题，但 LLM 在处理这类涉及数字和物理推理的问题时会遇到困难。\n",
    "\n",
    "正如我们将看到的，所有 3 个初始想法都是完全错误的 - 尽管我们使用的是 GPT4！只有在使用自我反思时，我们才能得到正确的答案。"
   ]
  },
  {
   "cell_type": "code",
   "execution_count": null,
   "id": "054af6b1",
   "metadata": {},
   "outputs": [],
   "source": [
    "hard_question = \"我有一个 12 升的壶和一个 6 升的壶。我想要测量 6 升水。我该怎么做？\""
   ]
  },
  {
   "attachments": {},
   "cell_type": "markdown",
   "id": "8049cecd",
   "metadata": {},
   "source": [
    "首先，我们创建一个 LLM 和提示模板"
   ]
  },
  {
   "cell_type": "code",
   "execution_count": 3,
   "id": "811ea8e1",
   "metadata": {},
   "outputs": [],
   "source": [
    "prompt = PromptTemplate.from_template(hard_question)\n",
    "llm = ChatOpenAI(temperature=0, model_name=\"gpt-4\")"
   ]
  },
  {
   "attachments": {},
   "cell_type": "markdown",
   "id": "50b602e4",
   "metadata": {},
   "source": [
    "现在我们可以创建一个 SmartLLMChain"
   ]
  },
  {
   "cell_type": "code",
   "execution_count": 4,
   "id": "8cd49199",
   "metadata": {},
   "outputs": [],
   "source": [
    "chain = SmartLLMChain(llm=llm, prompt=prompt, n_ideas=3, verbose=True)"
   ]
  },
  {
   "attachments": {},
   "cell_type": "markdown",
   "id": "6a72f276",
   "metadata": {},
   "source": [
    "现在我们可以将 SmartLLM 作为 LLM 的即插即用替代品。例如："
   ]
  },
  {
   "cell_type": "code",
   "execution_count": 5,
   "id": "074e5e75",
   "metadata": {},
   "outputs": [
    {
     "name": "stdout",
     "output_type": "stream",
     "text": [
      "\n",
      "\n",
      "\u001b[1m> Entering new SmartLLMChain chain...\u001b[0m\n",
      "Prompt after formatting:\n",
      "\u001b[32;1m\u001b[1;3mI have a 12 liter jug and a 6 liter jug. I want to measure 6 liters. How do I do it?\u001b[0m\n",
      "Idea 1:\n",
      "\u001b[36;1m\u001b[1;3m1. Fill the 6-liter jug completely.\n",
      "2. Pour the water from the 6-liter jug into the 12-liter jug.\n",
      "3. Fill the 6-liter jug again.\n",
      "4. Carefully pour the water from the 6-liter jug into the 12-liter jug until the 12-liter jug is full.\n",
      "5. The amount of water left in the 6-liter jug will be exactly 6 liters.\u001b[0m\n",
      "Idea 2:\n",
      "\u001b[36;1m\u001b[1;3m1. Fill the 6-liter jug completely.\n",
      "2. Pour the water from the 6-liter jug into the 12-liter jug.\n",
      "3. Fill the 6-liter jug again.\n",
      "4. Carefully pour the water from the 6-liter jug into the 12-liter jug until the 12-liter jug is full.\n",
      "5. Since the 12-liter jug is now full, there will be 2 liters of water left in the 6-liter jug.\n",
      "6. Empty the 12-liter jug.\n",
      "7. Pour the 2 liters of water from the 6-liter jug into the 12-liter jug.\n",
      "8. Fill the 6-liter jug completely again.\n",
      "9. Pour the water from the 6-liter jug into the 12-liter jug, which already has 2 liters in it.\n",
      "10. Now, the 12-liter jug will have exactly 6 liters of water (2 liters from before + 4 liters from the 6-liter jug).\u001b[0m\n",
      "Idea 3:\n",
      "\u001b[36;1m\u001b[1;3m1. Fill the 6-liter jug completely.\n",
      "2. Pour the water from the 6-liter jug into the 12-liter jug.\n",
      "3. Fill the 6-liter jug again.\n",
      "4. Carefully pour the water from the 6-liter jug into the 12-liter jug until the 12-liter jug is full.\n",
      "5. The amount of water left in the 6-liter jug will be exactly 6 liters.\u001b[0m\n",
      "Critique:\n",
      "\u001b[33;1m\u001b[1;3mIdea 1:\n",
      "1. Fill the 6-liter jug completely. (No flaw)\n",
      "2. Pour the water from the 6-liter jug into the 12-liter jug. (No flaw)\n",
      "3. Fill the 6-liter jug again. (No flaw)\n",
      "4. Carefully pour the water from the 6-liter jug into the 12-liter jug until the 12-liter jug is full. (Flaw: The 12-liter jug will never be full in this step, as it can hold 12 liters and we are only pouring 6 liters into it.)\n",
      "5. The amount of water left in the 6-liter jug will be exactly 6 liters. (Flaw: This statement is incorrect, as there will be no water left in the 6-liter jug after pouring it into the 12-liter jug.)\n",
      "\n",
      "Idea 2:\n",
      "1. Fill the 6-liter jug completely. (No flaw)\n",
      "2. Pour the water from the 6-liter jug into the 12-liter jug. (No flaw)\n",
      "3. Fill the 6-liter jug again. (No flaw)\n",
      "4. Carefully pour the water from the 6-liter jug into the 12-liter jug until the 12-liter jug is full. (Flaw: The 12-liter jug will never be full in this step, as it can hold 12 liters and we are only pouring 6 liters into it.)\n",
      "5. Since the 12-liter jug is now full, there will be 2 liters of water left in the 6-liter jug. (Flaw: This statement is incorrect, as the 12-liter jug will not be full and there will be no water left in the 6-liter jug.)\n",
      "6. Empty the 12-liter jug. (No flaw)\n",
      "7. Pour the 2 liters of water from the 6-liter jug into the 12-liter jug. (Flaw: This step is based on the incorrect assumption that there are 2 liters of water left in the 6-liter jug.)\n",
      "8. Fill the 6-liter jug completely again. (No flaw)\n",
      "9. Pour the water from the 6-liter jug into the 12-liter jug, which already has 2 liters in it. (Flaw: This step is based on the incorrect assumption that there are 2 liters of water in the 12-liter jug.)\n",
      "10. Now, the 12-liter jug will have exactly 6 liters of water (2 liters from before + 4 liters from the 6-liter jug). (Flaw: This conclusion is based on the incorrect assumptions made in the previous steps.)\n",
      "\n",
      "Idea 3:\n",
      "1. Fill the 6-liter jug completely. (No flaw)\n",
      "2. Pour the water from the 6-liter jug into the 12-liter jug. (No flaw)\n",
      "3. Fill the 6-liter jug again. (No flaw)\n",
      "4. Carefully pour the water from the 6-liter jug into the 12-liter jug until the 12-liter jug is full. (Flaw: The 12-liter jug will never be full in this step, as it can hold 12 liters and we are only pouring 6 liters into it.)\n",
      "5. The amount of water left in the 6-liter jug will be exactly 6 liters. (Flaw: This statement is incorrect, as there will be no water left in the 6-liter jug after pouring it into the 12-liter jug.)\u001b[0m\n",
      "Resolution:\n",
      "\u001b[32;1m\u001b[1;3m1. Fill the 12-liter jug completely.\n",
      "2. Pour the water from the 12-liter jug into the 6-liter jug until the 6-liter jug is full.\n",
      "3. The amount of water left in the 12-liter jug will be exactly 6 liters.\u001b[0m\n",
      "\n",
      "\u001b[1m> Finished chain.\u001b[0m\n"
     ]
    },
    {
     "data": {
      "text/plain": [
       "'1. Fill the 12-liter jug completely.\\n2. Pour the water from the 12-liter jug into the 6-liter jug until the 6-liter jug is full.\\n3. The amount of water left in the 12-liter jug will be exactly 6 liters.'"
      ]
     },
     "execution_count": 5,
     "metadata": {},
     "output_type": "execute_result"
    }
   ],
   "source": [
    "chain.invoke({})"
   ]
  },
  {
   "attachments": {},
   "cell_type": "markdown",
   "id": "bbfebea1",
   "metadata": {},
   "source": [
    "##### 不同步骤使用不同的 LLM"
   ]
  },
  {
   "attachments": {},
   "cell_type": "markdown",
   "id": "5be6ec08",
   "metadata": {},
   "source": [
    "你也可以通过传递 `ideation_llm`、`critique_llm` 和 `resolve_llm` 为不同的步骤使用不同的 LLM。你可能想要这样做是为了在构思阶段使用更具创造性的（即高温度）模型，而在批评和解决阶段使用更严格的（即低温度）模型。"
   ]
  },
  {
   "cell_type": "code",
   "execution_count": null,
   "id": "9c33fa19",
   "metadata": {},
   "outputs": [],
   "source": [
    "chain = SmartLLMChain(\n",
    "    ideation_llm=ChatOpenAI(temperature=0.9, model_name=\"gpt-4\"),\n",
    "    llm=ChatOpenAI(\n",
    "        temperature=0, model_name=\"gpt-4\"\n",
    "    ),  # 将用于批评和解决，因为没有给出特定的 llms\n",
    "    prompt=prompt,\n",
    "    n_ideas=3,\n",
    "    verbose=True,\n",
    ")"
   ]
  },
  {
   "cell_type": "code",
   "execution_count": null,
   "id": "886c1cc1",
   "metadata": {},
   "outputs": [],
   "source": []
  }
 ],
 "metadata": {
  "kernelspec": {
   "display_name": "Python 3 (ipykernel)",
   "language": "python",
   "name": "python3"
  },
  "language_info": {
   "codemirror_mode": {
    "name": "ipython",
    "version": 3
   },
   "file_extension": ".py",
   "mimetype": "text/x-python",
   "name": "python",
   "nbconvert_exporter": "python",
   "pygments_lexer": "ipython3",
   "version": "3.9.1"
  }
 },
 "nbformat": 4,
 "nbformat_minor": 5
}
