{
 "cells": [
  {
   "cell_type": "markdown",
   "id": "517a9fd4",
   "metadata": {},
   "source": [
    "# 带工具的 BabyAGI\n",
    "\n",
    "本笔记本基于 [baby agi](baby_agi.html)，但展示了如何替换执行链。之前的执行链只是一个会编造内容的 LLM。通过将其替换为具有访问工具权限的代理，我们有望获得真实可靠的信息。"
   ]
  },
  {
   "cell_type": "markdown",
   "id": "556af556",
   "metadata": {},
   "source": [
    "## 安装和导入所需模块"
   ]
  },
  {
   "cell_type": "code",
   "execution_count": 1,
   "id": "c8a354b6",
   "metadata": {},
   "outputs": [],
   "source": [
    "from typing import Optional\n",
    "\n",
    "from langchain.chains import LLMChain\n",
    "from langchain.prompts import PromptTemplate\n",
    "from langchain_experimental.autonomous_agents import BabyAGI\n",
    "from langchain_openai import OpenAI, OpenAIEmbeddings"
   ]
  },
  {
   "cell_type": "markdown",
   "id": "09f70772",
   "metadata": {},
   "source": [
    "## 连接到向量存储\n",
    "\n",
    "根据你使用的向量存储的不同，这一步可能会有所不同。"
   ]
  },
  {
   "cell_type": "code",
   "execution_count": 2,
   "id": "794045d4",
   "metadata": {},
   "outputs": [
    {
     "name": "stdout",
     "output_type": "stream",
     "text": [
      "Note: you may need to restart the kernel to use updated packages.\n",
      "Note: you may need to restart the kernel to use updated packages.\n"
     ]
    }
   ],
   "source": [
    "%pip install faiss-cpu > /dev/null\n",
    "%pip install google-search-results > /dev/null\n",
    "from langchain.docstore import InMemoryDocstore\n",
    "from langchain_community.vectorstores import FAISS"
   ]
  },
  {
   "cell_type": "code",
   "execution_count": null,
   "id": "6e0305eb",
   "metadata": {},
   "outputs": [],
   "source": [
    "# 定义你的嵌入模型\n",
    "embeddings_model = OpenAIEmbeddings()\n",
    "# 初始化空的向量存储\n",
    "import faiss\n",
    "\n",
    "embedding_size = 1536\n",
    "index = faiss.IndexFlatL2(embedding_size)\n",
    "vectorstore = FAISS(embeddings_model.embed_query, index, InMemoryDocstore({}), {})"
   ]
  },
  {
   "cell_type": "markdown",
   "id": "0f3b72bf",
   "metadata": {},
   "source": [
    "## 定义链\n",
    "\n",
    "BabyAGI 依赖于三个 LLM 链：\n",
    "- 任务创建链，用于选择要添加到列表中的新任务\n",
    "- 任务优先级链，用于重新设置任务优先级\n",
    "- 执行链，用于执行任务\n",
    "\n",
    "\n",
    "注意：在本笔记本中，执行链现在将是一个代理。"
   ]
  },
  {
   "cell_type": "code",
   "execution_count": null,
   "id": "b43cd580",
   "metadata": {},
   "outputs": [],
   "source": [
    "from langchain.agents import AgentExecutor, Tool, ZeroShotAgent\n",
    "from langchain.chains import LLMChain\n",
    "from langchain_community.utilities import SerpAPIWrapper\n",
    "from langchain_openai import OpenAI\n",
    "\n",
    "todo_prompt = PromptTemplate.from_template(\n",
    "    \"你是一个规划专家，擅长为给定目标制定待办事项列表。请为以下目标制定待办事项列表：{objective}\"\n",
    ")\n",
    "todo_chain = LLMChain(llm=OpenAI(temperature=0), prompt=todo_prompt)\n",
    "search = SerpAPIWrapper()\n",
    "tools = [\n",
    "    Tool(\n",
    "        name=\"搜索\",\n",
    "        func=search.run,\n",
    "        description=\"当你需要回答关于当前事件的问题时非常有用\",\n",
    "    ),\n",
    "    Tool(\n",
    "        name=\"待办事项\",\n",
    "        func=todo_chain.run,\n",
    "        description=\"当你需要制定待办事项列表时非常有用。输入：一个目标以创建待办事项列表。输出：该目标的待办事项列表。请明确目标是什么！\",\n",
    "    ),\n",
    "]\n",
    "\n",
    "\n",
    "prefix = \"\"\"你是一个根据以下目标执行任务的 AI：{objective}。请考虑这些已完成的任务：{context}\"\"\"\n",
    "suffix = \"\"\"问题：{task}\n",
    "{agent_scratchpad}\"\"\"\n",
    "prompt = ZeroShotAgent.create_prompt(\n",
    "    tools,\n",
    "    prefix=prefix,\n",
    "    suffix=suffix,\n",
    "    input_variables=[\"objective\", \"task\", \"context\", \"agent_scratchpad\"],\n",
    ")"
   ]
  },
  {
   "cell_type": "code",
   "execution_count": 5,
   "id": "4b00ae2e",
   "metadata": {},
   "outputs": [],
   "source": [
    "llm = OpenAI(temperature=0)\n",
    "llm_chain = LLMChain(llm=llm, prompt=prompt)\n",
    "tool_names = [tool.name for tool in tools]\n",
    "agent = ZeroShotAgent(llm_chain=llm_chain, allowed_tools=tool_names)\n",
    "agent_executor = AgentExecutor.from_agent_and_tools(\n",
    "    agent=agent, tools=tools, verbose=True\n",
    ")"
   ]
  },
  {
   "cell_type": "markdown",
   "id": "05ba762e",
   "metadata": {},
   "source": [
    "### 运行 BabyAGI\n",
    "\n",
    "现在是时候创建 BabyAGI 控制器并观察它如何努力实现你的目标了。"
   ]
  },
  {
   "cell_type": "code",
   "execution_count": null,
   "id": "3d220b69",
   "metadata": {},
   "outputs": [],
   "source": [
    "目标 = \"为今天的旧金山写一份天气报告\""
   ]
  },
  {
   "cell_type": "code",
   "execution_count": null,
   "id": "3d69899b",
   "metadata": {},
   "outputs": [],
   "source": [
    "# LLMChains 的日志记录\n",
    "verbose = False\n",
    "# 如果为 None，将会无限继续\n",
    "max_iterations: Optional[int] = 3\n",
    "baby_agi = BabyAGI.from_llm(\n",
    "    llm=llm,\n",
    "    vectorstore=vectorstore,\n",
    "    task_execution_chain=agent_executor,\n",
    "    verbose=verbose,\n",
    "    max_iterations=max_iterations,\n",
    ")"
   ]
  },
  {
   "cell_type": "code",
   "execution_count": null,
   "id": "f7957b51",
   "metadata": {
    "scrolled": false
   },
   "outputs": [
    {
     "name": "stdout",
     "output_type": "stream",
     "text": [
      "\u001b[95m\u001b[1m\n",
      "*****TASK LIST*****\n",
      "\u001b[0m\u001b[0m\n",
      "1: Make a todo list\n",
      "\u001b[92m\u001b[1m\n",
      "*****NEXT TASK*****\n",
      "\u001b[0m\u001b[0m\n",
      "1: Make a todo list\n",
      "\n",
      "\n",
      "\u001b[1m> Entering new AgentExecutor chain...\u001b[0m\n",
      "\u001b[32;1m\u001b[1;3mThought: I need to come up with a todo list\n",
      "Action: TODO\n",
      "Action Input: Write a weather report for SF today\u001b[0m\u001b[33;1m\u001b[1;3m\n",
      "\n",
      "1. Research current weather conditions in San Francisco\n",
      "2. Gather data on temperature, humidity, wind speed, and other relevant weather conditions\n",
      "3. Analyze data to determine current weather trends\n",
      "4. Write a brief introduction to the weather report\n",
      "5. Describe current weather conditions in San Francisco\n",
      "6. Discuss any upcoming weather changes\n",
      "7. Summarize the weather report\n",
      "8. Proofread and edit the report\n",
      "9. Submit the report\u001b[0m\u001b[32;1m\u001b[1;3m I now know the final answer\n",
      "Final Answer: The todo list for writing a weather report for SF today is: 1. Research current weather conditions in San Francisco; 2. Gather data on temperature, humidity, wind speed, and other relevant weather conditions; 3. Analyze data to determine current weather trends; 4. Write a brief introduction to the weather report; 5. Describe current weather conditions in San Francisco; 6. Discuss any upcoming weather changes; 7. Summarize the weather report; 8. Proofread and edit the report; 9. Submit the report.\u001b[0m\n",
      "\n",
      "\u001b[1m> Finished chain.\u001b[0m\n",
      "\u001b[93m\u001b[1m\n",
      "*****TASK RESULT*****\n",
      "\u001b[0m\u001b[0m\n",
      "The todo list for writing a weather report for SF today is: 1. Research current weather conditions in San Francisco; 2. Gather data on temperature, humidity, wind speed, and other relevant weather conditions; 3. Analyze data to determine current weather trends; 4. Write a brief introduction to the weather report; 5. Describe current weather conditions in San Francisco; 6. Discuss any upcoming weather changes; 7. Summarize the weather report; 8. Proofread and edit the report; 9. Submit the report.\n",
      "\u001b[95m\u001b[1m\n",
      "*****TASK LIST*****\n",
      "\u001b[0m\u001b[0m\n",
      "2: Gather data on precipitation, cloud cover, and other relevant weather conditions;\n",
      "3: Analyze data to determine any upcoming weather changes;\n",
      "4: Research current weather forecasts for San Francisco;\n",
      "5: Create a visual representation of the weather report;\n",
      "6: Include relevant images and graphics in the report;\n",
      "7: Format the report for readability;\n",
      "8: Publish the report online;\n",
      "9: Monitor the report for accuracy.\n",
      "\u001b[92m\u001b[1m\n",
      "*****NEXT TASK*****\n",
      "\u001b[0m\u001b[0m\n",
      "2: Gather data on precipitation, cloud cover, and other relevant weather conditions;\n",
      "\n",
      "\n",
      "\u001b[1m> Entering new AgentExecutor chain...\u001b[0m\n",
      "\u001b[32;1m\u001b[1;3mThought: I need to search for current weather conditions in San Francisco\n",
      "Action: Search\n",
      "Action Input: Current weather conditions in San Francisco\u001b[0m\u001b[36;1m\u001b[1;3mCurrent Weather for Popular Cities ; San Francisco, CA 46 · Partly Cloudy ; Manhattan, NY warning 52 · Cloudy ; Schiller Park, IL (60176) 40 · Sunny ; Boston, MA 54 ...\u001b[0m\u001b[32;1m\u001b[1;3m I need to compile the data into a weather report\n",
      "Action: TODO\n",
      "Action Input: Compile data into a weather report\u001b[0m\u001b[33;1m\u001b[1;3m\n",
      "\n",
      "1. Gather data from reliable sources such as the National Weather Service, local weather stations, and other meteorological organizations.\n",
      "\n",
      "2. Analyze the data to identify trends and patterns.\n",
      "\n",
      "3. Create a chart or graph to visualize the data.\n",
      "\n",
      "4. Write a summary of the data and its implications.\n",
      "\n",
      "5. Compile the data into a report format.\n",
      "\n",
      "6. Proofread the report for accuracy and clarity.\n",
      "\n",
      "7. Publish the report to a website or other platform.\n",
      "\n",
      "8. Distribute the report to relevant stakeholders.\u001b[0m\u001b[32;1m\u001b[1;3m I now know the final answer\n",
      "Final Answer: Today in San Francisco, the temperature is 46 degrees Fahrenheit with partly cloudy skies. The forecast for the rest of the day is expected to remain partly cloudy.\u001b[0m\n",
      "\n",
      "\u001b[1m> Finished chain.\u001b[0m\n",
      "\u001b[93m\u001b[1m\n",
      "*****TASK RESULT*****\n",
      "\u001b[0m\u001b[0m\n",
      "Today in San Francisco, the temperature is 46 degrees Fahrenheit with partly cloudy skies. The forecast for the rest of the day is expected to remain partly cloudy.\n",
      "\u001b[95m\u001b[1m\n",
      "*****TASK LIST*****\n",
      "\u001b[0m\u001b[0m\n",
      "3: Format the report for readability;\n",
      "4: Include relevant images and graphics in the report;\n",
      "5: Compare the current weather conditions in San Francisco to the forecasted conditions;\n",
      "6: Identify any potential weather-related hazards in the area;\n",
      "7: Research historical weather patterns in San Francisco;\n",
      "8: Identify any potential trends in the weather data;\n",
      "9: Include relevant data sources in the report;\n",
      "10: Summarize the weather report in a concise manner;\n",
      "11: Include a summary of the forecasted weather conditions;\n",
      "12: Include a summary of the current weather conditions;\n",
      "13: Include a summary of the historical weather patterns;\n",
      "14: Include a summary of the potential weather-related hazards;\n",
      "15: Include a summary of the potential trends in the weather data;\n",
      "16: Include a summary of the data sources used in the report;\n",
      "17: Analyze data to determine any upcoming weather changes;\n",
      "18: Research current weather forecasts for San Francisco;\n",
      "19: Create a visual representation of the weather report;\n",
      "20: Publish the report online;\n",
      "21: Monitor the report for accuracy\n",
      "\u001b[92m\u001b[1m\n",
      "*****NEXT TASK*****\n",
      "\u001b[0m\u001b[0m\n",
      "3: Format the report for readability;\n",
      "\n",
      "\n",
      "\u001b[1m> Entering new AgentExecutor chain...\u001b[0m\n",
      "\u001b[32;1m\u001b[1;3mThought: I need to make sure the report is easy to read;\n",
      "Action: TODO\n",
      "Action Input: Make the report easy to read\u001b[0m\u001b[33;1m\u001b[1;3m\n",
      "\n",
      "1. Break up the report into sections with clear headings\n",
      "2. Use bullet points and numbered lists to organize information\n",
      "3. Use short, concise sentences\n",
      "4. Use simple language and avoid jargon\n",
      "5. Include visuals such as charts, graphs, and diagrams to illustrate points\n",
      "6. Use bold and italicized text to emphasize key points\n",
      "7. Include a table of contents and page numbers\n",
      "8. Use a consistent font and font size throughout the report\n",
      "9. Include a summary at the end of the report\n",
      "10. Proofread the report for typos and errors\u001b[0m\u001b[32;1m\u001b[1;3m I now know the final answer\n",
      "Final Answer: The report should be formatted for readability by breaking it up into sections with clear headings, using bullet points and numbered lists to organize information, using short, concise sentences, using simple language and avoiding jargon, including visuals such as charts, graphs, and diagrams to illustrate points, using bold and italicized text to emphasize key points, including a table of contents and page numbers, using a consistent font and font size throughout the report, including a summary at the end of the report, and proofreading the report for typos and errors.\u001b[0m\n",
      "\n",
      "\u001b[1m> Finished chain.\u001b[0m\n",
      "\u001b[93m\u001b[1m\n",
      "*****TASK RESULT*****\n",
      "\u001b[0m\u001b[0m\n",
      "The report should be formatted for readability by breaking it up into sections with clear headings, using bullet points and numbered lists to organize information, using short, concise sentences, using simple language and avoiding jargon, including visuals such as charts, graphs, and diagrams to illustrate points, using bold and italicized text to emphasize key points, including a table of contents and page numbers, using a consistent font and font size throughout the report, including a summary at the end of the report, and proofreading the report for typos and errors.\n",
      "\u001b[91m\u001b[1m\n",
      "*****TASK ENDING*****\n",
      "\u001b[0m\u001b[0m\n"
     ]
    },
    {
     "data": {
      "text/plain": [
       "{'objective': 'Write a weather report for SF today'}"
      ]
     },
     "execution_count": 9,
     "metadata": {},
     "output_type": "execute_result"
    }
   ],
   "source": [
    "baby_agi({\"objective\": 目标})"
   ]
  },
  {
   "cell_type": "code",
   "execution_count": null,
   "id": "898a210b",
   "metadata": {},
   "outputs": [],
   "source": []
  }
 ],
 "metadata": {
  "kernelspec": {
   "display_name": "Python 3 (ipykernel)",
   "language": "python",
   "name": "python3"
  },
  "language_info": {
   "codemirror_mode": {
    "name": "ipython",
    "version": 3
   },
   "file_extension": ".py",
   "mimetype": "text/x-python",
   "name": "python",
   "nbconvert_exporter": "python",
   "pygments_lexer": "ipython3",
   "version": "3.9.1"
  }
 },
 "nbformat": 4,
 "nbformat_minor": 5
}
