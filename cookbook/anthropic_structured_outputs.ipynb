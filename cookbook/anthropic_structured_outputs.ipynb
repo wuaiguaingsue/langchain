{
 "cells": [
  {
   "cell_type": "markdown",
   "id": "6db54519-b98e-47c2-8dc2-600f6140a3aa",
   "metadata": {},
   "source": [
    "## 使用 Anthropic API 的工具调用生成结构化输出\n",
    "\n",
    "Anthropic API 最近添加了工具调用功能。\n",
    "\n",
    "这对生成结构化输出非常有用。"
   ]
  },
  {
   "cell_type": "code",
   "execution_count": null,
   "id": "8990ec23-8ae1-4580-b220-4b00c05637d2",
   "metadata": {},
   "outputs": [],
   "source": [
    "! pip install -U langchain-anthropic"
   ]
  },
  {
   "cell_type": "code",
   "execution_count": null,
   "id": "6b966914-502b-499c-a4cf-e390106dd506",
   "metadata": {},
   "outputs": [],
   "source": [
    "# 可选配置\n",
    "import os\n",
    "# os.environ['LANGSMITH_TRACING'] = 'true' # 启用追踪\n",
    "# os.environ['LANGSMITH_API_KEY'] = <你的API密钥>"
   ]
  },
  {
   "cell_type": "markdown",
   "id": "81897f2b-5936-4fa0-9445-3edb3af22da7",
   "metadata": {},
   "source": [
    "## 如何使用工具来生成结构化输出？\n",
    "\n",
    "函数调用/工具使用会生成一个有效负载。\n",
    "\n",
    "有效负载通常是一个 JSON 字符串，可以传递给 API 或者在本例中传递给解析器以生成结构化输出。\n",
    "\n",
    "LangChain 提供了 `llm.with_structured_output(schema)` 方法，使得生成匹配 `schema` 的结构化输出变得非常容易。"
   ]
  },
  {
   "cell_type": "code",
   "execution_count": null,
   "id": "9caa2aaf-1918-4a8a-982d-f8052b92ed44",
   "metadata": {
    "scrolled": true
   },
   "outputs": [],
   "source": [
    "from langchain_anthropic import ChatAnthropic\n",
    "from langchain_core.prompts import ChatPromptTemplate\n",
    "from langchain_core.pydantic_v1 import BaseModel, Field\n",
    "\n",
    "\n",
    "# 数据模型\n",
    "class code(BaseModel):\n",
    "    \"\"\"代码输出\"\"\"\n",
    "\n",
    "    prefix: str = Field(description=\"问题描述和解决方案\")\n",
    "    imports: str = Field(description=\"代码块导入语句\")\n",
    "    code: str = Field(description=\"不包含导入语句的代码块\")\n",
    "\n",
    "\n",
    "# LLM 设置\n",
    "llm = ChatAnthropic(\n",
    "    model=\"claude-3-opus-20240229\",\n",
    "    default_headers={\"anthropic-beta\": \"tools-2024-04-04\"},\n",
    ")\n",
    "\n",
    "# 结构化输出，include_raw=True 将捕获原始输出和解析错误\n",
    "structured_llm = llm.with_structured_output(code, include_raw=True)\n",
    "code_output = structured_llm.invoke(\n",
    "    \"编写一个打印'hello world'的 Python 程序，并用一句话解释它是如何工作的\"\n",
    ")"
   ]
  },
  {
   "cell_type": "code",
   "execution_count": null,
   "id": "9025bfdc-6060-4042-9a61-4e361dda7087",
   "metadata": {},
   "outputs": [
    {
     "data": {
      "text/plain": [
       "{'text': \"<thinking>\\nThe tool 'code' is relevant for writing a Python program to print a string.\\n\\nTo use the 'code' tool, I need values for these required parameters:\\nprefix: A description of the problem and approach. I can provide this based on the request.\\nimports: The import statements needed for the code. For this simple program, no imports are needed, so I can leave this blank.\\ncode: The actual Python code, not including imports. I can write a simple print statement to output the string.\\n\\nI have all the required parameters, so I can proceed with calling the 'code' tool.\\n</thinking>\",\n",
       " 'type': 'text'}"
      ]
     },
     "execution_count": 2,
     "metadata": {},
     "output_type": "execute_result"
    }
   ],
   "source": [
    "# 初始推理阶段\n",
    "code_output[\"raw\"].content[0]"
   ]
  },
  {
   "cell_type": "code",
   "execution_count": null,
   "id": "2393d9b6-67a2-41ea-ac01-dc038b4800f5",
   "metadata": {},
   "outputs": [
    {
     "data": {
      "text/plain": [
       "{'text': None,\n",
       " 'type': 'tool_use',\n",
       " 'id': 'toolu_01UwZVQub6vL36wiBww6CU7a',\n",
       " 'name': 'code',\n",
       " 'input': {'prefix': \"To print the string 'hello world' in Python:\",\n",
       "  'imports': '',\n",
       "  'code': \"print('hello world')\"}}"
      ]
     },
     "execution_count": 3,
     "metadata": {},
     "output_type": "execute_result"
    }
   ],
   "source": [
    "# 工具调用\n",
    "code_output[\"raw\"].content[1]"
   ]
  },
  {
   "cell_type": "code",
   "execution_count": null,
   "id": "f4f390ac-fbda-4173-892a-ffd12844228c",
   "metadata": {},
   "outputs": [
    {
     "data": {
      "text/plain": [
       "{'prefix': \"To print the string 'hello world' in Python:\",\n",
       " 'imports': '',\n",
       " 'code': \"print('hello world')\"}"
      ]
     },
     "execution_count": 4,
     "metadata": {},
     "output_type": "execute_result"
    }
   ],
   "source": [
    "# JSON 字符串\n",
    "code_output[\"raw\"].content[1][\"input\"]"
   ]
  },
  {
   "cell_type": "code",
   "execution_count": null,
   "id": "ba77d0f8-f79b-4656-9023-085ffdaf35f5",
   "metadata": {},
   "outputs": [],
   "source": [
    "# 错误\n",
    "error = code_output[\"parsing_error\"]\n",
    "error"
   ]
  },
  {
   "cell_type": "code",
   "execution_count": null,
   "id": "cd854451-68d7-43df-bcae-4f3c3565536a",
   "metadata": {},
   "outputs": [],
   "source": [
    "# 结果\n",
    "parsed_result = code_output[\"parsed\"]"
   ]
  },
  {
   "cell_type": "code",
   "execution_count": 7,
   "id": "47b3405f-0aea-460e-8603-f6092019fcd4",
   "metadata": {},
   "outputs": [
    {
     "data": {
      "text/plain": [
       "\"To print the string 'hello world' in Python:\""
      ]
     },
     "execution_count": 7,
     "metadata": {},
     "output_type": "execute_result"
    }
   ],
   "source": [
    "parsed_result.prefix"
   ]
  },
  {
   "cell_type": "code",
   "execution_count": 8,
   "id": "85b16b62-1b72-4b6e-81fa-b1d707b728fa",
   "metadata": {},
   "outputs": [
    {
     "data": {
      "text/plain": [
       "''"
      ]
     },
     "execution_count": 8,
     "metadata": {},
     "output_type": "execute_result"
    }
   ],
   "source": [
    "parsed_result.imports"
   ]
  },
  {
   "cell_type": "code",
   "execution_count": 9,
   "id": "23857441-3e67-460c-b6be-b57cf0dd17ad",
   "metadata": {},
   "outputs": [
    {
     "data": {
      "text/plain": [
       "\"print('hello world')\""
      ]
     },
     "execution_count": 9,
     "metadata": {},
     "output_type": "execute_result"
    }
   ],
   "source": [
    "parsed_result.code"
   ]
  },
  {
   "cell_type": "markdown",
   "id": "74b6c1f0-db28-4b43-ac31-92636dea7b56",
   "metadata": {},
   "source": [
    "## 更具挑战性的示例\n",
    "\n",
    "工具使用/结构化输出的示例用例。"
   ]
  },
  {
   "cell_type": "markdown",
   "id": "8f387528-6535-4bc0-a2a6-8480ccf35394",
   "metadata": {},
   "source": [
    "这里有一些我们想要回答代码问题的文档。"
   ]
  },
  {
   "cell_type": "code",
   "execution_count": null,
   "id": "97dd1b8c-724a-436a-88b1-b38204fc81f5",
   "metadata": {},
   "outputs": [],
   "source": [
    "from bs4 import BeautifulSoup as Soup\n",
    "from langchain_community.document_loaders.recursive_url_loader import RecursiveUrlLoader\n",
    "\n",
    "# LCEL 文档\n",
    "url = \"https://python.langchain.com/docs/expression_language/\"\n",
    "loader = RecursiveUrlLoader(\n",
    "    url=url, max_depth=20, extractor=lambda x: Soup(x, \"html.parser\").text\n",
    ")\n",
    "docs = loader.load()\n",
    "\n",
    "# 根据 URL 对列表进行排序并获取文本\n",
    "d_sorted = sorted(docs, key=lambda x: x.metadata[\"source\"])\n",
    "d_reversed = list(reversed(d_sorted))\n",
    "concatenated_content = \"\\n\\n\\n --- \\n\\n\\n\".join(\n",
    "    [doc.page_content for doc in d_reversed]\n",
    ")"
   ]
  },
  {
   "cell_type": "markdown",
   "id": "5205cd42-8673-4699-9bb4-2cf90bfe098c",
   "metadata": {},
   "source": [
    "问题：\n",
    "\n",
    "`如果我们想要强制使用工具怎么办？`\n",
    "\n",
    "我们可以使用回退机制。\n",
    "\n",
    "让我们选择一个代码生成提示 - 根据我的一些测试 - 它没有正确调用工具。\n",
    "\n",
    "我们可以看看是否能够从这里纠正。"
   ]
  },
  {
   "cell_type": "code",
   "execution_count": null,
   "id": "94e77be5-dddb-4386-b523-6f1136150bbd",
   "metadata": {},
   "outputs": [],
   "source": [
    "# 这个代码生成提示会调用工具\n",
    "code_gen_prompt_working = ChatPromptTemplate.from_messages(\n",
    "    [\n",
    "        (\n",
    "            \"system\",\n",
    "            \"\"\"<instructions> 你是一个在 LCEL（LangChain 表达式语言）方面有专业知识的编程助手。\\n \n",
    "    这里是 LCEL 文档：\\n ------- \\n  {context} \\n ------- \\n 根据上面提供的文档回答用户问题。\\n \n",
    "    确保你提供的代码可以执行，包含所有必需的导入和变量定义。\\n\n",
    "    按以下结构组织你的答案：1) 描述代码解决方案的前缀，2) 导入语句，3) 可运行的代码块。\\n\n",
    "    调用代码工具来正确地构造输出。</instructions> \\n 这是用户的问题：\"\"\",\n",
    "        ),\n",
    "        (\"placeholder\", \"{messages}\"),\n",
    "    ]\n",
    ")\n",
    "\n",
    "# 这个代码生成提示不会调用工具\n",
    "code_gen_prompt_bad = ChatPromptTemplate.from_messages(\n",
    "    [\n",
    "        (\n",
    "            \"system\",\n",
    "            \"\"\"你是一个在 LCEL（LangChain 表达式语言）方面有专业知识的编程助手。\\n \n",
    "    这里是完整的 LCEL 文档：\\n ------- \\n  {context} \\n ------- \\n 根据上面提供的文档回答\n",
    "    用户问题。确保你提供的代码可以执行，\\n 包含所有必需的导入和变量定义。按照代码解决方案描述的结构组织你的答案。\\n\n",
    "    然后列出导入语句。最后列出可运行的代码块。这是用户的问题：\"\"\",\n",
    "        ),\n",
    "        (\"placeholder\", \"{messages}\"),\n",
    "    ]\n",
    ")\n",
    "\n",
    "\n",
    "# 数据模型\n",
    "class code(BaseModel):\n",
    "    \"\"\"代码输出\"\"\"\n",
    "\n",
    "    prefix: str = Field(description=\"问题描述和解决方案\")\n",
    "    imports: str = Field(description=\"代码块导入语句\")\n",
    "    code: str = Field(description=\"不包含导入语句的代码块\")\n",
    "    description = \"用于 LCEL 相关问题的代码解决方案的模式。\"\n",
    "\n",
    "\n",
    "# LLM 设置\n",
    "llm = ChatAnthropic(\n",
    "    model=\"claude-3-opus-20240229\",\n",
    "    default_headers={\"anthropic-beta\": \"tools-2024-04-04\"},\n",
    ")\n",
    "\n",
    "# 结构化输出\n",
    "# include_raw=True 将捕获原始输出和解析错误\n",
    "structured_llm = llm.with_structured_output(code, include_raw=True)\n",
    "\n",
    "\n",
    "# 检查错误\n",
    "def check_claude_output(tool_output):\n",
    "    \"\"\"检查解析错误或工具调用失败\"\"\"\n",
    "\n",
    "    # 解析错误\n",
    "    if tool_output[\"parsing_error\"]:\n",
    "        # 报告输出和解析错误\n",
    "        print(\"解析错误！\")\n",
    "        raw_output = str(code_output[\"raw\"].content)\n",
    "        error = tool_output[\"parsing_error\"]\n",
    "        raise ValueError(\n",
    "            f\"解析输出时出错！请确保调用工具。输出：{raw_output}。\\n 解析错误：{error}\"\n",
    "        )\n",
    "\n",
    "    # 未调用工具\n",
    "    elif not tool_output[\"parsed\"]:\n",
    "        print(\"未调用工具！\")\n",
    "        raise ValueError(\n",
    "            \"你没有使用提供的工具！请确保调用工具来构造输出。\"\n",
    "        )\n",
    "    return tool_output\n",
    "\n",
    "\n",
    "# 带输出检查的链\n",
    "code_chain = code_gen_prompt_bad | structured_llm | check_claude_output"
   ]
  },
  {
   "cell_type": "markdown",
   "id": "1b915baf-8b1d-43e8-b962-3e73b135dade",
   "metadata": {},
   "source": [
    "让我们添加一个检查并重试。"
   ]
  },
  {
   "cell_type": "code",
   "execution_count": null,
   "id": "efae1ff7-4413-4c47-a403-1630dd453219",
   "metadata": {},
   "outputs": [],
   "source": [
    "def insert_errors(inputs):\n",
    "    \"\"\"在消息中插入错误\"\"\"\n",
    "\n",
    "    # 获取错误\n",
    "    error = inputs[\"error\"]\n",
    "    messages = inputs[\"messages\"]\n",
    "    messages += [\n",
    "        (\n",
    "            \"user\",\n",
    "            f\"重试。你需要修复解析错误：{error} \\n\\n 你必须调用提供的工具。\",\n",
    "        )\n",
    "    ]\n",
    "    return {\n",
    "        \"messages\": messages,\n",
    "        \"context\": inputs[\"context\"],\n",
    "    }\n",
    "\n",
    "\n",
    "# 这将作为回退链运行\n",
    "fallback_chain = insert_errors | code_chain\n",
    "N = 3  # 最大重试次数\n",
    "code_chain_re_try = code_chain.with_fallbacks(\n",
    "    fallbacks=[fallback_chain] * N, exception_key=\"error\"\n",
    ")"
   ]
  },
  {
   "cell_type": "code",
   "execution_count": null,
   "id": "c7712c49-ee8c-4a61-927e-3c0beb83782b",
   "metadata": {},
   "outputs": [
    {
     "name": "stdout",
     "output_type": "stream",
     "text": [
      "Failed to invoke tool!\n"
     ]
    }
   ],
   "source": [
    "# 测试\n",
    "messages = [(\"user\", \"如何用 LCEL 构建一个 RAG 链？\")]\n",
    "code_output_lcel = code_chain_re_try.invoke(\n",
    "    {\"context\": concatenated_content, \"messages\": messages}\n",
    ")"
   ]
  },
  {
   "cell_type": "code",
   "execution_count": 15,
   "id": "c8027a6f-6992-4bb4-9d6e-9d0778b04e28",
   "metadata": {},
   "outputs": [],
   "source": [
    "parsed_result_lcel = code_output_lcel[\"parsed\"]"
   ]
  },
  {
   "cell_type": "code",
   "execution_count": 16,
   "id": "209186ac-3121-43a9-8358-86ace7e07f61",
   "metadata": {},
   "outputs": [
    {
     "data": {
      "text/plain": [
       "\"To build a RAG chain using LCEL, we'll use a vector store to retrieve relevant documents, a prompt template that incorporates the retrieved context, a chat model (like OpenAI) to generate a response based on the prompt, and an output parser to clean up the model output.\""
      ]
     },
     "execution_count": 16,
     "metadata": {},
     "output_type": "execute_result"
    }
   ],
   "source": [
    "parsed_result_lcel.prefix"
   ]
  },
  {
   "cell_type": "code",
   "execution_count": 17,
   "id": "b8d6d189-e5df-49b6-ada8-83f6c0b26886",
   "metadata": {},
   "outputs": [
    {
     "data": {
      "text/plain": [
       "'from langchain_community.vectorstores import DocArrayInMemorySearch\\nfrom langchain_core.output_parsers import StrOutputParser\\nfrom langchain_core.prompts import ChatPromptTemplate\\nfrom langchain_core.runnables import RunnablePassthrough\\nfrom langchain_openai import ChatOpenAI, OpenAIEmbeddings'"
      ]
     },
     "execution_count": 17,
     "metadata": {},
     "output_type": "execute_result"
    }
   ],
   "source": [
    "parsed_result_lcel.imports"
   ]
  },
  {
   "cell_type": "code",
   "execution_count": 18,
   "id": "e3822253-d28b-4f7e-9364-79974d04eff1",
   "metadata": {},
   "outputs": [
    {
     "data": {
      "text/plain": [
       "'vectorstore = DocArrayInMemorySearch.from_texts(\\n    [\"harrison worked at kensho\", \"bears like to eat honey\"], \\n    embedding=OpenAIEmbeddings(),\\n)\\n\\nretriever = vectorstore.as_retriever()\\n\\ntemplate = \"\"\"Answer the question based only on the following context:\\n{context}\\nQuestion: {question}\"\"\"\\nprompt = ChatPromptTemplate.from_template(template)\\n\\noutput_parser = StrOutputParser()\\n\\nrag_chain = (\\n    {\"context\": retriever, \"question\": RunnablePassthrough()} \\n    | prompt \\n    | ChatOpenAI()\\n    | output_parser\\n)\\n\\nprint(rag_chain.invoke(\"where did harrison work?\"))'"
      ]
     },
     "execution_count": 18,
     "metadata": {},
     "output_type": "execute_result"
    }
   ],
   "source": [
    "parsed_result_lcel.code"
   ]
  },
  {
   "cell_type": "markdown",
   "id": "80d63a3d-bad8-4385-bd85-40ca95c260c6",
   "metadata": {},
   "source": [
    "捕获错误并纠正的示例追踪：\n",
    "\n",
    "https://smith.langchain.com/public/f06e62cb-2fac-46ae-80cd-0470b3155eae/r"
   ]
  }
 ],
 "metadata": {
  "kernelspec": {
   "display_name": "Python 3 (ipykernel)",
   "language": "python",
   "name": "python3"
  },
  "language_info": {
   "codemirror_mode": {
    "name": "ipython",
    "version": 3
   },
   "file_extension": ".py",
   "mimetype": "text/x-python",
   "name": "python",
   "nbconvert_exporter": "python",
   "pygments_lexer": "ipython3",
   "version": "3.11.8"
  }
 },
 "nbformat": 4,
 "nbformat_minor": 5
}
