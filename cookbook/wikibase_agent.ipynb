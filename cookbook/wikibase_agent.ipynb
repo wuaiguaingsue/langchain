{
 "cells": [
  {
   "attachments": {},
   "cell_type": "markdown",
   "id": "5e3cb542-933d-4bf3-a82b-d9d6395a7832",
   "metadata": {
    "tags": []
   },
   "source": [
    "# Wikibase 代理\n",
    "\n",
    "这个笔记本演示了一个使用 sparql 生成的非常简单的 wikibase 代理。虽然此代码旨在可以在任何 wikibase 实例上工作，但我们使用 http://wikidata.org 进行测试。\n",
    "\n",
    "如果您对 wikibase 和 sparql 感兴趣,欢迎帮助改进这个代理。详情和开放问题参见[这里](https://github.com/donaldziff/langchain-wikibase)。\n"
   ]
  },
  {
   "attachments": {},
   "cell_type": "markdown",
   "id": "07d42966-7e99-4157-90dc-6704977dcf1b",
   "metadata": {
    "tags": []
   },
   "source": [
    "## 准备工作"
   ]
  },
  {
   "attachments": {},
   "cell_type": "markdown",
   "id": "9132f093-c61e-4b8d-abef-91ebef3fc85f",
   "metadata": {
    "tags": []
   },
   "source": [
    "### API密钥和其他秘钥\n",
    "\n",
    "我们使用一个 `.ini` 文件,格式如下:\n",
    "```\n",
    "[OPENAI]\n",
    "OPENAI_API_KEY=xyzzy\n",
    "[WIKIDATA]\n",
    "WIKIDATA_USER_AGENT_HEADER=argle-bargle\n",
    "```"
   ]
  },
  {
   "cell_type": "code",
   "execution_count": 1,
   "id": "99567dfd-05a7-412f-abf0-9b9f4424acbd",
   "metadata": {
    "tags": []
   },
   "outputs": [
    {
     "data": {
      "text/plain": [
       "['./secrets.ini']"
      ]
     },
     "execution_count": 1,
     "metadata": {},
     "output_type": "execute_result"
    }
   ],
   "source": [
    "import configparser\n",
    "\n",
    "config = configparser.ConfigParser()\n",
    "config.read(\"./secrets.ini\")"
   ]
  },
  {
   "attachments": {},
   "cell_type": "markdown",
   "id": "332b6658-c978-41ca-a2be-4f8677fecaef",
   "metadata": {
    "tags": []
   },
   "source": [
    "### OpenAI API密钥\n",
    "\n",
    "除非您修改以下代码以使用其他LLM提供商，否则需要一个OpenAI API密钥。"
   ]
  },
  {
   "cell_type": "code",
   "execution_count": 2,
   "id": "dd328ee2-33cc-4e1e-aff7-cc0a2e05e2e6",
   "metadata": {
    "tags": []
   },
   "outputs": [],
   "source": [
    "openai_api_key = config[\"OPENAI\"][\"OPENAI_API_KEY\"]\n",
    "import os\n",
    "\n",
    "os.environ.update({\"OPENAI_API_KEY\": openai_api_key})"
   ]
  },
  {
   "attachments": {},
   "cell_type": "markdown",
   "id": "42a9311b-600d-42bc-b000-2692ef87a213",
   "metadata": {
    "tags": []
   },
   "source": [
    "### Wikidata用户代理头\n",
    "\n",
    "Wikidata政策要求用户代理头。参见https://meta.wikimedia.org/wiki/User-Agent_policy。然而，目前此政策并未严格执行。"
   ]
  },
  {
   "cell_type": "code",
   "execution_count": 3,
   "id": "17ba657e-789d-40e1-b4b7-4f29ba06fe79",
   "metadata": {},
   "outputs": [],
   "source": [
    "wikidata_user_agent_header = (\n",
    "    None\n",
    "    if not config.has_section(\"WIKIDATA\")\n",
    "    else config[\"WIKIDATA\"][\"WIKIDATA_USER_AGENT_HEADER\"]\n",
    ")"
   ]
  },
  {
   "attachments": {},
   "cell_type": "markdown",
   "id": "db08d308-050a-4fc8-93c9-8de4ae977ac3",
   "metadata": {},
   "source": [
    "### 如果需要，启用追踪"
   ]
  },
  {
   "cell_type": "code",
   "execution_count": null,
   "id": "77d2da08-fccd-4676-b77e-c0e89bf343cb",
   "metadata": {},
   "outputs": [],
   "source": [
    "# import os\n",
    "# os.environ[\"LANGSMITH_TRACING\"] = \"true\"\n",
    "# os.environ[\"LANGSMITH_PROJECT\"] = \"default\" # 确保此会话实际存在。"
   ]
  },
  {
   "attachments": {},
   "cell_type": "markdown",
   "id": "3dbc5bfc-48ce-4f90-873c-7336b21300c6",
   "metadata": {},
   "source": [
    "# 工具\n",
    "\n",
    "为此简单代理提供了三个工具：\n",
    "* `ItemLookup`：用于查找项目的q编号\n",
    "* `PropertyLookup`：用于查找属性的p编号\n",
    "* `SparqlQueryRunner`：用于运行sparql查询"
   ]
  },
  {
   "attachments": {},
   "cell_type": "markdown",
   "id": "1f801b4e-6576-4914-aa4f-6f4c4e3c7924",
   "metadata": {
    "tags": []
   },
   "source": [
    "## 项目和属性查找\n",
    "\n",
    "项目和属性查找在一个方法中实现，使用一个弹性搜索端点。并非所有wikibase实例都有它，但wikidata有，我们将从这里开始。"
   ]
  },
  {
   "cell_type": "code",
   "execution_count": null,
   "id": "42d23f0a-1c74-4c9c-85f2-d0e24204e96a",
   "metadata": {},
   "outputs": [],
   "source": [
    "def get_nested_value(o: dict, path: list) -> any:\n",
    "    current = o\n",
    "    for key in path:\n",
    "        try:\n",
    "            current = current[key]\n",
    "        except KeyError:\n",
    "            return None\n",
    "    return current\n",
    "\n",
    "\n",
    "from typing import Optional\n",
    "\n",
    "import requests\n",
    "\n",
    "\n",
    "def vocab_lookup(\n",
    "    search: str,\n",
    "    entity_type: str = \"item\",\n",
    "    url: str = \"https://www.wikidata.org/w/api.php\",\n",
    "    user_agent_header: str = wikidata_user_agent_header,\n",
    "    srqiprofile: str = None,\n",
    ") -> Optional[str]:\n",
    "    headers = {\"Accept\": \"application/json\"}\n",
    "    if wikidata_user_agent_header is not None:\n",
    "        headers[\"User-Agent\"] = wikidata_user_agent_header\n",
    "\n",
    "    if entity_type == \"item\":\n",
    "        srnamespace = 0\n",
    "        srqiprofile = \"classic_noboostlinks\" if srqiprofile is None else srqiprofile\n",
    "    elif entity_type == \"property\":\n",
    "        srnamespace = 120\n",
    "        srqiprofile = \"classic\" if srqiprofile is None else srqiprofile\n",
    "    else:\n",
    "        raise ValueError(\"entity_type必须是'property'或'item'\")\n",
    "\n",
    "    params = {\n",
    "        \"action\": \"query\",\n",
    "        \"list\": \"search\",\n",
    "        \"srsearch\": search,\n",
    "        \"srnamespace\": srnamespace,\n",
    "        \"srlimit\": 1,\n",
    "        \"srqiprofile\": srqiprofile,\n",
    "        \"srwhat\": \"text\",\n",
    "        \"format\": \"json\",\n",
    "    }\n",
    "\n",
    "    response = requests.get(url, headers=headers, params=params)\n",
    "\n",
    "    if response.status_code == 200:\n",
    "        title = get_nested_value(response.json(), [\"query\", \"search\", 0, \"title\"])\n",
    "        if title is None:\n",
    "            return f\"我找不到任何{entity_type}与'{search'相关。请重新措辞并重试\"\n",
    "        # 如果有前缀，去掉它\n",
    "        return title.split(\":\")[-1]\n",
    "    else:\n",
    "        return \"抱歉，我遇到了一个错误。请重试。\""
   ]
  },
  {
   "cell_type": "code",
   "execution_count": 6,
   "id": "e52060fa-3614-43fb-894e-54e9b75d1e9f",
   "metadata": {},
   "outputs": [
    {
     "name": "stdout",
     "output_type": "stream",
     "text": [
      "Q4180017\n"
     ]
    }
   ],
   "source": [
    "print(vocab_lookup(\"Malin 1\"))"
   ]
  },
  {
   "cell_type": "code",
   "execution_count": 7,
   "id": "b23ab322-b2cf-404e-b36f-2bfc1d79b0d3",
   "metadata": {},
   "outputs": [
    {
     "name": "stdout",
     "output_type": "stream",
     "text": [
      "P31\n"
     ]
    }
   ],
   "source": [
    "print(vocab_lookup(\"instance of\", entity_type=\"property\"))"
   ]
  },
  {
   "cell_type": "code",
   "execution_count": 8,
   "id": "89020cc8-104e-42d0-ac32-885e590de515",
   "metadata": {},
   "outputs": [
    {
     "name": "stdout",
     "output_type": "stream",
     "text": [
      "I couldn't find any item for 'Ceci n'est pas un q-item'. Please rephrase your request and try again\n"
     ]
    }
   ],
   "source": [
    "print(vocab_lookup(\"Ceci n'est pas un q-item\"))"
   ]
  },
  {
   "attachments": {},
   "cell_type": "markdown",
   "id": "78d66d8b-0e34-4d3f-a18d-c7284840ac76",
   "metadata": {},
   "source": [
    "## Sparql运行器"
   ]
  },
  {
   "attachments": {},
   "cell_type": "markdown",
   "id": "c6f60069-fbe0-4015-87fb-0e487cd914e7",
   "metadata": {},
   "source": [
    "此工具运行sparql - 默认情况下使用wikidata。"
   ]
  },
  {
   "cell_type": "code",
   "execution_count": null,
   "id": "b5b97a4d-2a39-4993-88d9-e7818c0a2853",
   "metadata": {},
   "outputs": [],
   "source": [
    "import json\n",
    "from typing import Any, Dict, List\n",
    "\n",
    "import requests\n",
    "\n",
    "\n",
    "def run_sparql(\n",
    "    query: str,\n",
    "    url=\"https://query.wikidata.org/sparql\",\n",
    "    user_agent_header: str = wikidata_user_agent_header,\n",
    ") -> List[Dict[str, Any]]:\n",
    "    headers = {\"Accept\": \"application/json\"}\n",
    "    if wikidata_user_agent_header is not None:\n",
    "        headers[\"User-Agent\"] = wikidata_user_agent_header\n",
    "\n",
    "    response = requests.get(\n",
    "        url, headers=headers, params={\"query\": query, \"format\": \"json\"}\n",
    "    )\n",
    "\n",
    "    if response.status_code != 200:\n",
    "        return \"该查询失败。也许您可以尝试一个不同的查询？\"\n",
    "    results = get_nested_value(response.json(), [\"results\", \"bindings\"])\n",
    "    return json.dumps(results)"
   ]
  },
  {
   "cell_type": "code",
   "execution_count": 10,
   "id": "149722ec-8bc1-4d4f-892b-e4ddbe8444c1",
   "metadata": {},
   "outputs": [
    {
     "data": {
      "text/plain": [
       "'[{\"count\": {\"datatype\": \"http://www.w3.org/2001/XMLSchema#integer\", \"type\": \"literal\", \"value\": \"20\"}}]'"
      ]
     },
     "execution_count": 10,
     "metadata": {},
     "output_type": "execute_result"
    }
   ],
   "source": [
    "run_sparql(\"SELECT (COUNT(?children) as ?count) WHERE { wd:Q1339 wdt:P40 ?children . }\")"
   ]
  },
  {
   "attachments": {},
   "cell_type": "markdown",
   "id": "9f0302fd-ba35-4acc-ba32-1d7c9295c898",
   "metadata": {},
   "source": [
    "# 代理"
   ]
  },
  {
   "attachments": {},
   "cell_type": "markdown",
   "id": "3122a961-9673-4a52-b1cd-7d62fbdf8d96",
   "metadata": {},
   "source": [
    "## 包装工具"
   ]
  },
  {
   "cell_type": "code",
   "execution_count": 11,
   "id": "cc41ae88-2e53-4363-9878-28b26430cb1e",
   "metadata": {},
   "outputs": [],
   "source": [
    "import re\n",
    "from typing import List, Union\n",
    "\n",
    "from langchain.agents import (\n",
    "    AgentExecutor,\n",
    "    AgentOutputParser,\n",
    "    LLMSingleActionAgent,\n",
    "    Tool,\n",
    ")\n",
    "from langchain.chains import LLMChain\n",
    "from langchain.prompts import StringPromptTemplate\n",
    "from langchain_core.agents import AgentAction, AgentFinish"
   ]
  },
  {
   "cell_type": "code",
   "execution_count": null,
   "id": "2810a3ce-b9c6-47ee-8068-12ca967cd0ea",
   "metadata": {},
   "outputs": [],
   "source": [
    "# 定义代理可以使用哪些工具来回答用户查询\n",
    "tools = [\n",
    "    Tool(\n",
    "        name=\"ItemLookup\",\n",
    "        func=(lambda x: vocab_lookup(x, entity_type=\"item\")),\n",
    "        description=\"当您需要知道项目的q编号时很有用\",\n",
    "    ),\n",
    "    Tool(\n",
    "        name=\"PropertyLookup\",\n",
    "        func=(lambda x: vocab_lookup(x, entity_type=\"property\")),\n",
    "        description=\"当您需要知道属性的p编号时很有用\",\n",
    "    ),\n",
    "    Tool(\n",
    "        name=\"SparqlQueryRunner\",\n",
    "        func=run_sparql,\n",
    "        description=\"用于从wikibase获取结果\",\n",
    "    ),\n",
    "]"
   ]
  },
  {
   "attachments": {},
   "cell_type": "markdown",
   "id": "ab0f2778-a195-4a4a-a5b4-c1e809e1fb7b",
   "metadata": {},
   "source": [
    "## 提示"
   ]
  },
  {
   "cell_type": "code",
   "execution_count": null,
   "id": "7bd4ba4f-57d6-4ceb-b932-3cb0d0509a24",
   "metadata": {},
   "outputs": [],
   "source": [
    "# 设置基础模板\n",
    "template = \"\"\"\n",
    "通过运行一个sparql查询来回答以下问题，该查询针对一个wikibase，其中p和q项对您来说完全未知。您需要在生成sparql之前发现p和q项。\n",
    "不要假设您知道任何概念的p和q项。始终使用工具查找所有p和q项。\n",
    "在您生成sparql之后，您应该运行它。结果将以json返回。\n",
    "用自然语言总结json结果。\n",
    "\n",
    "您可以假设以下前缀：\n",
    "PREFIX wd: <http://www.wikidata.org/entity/>\n",
    "PREFIX wdt: <http://www.wikidata.org/prop/direct/>\n",
    "PREFIX p: <http://www.wikidata.org/prop/>\n",
    "PREFIX ps: <http://www.wikidata.org/prop/statement/>\n",
    "\n",
    "生成sparql时：\n",
    "* 尽量避免\"count\"和\"filter\"查询\n",
    "* 永远不要将sparql括在反引号中\n",
    "\n",
    "您可以使用以下工具：\n",
    "\n",
    "{tools}\n",
    "\n",
    "使用以下格式：\n",
    "\n",
    "问题：您必须提供自然语言答案的输入问题\n",
    "思考：您应该始终考虑该做什么\n",
    "行动：要采取的行动，应该是[{tool_names}]之一\n",
    "行动输入：行动的输入\n",
    "观察：行动的结果\n",
    "...（此思考/行动/行动输入/观察可以重复N次）\n",
    "思考：我现在知道最终答案\n",
    "最终答案：原始输入问题的最终答案\n",
    "\n",
    "问题：{input}\n",
    "{agent_scratchpad}\"\"\""
   ]
  },
  {
   "cell_type": "code",
   "execution_count": null,
   "id": "7e8d771a-64bb-4ec8-b472-6a9a40c6dd38",
   "metadata": {},
   "outputs": [],
   "source": [
    "# 设置一个提示模板\n",
    "class CustomPromptTemplate(StringPromptTemplate):\n",
    "    # 使用的模板\n",
    "    template: str\n",
    "    # 可用工具列表\n",
    "    tools: List[Tool]\n",
    "\n",
    "    def format(self, **kwargs) -> str:\n",
    "        # 获取中间步骤（AgentAction，Observation元组）\n",
    "        # 以特定方式格式化它们\n",
    "        intermediate_steps = kwargs.pop(\"intermediate_steps\")\n",
    "        thoughts = \"\"\n",
    "        for action, observation in intermediate_steps:\n",
    "            thoughts += action.log\n",
    "            thoughts += f\"\\n观察：{observation}\\n思考：\"\n",
    "        # 将agent_scratchpad变量设置为该值\n",
    "        kwargs[\"agent_scratchpad\"] = thoughts\n",
    "        # 从提供的工具列表创建一个工具变量\n",
    "        kwargs[\"tools\"] = \"\\n\".join(\n",
    "            [f\"{tool.name}: {tool.description}\" for tool in self.tools]\n",
    "        )\n",
    "        # 为提供的工具创建一个工具名称列表\n",
    "        kwargs[\"tool_names\"] = \", \".join([tool.name for tool in self.tools])\n",
    "        return self.template.format(**kwargs)"
   ]
  },
  {
   "cell_type": "code",
   "execution_count": null,
   "id": "f97dca78-fdde-4a70-9137-e34a21d14e64",
   "metadata": {},
   "outputs": [],
   "source": [
    "prompt = CustomPromptTemplate(\n",
    "    template=template,\n",
    "    tools=tools,\n",
    "    # 这省略了`agent_scratchpad`、`tools`和`tool_names`变量，因为这些是动态生成的\n",
    "    # 这包括`intermediate_steps`变量，因为这是需要的\n",
    "    input_variables=[\"input\", \"intermediate_steps\"],\n",
    ")"
   ]
  },
  {
   "attachments": {},
   "cell_type": "markdown",
   "id": "12c57d77-3c1e-4cde-9a83-7d2134392479",
   "metadata": {},
   "source": [
    "## 输出解析器\n",
    "这与langchain文档中的内容没有变化"
   ]
  },
  {
   "cell_type": "code",
   "execution_count": null,
   "id": "42da05eb-c103-4649-9d20-7143a8880721",
   "metadata": {},
   "outputs": [],
   "source": [
    "class CustomOutputParser(AgentOutputParser):\n",
    "    def parse(self, llm_output: str) -> Union[AgentAction, AgentFinish]:\n",
    "        # 检查代理是否应该完成\n",
    "        if \"最终答案：\" in llm_output:\n",
    "            return AgentFinish(\n",
    "                # 返回值通常总是一个带有单个`output`键的字典\n",
    "                # 目前不建议尝试其他任何东西 :)\n",
    "                return_values={\"output\": llm_output.split(\"最终答案：\")[-1].strip()},\n",
    "                log=llm_output,\n",
    "            )\n",
    "        # 解析出行动和行动输入\n",
    "        regex = r\"行动：(.*?)[\\n]*行动输入：[\\s]*(.*)\"\n",
    "        match = re.search(regex, llm_output, re.DOTALL)\n",
    "        if not match:\n",
    "            raise ValueError(f\"无法解析LLM输出：`{llm_output}`\")\n",
    "        action = match.group(1).strip()\n",
    "        action_input = match.group(2)\n",
    "        # 返回行动和行动输入\n",
    "        return AgentAction(\n",
    "            tool=action, tool_input=action_input.strip(\" \").strip('\"'), log=llm_output\n",
    "        )"
   ]
  },
  {
   "cell_type": "code",
   "execution_count": 17,
   "id": "d2b4d710-8cc9-4040-9269-59cf6c5c22be",
   "metadata": {},
   "outputs": [],
   "source": [
    "output_parser = CustomOutputParser()"
   ]
  },
  {
   "attachments": {},
   "cell_type": "markdown",
   "id": "48a758cb-93a7-4555-b69a-896d2d43c6f0",
   "metadata": {},
   "source": [
    "## 指定LLM模型"
   ]
  },
  {
   "cell_type": "code",
   "execution_count": 18,
   "id": "72988c79-8f60-4b0f-85ee-6af32e8de9c2",
   "metadata": {},
   "outputs": [],
   "source": [
    "from langchain_openai import ChatOpenAI\n",
    "\n",
    "llm = ChatOpenAI(model=\"gpt-4\", temperature=0)"
   ]
  },
  {
   "attachments": {},
   "cell_type": "markdown",
   "id": "95685d14-647a-4e24-ae2c-a8dd1e364921",
   "metadata": {},
   "source": [
    "## 代理和代理执行器"
   ]
  },
  {
   "cell_type": "code",
   "execution_count": null,
   "id": "13d55765-bfa1-43b3-b7cb-00f52ebe7747",
   "metadata": {},
   "outputs": [],
   "source": [
    "# LLM链由LLM和一个提示组成\n",
    "llm_chain = LLMChain(llm=llm, prompt=prompt)"
   ]
  },
  {
   "cell_type": "code",
   "execution_count": null,
   "id": "b3f7ac3c-398e-49f9-baed-554f49a191c3",
   "metadata": {},
   "outputs": [],
   "source": [
    "tool_names = [tool.name for tool in tools]\n",
    "agent = LLMSingleActionAgent(\n",
    "    llm_chain=llm_chain,\n",
    "    output_parser=output_parser,\n",
    "    stop=[\"\\n观察：\"],\n",
    "    allowed_tools=tool_names,\n",
    ")"
   ]
  },
  {
   "cell_type": "code",
   "execution_count": 21,
   "id": "65740577-272e-4853-8d47-b87784cfaba0",
   "metadata": {},
   "outputs": [],
   "source": [
    "agent_executor = AgentExecutor.from_agent_and_tools(\n",
    "    agent=agent, tools=tools, verbose=True\n",
    ")"
   ]
  },
  {
   "attachments": {},
   "cell_type": "markdown",
   "id": "66e3d13b-77cf-41d3-b541-b54535c14459",
   "metadata": {},
   "source": [
    "## 运行它！"
   ]
  },
  {
   "cell_type": "code",
   "execution_count": null,
   "id": "6e97a07c-d7bf-4a35-9ab2-b59ae865c62c",
   "metadata": {},
   "outputs": [],
   "source": [
    "# 如果您更喜欢内联追踪，请取消注释此行\n",
    "# agent_executor.agent.llm_chain.verbose = True"
   ]
  },
  {
   "cell_type": "code",
   "execution_count": null,
   "id": "a11ca60d-f57b-4fe8-943e-a258e37463c7",
   "metadata": {},
   "outputs": [
    {
     "name": "stdout",
     "output_type": "stream",
     "text": [
      "\n",
      "\n",
      "\u001b[1m> Entering new AgentExecutor chain...\u001b[0m\n",
      "\u001b[32;1m\u001b[1;3mThought: I need to find the Q number for J.S. Bach.\n",
      "Action: ItemLookup\n",
      "Action Input: J.S. Bach\u001b[0m\n",
      "\n",
      "Observation:\u001b[36;1m\u001b[1;3mQ1339\u001b[0m\u001b[32;1m\u001b[1;3mI need to find the P number for children.\n",
      "Action: PropertyLookup\n",
      "Action Input: children\u001b[0m\n",
      "\n",
      "Observation:\u001b[33;1m\u001b[1;3mP1971\u001b[0m\u001b[32;1m\u001b[1;3mNow I can query the number of children J.S. Bach had.\n",
      "Action: SparqlQueryRunner\n",
      "Action Input: SELECT ?children WHERE { wd:Q1339 wdt:P1971 ?children }\u001b[0m\n",
      "\n",
      "Observation:\u001b[38;5;200m\u001b[1;3m[{\"children\": {\"datatype\": \"http://www.w3.org/2001/XMLSchema#decimal\", \"type\": \"literal\", \"value\": \"20\"}}]\u001b[0m\u001b[32;1m\u001b[1;3mI now know the final answer.\n",
      "Final Answer: J.S. Bach had 20 children.\u001b[0m\n",
      "\n",
      "\u001b[1m> Finished chain.\u001b[0m\n"
     ]
    },
    {
     "data": {
      "text/plain": [
       "'J.S. Bach had 20 children.'"
      ]
     },
     "execution_count": 23,
     "metadata": {},
     "output_type": "execute_result"
    }
   ],
   "source": [
    "agent_executor.run(\"J.S.巴赫有多少个孩子？\")"
   ]
  },
  {
   "cell_type": "code",
   "execution_count": null,
   "id": "d0b42a41-996b-4156-82e4-f0651a87ee34",
   "metadata": {},
   "outputs": [
    {
     "name": "stdout",
     "output_type": "stream",
     "text": [
      "\n",
      "\n",
      "\u001b[1m> Entering new AgentExecutor chain...\u001b[0m\n",
      "\u001b[32;1m\u001b[1;3mThought: To find Hakeem Olajuwon's Basketball-Reference.com NBA player ID, I need to first find his Wikidata item (Q-number) and then query for the relevant property (P-number).\n",
      "Action: ItemLookup\n",
      "Action Input: Hakeem Olajuwon\u001b[0m\n",
      "\n",
      "Observation:\u001b[36;1m\u001b[1;3mQ273256\u001b[0m\u001b[32;1m\u001b[1;3mNow that I have Hakeem Olajuwon's Wikidata item (Q273256), I need to find the P-number for the Basketball-Reference.com NBA player ID property.\n",
      "Action: PropertyLookup\n",
      "Action Input: Basketball-Reference.com NBA player ID\u001b[0m\n",
      "\n",
      "Observation:\u001b[33;1m\u001b[1;3mP2685\u001b[0m\u001b[32;1m\u001b[1;3mNow that I have both the Q-number for Hakeem Olajuwon (Q273256) and the P-number for the Basketball-Reference.com NBA player ID property (P2685), I can run a SPARQL query to get the ID value.\n",
      "Action: SparqlQueryRunner\n",
      "Action Input: \n",
      "SELECT ?playerID WHERE {\n",
      "  wd:Q273256 wdt:P2685 ?playerID .\n",
      "}\u001b[0m\n",
      "\n",
      "Observation:\u001b[38;5;200m\u001b[1;3m[{\"playerID\": {\"type\": \"literal\", \"value\": \"o/olajuha01\"}}]\u001b[0m\u001b[32;1m\u001b[1;3mI now know the final answer\n",
      "Final Answer: Hakeem Olajuwon's Basketball-Reference.com NBA player ID is \"o/olajuha01\".\u001b[0m\n",
      "\n",
      "\u001b[1m> Finished chain.\u001b[0m\n"
     ]
    },
    {
     "data": {
      "text/plain": [
       "'Hakeem Olajuwon\\'s Basketball-Reference.com NBA player ID is \"o/olajuha01\".'"
      ]
     },
     "execution_count": 24,
     "metadata": {},
     "output_type": "execute_result"
    }
   ],
   "source": [
    "agent_executor.run(\n",
    "    \"哈基姆·奥拉朱旺的Basketball-Reference.com NBA球员ID是什么？\"\n",
    ")"
   ]
  },
  {
   "cell_type": "code",
   "execution_count": null,
   "id": "05fb3a3e-8a9f-482d-bd54-4c6e60ef60dd",
   "metadata": {},
   "outputs": [],
   "source": []
  }
 ],
 "metadata": {
  "kernelspec": {
   "display_name": "conda210",
   "language": "python",
   "name": "conda210"
  },
  "language_info": {
   "codemirror_mode": {
    "name": "ipython",
    "version": 3
   },
   "file_extension": ".py",
   "mimetype": "text/x-python",
   "name": "python",
   "nbconvert_exporter": "python",
   "pygments_lexer": "ipython3",
   "version": "3.9.16"
  }
 },
 "nbformat": 4,
 "nbformat_minor": 5
}
